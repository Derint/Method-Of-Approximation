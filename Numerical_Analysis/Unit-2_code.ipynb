{
 "cells": [
  {
   "cell_type": "code",
   "execution_count": 1,
   "id": "11cbffb8",
   "metadata": {},
   "outputs": [],
   "source": [
    "from sympy import symbols, parsing, expand, simplify\n",
    "from  numpy import poly1d, around\n",
    "from Interpolation import *\n",
    "from Helper_functions import *"
   ]
  },
  {
   "cell_type": "code",
   "execution_count": 2,
   "id": "7e6caf41",
   "metadata": {},
   "outputs": [],
   "source": [
    "def Numerical_Diff(x_values, f_values, show_working=False, up = 2):\n",
    "    Fwd_diff_table = DifferenceArray(f_values)\n",
    "    exp = input('Which value you want to find: ')\n",
    "    value_to_find = check_d_n_r(float(exp))\n",
    "\n",
    "    a = x_values[0]\n",
    "    h = round(x_values[1] - x_values[0], 5)\n",
    "    n = len(x_values)\n",
    "    x = check_d_n_r(round((value_to_find - a)/h, 5))\n",
    "    j = 0\n",
    "\n",
    "    div, add, out = '', '+', []\n",
    "    while n:\n",
    "        temp, tt, add2 = '', '', ''\n",
    "        if j>0:\n",
    "            for i in range(j):\n",
    "                mul = '*'\n",
    "                if i: tt += f' {mul} (x - {i})'\n",
    "                else: tt += f'x'     \n",
    "                    \n",
    "        if j: add2 = '+'\n",
    "        if  j>=1: tt += ' * '\n",
    "        if j+1 != n and j: div = '/'\n",
    "        if not j : temp = ''\n",
    "        else: temp = f'/ {j}!'\n",
    "\n",
    "        con = f\"({sympy.expand('*'.join(tt.split(' * ')[:-1]))}) \" if tt else '1'\n",
    "        con2 = f'/ {fac(j)}' if fac(j)>1 else ''\n",
    "        \n",
    "        if Fwd_diff_table[j][0] != '-' and con:\n",
    "            res = str(sympy.simplify(con)) + f' * {Fwd_diff_table[j][0]} {con2}'\n",
    "            if res != '0':out.append(res)\n",
    "        \n",
    "        if show_working:\n",
    "            print(add2, tt, end=' ')\n",
    "            print(f\"{Fwd_diff_table[j][0]} {temp}\")\n",
    "            \n",
    "        j+=1  \n",
    "        n-=1\n",
    "        \n",
    "    if show_working: print('\\n = ' + \" + \".join(out))\n",
    "    return out , h, a, x, value_to_find"
   ]
  },
  {
   "cell_type": "code",
   "execution_count": 3,
   "id": "5231d3e1",
   "metadata": {},
   "outputs": [],
   "source": [
    "def cal_derivative(eq, h, a, x, at_x, orderOfDerivative=1, up=5):\n",
    "    prime = \"'\"*orderOfDerivative\n",
    "    add_star = f' ** {orderOfDerivative})' if orderOfDerivative>1 else ')'\n",
    "    t = ''\n",
    "    \n",
    "    for i in range(len(eq)):\n",
    "        add = ''\n",
    "        if i+1 != len(eq): add = ' + '\n",
    "        temp_der = sympy.diff(eq[i], 'x', orderOfDerivative)\n",
    "\n",
    "        if type(temp_der) in [sympy.core.numbers.Zero, sympy.core.numbers.Float]:\n",
    "            temp_der = check_d_n_r(temp_der)\n",
    "        \n",
    "        t += str(temp_der) + add\n",
    "    \n",
    "    derivative = sympy.simplify(t)\n",
    "    f_a = derivative.subs({'x':x})\n",
    "    \n",
    "    print(f\"\\n  Here a = {a}, h = {h}, x = {at_x}\")\n",
    "    print(f\"\\n ∴ (h{add_star} * f{prime}(a+xh) = ({t})\")\n",
    "    print(f\"\\n ∴ f{prime}({at_x}) = ({check_d_n_r(f_a)}) / ({h}{add_star}, at x = {x}\")\n",
    "    print(f\"\\n ∴ f{prime}({at_x}) = {check_d_n_r(f_a/h**orderOfDerivative)}\")\n",
    "    print('--'*30)"
   ]
  },
  {
   "cell_type": "code",
   "execution_count": 4,
   "id": "49df047f",
   "metadata": {},
   "outputs": [],
   "source": [
    "def piece_wise_poly(x_v, f_v, show_working=False):\n",
    "    calc = ''\n",
    "    for i in range(len(x_v)):\n",
    "        t_x_v = x_v.copy()\n",
    "        if len(t_x_v)>1:\n",
    "            add = ''\n",
    "            if i+1 != len(x_v): add='+'\n",
    "            t_x_v.pop(i)\n",
    "            ex1 = f'{getFactors(t_x_v, len(t_x_v))} / '\n",
    "            ex2 = f'({getFactors(t_x_v, len(t_x_v), x_v[i])})  * ({f_v[i]}) {add} '\n",
    "            calc += ex1 + ex2\n",
    "            \n",
    "            if show_working:\n",
    "                print('\\t' + ex1 + ' ' + ex2, end='')\n",
    "    if show_working: print('\\n        = ', end='')\n",
    "    return sympy.expand(calc)\n",
    "\n",
    "def Piecewise_Interpolation(x_list, f_values, gap, show_working=False):\n",
    "    if gap > len(x_list)-1:\n",
    "        print(f'[-] In Order to find the Polynomial of order {gap}, len(x_list) should be greater than gap')\n",
    "        return None\n",
    "    \n",
    "    intervals = getIntervals(x_list, gap)\n",
    "    f_intervals = getIntervals(f_values, gap)\n",
    "    pwi = {1:'Linear', 2:'Quadratic', 3:'Cubic', 4:'Quartic'}\n",
    "    print(f'By Piecewise {pwi[gap]} Interpolating Formula we have, ')\n",
    "    \n",
    "    for _ in range(len(intervals)):\n",
    "        print(\"\\tBy Lagrange's Interpolation Formula\\n\\n   f(x) = \" , end='\\n' if show_working else '')\n",
    "        print(piece_wise_poly(intervals[_], f_intervals[_], show_working), end=' ')\n",
    "        print(' x  ∈  [', \", \".join([str(intervals[_][0]), str(intervals[_][-1])]), ']')\n",
    "        print('----'*15)"
   ]
  },
  {
   "cell_type": "code",
   "execution_count": 5,
   "id": "b690aa14",
   "metadata": {},
   "outputs": [],
   "source": [
    "def lgrange_Bivariate_I(x_list, alpha='x', write=False, str_format=True):\n",
    "    result = []\n",
    "    result_2 = []\n",
    "    for i in range(len(x_list)):\n",
    "        denon_str = ''\n",
    "        num_str = ''\n",
    "        mul_poly = poly1d([1])\n",
    "        dr = 1\n",
    "        for j in range(len(x_list)):\n",
    "            if i!=j:\n",
    "                num_str += f'({alpha} - {x_list[j]}) '\n",
    "                mul_poly *= poly1d([1, -x_list[j]])\n",
    "                denon_str += f'({x_list[i]} - {x_list[j]})'\n",
    "                dr *= x_list[i] - x_list[j]\n",
    "                \n",
    "        res = mul_poly/dr\n",
    "        result_2.append(f'{num_str.replace(\") (\", \") * (\")}/ ({dr})')\n",
    "        num_str = num_str.replace(\") (\", ') * (')\n",
    "        \n",
    "        if write:\n",
    "            print(f'    {num_str}/({denon_str})')\n",
    "            print('\\t' + \" \".join(coef_2_str(res.coef[::-1], alpha)))\n",
    "            print('---------------------------------------------')\n",
    "            \n",
    "        result.append(res.coef[::-1])\n",
    "\n",
    "    if str_format:\n",
    "        return result_2\n",
    "    \n",
    "    return result\n"
   ]
  },
  {
   "cell_type": "code",
   "execution_count": 6,
   "id": "aeacc523",
   "metadata": {},
   "outputs": [],
   "source": [
    "def Lagrange_Bivariate_IF(x_vals, y_vals, arr, show_working=False):\n",
    "    m, n = len(x_vals), len(y_vals)\n",
    "    if show_working:\n",
    "        print(f\"Here m: {m}, n: {n}\\n\")\n",
    "    \n",
    "    x__ = lgrange_Bivariate_I(x_vals)\n",
    "    y__ = lgrange_Bivariate_I(y_vals, 'y')\n",
    "    \n",
    "    if show_working:\n",
    "        print(f\"\\nBy Lagrange's Bivariate Interpolating Formula \\n\\nP(x, y) = \", end='')\n",
    "    for i in range(len(arr)):\n",
    "        add4, tab = '', ''\n",
    "        if i: tab = '\\t'\n",
    "        if i: add4 = ' + '\n",
    "        if show_working:\n",
    "            print(f'{tab}{add4}X_{m-1},{x_vals[i]} * ',end='[')\n",
    "        for j in range(len(arr[i])):\n",
    "            add = ''\n",
    "            if j+1 != len(arr[i]):\n",
    "                add = '+'\n",
    "            if show_working:\n",
    "                print(f'  Y_{n-1},{y_vals[j]} * (F_{x_vals[i]}_{y_vals[j]}) {add}', end=' ')\n",
    "        if show_working:\n",
    "            print(']')\n",
    "    \n",
    "    if show_working:\n",
    "        print('\\n= ', end='')\n",
    "        \n",
    "    t = ''\n",
    "    for i in range(len(arr)):\n",
    "        res_str = ''\n",
    "        add4 = ''\n",
    "        \n",
    "        if i: add4 = ' + '\n",
    "        if show_working:\n",
    "            print(f'{add4}({x__[i]}) * ',end='[ ')\n",
    "            \n",
    "        res_str += f'({x__[i]}) * ('\n",
    "        for j in range(len(arr[i])):\n",
    "            add = ''\n",
    "            if j+1 != len(arr[i]):\n",
    "                add = ' + '\n",
    "            add2 = ''\n",
    "            if j: add2 = ' + '\n",
    "            res_str += f'({y__[j]} * {arr[i][j]}) {add}'\n",
    "            if show_working:\n",
    "                print(f'({y__[j]} * {arr[i][j]}) {add}', end='')\n",
    "            \n",
    "        res_str += ')'\n",
    "            \n",
    "        add3 = ''\n",
    "        if i+1 != len(arr):add3 = ' + '\n",
    "\n",
    "        t += str(expand(res_str)) + add3\n",
    "        if show_working:\n",
    "            print(']')\n",
    "\n",
    "    if show_working:\n",
    "        print('\\n ∴ P(x, y) = ' , simplify(t))\n",
    "        \n",
    "    return simplify(t)\n",
    "\n"
   ]
  },
  {
   "cell_type": "code",
   "execution_count": 7,
   "id": "7b8d0715",
   "metadata": {},
   "outputs": [],
   "source": [
    "def d_fx_f(x_vals, x_at, y_at, h, f, n=5):\n",
    "    i_ = value_at(x_vals, x_at, 1)\n",
    "    return round(((f[i_][y_at] - f[x_at][y_at])/h), n)\n",
    "\n",
    "def d_fx_b(x_vals, x_at, y_at, h, f, n=5):\n",
    "    i_ = value_at(x_vals, x_at, -1)\n",
    "    return round(((f[x_at][y_at] - f[i_][y_at])/h), n)\n",
    "\n",
    "def d_fx_c(x_vals, x_at, y_at, h, f, n=5):\n",
    "    i_ = value_at(x_vals, x_at, 1), value_at(x_vals, x_at, -1)\n",
    "    return round(((f[i_[0]][y_at] - f[i_[1]][y_at])/(2*h)), n)"
   ]
  },
  {
   "cell_type": "code",
   "execution_count": 8,
   "id": "4ea55afc",
   "metadata": {},
   "outputs": [],
   "source": [
    "def d_fy_f(y_vals, x_at, y_at, k, f, n=5):\n",
    "    j_ = value_at(y_vals, y_at, 1)\n",
    "    return round(((f[x_at][j_] - f[x_at][y_at])/k), n)\n",
    "\n",
    "def d_fy_b(y_vals, x_at, y_at, k, f, n=5):\n",
    "    j_ = value_at(y_vals, y_at, -1)\n",
    "    return round(((f[x_at][y_at] - f[x_at][j_])/k), n)\n",
    "\n",
    "def d_fy_c(y_vals, x_at, y_at, k, f, n=5):\n",
    "    j_ = value_at(y_vals, y_at, 1), value_at(y_vals, y_at, -1)\n",
    "    return round(((f[x_at][j_[0]] - f[x_at][j_[1]])/(2*k)), n)"
   ]
  },
  {
   "cell_type": "code",
   "execution_count": 9,
   "id": "3013b635",
   "metadata": {},
   "outputs": [],
   "source": [
    "def d2_fx_f(x_vals, x_at, y_at, h, f, n=5):\n",
    "    i_ = value_at(x_vals, x_at, 2), value_at(x_vals, x_at, 1)\n",
    "    return round((f[i_[0]][y_at] - 2*f[i_[1]][y_at] + f[x_at][y_at])/h**2, n)\n",
    "\n",
    "def d2_fx_b(x_vals, x_at, y_at, h, f, n=5):\n",
    "    i_ = value_at(x_vals, x_at, -1), value_at(x_vals, x_at, -2)\n",
    "    return round((f[x_at][y_at] - 2*f[i_[i_[0]]][y_at] + f[i_[1]][y_at])/h**2, n)\n",
    "\n",
    "def d2_fx_c(x_vals, x_at, y_at, h, f, n=5):\n",
    "    i_ = value_at(x_vals, x_at, -1), value_at(x_vals, x_at, 1)\n",
    "    return round((f[i_[0]][y_at] - 2*f[x_at][y_at] + f[i_[1]][y_at])/h**2, n)"
   ]
  },
  {
   "cell_type": "code",
   "execution_count": 10,
   "id": "f7b51cf8",
   "metadata": {},
   "outputs": [],
   "source": [
    "def d2_fy_f(y_vals, x_at, y_at, k, f, n=5):\n",
    "    j_ = value_at(y_vals, y_at, 2), value_at(y_vals, y_at, 1)\n",
    "    return round((f[x_at][j_[0]] - 2*f[x_at][j_[1]] + f[x_at][y_at])/k**2, n)\n",
    "\n",
    "def d2_fy_b(y_vals, x_at, y_at, k, f, n=5):\n",
    "    j_ = value_at(y_vals, y_at, -1), value_at(y_vals, y_at, -2)\n",
    "    return round((f[x_at][y_at] - 2*f[x_at][j_[0]] + f[x_at][j_[1]])/k**2, n)\n",
    "\n",
    "def d2_fy_c(y_vals, x_at, y_at, f, a, n=5):\n",
    "    j_ = value_at(y_vals, y_at, -1), value_at(y_vals, y_at, 1)\n",
    "    return round((f[x_at][j_[0]] - 2*f[x_at][y_at] + f[x_at][j_[1]])/k**2, n)"
   ]
  },
  {
   "cell_type": "code",
   "execution_count": 11,
   "id": "310b1043",
   "metadata": {},
   "outputs": [],
   "source": [
    "def d2_fxy(x_vals, y_vals, x_at, y_at, h, k, f, n=5):\n",
    "    i_ = value_at(x_vals, x_at, 1), value_at(x_vals, x_at, -1)\n",
    "    j_ = value_at(y_vals, y_at, 1), value_at(y_vals, y_at, -1)\n",
    "    nr = f[i_[0]][j_[0]] - f[i_[0]][j_[1]] - f[i_[1]][j_[0]] + f[i_[1]][j_[1]]\n",
    "    dnr = 4 * h * k\n",
    "    return round(nr/dnr, n)\n",
    "\n",
    "def d2_fyx(x_vals, y_vals, x_at, y_at, h, k, f, n=5):\n",
    "    i_ = value_at(x_vals, x_at, 1), value_at(x_vals, x_at, -1)\n",
    "    j_ = value_at(y_vals, y_at, 1), value_at(y_vals, y_at, -1)\n",
    "    nr = f[i_[0]][j_[0]] - f[i_[0]][j_[1]] - f[i_[1]][j_[0]] + f[i_[1]][j_[1]]\n",
    "    dnr = 4 * h * k\n",
    "    return round(nr/dnr, n)"
   ]
  },
  {
   "cell_type": "code",
   "execution_count": 12,
   "id": "858d1019",
   "metadata": {},
   "outputs": [],
   "source": [
    "def del_x_j(x_0, y_0, h, f):\n",
    "    return check_d_n_r((f[x_0 + h][y_0] - f[x_0][y_0])/(2*h))\n",
    "\n",
    "def del_y_j(x_0, y_0, k, f):\n",
    "    return check_d_n_r((f[x_0][y_0+k] - f[x_0][y_0])/(2*k))\n",
    "\n",
    "def del_x(x_0, y_0, h, f):\n",
    "    print(x_0, y_0, h, f)\n",
    "    if type(f)==dict:\n",
    "        return f[x_0 + h][y_0] - f[x_0][y_0]\n",
    "    elif type(f)==str:\n",
    "        f = sympy.simplify(f)\n",
    "        return sub_vals(f, x_0+h, y_0) - sub_vals(f, x_0, y_0)\n",
    "    \n",
    "def del_y(x_0, y_0, k, f):\n",
    "    if type(f)==dict:\n",
    "        return f[x_0][y_0+k] - f[x_0][y_0]\n",
    "    elif type(f)==str:\n",
    "        f = sympy.simplify(f)\n",
    "        return sub_vals(f, x_0, y_0+k) - sub_vals(f, x_0, y_0)\n",
    "    \n",
    "def del_xx(x_0, y_0, h, f, n=5):\n",
    "    c1, c2 = round(x_0 + 2* h, n), round(x_0+h, n)\n",
    "    if type(f)==dict:\n",
    "        return f[c1][y_0] - 2 * f[c2][y_0] + f[x_0][y_0]\n",
    "    elif type(f)==str:\n",
    "        f = sympy.simplify(f)\n",
    "        return sub_vals(f, c1, y_0) - 2 * sub_vals(f, c2, y_0) + sub_vals(f, x_0, y_0)\n",
    "\n",
    "def del_yy(x_0, y_0, k, f, n=5):\n",
    "    c1, c2 = round(y_0+2*k, n), round(y_0+k, n)\n",
    "    if type(f)==dict:\n",
    "        return f[x_0][c1] - 2 * f[x_0][c2] + f[x_0][y_0]\n",
    "    elif type(f)==str:\n",
    "        f = sympy.simplify(f)\n",
    "        return sub_vals(f, x_0, c1) - 2 * sub_vals(f, x_0, c2) + sub_vals(f, x_0, y_0)\n",
    "\n",
    "def del_xy(x_0, y_0, h, k, f, n=5):\n",
    "    c1, c2 = round(x_0+h, n), round(y_0+k, n)\n",
    "    if type(f)==dict:\n",
    "        return f[c1][c2] - f[c1][y_0] - f[x_0][c2] + f[x_0][y_0]\n",
    "    elif type(f)==str:\n",
    "        f = sympy.simplify(f)\n",
    "        return sub_vals(f, c1, c2) - sub_vals(f, c1, y_0) - sub_vals(f, x_0, c2) + sub_vals(f, x_0, y_0)"
   ]
  },
  {
   "cell_type": "code",
   "execution_count": 13,
   "id": "bde1d144",
   "metadata": {},
   "outputs": [],
   "source": [
    "def jacobian_matrix(x_vals, y_vals, f1, f2, x_0, y_0, print_table = False):\n",
    "    if print_table:\n",
    "        print_details(x_vals, y_vals, f1)\n",
    "        print_details(x_vals, y_vals, f2)\n",
    "    \n",
    "    h, k = getHeight(x_vals), getHeight(y_vals)\n",
    "    arr = make_table_xy(x_vals, y_vals, f1)\n",
    "    dxf1 = del_x_j(x_0, y_0, h, arr)\n",
    "    dyf1 = del_y_j(x_0, y_0, k, arr)\n",
    "\n",
    "    arr = make_table_xy(x_vals, y_vals, f2)\n",
    "    dxf2 = del_x_j(x_0, y_0, h, arr)\n",
    "    dyf2 = del_y_j(x_0, y_0, k, arr)\n",
    "\n",
    "    J_mat = [[dxf1, dyf1], [dxf2, dyf2]]\n",
    "    \n",
    "    if print_table:\n",
    "        print(\" Jacobian Matrix = \", end='')\n",
    "        DrawMat(J_mat)\n",
    "    \n",
    "    return J_mat"
   ]
  },
  {
   "cell_type": "code",
   "execution_count": 14,
   "id": "ff6e7cc5",
   "metadata": {},
   "outputs": [],
   "source": [
    "def Newton_Bivariate_interpolation(x_vals, y_vals, arr, at_x='x', at_y='y', show_working=False):\n",
    "    if len(x_vals)>3 or len(y_vals)>3:\n",
    "        print(\"\\n  [-] This Funtion Can only handle x and y at 3 values ...  \")\n",
    "        return None\n",
    "    \n",
    "    x_0, y_0 = x_vals[0], y_vals[0]\n",
    "    h, k = getHeight(x_vals), getHeight(y_vals)\n",
    "    f = get_x_y_at(x_vals, y_vals, arr)\n",
    "    if show_working: \n",
    "        print(f'Here h : {h}, k : {k}, x0 : {x_0}, y0 : {y_0}', end = ', ')\n",
    "    t = ''\n",
    "    for i in range(len(x_vals)):\n",
    "        if i==0:\n",
    "            t += f'{f[x_0][y_0]} + '\n",
    "\n",
    "        else:\n",
    "            if i == 1:\n",
    "                fwd_val_x = del_x(x_0, y_0, h, f)\n",
    "                fwd_val_y = del_y(x_0, y_0, k, f)\n",
    "                if show_working: \n",
    "                    print(f'∆x = {fwd_val_x}, ∆y = {fwd_val_y}', end=', ')\n",
    "\n",
    "            elif i==2:\n",
    "                fwd_val_x = del_xx(x_0, y_0, h, f)\n",
    "                fwd_val_y = del_yy(x_0, y_0, k, f)\n",
    "                fwd_val_xy = del_xy(x_0, y_0, h, k, f)\n",
    "                \n",
    "                if show_working:\n",
    "                    print(f'∆xx = {fwd_val_x}, ∆yy = {fwd_val_y}, ∆xy = {fwd_val_xy}')\n",
    "                    \n",
    "            s1 = getFactors(x_vals, i, at_x) +  ' * '\n",
    "            s2 = ' + '+ getFactors(y_vals, i, at_y) + ' * '\n",
    "\n",
    "            s1 += f'({fwd_val_x}) '\n",
    "            s2 += f'({fwd_val_y}) '\n",
    "            total = s1 \n",
    "            if i==2:\n",
    "                total += f\" + 2/({h}*{k}) * {getFactors(x_vals, 1)} * {getFactors(y_vals, 1, 'y')} * ({fwd_val_xy})\"\n",
    "            total +=  s2\n",
    "            mul = ''\n",
    "            if i>1:\n",
    "                mul = f'1/{fac(i)} * '\n",
    "\n",
    "            add = ''\n",
    "            if i+1 != len(x_vals): add = '+'\n",
    "            t += f'{mul}({total}) {add} '\n",
    "            \n",
    "    if show_working:\n",
    "        print('\\n',t)\n",
    "        \n",
    "    return sympy.simplify(t)"
   ]
  },
  {
   "cell_type": "markdown",
   "id": "2ba47d48",
   "metadata": {},
   "source": [
    " "
   ]
  },
  {
   "cell_type": "markdown",
   "id": "68f9fe2e",
   "metadata": {},
   "source": [
    " "
   ]
  },
  {
   "cell_type": "markdown",
   "id": "82c0d68f",
   "metadata": {},
   "source": [
    " "
   ]
  },
  {
   "cell_type": "markdown",
   "id": "f595da16",
   "metadata": {},
   "source": [
    "## Index "
   ]
  },
  {
   "cell_type": "markdown",
   "id": "c73d9ce5",
   "metadata": {},
   "source": [
    "### 1. [Numerical Differentiation](#Numerical-Differentiation)\n",
    "### 2. [Piecewise  Interpolation](#Piecewise-Interpolation)\n",
    "### 3. [Lagrange's Bivariate Interpolation](#Lagranges-Bivariate-Interpolation)\n",
    "### 4. [Newton's Bivariate Interpolation](#Newtons-Bivariate-Interpolation)\n",
    "### 5. [Interpolation for Numerical Partial Differentiation](#Interpolation-for-Numerical-Partial-Differentiation)\n",
    "### 6. [Jacobian Matrix](#Jacobian-Matrix)\n",
    "### 7. [Forward Difference Value For Bivariate](#Forward-Difference-Value-For-Bivariate)"
   ]
  },
  {
   "cell_type": "markdown",
   "id": "ccc507de",
   "metadata": {},
   "source": [
    " \n",
    " "
   ]
  },
  {
   "cell_type": "markdown",
   "id": "0af166c5",
   "metadata": {},
   "source": [
    " \n",
    " "
   ]
  },
  {
   "cell_type": "markdown",
   "id": "01038e5c",
   "metadata": {},
   "source": [
    "## Numerical Differentiation"
   ]
  },
  {
   "cell_type": "code",
   "execution_count": 79,
   "id": "afca5e74",
   "metadata": {},
   "outputs": [
    {
     "name": "stdout",
     "output_type": "stream",
     "text": [
      "--------------------------------------------------------------------------------------------------\n",
      "|  x   |   f(x)  |       ∆ f(x)      |      ∆^2 f(x)     |      ∆^3 f(x)     |      ∆^4 f(x)     |\n",
      "--------------------------------------------------------------------------------------------------\n",
      "| 0.4  |  1.5836 | ∆ f(0.4) = 0.2138 | ∆^2 f(0.4) = 0.033 | ∆^3 f(0.4) = 0.0035 | ∆^4 f(0.4) = 0.0003\n",
      "--------------------------------------------------------------------------------------------------\n",
      "| 0.5  |  1.7974 | ∆ f(0.5) = 0.2468 | ∆^2 f(0.5) = 0.0365 | ∆^3 f(0.5) = 0.0038 |\n",
      "--------------------------------------------------------------------------------------------------\n",
      "| 0.6  |  2.0442 | ∆ f(0.6) = 0.2833 | ∆^2 f(0.6) = 0.0403 |\n",
      "--------------------------------------------------------------------------------------------------\n",
      "| 0.7  |  2.3275 | ∆ f(0.7) = 0.3236 |\n",
      "--------------------------------------------------------------------------------------------------\n",
      "| 0.8  |  2.6511 |\n",
      "--------------------------------------------------------------------------------------------------\n",
      "\n",
      "Which value you want to find: 0.6\n",
      "-----------------------------------------------------------------------------------------------------------------------------------------------\n",
      " ∴ f(a+xh) = 1 * 1.5836  + x * 0.2138  + x*(x - 1) * 0.033 / 2 + x*(x**2 - 3*x + 2) * 0.0035 / 6 + x*(x**3 - 6*x**2 + 11*x - 6) * 0.0003 / 24\n",
      "-----------------------------------------------------------------------------------------------------------------------------------------------\n",
      "\n",
      "  Here a = 0.4, h = 0.1, x = 0.6\n",
      "\n",
      " ∴ (h) * f'(a+xh) = (0 + 0.2138 + 0.033*x - 0.0165 + 0.000583333333333333*x**2 + 0.000583333333333333*x*(2*x - 3) - 0.00175*x + 0.00116666666666667 + 1.25e-5*x**3 - 7.5e-5*x**2 + 1.25e-5*x*(3*x**2 - 12*x + 11) + 0.0001375*x - 7.5e-5)\n",
      "\n",
      " ∴ f'(0.6) = (0.26444) / (0.1), at x = 2\n",
      "\n",
      " ∴ f'(0.6) = 2.64442\n",
      "------------------------------------------------------------\n",
      "\n",
      "  Here a = 0.4, h = 0.1, x = 0.6\n",
      "\n",
      " ∴ (h ** 2) * f''(a+xh) = (0 + 0 + 0.033 + 0.0035*(x - 1) + 7.5e-5*x**2 + 7.5e-5*x*(x - 2) - 0.0003*x + 0.000275)\n",
      "\n",
      " ∴ f''(0.6) = (0.03648) / (0.1 ** 2), at x = 2\n",
      "\n",
      " ∴ f''(0.6) = 3.6475\n",
      "------------------------------------------------------------\n"
     ]
    }
   ],
   "source": [
    "x_values = [4.5, 5, 5.5, 6, 6.5, 7, 7.5]\n",
    "f_values = [9.69, 12.9, 16.71, 21.18, 26.37, 32.34, 39.15] #[0, 0.128, 0.544, 1.296, 2.432, 4]\n",
    "\n",
    "x_values = [0, 1.5, 2.5]\n",
    "f_values = [0.621, 0.818, 0.889]\n",
    "\n",
    "x_values, f_values = [3, 3.2, 3.4, 3.6, 3.8, 4], [-14, -10.032, -5.296, 0.256, 6.672, 14]\n",
    "\n",
    "x_values, f_values = [1.2, 1.4, 1.6], [0.5506, 0.6048, 0.6658]\n",
    "x_values, f_values = [0.4, 0.6, 0.8], [0.0256, 0.1296, 0.4096]\n",
    "x_values, f_values = [1, 1.5], [0.723, 0.812]\n",
    "x_values, f_values = [0, 1.5, 2.5], [0.621, 0.818, 0.889]\n",
    "x_values, f_values = [0.8, 1, 1.2], [0.4096, 1, 2.0736]\n",
    "\n",
    "x_values, f_values = [1.2, 1.4, 1.6], [0.5506, 0.6048, 0.6658]\n",
    "x_values, f_values = [0.4, 0.6, 0.8], [0.0256, 0.1296, 0.4096]\n",
    "x_values, f_values = [0.4, 0.5, 0.6, 0.7, 0.8], [1.5836, 1.7974, 2.0442, 2.3275, 2.6511]\n",
    "DrawForwardDiffTable(x_values, f_values, rn=5)\n",
    "print()\n",
    "# x_values = [3, 3.2, 3.4, 3.6, 3.8, 4]\n",
    "# f_values = [-14, -10.032, -5.296, 0.256, 6.672, 14]\n",
    "\n",
    "diff_eq, h, a, x, at_x = Numerical_Diff(x_values, f_values)\n",
    "\n",
    "n = len(\" + \".join(diff_eq))\n",
    "print('-'*(n+15))\n",
    "print(f\" ∴ f(a+xh) = {' + '.join(diff_eq)}\")\n",
    "print('-'*(n+15))\n",
    "\n",
    "cal_derivative(diff_eq, h, a, x, at_x,  1) # 1st order derivative\n",
    "cal_derivative(diff_eq, h, a, x, at_x, 2)  # 2nd order derivative\n"
   ]
  },
  {
   "cell_type": "code",
   "execution_count": null,
   "id": "0d9b398f",
   "metadata": {},
   "outputs": [],
   "source": [
    "DrawBackDiffTable(x_values, f_values)"
   ]
  },
  {
   "cell_type": "markdown",
   "id": "29848ec5",
   "metadata": {},
   "source": [
    "## Piecewise Interpolation"
   ]
  },
  {
   "cell_type": "code",
   "execution_count": 36,
   "id": "f4452b10",
   "metadata": {},
   "outputs": [],
   "source": [
    "def f(x):\n",
    "    return x**2 + 2* x"
   ]
  },
  {
   "cell_type": "code",
   "execution_count": 37,
   "id": "cdc3c371",
   "metadata": {},
   "outputs": [
    {
     "data": {
      "text/plain": [
       "[8, 9.24, 11.96]"
      ]
     },
     "execution_count": 37,
     "metadata": {},
     "output_type": "execute_result"
    }
   ],
   "source": [
    "[round(f(x), 5) for x in [2, 2.2, 2.6]]"
   ]
  },
  {
   "cell_type": "code",
   "execution_count": 40,
   "id": "cb0d4b86",
   "metadata": {},
   "outputs": [
    {
     "name": "stdout",
     "output_type": "stream",
     "text": [
      "\n",
      "---------------------------------------------\n",
      "|    x     |    2     |   2.2    |   2.6    |\n",
      "---------------------------------------------\n",
      "|    y     |    8     |   9.24   |  11.96   |\n",
      "---------------------------------------------\n",
      "\n",
      "By Piecewise Quadratic Interpolating Formula we have, \n",
      "\tBy Lagrange's Interpolation Formula\n",
      "\n",
      "   f(x) = \n",
      "\t(x - 2.2) * (x - 2.6) /  ((2 - 2.2) * (2 - 2.6))  * (8) + \t(x - 2) * (x - 2.6) /  ((2.2 - 2) * (2.2 - 2.6))  * (9.24) + \t(x - 2) * (x - 2.2) /  ((2.6 - 2) * (2.6 - 2.2))  * (11.96)  \n",
      "        = 1.00000000000003*x**2 + 1.99999999999989*x + 1.13686837721616e-13  x  ∈  [ 2, 2.6 ]\n",
      "------------------------------------------------------------\n"
     ]
    }
   ],
   "source": [
    "x_list, f_values, gap = [2, 2.2, 2.6], [8, 9.24, 11.96], 2\n",
    "\n",
    "Draw_table(x_list, f_values)\n",
    "Piecewise_Interpolation(x_list,f_values, gap, True)"
   ]
  },
  {
   "cell_type": "code",
   "execution_count": 43,
   "id": "32a4e7c7",
   "metadata": {},
   "outputs": [
    {
     "data": {
      "text/latex": [
       "$\\displaystyle 49.8333333333333 x^{2} - 209.3 x + 219.266666666667$"
      ],
      "text/plain": [
       "49.8333333333333*x**2 - 209.3*x + 219.266666666667"
      ]
     },
     "execution_count": 43,
     "metadata": {},
     "output_type": "execute_result"
    }
   ],
   "source": [
    "sympy.expand('(x - 2) * (x - 2.2) /  ((2.6 - 2) * (2.6 - 2.2))  * (11.96)  ')"
   ]
  },
  {
   "cell_type": "code",
   "execution_count": 46,
   "id": "4e520a66",
   "metadata": {},
   "outputs": [
    {
     "data": {
      "text/plain": [
       "0.9999999999999929"
      ]
     },
     "execution_count": 46,
     "metadata": {},
     "output_type": "execute_result"
    }
   ],
   "source": [
    "66.66667 - 115.5 + 49.83333"
   ]
  },
  {
   "cell_type": "markdown",
   "id": "b6c0eaaf",
   "metadata": {},
   "source": [
    "## Lagranges Bivariate Interpolation"
   ]
  },
  {
   "cell_type": "code",
   "execution_count": 15,
   "id": "e3b961d2",
   "metadata": {},
   "outputs": [],
   "source": [
    "x_vals, y_vals = [0.1, 0.2, 0.3], [0.1, 0.2, 0.3]"
   ]
  },
  {
   "cell_type": "code",
   "execution_count": 16,
   "id": "b26d3605",
   "metadata": {},
   "outputs": [],
   "source": [
    "# arr = get_f_x_y(x_vals, y_vals)\n",
    "arr = [[2.02, 2.0351, 2.0403], [2.0351, 2.0801, 2.1153], [2.0403, 2.1153, 2.1893]]"
   ]
  },
  {
   "cell_type": "code",
   "execution_count": 17,
   "id": "a282adfc",
   "metadata": {},
   "outputs": [
    {
     "name": "stdout",
     "output_type": "stream",
     "text": [
      "\n",
      " ----------------------------------------------\n",
      "|  y \\ x   |    0.1    |   0.2    |   0.3      |\n",
      " ----------------------------------------------\n",
      "|   0.1    |    2.02   |   2.0351  |   2.0403  |\n",
      "------------------------------------------------\n",
      "|   0.2    |   2.0351  |   2.0801  |   2.1153  |\n",
      "------------------------------------------------\n",
      "|   0.3    |   2.0403  |   2.1153  |   2.1893  |\n",
      "------------------------------------------------\n",
      "\n",
      "\n"
     ]
    }
   ],
   "source": [
    "create_xy_table(x_vals, y_vals, arr)"
   ]
  },
  {
   "cell_type": "code",
   "execution_count": 18,
   "id": "eae51129",
   "metadata": {},
   "outputs": [
    {
     "name": "stdout",
     "output_type": "stream",
     "text": [
      "Here m: 3, n: 3\n",
      "\n",
      "\n",
      "By Lagrange's Bivariate Interpolating Formula \n",
      "\n",
      "P(x, y) = X_2,0.1 * [  Y_2,0.1 * (F_0.1_0.1) +   Y_2,0.2 * (F_0.1_0.2) +   Y_2,0.3 * (F_0.1_0.3)  ]\n",
      "\t + X_2,0.2 * [  Y_2,0.1 * (F_0.2_0.1) +   Y_2,0.2 * (F_0.2_0.2) +   Y_2,0.3 * (F_0.2_0.3)  ]\n",
      "\t + X_2,0.3 * [  Y_2,0.1 * (F_0.3_0.1) +   Y_2,0.2 * (F_0.3_0.2) +   Y_2,0.3 * (F_0.3_0.3)  ]\n",
      "\n",
      "= ((x - 0.2) * (x - 0.3) / (0.02)) * [ ((y - 0.2) * (y - 0.3) / (0.02) * 2.02)  + ((y - 0.1) * (y - 0.3) / (-0.009999999999999998) * 2.0351)  + ((y - 0.1) * (y - 0.2) / (0.019999999999999993) * 2.0403) ]\n",
      " + ((x - 0.1) * (x - 0.3) / (-0.009999999999999998)) * [ ((y - 0.2) * (y - 0.3) / (0.02) * 2.0351)  + ((y - 0.1) * (y - 0.3) / (-0.009999999999999998) * 2.0801)  + ((y - 0.1) * (y - 0.2) / (0.019999999999999993) * 2.1153) ]\n",
      " + ((x - 0.1) * (x - 0.2) / (0.019999999999999993)) * [ ((y - 0.2) * (y - 0.3) / (0.02) * 2.0403)  + ((y - 0.1) * (y - 0.3) / (-0.009999999999999998) * 2.1153)  + ((y - 0.1) * (y - 0.2) / (0.019999999999999993) * 2.1893) ]\n",
      "\n",
      " ∴ P(x, y) =  21.749999999997902*x**2*y**2 - 6.474999999999173*x**2*y - 0.065000000000105973*x**2 - 6.4749999999992437*x*y**2 + 4.9174999999997147*x*y - 0.12749999999995895*x - 0.065000000000059927*y**2 - 0.12749999999997601*y + 2.0083999999999967\n"
     ]
    }
   ],
   "source": [
    "t = Lagrange_Bivariate_IF(x_vals, y_vals, arr, True)\n",
    "exp = simplify(t)\n",
    "at_x, at_y = 0.2, 0.1\n",
    "# ans = expand(t).subs({'x':at_x, 'y':at_y})\n",
    "# print(f' ∴ P({at_x},{at_y}) = {exp} =  {ans}')"
   ]
  },
  {
   "cell_type": "code",
   "execution_count": 31,
   "id": "e9a18493",
   "metadata": {},
   "outputs": [
    {
     "data": {
      "text/latex": [
       "$\\displaystyle 3.2175000000000124$"
      ],
      "text/plain": [
       "3.2175000000000124"
      ]
     },
     "execution_count": 31,
     "metadata": {},
     "output_type": "execute_result"
    }
   ],
   "source": [
    "d1 = sympy.diff(exp, 'y')\n",
    "sympy.diff(d1, 'x').subs({'x':0.2, 'y':0.1})"
   ]
  },
  {
   "cell_type": "code",
   "execution_count": 34,
   "id": "c271ca24",
   "metadata": {},
   "outputs": [
    {
     "data": {
      "text/latex": [
       "$\\displaystyle 0.10150000000000239$"
      ],
      "text/plain": [
       "0.10150000000000239"
      ]
     },
     "execution_count": 34,
     "metadata": {},
     "output_type": "execute_result"
    }
   ],
   "source": [
    "sympy.diff(exp, 'x').subs({'x':0.2, 'y':0.1})"
   ]
  },
  {
   "cell_type": "markdown",
   "id": "6beee4c1",
   "metadata": {},
   "source": [
    " "
   ]
  },
  {
   "cell_type": "code",
   "execution_count": 35,
   "id": "d93458a9",
   "metadata": {},
   "outputs": [
    {
     "data": {
      "text/latex": [
       "$\\displaystyle 0.40100000000000301$"
      ],
      "text/plain": [
       "0.40100000000000301"
      ]
     },
     "execution_count": 35,
     "metadata": {},
     "output_type": "execute_result"
    }
   ],
   "source": [
    "sympy.diff(exp, 'y').subs({'x':0.2, 'y':0.2})"
   ]
  },
  {
   "cell_type": "code",
   "execution_count": 40,
   "id": "44409914",
   "metadata": {},
   "outputs": [
    {
     "data": {
      "text/plain": [
       "2.1803"
      ]
     },
     "execution_count": 40,
     "metadata": {},
     "output_type": "execute_result"
    }
   ],
   "source": [
    "x, y = 0.3, 0.3\n",
    "round(3 * sin (x * y) + cos(x) + cos(y), 4)"
   ]
  },
  {
   "cell_type": "code",
   "execution_count": 33,
   "id": "2d418891",
   "metadata": {},
   "outputs": [
    {
     "data": {
      "text/plain": [
       "[[2.02, 2.0351, 2.0403], [2.0351, 2.0801, 2.1153], [2.0403, 2.1153, 2.1803]]"
      ]
     },
     "execution_count": 33,
     "metadata": {},
     "output_type": "execute_result"
    }
   ],
   "source": [
    "\n",
    "arr"
   ]
  },
  {
   "cell_type": "markdown",
   "id": "96a33c19",
   "metadata": {},
   "source": [
    "## Newtons Bivariate Interpolation"
   ]
  },
  {
   "cell_type": "code",
   "execution_count": 46,
   "id": "8fc16cf8",
   "metadata": {},
   "outputs": [
    {
     "name": "stdout",
     "output_type": "stream",
     "text": [
      "\n",
      " -----------------------------------\n",
      "|  y \\ x   |    0.2    |   0.3      |\n",
      " -----------------------------------\n",
      "|   0.1    |   2.0351  |   2.0403  |\n",
      "-------------------------------------\n",
      "|   0.2    |   2.0801  |   2.1153  |\n",
      "-------------------------------------\n",
      "\n",
      "\n",
      "0.2 0.1 0.1 {0.2: {0.1: 2.0351, 0.2: 2.0801}, 0.3: {0.1: 2.0403, 0.2: 2.1153}}\n"
     ]
    },
    {
     "ename": "KeyError",
     "evalue": "0.30000000000000004",
     "output_type": "error",
     "traceback": [
      "\u001b[1;31m---------------------------------------------------------------------------\u001b[0m",
      "\u001b[1;31mKeyError\u001b[0m                                  Traceback (most recent call last)",
      "\u001b[1;32mC:\\Users\\CLEOPH~1\\AppData\\Local\\Temp/ipykernel_16972/118951940.py\u001b[0m in \u001b[0;36m<module>\u001b[1;34m\u001b[0m\n\u001b[0;32m      6\u001b[0m \u001b[0marr\u001b[0m \u001b[1;33m=\u001b[0m \u001b[1;33m[\u001b[0m\u001b[1;33m[\u001b[0m\u001b[1;36m2.0351\u001b[0m\u001b[1;33m,\u001b[0m \u001b[1;36m2.0801\u001b[0m\u001b[1;33m]\u001b[0m\u001b[1;33m,\u001b[0m \u001b[1;33m[\u001b[0m\u001b[1;36m2.0403\u001b[0m\u001b[1;33m,\u001b[0m \u001b[1;36m2.1153\u001b[0m\u001b[1;33m]\u001b[0m\u001b[1;33m]\u001b[0m\u001b[1;33m\u001b[0m\u001b[1;33m\u001b[0m\u001b[0m\n\u001b[0;32m      7\u001b[0m \u001b[0mcreate_xy_table\u001b[0m\u001b[1;33m(\u001b[0m\u001b[0mx_vals\u001b[0m\u001b[1;33m,\u001b[0m \u001b[0my_vals\u001b[0m\u001b[1;33m,\u001b[0m \u001b[0marr\u001b[0m\u001b[1;33m)\u001b[0m\u001b[1;33m\u001b[0m\u001b[1;33m\u001b[0m\u001b[0m\n\u001b[1;32m----> 8\u001b[1;33m \u001b[0mans\u001b[0m \u001b[1;33m=\u001b[0m \u001b[0mNewton_Bivariate_interpolation\u001b[0m\u001b[1;33m(\u001b[0m\u001b[0mx_vals\u001b[0m\u001b[1;33m,\u001b[0m \u001b[0my_vals\u001b[0m\u001b[1;33m,\u001b[0m \u001b[0marr\u001b[0m\u001b[1;33m)\u001b[0m\u001b[1;33m\u001b[0m\u001b[1;33m\u001b[0m\u001b[0m\n\u001b[0m",
      "\u001b[1;32mC:\\Users\\CLEOPH~1\\AppData\\Local\\Temp/ipykernel_16972/731512367.py\u001b[0m in \u001b[0;36mNewton_Bivariate_interpolation\u001b[1;34m(x_vals, y_vals, arr, at_x, at_y, show_working)\u001b[0m\n\u001b[0;32m     16\u001b[0m         \u001b[1;32melse\u001b[0m\u001b[1;33m:\u001b[0m\u001b[1;33m\u001b[0m\u001b[1;33m\u001b[0m\u001b[0m\n\u001b[0;32m     17\u001b[0m             \u001b[1;32mif\u001b[0m \u001b[0mi\u001b[0m \u001b[1;33m==\u001b[0m \u001b[1;36m1\u001b[0m\u001b[1;33m:\u001b[0m\u001b[1;33m\u001b[0m\u001b[1;33m\u001b[0m\u001b[0m\n\u001b[1;32m---> 18\u001b[1;33m                 \u001b[0mfwd_val_x\u001b[0m \u001b[1;33m=\u001b[0m \u001b[0mdel_x\u001b[0m\u001b[1;33m(\u001b[0m\u001b[0mx_0\u001b[0m\u001b[1;33m,\u001b[0m \u001b[0my_0\u001b[0m\u001b[1;33m,\u001b[0m \u001b[0mh\u001b[0m\u001b[1;33m,\u001b[0m \u001b[0mf\u001b[0m\u001b[1;33m)\u001b[0m\u001b[1;33m\u001b[0m\u001b[1;33m\u001b[0m\u001b[0m\n\u001b[0m\u001b[0;32m     19\u001b[0m                 \u001b[0mfwd_val_y\u001b[0m \u001b[1;33m=\u001b[0m \u001b[0mdel_y\u001b[0m\u001b[1;33m(\u001b[0m\u001b[0mx_0\u001b[0m\u001b[1;33m,\u001b[0m \u001b[0my_0\u001b[0m\u001b[1;33m,\u001b[0m \u001b[0mk\u001b[0m\u001b[1;33m,\u001b[0m \u001b[0mf\u001b[0m\u001b[1;33m)\u001b[0m\u001b[1;33m\u001b[0m\u001b[1;33m\u001b[0m\u001b[0m\n\u001b[0;32m     20\u001b[0m                 \u001b[1;32mif\u001b[0m \u001b[0mshow_working\u001b[0m\u001b[1;33m:\u001b[0m\u001b[1;33m\u001b[0m\u001b[1;33m\u001b[0m\u001b[0m\n",
      "\u001b[1;32mC:\\Users\\CLEOPH~1\\AppData\\Local\\Temp/ipykernel_16972/869875386.py\u001b[0m in \u001b[0;36mdel_x\u001b[1;34m(x_0, y_0, h, f)\u001b[0m\n\u001b[0;32m      8\u001b[0m     \u001b[0mprint\u001b[0m\u001b[1;33m(\u001b[0m\u001b[0mx_0\u001b[0m\u001b[1;33m,\u001b[0m \u001b[0my_0\u001b[0m\u001b[1;33m,\u001b[0m \u001b[0mh\u001b[0m\u001b[1;33m,\u001b[0m \u001b[0mf\u001b[0m\u001b[1;33m)\u001b[0m\u001b[1;33m\u001b[0m\u001b[1;33m\u001b[0m\u001b[0m\n\u001b[0;32m      9\u001b[0m     \u001b[1;32mif\u001b[0m \u001b[0mtype\u001b[0m\u001b[1;33m(\u001b[0m\u001b[0mf\u001b[0m\u001b[1;33m)\u001b[0m\u001b[1;33m==\u001b[0m\u001b[0mdict\u001b[0m\u001b[1;33m:\u001b[0m\u001b[1;33m\u001b[0m\u001b[1;33m\u001b[0m\u001b[0m\n\u001b[1;32m---> 10\u001b[1;33m         \u001b[1;32mreturn\u001b[0m \u001b[0mf\u001b[0m\u001b[1;33m[\u001b[0m\u001b[0mx_0\u001b[0m \u001b[1;33m+\u001b[0m \u001b[0mh\u001b[0m\u001b[1;33m]\u001b[0m\u001b[1;33m[\u001b[0m\u001b[0my_0\u001b[0m\u001b[1;33m]\u001b[0m \u001b[1;33m-\u001b[0m \u001b[0mf\u001b[0m\u001b[1;33m[\u001b[0m\u001b[0mx_0\u001b[0m\u001b[1;33m]\u001b[0m\u001b[1;33m[\u001b[0m\u001b[0my_0\u001b[0m\u001b[1;33m]\u001b[0m\u001b[1;33m\u001b[0m\u001b[1;33m\u001b[0m\u001b[0m\n\u001b[0m\u001b[0;32m     11\u001b[0m     \u001b[1;32melif\u001b[0m \u001b[0mtype\u001b[0m\u001b[1;33m(\u001b[0m\u001b[0mf\u001b[0m\u001b[1;33m)\u001b[0m\u001b[1;33m==\u001b[0m\u001b[0mstr\u001b[0m\u001b[1;33m:\u001b[0m\u001b[1;33m\u001b[0m\u001b[1;33m\u001b[0m\u001b[0m\n\u001b[0;32m     12\u001b[0m         \u001b[0mf\u001b[0m \u001b[1;33m=\u001b[0m \u001b[0msympy\u001b[0m\u001b[1;33m.\u001b[0m\u001b[0msimplify\u001b[0m\u001b[1;33m(\u001b[0m\u001b[0mf\u001b[0m\u001b[1;33m)\u001b[0m\u001b[1;33m\u001b[0m\u001b[1;33m\u001b[0m\u001b[0m\n",
      "\u001b[1;31mKeyError\u001b[0m: 0.30000000000000004"
     ]
    }
   ],
   "source": [
    "x_vals = [0.1, 0.2, 0.3]\n",
    "y_vals = [0.1, 0.2, 0.3]\n",
    "arr =  [[2.02, 2.0351, 2.0403], [2.0351, 2.0801, 2.1153], [2.0403, 2.1153, 2.1803]] #[[4, 11, 30], [18, 25, 44], [56, 63, 82]]\n",
    "\n",
    "x_vals, y_vals = [0.2, 0.3], [0.1, 0.2]\n",
    "arr = [[2.0351, 2.0801], [2.0403, 2.1153]]\n",
    "create_xy_table(x_vals, y_vals, arr)\n",
    "ans = Newton_Bivariate_interpolation(x_vals, y_vals, arr)"
   ]
  },
  {
   "cell_type": "code",
   "execution_count": 40,
   "id": "684e27ab",
   "metadata": {},
   "outputs": [
    {
     "name": "stdout",
     "output_type": "stream",
     "text": [
      "-0.0049500000000000099*x**2 + 2.9900000000000034*x*y - 0.28241500000000049*x - 0.0049500000000000099*y**2 - 0.28241500000000049*y + 2.0466820000000001\n"
     ]
    },
    {
     "data": {
      "text/latex": [
       "$\\displaystyle 0.014604999999999865$"
      ],
      "text/plain": [
       "0.014604999999999865"
      ]
     },
     "execution_count": 40,
     "metadata": {},
     "output_type": "execute_result"
    }
   ],
   "source": [
    "print(ans)\n",
    "ans.diff('x').subs({'x':0.2, 'y':0.1})"
   ]
  },
  {
   "cell_type": "markdown",
   "id": "843ae890",
   "metadata": {},
   "source": [
    " "
   ]
  },
  {
   "cell_type": "markdown",
   "id": "5c1b6149",
   "metadata": {},
   "source": [
    "## Interpolation for Numerical Partial Differentiation"
   ]
  },
  {
   "cell_type": "code",
   "execution_count": 26,
   "id": "74171146",
   "metadata": {
    "collapsed": true
   },
   "outputs": [
    {
     "name": "stdout",
     "output_type": "stream",
     "text": [
      "At x: 3\n",
      "At y: 2\n",
      "value at (0.2, 0.1) : 1\n",
      "value at (0.2, 0.2) : 8\n",
      "value at (0.3, 0.1) : 2\n",
      "value at (0.3, 0.2) : 12\n"
     ]
    }
   ],
   "source": [
    "x_vals = [0.2, 0.3]\n",
    "y_vals = [0.1, 0.2]\n",
    "h, k = getHeight(x_vals), getHeight(y_vals)\n",
    "x_at, y_at = float(input(\"At x: \")), float(input(\"At y: \"))\n",
    "\n",
    "go = True\n",
    "if h is None or k is None:\n",
    "    print(\"[!] Check the intervals. !!!\")\n",
    "    go = False\n",
    "    \n",
    "if go:\n",
    "    arr = get_f_x_y(x_vals, y_vals)\n",
    "    f = get_x_y_at(x_vals, y_vals, arr)"
   ]
  },
  {
   "cell_type": "code",
   "execution_count": 27,
   "id": "4cbe371f",
   "metadata": {
    "collapsed": true
   },
   "outputs": [
    {
     "ename": "ValueError",
     "evalue": "3.0 is not in list",
     "output_type": "error",
     "traceback": [
      "\u001b[1;31m---------------------------------------------------------------------------\u001b[0m",
      "\u001b[1;31mValueError\u001b[0m                                Traceback (most recent call last)",
      "\u001b[1;32mC:\\Users\\CLEOPH~1\\AppData\\Local\\Temp/ipykernel_4016/1860996274.py\u001b[0m in \u001b[0;36m<module>\u001b[1;34m\u001b[0m\n\u001b[1;32m----> 1\u001b[1;33m \u001b[0md_fx_f\u001b[0m\u001b[1;33m(\u001b[0m\u001b[0mx_vals\u001b[0m\u001b[1;33m,\u001b[0m \u001b[0mx_at\u001b[0m\u001b[1;33m,\u001b[0m \u001b[0my_at\u001b[0m\u001b[1;33m,\u001b[0m \u001b[0mh\u001b[0m\u001b[1;33m,\u001b[0m \u001b[0mf\u001b[0m\u001b[1;33m)\u001b[0m\u001b[1;33m,\u001b[0m \u001b[0md_fy_f\u001b[0m\u001b[1;33m(\u001b[0m\u001b[0my_vals\u001b[0m\u001b[1;33m,\u001b[0m \u001b[0mx_at\u001b[0m\u001b[1;33m,\u001b[0m \u001b[0my_at\u001b[0m\u001b[1;33m,\u001b[0m \u001b[0mk\u001b[0m\u001b[1;33m,\u001b[0m \u001b[0mf\u001b[0m\u001b[1;33m)\u001b[0m\u001b[1;33m\u001b[0m\u001b[1;33m\u001b[0m\u001b[0m\n\u001b[0m",
      "\u001b[1;32mC:\\Users\\CLEOPH~1\\AppData\\Local\\Temp/ipykernel_4016/2614289997.py\u001b[0m in \u001b[0;36md_fx_f\u001b[1;34m(x_vals, x_at, y_at, h, f, n)\u001b[0m\n\u001b[0;32m      1\u001b[0m \u001b[1;32mdef\u001b[0m \u001b[0md_fx_f\u001b[0m\u001b[1;33m(\u001b[0m\u001b[0mx_vals\u001b[0m\u001b[1;33m,\u001b[0m \u001b[0mx_at\u001b[0m\u001b[1;33m,\u001b[0m \u001b[0my_at\u001b[0m\u001b[1;33m,\u001b[0m \u001b[0mh\u001b[0m\u001b[1;33m,\u001b[0m \u001b[0mf\u001b[0m\u001b[1;33m,\u001b[0m \u001b[0mn\u001b[0m\u001b[1;33m=\u001b[0m\u001b[1;36m5\u001b[0m\u001b[1;33m)\u001b[0m\u001b[1;33m:\u001b[0m\u001b[1;33m\u001b[0m\u001b[1;33m\u001b[0m\u001b[0m\n\u001b[1;32m----> 2\u001b[1;33m     \u001b[0mi_\u001b[0m \u001b[1;33m=\u001b[0m \u001b[0mvalue_at\u001b[0m\u001b[1;33m(\u001b[0m\u001b[0mx_vals\u001b[0m\u001b[1;33m,\u001b[0m \u001b[0mx_at\u001b[0m\u001b[1;33m,\u001b[0m \u001b[1;36m1\u001b[0m\u001b[1;33m)\u001b[0m\u001b[1;33m\u001b[0m\u001b[1;33m\u001b[0m\u001b[0m\n\u001b[0m\u001b[0;32m      3\u001b[0m     \u001b[1;32mreturn\u001b[0m \u001b[0mround\u001b[0m\u001b[1;33m(\u001b[0m\u001b[1;33m(\u001b[0m\u001b[1;33m(\u001b[0m\u001b[0mf\u001b[0m\u001b[1;33m[\u001b[0m\u001b[0mi_\u001b[0m\u001b[1;33m]\u001b[0m\u001b[1;33m[\u001b[0m\u001b[0my_at\u001b[0m\u001b[1;33m]\u001b[0m \u001b[1;33m-\u001b[0m \u001b[0mf\u001b[0m\u001b[1;33m[\u001b[0m\u001b[0mx_at\u001b[0m\u001b[1;33m]\u001b[0m\u001b[1;33m[\u001b[0m\u001b[0my_at\u001b[0m\u001b[1;33m]\u001b[0m\u001b[1;33m)\u001b[0m\u001b[1;33m/\u001b[0m\u001b[0mh\u001b[0m\u001b[1;33m)\u001b[0m\u001b[1;33m,\u001b[0m \u001b[0mn\u001b[0m\u001b[1;33m)\u001b[0m\u001b[1;33m\u001b[0m\u001b[1;33m\u001b[0m\u001b[0m\n\u001b[0;32m      4\u001b[0m \u001b[1;33m\u001b[0m\u001b[0m\n\u001b[0;32m      5\u001b[0m \u001b[1;32mdef\u001b[0m \u001b[0md_fx_b\u001b[0m\u001b[1;33m(\u001b[0m\u001b[0mx_vals\u001b[0m\u001b[1;33m,\u001b[0m \u001b[0mx_at\u001b[0m\u001b[1;33m,\u001b[0m \u001b[0my_at\u001b[0m\u001b[1;33m,\u001b[0m \u001b[0mh\u001b[0m\u001b[1;33m,\u001b[0m \u001b[0mf\u001b[0m\u001b[1;33m,\u001b[0m \u001b[0mn\u001b[0m\u001b[1;33m=\u001b[0m\u001b[1;36m5\u001b[0m\u001b[1;33m)\u001b[0m\u001b[1;33m:\u001b[0m\u001b[1;33m\u001b[0m\u001b[1;33m\u001b[0m\u001b[0m\n",
      "\u001b[1;32m~\\Desktop\\Maths\\M-4\\Codes\\Helper_functions.py\u001b[0m in \u001b[0;36mvalue_at\u001b[1;34m(list, value, i)\u001b[0m\n\u001b[0;32m    186\u001b[0m \u001b[1;33m\u001b[0m\u001b[0m\n\u001b[0;32m    187\u001b[0m \u001b[1;32mdef\u001b[0m \u001b[0mvalue_at\u001b[0m\u001b[1;33m(\u001b[0m\u001b[0mlist\u001b[0m\u001b[1;33m,\u001b[0m \u001b[0mvalue\u001b[0m\u001b[1;33m,\u001b[0m \u001b[0mi\u001b[0m\u001b[1;33m=\u001b[0m\u001b[1;36m0\u001b[0m\u001b[1;33m)\u001b[0m\u001b[1;33m:\u001b[0m\u001b[1;33m\u001b[0m\u001b[1;33m\u001b[0m\u001b[0m\n\u001b[1;32m--> 188\u001b[1;33m     \u001b[1;32mreturn\u001b[0m \u001b[0mlist\u001b[0m\u001b[1;33m[\u001b[0m\u001b[0mlist\u001b[0m\u001b[1;33m.\u001b[0m\u001b[0mindex\u001b[0m\u001b[1;33m(\u001b[0m\u001b[0mvalue\u001b[0m\u001b[1;33m)\u001b[0m\u001b[1;33m+\u001b[0m\u001b[0mi\u001b[0m\u001b[1;33m]\u001b[0m\u001b[1;33m\u001b[0m\u001b[1;33m\u001b[0m\u001b[0m\n\u001b[0m\u001b[0;32m    189\u001b[0m \u001b[1;33m\u001b[0m\u001b[0m\n\u001b[0;32m    190\u001b[0m \u001b[1;33m\u001b[0m\u001b[0m\n",
      "\u001b[1;31mValueError\u001b[0m: 3.0 is not in list"
     ]
    }
   ],
   "source": [
    "d_fx_f(x_vals, x_at, y_at, h, f), d_fy_f(y_vals, x_at, y_at, k, f)"
   ]
  },
  {
   "cell_type": "markdown",
   "id": "d184612d",
   "metadata": {},
   "source": [
    " "
   ]
  },
  {
   "cell_type": "markdown",
   "id": "a5f128d7",
   "metadata": {},
   "source": [
    "## Jacobian Matrix"
   ]
  },
  {
   "cell_type": "code",
   "execution_count": 47,
   "id": "00b90fdb",
   "metadata": {},
   "outputs": [
    {
     "name": "stdout",
     "output_type": "stream",
     "text": [
      "f(x, y) = x**3 + x*y**2 - y**3\n",
      "\n",
      " ----------------------------------------------\n",
      "|  y \\ x   |     0     |    1     |    2       |\n",
      " ----------------------------------------------\n",
      "|    0     |     0     |     1     |     8     |\n",
      "------------------------------------------------\n",
      "|    1     |     -1    |     1     |     9     |\n",
      "------------------------------------------------\n",
      "|    2     |     -8    |     -3    |     8     |\n",
      "------------------------------------------------\n",
      "\n",
      "\n",
      "\n",
      "\n",
      "f(x, y) = x**2 - y**2 - y\n",
      "\n",
      " ----------------------------------------------\n",
      "|  y \\ x   |     0     |    1     |    2       |\n",
      " ----------------------------------------------\n",
      "|    0     |     0     |     1     |     4     |\n",
      "------------------------------------------------\n",
      "|    1     |     -2    |     -1    |     2     |\n",
      "------------------------------------------------\n",
      "|    2     |     -6    |     -5    |     -2    |\n",
      "------------------------------------------------\n",
      "\n",
      "\n",
      "\n",
      "\n"
     ]
    },
    {
     "ename": "IndexError",
     "evalue": "list index out of range",
     "output_type": "error",
     "traceback": [
      "\u001b[1;31m---------------------------------------------------------------------------\u001b[0m",
      "\u001b[1;31mIndexError\u001b[0m                                Traceback (most recent call last)",
      "\u001b[1;32mC:\\Users\\CLEOPH~1\\AppData\\Local\\Temp/ipykernel_25936/1858730039.py\u001b[0m in \u001b[0;36m<module>\u001b[1;34m\u001b[0m\n\u001b[0;32m     16\u001b[0m \u001b[1;31m# f1 = 'x**3 + x*y**2 - y**3'\u001b[0m\u001b[1;33m\u001b[0m\u001b[1;33m\u001b[0m\u001b[1;33m\u001b[0m\u001b[0m\n\u001b[0;32m     17\u001b[0m \u001b[1;31m# f2 = 'x*y + 5*x + 6*y'\u001b[0m\u001b[1;33m\u001b[0m\u001b[1;33m\u001b[0m\u001b[1;33m\u001b[0m\u001b[0m\n\u001b[1;32m---> 18\u001b[1;33m \u001b[0mjacobian_matrix\u001b[0m\u001b[1;33m(\u001b[0m\u001b[0mx_vals\u001b[0m\u001b[1;33m,\u001b[0m \u001b[0my_vals\u001b[0m\u001b[1;33m,\u001b[0m\u001b[0mf1\u001b[0m\u001b[1;33m,\u001b[0m \u001b[0mf2\u001b[0m\u001b[1;33m,\u001b[0m \u001b[0mx_0\u001b[0m\u001b[1;33m,\u001b[0m \u001b[0my_0\u001b[0m\u001b[1;33m,\u001b[0m \u001b[1;32mTrue\u001b[0m\u001b[1;33m)\u001b[0m\u001b[1;33m\u001b[0m\u001b[1;33m\u001b[0m\u001b[0m\n\u001b[0m",
      "\u001b[1;32mC:\\Users\\CLEOPH~1\\AppData\\Local\\Temp/ipykernel_25936/2485613879.py\u001b[0m in \u001b[0;36mjacobian_matrix\u001b[1;34m(x_vals, y_vals, f1, f2, x_0, y_0, print_table)\u001b[0m\n\u001b[0;32m      7\u001b[0m     \u001b[0marr\u001b[0m \u001b[1;33m=\u001b[0m \u001b[0mmake_table_xy\u001b[0m\u001b[1;33m(\u001b[0m\u001b[0mx_vals\u001b[0m\u001b[1;33m,\u001b[0m \u001b[0my_vals\u001b[0m\u001b[1;33m,\u001b[0m \u001b[0mf1\u001b[0m\u001b[1;33m)\u001b[0m\u001b[1;33m\u001b[0m\u001b[1;33m\u001b[0m\u001b[0m\n\u001b[0;32m      8\u001b[0m     \u001b[0mdxf1\u001b[0m \u001b[1;33m=\u001b[0m \u001b[0mdel_x_j\u001b[0m\u001b[1;33m(\u001b[0m\u001b[0mx_0\u001b[0m\u001b[1;33m,\u001b[0m \u001b[0my_0\u001b[0m\u001b[1;33m,\u001b[0m \u001b[0mh\u001b[0m\u001b[1;33m,\u001b[0m \u001b[0marr\u001b[0m\u001b[1;33m)\u001b[0m\u001b[1;33m\u001b[0m\u001b[1;33m\u001b[0m\u001b[0m\n\u001b[1;32m----> 9\u001b[1;33m     \u001b[0mdyf1\u001b[0m \u001b[1;33m=\u001b[0m \u001b[0mdel_y_j\u001b[0m\u001b[1;33m(\u001b[0m\u001b[0mx_0\u001b[0m\u001b[1;33m,\u001b[0m \u001b[0my_0\u001b[0m\u001b[1;33m,\u001b[0m \u001b[0mk\u001b[0m\u001b[1;33m,\u001b[0m \u001b[0marr\u001b[0m\u001b[1;33m)\u001b[0m\u001b[1;33m\u001b[0m\u001b[1;33m\u001b[0m\u001b[0m\n\u001b[0m\u001b[0;32m     10\u001b[0m \u001b[1;33m\u001b[0m\u001b[0m\n\u001b[0;32m     11\u001b[0m     \u001b[0marr\u001b[0m \u001b[1;33m=\u001b[0m \u001b[0mmake_table_xy\u001b[0m\u001b[1;33m(\u001b[0m\u001b[0mx_vals\u001b[0m\u001b[1;33m,\u001b[0m \u001b[0my_vals\u001b[0m\u001b[1;33m,\u001b[0m \u001b[0mf2\u001b[0m\u001b[1;33m)\u001b[0m\u001b[1;33m\u001b[0m\u001b[1;33m\u001b[0m\u001b[0m\n",
      "\u001b[1;32mC:\\Users\\CLEOPH~1\\AppData\\Local\\Temp/ipykernel_25936/869875386.py\u001b[0m in \u001b[0;36mdel_y_j\u001b[1;34m(x_0, y_0, k, f)\u001b[0m\n\u001b[0;32m      3\u001b[0m \u001b[1;33m\u001b[0m\u001b[0m\n\u001b[0;32m      4\u001b[0m \u001b[1;32mdef\u001b[0m \u001b[0mdel_y_j\u001b[0m\u001b[1;33m(\u001b[0m\u001b[0mx_0\u001b[0m\u001b[1;33m,\u001b[0m \u001b[0my_0\u001b[0m\u001b[1;33m,\u001b[0m \u001b[0mk\u001b[0m\u001b[1;33m,\u001b[0m \u001b[0mf\u001b[0m\u001b[1;33m)\u001b[0m\u001b[1;33m:\u001b[0m\u001b[1;33m\u001b[0m\u001b[1;33m\u001b[0m\u001b[0m\n\u001b[1;32m----> 5\u001b[1;33m     \u001b[1;32mreturn\u001b[0m \u001b[0mcheck_d_n_r\u001b[0m\u001b[1;33m(\u001b[0m\u001b[1;33m(\u001b[0m\u001b[0mf\u001b[0m\u001b[1;33m[\u001b[0m\u001b[0mx_0\u001b[0m\u001b[1;33m]\u001b[0m\u001b[1;33m[\u001b[0m\u001b[0my_0\u001b[0m\u001b[1;33m+\u001b[0m\u001b[0mk\u001b[0m\u001b[1;33m]\u001b[0m \u001b[1;33m-\u001b[0m \u001b[0mf\u001b[0m\u001b[1;33m[\u001b[0m\u001b[0mx_0\u001b[0m\u001b[1;33m]\u001b[0m\u001b[1;33m[\u001b[0m\u001b[0my_0\u001b[0m\u001b[1;33m]\u001b[0m\u001b[1;33m)\u001b[0m\u001b[1;33m/\u001b[0m\u001b[1;33m(\u001b[0m\u001b[1;36m2\u001b[0m\u001b[1;33m*\u001b[0m\u001b[0mk\u001b[0m\u001b[1;33m)\u001b[0m\u001b[1;33m)\u001b[0m\u001b[1;33m\u001b[0m\u001b[1;33m\u001b[0m\u001b[0m\n\u001b[0m\u001b[0;32m      6\u001b[0m \u001b[1;33m\u001b[0m\u001b[0m\n\u001b[0;32m      7\u001b[0m \u001b[1;32mdef\u001b[0m \u001b[0mdel_x\u001b[0m\u001b[1;33m(\u001b[0m\u001b[0mx_0\u001b[0m\u001b[1;33m,\u001b[0m \u001b[0my_0\u001b[0m\u001b[1;33m,\u001b[0m \u001b[0mh\u001b[0m\u001b[1;33m,\u001b[0m \u001b[0mf\u001b[0m\u001b[1;33m)\u001b[0m\u001b[1;33m:\u001b[0m\u001b[1;33m\u001b[0m\u001b[1;33m\u001b[0m\u001b[0m\n",
      "\u001b[1;31mIndexError\u001b[0m: list index out of range"
     ]
    }
   ],
   "source": [
    "x_vals = [0, 1, 2]\n",
    "y_vals = [0, 1, 2]\n",
    "\n",
    "\n",
    "f1 = 'x**2 + x*y - y**2'\n",
    "f2 = '2*x**2 + 5*x*y + 3*y**2'\n",
    "\n",
    "\n",
    "\n",
    "# f1 = \n",
    "f2 = '3*x**2 + 5*y**2 + x'\n",
    "\n",
    "f1 = 'x**3 + x*y**2 - y**3'\n",
    "f2 = 'x**2 - y**2 - y'\n",
    "\n",
    "\n",
    "x_0, y_0 = 2, 2\n",
    "# f1 = 'x**3 + x*y**2 - y**3'\n",
    "# f2 = 'x*y + 5*x + 6*y'\n",
    "jacobian_matrix(x_vals, y_vals,f1, f2, x_0, y_0, True)\n"
   ]
  },
  {
   "cell_type": "code",
   "execution_count": 78,
   "id": "36de309e",
   "metadata": {},
   "outputs": [
    {
     "data": {
      "text/plain": [
       "('x**3 + x*y**2 - y**3', 'x*y+5*x+6*y')"
      ]
     },
     "execution_count": 78,
     "metadata": {},
     "output_type": "execute_result"
    }
   ],
   "source": [
    "f2 = 'x*y+5*x+6*y'\n",
    "f1, f2"
   ]
  },
  {
   "cell_type": "code",
   "execution_count": 77,
   "id": "bb385f1d",
   "metadata": {},
   "outputs": [
    {
     "data": {
      "text/latex": [
       "$\\displaystyle -8$"
      ],
      "text/plain": [
       "-8"
      ]
     },
     "execution_count": 77,
     "metadata": {},
     "output_type": "execute_result"
    }
   ],
   "source": [
    "x, y = 0,2\n",
    "sympy.simplify(f1).subs({'x':x, 'y':y})"
   ]
  },
  {
   "cell_type": "code",
   "execution_count": null,
   "id": "088d90d1",
   "metadata": {},
   "outputs": [],
   "source": [
    "26 - "
   ]
  },
  {
   "cell_type": "code",
   "execution_count": 46,
   "id": "61b1959d",
   "metadata": {},
   "outputs": [],
   "source": [
    "arr = make_table_xy(x_vals, y_vals, f1)"
   ]
  },
  {
   "cell_type": "code",
   "execution_count": 47,
   "id": "915de9c8",
   "metadata": {},
   "outputs": [
    {
     "data": {
      "text/plain": [
       "5.5"
      ]
     },
     "execution_count": 47,
     "metadata": {},
     "output_type": "execute_result"
    }
   ],
   "source": [
    "del_x_j(1, 2, 1, arr)"
   ]
  },
  {
   "cell_type": "markdown",
   "id": "4ce30550",
   "metadata": {},
   "source": [
    "## Forward Difference Value For Bivariate"
   ]
  },
  {
   "cell_type": "code",
   "execution_count": 22,
   "id": "862b85e1",
   "metadata": {},
   "outputs": [],
   "source": [
    "x_vals = [0,1,2]\n",
    "y_vals = [0, 1, 2]\n",
    "\n",
    "x_0, y_0 =  2, 3 #x_vals[0], y_vals[0]\n",
    "h, k = 2, 1 #getHeight(x_vals), getHeight(y_vals)"
   ]
  },
  {
   "cell_type": "code",
   "execution_count": 23,
   "id": "8b1af051",
   "metadata": {},
   "outputs": [
    {
     "name": "stdout",
     "output_type": "stream",
     "text": [
      "value at (0, 0) : 1\n",
      "value at (0, 1) : 2\n",
      "value at (0, 2) : 3\n",
      "value at (1, 0) : 4\n",
      "value at (1, 1) : 5\n",
      "value at (1, 2) : 5\n",
      "value at (2, 0) : 6\n",
      "value at (2, 1) : 1\n",
      "value at (2, 2) : 2\n"
     ]
    }
   ],
   "source": [
    "arr = get_f_x_y(x_vals, y_vals)"
   ]
  },
  {
   "cell_type": "code",
   "execution_count": 24,
   "id": "fc31aa73",
   "metadata": {},
   "outputs": [],
   "source": [
    "\n",
    "f = 'x**2 + y**2'"
   ]
  },
  {
   "cell_type": "markdown",
   "id": "0afd9411",
   "metadata": {},
   "source": [
    "###   $∆_x  f(x_0, y_0)$"
   ]
  },
  {
   "cell_type": "code",
   "execution_count": 25,
   "id": "4d3295f1",
   "metadata": {},
   "outputs": [
    {
     "data": {
      "text/plain": [
       "'  ∆_x  f(x_0, y_0) = ∆_x f(2, 3) = 12'"
      ]
     },
     "execution_count": 25,
     "metadata": {},
     "output_type": "execute_result"
    }
   ],
   "source": [
    "f'  ∆_x  f(x_0, y_0) = ∆_x f({x_0}, {y_0}) = {del_x(x_0, y_0, h, f)}'"
   ]
  },
  {
   "cell_type": "markdown",
   "id": "a0920d3e",
   "metadata": {},
   "source": [
    "###   $∆_y  f(x_0, y_0)$"
   ]
  },
  {
   "cell_type": "code",
   "execution_count": 26,
   "id": "8bee8ce8",
   "metadata": {},
   "outputs": [
    {
     "data": {
      "text/plain": [
       "'  ∆_y  f(x_0, y_0) = ∆_y f(2, 3) = 7'"
      ]
     },
     "execution_count": 26,
     "metadata": {},
     "output_type": "execute_result"
    }
   ],
   "source": [
    "f'  ∆_y  f(x_0, y_0) = ∆_y f({x_0}, {y_0}) = { del_y(x_0, y_0, k, f)}'"
   ]
  },
  {
   "cell_type": "markdown",
   "id": "6ba6ca78",
   "metadata": {},
   "source": [
    " "
   ]
  },
  {
   "cell_type": "markdown",
   "id": "0833b66e",
   "metadata": {},
   "source": [
    "###   $ ∆_(xx) f(x_0, y_0) $"
   ]
  },
  {
   "cell_type": "code",
   "execution_count": 27,
   "id": "2ae7a3fd",
   "metadata": {},
   "outputs": [
    {
     "data": {
      "text/plain": [
       "'  ∆_xx f(x_0, y_0) = ∆_xx f(2, 3) = 8'"
      ]
     },
     "execution_count": 27,
     "metadata": {},
     "output_type": "execute_result"
    }
   ],
   "source": [
    "f'  ∆_xx f(x_0, y_0) = ∆_xx f({x_0}, {y_0}) = {del_xx(x_0, y_0, h, f)}' "
   ]
  },
  {
   "cell_type": "markdown",
   "id": "550babb4",
   "metadata": {},
   "source": [
    "###   $ ∆_(yy) f(x_0, y_0) $"
   ]
  },
  {
   "cell_type": "code",
   "execution_count": 28,
   "id": "736f9b85",
   "metadata": {},
   "outputs": [
    {
     "data": {
      "text/plain": [
       "'  ∆f_yy (x_0, y_0) = ∆_yy f(2, 3) = 2'"
      ]
     },
     "execution_count": 28,
     "metadata": {},
     "output_type": "execute_result"
    }
   ],
   "source": [
    "f'  ∆f_yy (x_0, y_0) = ∆_yy f({x_0}, {y_0}) = {del_yy(x_0, y_0, k, f)}' "
   ]
  },
  {
   "cell_type": "markdown",
   "id": "c2ee268b",
   "metadata": {},
   "source": [
    "###   $ ∆_(xy)  f(x_0, y_0) $"
   ]
  },
  {
   "cell_type": "code",
   "execution_count": 47,
   "id": "1b8c939c",
   "metadata": {},
   "outputs": [
    {
     "data": {
      "text/plain": [
       "'  ∆f_xy (x_0, y_0) = ∆_xy f(2, 3) = 0'"
      ]
     },
     "execution_count": 47,
     "metadata": {},
     "output_type": "execute_result"
    }
   ],
   "source": [
    "f'  ∆f_xy (x_0, y_0) = ∆_xy f({x_0}, {y_0}) = {del_xy(x_0, y_0, h, k, f)}'"
   ]
  },
  {
   "cell_type": "code",
   "execution_count": null,
   "id": "7485f5e6",
   "metadata": {},
   "outputs": [],
   "source": []
  },
  {
   "cell_type": "code",
   "execution_count": null,
   "id": "a445625f",
   "metadata": {},
   "outputs": [],
   "source": []
  },
  {
   "cell_type": "code",
   "execution_count": null,
   "id": "bdcbeee3",
   "metadata": {},
   "outputs": [],
   "source": []
  },
  {
   "cell_type": "code",
   "execution_count": null,
   "id": "c203e516",
   "metadata": {},
   "outputs": [],
   "source": []
  },
  {
   "cell_type": "code",
   "execution_count": null,
   "id": "a765a1f5",
   "metadata": {},
   "outputs": [],
   "source": []
  },
  {
   "cell_type": "code",
   "execution_count": null,
   "id": "56b828db",
   "metadata": {},
   "outputs": [],
   "source": []
  },
  {
   "cell_type": "code",
   "execution_count": null,
   "id": "d19b70ff",
   "metadata": {},
   "outputs": [],
   "source": []
  },
  {
   "cell_type": "code",
   "execution_count": null,
   "id": "f15f09c8",
   "metadata": {},
   "outputs": [],
   "source": []
  },
  {
   "cell_type": "code",
   "execution_count": null,
   "id": "c4c1f623",
   "metadata": {},
   "outputs": [],
   "source": []
  },
  {
   "cell_type": "code",
   "execution_count": null,
   "id": "565096e1",
   "metadata": {},
   "outputs": [],
   "source": []
  },
  {
   "cell_type": "code",
   "execution_count": null,
   "id": "b9635cf2",
   "metadata": {},
   "outputs": [],
   "source": []
  },
  {
   "cell_type": "code",
   "execution_count": null,
   "id": "20162893",
   "metadata": {},
   "outputs": [],
   "source": []
  },
  {
   "cell_type": "code",
   "execution_count": null,
   "id": "697eda27",
   "metadata": {},
   "outputs": [],
   "source": []
  },
  {
   "cell_type": "code",
   "execution_count": null,
   "id": "15d26ee7",
   "metadata": {},
   "outputs": [],
   "source": [
    "def LinearInterpolationFormula(x_list, f_values):\n",
    "    intervals = getIntervals(x_list, 1)\n",
    "    f_intervals = getIntervals(f_values, 1)\n",
    "    x = symbols('x')\n",
    "    t = []\n",
    "\n",
    "    print('By Piecewise Linear Interpolating Formula we have, ')\n",
    "    for _ in range(len(intervals)):\n",
    "        add_poly = poly1d([0])\n",
    "        print(\"\\tBy Lagrange's Interpolation Formula\\n\\n   f(x) = \")\n",
    "        for i in range(len(intervals[_])):\n",
    "            for j in range(len(intervals[_])):\n",
    "                if i!=j:\n",
    "                    calc = (x-intervals[_][j]) * f_intervals[_][i] / (intervals[_][i] - intervals[_][j])\n",
    "                    print(f'\\t(x - {intervals[_][j]}) / ({intervals[_][i]} - {intervals[_][j]}) * {f_intervals[_][i]} = {calc}')\n",
    "                    add_poly += poly1d([calc]) \n",
    "        t.append(add_poly)\n",
    "        \n",
    "        print('\\t = ' , str(t[_].coeffs)[1:-1], ' for the interval ' , intervals[_])\n",
    "        print('----'*15)\n",
    "        \n",
    "def QuadraticInterpolationFormula(x_list, f_values):\n",
    "    intervals = getIntervals(x_list, 2)\n",
    "    f_intervals = getIntervals(f_values, 2)\n",
    "    n = 5\n",
    "    print('By Piecewise Quadratic Interpolating Formula we have, ')\n",
    "    res = []\n",
    "    for _ in range(len(intervals)):\n",
    "        print('\\nf(x) = ')\n",
    "        total = poly1d([0])\n",
    "        for i in range(len(intervals[_])):\n",
    "            temp_str = ''\n",
    "            mul_poly = poly1d([1])\n",
    "            for j in range(len(intervals[_])):\n",
    "                if i!=j:\n",
    "                    temp_str += f' (x - {intervals[_][j]}) / ({intervals[_][i]} - {intervals[_][j]})'\n",
    "                    denon =  (intervals[_][i] - intervals[_][j])\n",
    "                    mul_poly = mul_poly * poly1d([1, -intervals[_][j]]) / denon\n",
    "            print(f'{temp_str} * {f_intervals[_][i]}')\n",
    "            total = total + mul_poly * f_intervals[_][i]\n",
    "        \n",
    "        tt = intervals[_]\n",
    "        print(' = ', simplify(\" \".join(coef_2_str(around(total.coef[::-1], n)))), f'for the interval [{tt[0]}, {tt[-1]}]\\n' )\n",
    "        res.append(simplify(\" \".join(coef_2_str(total.coef[::-1]))))\n",
    "        print('----'*15)\n",
    "        \n",
    "    return res"
   ]
  },
  {
   "cell_type": "code",
   "execution_count": 94,
   "id": "b2abac45",
   "metadata": {},
   "outputs": [],
   "source": []
  },
  {
   "cell_type": "code",
   "execution_count": null,
   "id": "a99c8c4d",
   "metadata": {},
   "outputs": [],
   "source": []
  },
  {
   "cell_type": "code",
   "execution_count": 86,
   "id": "4bd8e906",
   "metadata": {},
   "outputs": [],
   "source": [
    "x_vals, y_vals = [0, 1, 2], [0, 1, 2]\n",
    "f = make_table_xy(x_vals, y_vals, f)"
   ]
  },
  {
   "cell_type": "code",
   "execution_count": null,
   "id": "142718db",
   "metadata": {},
   "outputs": [],
   "source": []
  },
  {
   "cell_type": "code",
   "execution_count": null,
   "id": "387eab7b",
   "metadata": {},
   "outputs": [],
   "source": []
  },
  {
   "cell_type": "code",
   "execution_count": null,
   "id": "7bae5b85",
   "metadata": {},
   "outputs": [],
   "source": []
  },
  {
   "cell_type": "code",
   "execution_count": null,
   "id": "69e1b9d7",
   "metadata": {},
   "outputs": [],
   "source": []
  },
  {
   "cell_type": "code",
   "execution_count": null,
   "id": "222f93b5",
   "metadata": {},
   "outputs": [],
   "source": []
  },
  {
   "cell_type": "code",
   "execution_count": null,
   "id": "bf34651d",
   "metadata": {},
   "outputs": [],
   "source": []
  },
  {
   "cell_type": "code",
   "execution_count": null,
   "id": "55bedb64",
   "metadata": {},
   "outputs": [],
   "source": []
  },
  {
   "cell_type": "code",
   "execution_count": null,
   "id": "3683a0a4",
   "metadata": {},
   "outputs": [],
   "source": []
  },
  {
   "cell_type": "code",
   "execution_count": null,
   "id": "05bae228",
   "metadata": {},
   "outputs": [],
   "source": []
  },
  {
   "cell_type": "code",
   "execution_count": null,
   "id": "3129ce30",
   "metadata": {},
   "outputs": [],
   "source": []
  },
  {
   "cell_type": "code",
   "execution_count": null,
   "id": "a04e4cee",
   "metadata": {},
   "outputs": [],
   "source": []
  }
 ],
 "metadata": {
  "kernelspec": {
   "display_name": "Python 3 (ipykernel)",
   "language": "python",
   "name": "python3"
  },
  "language_info": {
   "codemirror_mode": {
    "name": "ipython",
    "version": 3
   },
   "file_extension": ".py",
   "mimetype": "text/x-python",
   "name": "python",
   "nbconvert_exporter": "python",
   "pygments_lexer": "ipython3",
   "version": "3.10.2"
  }
 },
 "nbformat": 4,
 "nbformat_minor": 5
}
