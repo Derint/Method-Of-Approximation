{
 "cells": [
  {
   "cell_type": "code",
   "execution_count": 1,
   "id": "1d320df9",
   "metadata": {},
   "outputs": [],
   "source": [
    "from Helper_functions import *\n",
    "from math import *\n",
    "\n",
    "_ = '_'"
   ]
  },
  {
   "cell_type": "code",
   "execution_count": 287,
   "id": "e881849e",
   "metadata": {},
   "outputs": [],
   "source": [
    "def Trapezoidal_Rule(a, b, f, n, h, show_working=False, rn = 5):\n",
    "#     if n!='_': \n",
    "#         if n>500:rn=10000000\n",
    "    n, h = get_n_h(a, b, n, h, rn)\n",
    "    x_vals, y_vals = calc_x_y(a, b, f, n, h, rn=rn)\n",
    "\n",
    "    s1, s2 = 0, 0\n",
    "    for i in range(len(y_vals)):\n",
    "        if i == 0 or i==(len(y_vals)-1):\n",
    "            s1 += y_vals[i]\n",
    "        else:\n",
    "            s2 += y_vals[i]\n",
    "\n",
    "    total = h/2 * (s1 + 2 * s2)\n",
    "#     print(f's1 : {s1}, s2: {s2},h/2 * (s1 + 2 * s2)')\n",
    "    if show_working:\n",
    "        print(f'h: {h}, n: {n}, f(x) : {f}')\n",
    "        if n<11 and rn < 9: Draw_table(x_vals, y_vals)\n",
    "        tpe = ' ' if n==1 else ' Composite '\n",
    "        print(f'\\n By{tpe}Trapezoidal Rule.\\n\\t Integral from :: {a} to {b} ∫f(x) dx = ∫ {f} dx = {check_d_n_r(total)}')\n",
    "    return total"
   ]
  },
  {
   "cell_type": "code",
   "execution_count": 288,
   "id": "4f80a9b7",
   "metadata": {},
   "outputs": [],
   "source": [
    "def Simpson_1_3_rule(a, b, f, n, h, show_working=False, rn=5):\n",
    "#     if n>500 and n!='_': rn=10000000\n",
    "    n, h = get_n_h(a, b, n, h, rn)\n",
    "    \n",
    "    if n % 2!=0:\n",
    "        print('[-] Simpson\\'s 1/3rd rule is only Applicable for EVEN number of partions. ')\n",
    "        return None\n",
    "    \n",
    "    x_vals, y_vals = calc_x_y(a, b, f, n, _, rn=rn)\n",
    "    s1, s2, s3 = 0, 0, 0\n",
    "    for i in range(len(y_vals)):\n",
    "        if i == 0 or i==(len(y_vals)-1):\n",
    "            s1 += y_vals[i]\n",
    "        elif i%2==0:\n",
    "            s2 += y_vals[i]\n",
    "        else:\n",
    "            s3 += y_vals[i]\n",
    "    \n",
    "#     print(f's1 : {s1}, s2: {s2}, s3: {s3}, h/3 * (s1 + 4 * s3 + 2*s2)')\n",
    "    total = h/3 * (s1 + 4 * s3 + 2*s2)\n",
    "    \n",
    "    if show_working:\n",
    "        print(f'h: {h}, n: {n}, f(x) : {f}')\n",
    "        if n<11 and rn < 9: Draw_table(x_vals, y_vals)\n",
    "        tpe = ' ' if n==2 else ' Composite '\n",
    "        print(f'\\n By{tpe}Simpson\\'s 1/3rd Rule.\\n\\t Integral from :: {a} to {b} ∫f(x) dx = ∫ {f} dx = {total}')\n",
    "    return total"
   ]
  },
  {
   "cell_type": "code",
   "execution_count": 289,
   "id": "67af6284",
   "metadata": {},
   "outputs": [],
   "source": [
    "def Simpson_3_8_rule(a, b, f, n, h, show_working=False, rn=5):\n",
    "#     if n>500 and n!='_': rn=10000000\n",
    "    n, h = get_n_h(a, b, n, h, rn=rn)\n",
    "    if n % 3!=0:\n",
    "        print('[-] Simpson\\'s 3/8th rule is only Applicable for n Divisible by 3. ')\n",
    "        return None\n",
    "\n",
    "    x_vals, y_vals = calc_x_y(a, b, f, n, h, rn=rn)\n",
    "    s1, s2, s3 = 0, 0, 0\n",
    "    for i in range(len(y_vals)):\n",
    "        if i==0 or i==len(y_vals)-1:\n",
    "            s1 += y_vals[i]\n",
    "        elif i%3==0:\n",
    "            s2 += y_vals[i]\n",
    "        else:\n",
    "            s3 += y_vals[i]\n",
    "    total = 3/8 * h * (s1 + 3 * s3 + 2 * s2)\n",
    "#     print(f's1 : {s1}, s2: {s2}, s3: {s3}, 3h/8 * (s1 + 3 * s3 + 2*s2)')\n",
    "    if show_working:\n",
    "        print(f'h: {h}, n: {n}, f(x) : {f}\\n')\n",
    "        if n<11 and rn < 9:Draw_table(x_vals, y_vals)\n",
    "        tpe = ' ' if n==3 else ' Composite '\n",
    "        print(f' By{tpe}Simpson\\'s 3/8th Rule.\\n\\t Integral from :: {a} to {b} ∫f(x) dx = ∫ {f} dx = {total}')\n",
    "    return total"
   ]
  },
  {
   "cell_type": "code",
   "execution_count": 290,
   "id": "dea54779",
   "metadata": {},
   "outputs": [],
   "source": [
    "def calc_x_y(a, b, f, n, h, print_table=False, rn=5):\n",
    "#     if n>500 and n!='_': rn=10000000\n",
    "    n, h = get_n_h(a, b, n, h, rn=rn)\n",
    "    x_vals = [check_d_n_r(a + i*h, rn) for i in range(int(n)+1)]\n",
    "    y_vals = []\n",
    "    for i in range(len(x_vals)):\n",
    "        x = x_vals[i]\n",
    "        y_vals.append(check_d_n_r(eval(f), rn))\n",
    "        \n",
    "    if print_table:\n",
    "        Draw_table(x_vals, y_vals)\n",
    "    \n",
    "    return x_vals, y_vals\n",
    "\n",
    "def get_n_h(a, b, n, h, rn=10):\n",
    "    if h == '_':\n",
    "        h = check_d_n_r((b - a)/n, rn)\n",
    "    \n",
    "    elif n == '_':\n",
    "        n = check_d_n_r((b - a)/h, rn)\n",
    "        \n",
    "    return n , h"
   ]
  },
  {
   "cell_type": "code",
   "execution_count": null,
   "id": "be5624ea",
   "metadata": {},
   "outputs": [],
   "source": []
  },
  {
   "cell_type": "markdown",
   "id": "21a212d9",
   "metadata": {},
   "source": [
    "## Trapezoidal Rule"
   ]
  },
  {
   "cell_type": "code",
   "execution_count": 291,
   "id": "51338a42",
   "metadata": {},
   "outputs": [
    {
     "name": "stdout",
     "output_type": "stream",
     "text": [
      "h: 0.7853981633974483, n: 4, f(x) : x * sin(x)\n",
      "\n",
      " By Composite Trapezoidal Rule.\n",
      "\t Integral from :: 0 to 3.141592653589793 ∫f(x) dx = ∫ x * sin(x) dx = 2.97842\n"
     ]
    },
    {
     "data": {
      "text/plain": [
       "2.9784166000458896"
      ]
     },
     "execution_count": 291,
     "metadata": {},
     "output_type": "execute_result"
    }
   ],
   "source": [
    "a, b, f = 0, 5, 'x'\n",
    "a, b, f = 1, 4, '1/(2*x+1)'\n",
    "a, b, f = 0, 1, '1/(1+x)'\n",
    "a, b, f = 0, pi/2, 'sin(x)'\n",
    "a, b, f = 0, 1, 'e**x'\n",
    "a,b, f = 1, 4, '1/(2*x+1)'\n",
    "\n",
    "a, b, f, n = 0, 1, '(x**2 + x + 8)**(1/2)', 3\n",
    "a, b, f,n = 0, 1, '1/(1+x)', 6\n",
    "a, b, f, n = 0, 1, '(x**2 + x + 8)**(1/2)', 40\n",
    "a, b, f, n = 0, 1, '1/(1+x)', 1\n",
    "a,b,f, n, h = 0, 1/2, 'x*sin(x)', _, 1/8\n",
    "a,b,f,n,h = 0, 1, '(1 + sin(x))/(x+1)', 1, _\n",
    "a,b,f,n,h = 0, 1, '(4*x**2*e**(2*x**2) + 1)**0.5', 4, _\n",
    "a,b,f,n = 0, 1, '(x**2 + x + 8)**(0.5)', 4\n",
    "a,b,f,n,h = 0, pi/2, '(sin(x)**0.5)', _, 1/2\n",
    "a,b,f, n, h = 0, pi, 'x * sin(x)', 4, _\n",
    "Trapezoidal_Rule(a, b, f, n, h, True, rn=62334)"
   ]
  },
  {
   "cell_type": "code",
   "execution_count": 292,
   "id": "e3c9d5ee",
   "metadata": {},
   "outputs": [
    {
     "data": {
      "text/plain": [
       "1.0835776720341528e-13"
      ]
     },
     "execution_count": 292,
     "metadata": {},
     "output_type": "execute_result"
    }
   ],
   "source": [
    "pi - 3.1415926535896848"
   ]
  },
  {
   "cell_type": "code",
   "execution_count": null,
   "id": "4ce72e85",
   "metadata": {},
   "outputs": [],
   "source": []
  },
  {
   "cell_type": "markdown",
   "id": "420d2f53",
   "metadata": {},
   "source": [
    "## Simpsons 1/3 Rule"
   ]
  },
  {
   "cell_type": "code",
   "execution_count": 293,
   "id": "9ccfbbf2",
   "metadata": {
    "scrolled": true
   },
   "outputs": [
    {
     "name": "stdout",
     "output_type": "stream",
     "text": [
      "h: 0.7853981633974483, n: 2, f(x) : (sin(x)**0.5)\n",
      "\n",
      "-------------------------------------------------\n",
      "|     x     |     0     |   0.7854  |   1.5708  |\n",
      "-------------------------------------------------\n",
      "|     y     |     0     |   0.8409  |    1.0    |\n",
      "-------------------------------------------------\n",
      "\n",
      "\n",
      " By Simpson's 1/3rd Rule.\n",
      "\t Integral from :: 0 to 1.5707963267948966 ∫f(x) dx = ∫ (sin(x)**0.5) dx = 1.1423878086003683\n"
     ]
    },
    {
     "data": {
      "text/plain": [
       "1.1423878086003683"
      ]
     },
     "execution_count": 293,
     "metadata": {},
     "output_type": "execute_result"
    }
   ],
   "source": [
    "a, b, f, n =  0, pi/2, 'e**(sin(x))', 6\n",
    "a,b, f, n = 1, 4, '1/(2*x+1)', 3\n",
    "a,b,f,n,h = 0, 1, '1 + sin(x)', 2, _\n",
    "a,b,f,n,h = 0, 1, '(1 + sin(x))/(x+1)', 2, _\n",
    "a,b,f,n,h = 0, 1, '(4*x**2*e**(2*x**2) + 1)**0.5', 42322, _\n",
    "a,b,f,n,h = 1, 4, '1/(2*x + 1)', 4, _\n",
    "a,b,f,n,h = 0, pi/2, '(sin(x)**0.5)',_, pi/4\n",
    "Simpson_1_3_rule(a, b, f, n, h, True, rn=4)"
   ]
  },
  {
   "cell_type": "markdown",
   "id": "8ec9ac83",
   "metadata": {},
   "source": [
    "## Simpsons 3/8 th rule"
   ]
  },
  {
   "cell_type": "code",
   "execution_count": 294,
   "id": "9494ad1f",
   "metadata": {},
   "outputs": [
    {
     "name": "stdout",
     "output_type": "stream",
     "text": [
      "h: 0.5, n: 6, f(x) : 1/(2*x + 1)\n",
      "\n",
      "\n",
      "---------------------------------------------------------------------------------------------------------\n",
      "|     x      |     1      |    1.5     |     2      |    2.5     |     3      |    3.5     |     4      |\n",
      "---------------------------------------------------------------------------------------------------------\n",
      "|     y      |  0.33333   |    0.25    |    0.2     |  0.16667   |  0.14286   |   0.125    |  0.11111   |\n",
      "---------------------------------------------------------------------------------------------------------\n",
      "\n",
      " By Composite Simpson's 3/8th Rule.\n",
      "\t Integral from :: 1 to 4 ∫f(x) dx = ∫ 1/(2*x + 1) dx = 0.5496300000000001\n"
     ]
    },
    {
     "data": {
      "text/plain": [
       "0.5496300000000001"
      ]
     },
     "execution_count": 294,
     "metadata": {},
     "output_type": "execute_result"
    }
   ],
   "source": [
    "# a, b, f = -3, 3, 'x**4'\n",
    "\n",
    "# a, b, f = 0, 6, '1/(1+x**2)'\n",
    "a, b, f = 4, 5.2, 'log(x)'\n",
    "a, b, f, n = -3, 3, 'x**4', 9\n",
    "a, b, f, n = 0, 6, '1/(1+x**2)', 3\n",
    "a,b,f,n,h = 0, 1, '1 + sin(x)', 3, _\n",
    "a,b,f,n,h = 0, 1, '(1 + sin(x))/(x+1)', 3, _\n",
    "a,b,f,n,h = 0, 1, '(4*x**2*e**(2*x**2) + 1)**0.5', 9000, _\n",
    "a,b,f,n, h = 0, 1, 'x * e**x', 6, _\n",
    "a,b,f,n,h = 0, 1, '1/(1+x**2)', _, 1/6\n",
    "a,b,f,n,h = 4, 5.2, 'log(x, e)', 6, _\n",
    "a,b,f,n,h = 0, pi/2, '(sin(x)**0.5)',_, pi/4\n",
    "\n",
    "a,b,f,n,h = 1, 4, '1/(2*x + 1)', 6, _\n",
    "Simpson_3_8_rule(a, b, f, n, h, True, rn=5)"
   ]
  },
  {
   "cell_type": "code",
   "execution_count": null,
   "id": "23dd074d",
   "metadata": {},
   "outputs": [],
   "source": []
  },
  {
   "cell_type": "code",
   "execution_count": 295,
   "id": "8bcc7ee9",
   "metadata": {},
   "outputs": [
    {
     "name": "stdout",
     "output_type": "stream",
     "text": [
      "h: 0.16667, n: 6, f(x) : 1/(x+1)\n",
      "\n",
      "---------------------------------------------------------------------------------------------------------\n",
      "|     x      |     0      |  0.16667   |  0.33334   |  0.50001   |  0.66668   |  0.83335   |  1.00002   |\n",
      "---------------------------------------------------------------------------------------------------------\n",
      "|     y      |     1      |  0.85714   |    0.75    |  0.66666   |    0.6     |  0.54545   |    0.5     |\n",
      "---------------------------------------------------------------------------------------------------------\n",
      "\n",
      "\n",
      " By Composite Trapezoidal Rule.\n",
      "\t Integral from :: 0 to 1 ∫f(x) dx = ∫ 1/(x+1) dx = 0.69489\n",
      "0.6948888975\n",
      "\n",
      "--------------------------------------------------\n",
      "\n",
      "h: 0.16667, n: 6, f(x) : 1/(x+1)\n",
      "\n",
      "\n",
      "---------------------------------------------------------------------------------------------------------\n",
      "|     x      |     0      |  0.16667   |  0.33334   |  0.50001   |  0.66668   |  0.83335   |  1.00002   |\n",
      "---------------------------------------------------------------------------------------------------------\n",
      "|     y      |     1      |  0.85714   |    0.75    |  0.66666   |    0.6     |  0.54545   |    0.5     |\n",
      "---------------------------------------------------------------------------------------------------------\n",
      "\n",
      " By Composite Simpson's 3/8th Rule.\n",
      "\t Integral from :: 0 to 1 ∫f(x) dx = ∫ 1/(x+1) dx = 0.6932069888625001\n"
     ]
    },
    {
     "data": {
      "text/plain": [
       "0.6932069888625001"
      ]
     },
     "execution_count": 295,
     "metadata": {},
     "output_type": "execute_result"
    }
   ],
   "source": [
    "a,b,f,n,h = 0, 1, '1/(x+1)', 6, 0.16667\n",
    "rn = 5\n",
    "print(Trapezoidal_Rule(a, b, f, n, h, True, rn=rn))\n",
    "print('\\n' + '-----'*10 + '\\n')\n",
    "# Simpson_1_3_rule(a, b, f, n, h, True, rn=rn)\n",
    "# print('\\n' + '-----'*10 + '\\n')\n",
    "Simpson_3_8_rule(a, b, f, n, h, True, rn=rn)"
   ]
  },
  {
   "cell_type": "code",
   "execution_count": null,
   "id": "0e838cde",
   "metadata": {},
   "outputs": [],
   "source": []
  },
  {
   "cell_type": "code",
   "execution_count": null,
   "id": "55df1d48",
   "metadata": {},
   "outputs": [],
   "source": []
  },
  {
   "cell_type": "code",
   "execution_count": null,
   "id": "54463ecf",
   "metadata": {},
   "outputs": [],
   "source": []
  }
 ],
 "metadata": {
  "kernelspec": {
   "display_name": "Python 3 (ipykernel)",
   "language": "python",
   "name": "python3"
  },
  "language_info": {
   "codemirror_mode": {
    "name": "ipython",
    "version": 3
   },
   "file_extension": ".py",
   "mimetype": "text/x-python",
   "name": "python",
   "nbconvert_exporter": "python",
   "pygments_lexer": "ipython3",
   "version": "3.10.2"
  }
 },
 "nbformat": 4,
 "nbformat_minor": 5
}
