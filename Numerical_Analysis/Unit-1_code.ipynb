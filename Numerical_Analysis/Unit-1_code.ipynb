{
 "cells": [
  {
   "cell_type": "code",
   "execution_count": 1,
   "id": "177fd68e",
   "metadata": {},
   "outputs": [],
   "source": [
    "import sympy\n",
    "import numpy as np\n",
    "from math import *\n",
    "from Helper_functions import *"
   ]
  },
  {
   "cell_type": "markdown",
   "id": "c50205bc",
   "metadata": {},
   "source": [
    "# Interpolation"
   ]
  },
  {
   "cell_type": "code",
   "execution_count": 2,
   "id": "4364921d",
   "metadata": {},
   "outputs": [],
   "source": [
    "def Difference(f_values, x_vals, c=0, n=10):\n",
    "    del_values = []\n",
    "    cal_x = True\n",
    "    if len(x_vals)==0: cal_x = False\n",
    "        \n",
    "    for i in range(len(f_values)-1):\n",
    "        nr = f_values[i+1] - f_values[i]\n",
    "        dr = 1\n",
    "        if cal_x:\n",
    "            dr = x_vals[i+1+c] - x_vals[i]\n",
    "        del_values.append(round(nr/dr, n))\n",
    "    return del_values"
   ]
  },
  {
   "cell_type": "code",
   "execution_count": 3,
   "id": "62420782",
   "metadata": {},
   "outputs": [],
   "source": [
    "def DifferenceArray(f_values, x_vals=[], rn=10):    \n",
    "    Fwd_diff_table = []\n",
    "    n = len(f_values)\n",
    "    c = 0\n",
    "    while len(f_values)!=0:\n",
    "        if round(sum(f_values)/len(f_values), 5) == f_values[0]:\n",
    "            Fwd_diff_table.append(f_values)\n",
    "            Fwd_diff_table += [['-'] * n] * (n - len(Fwd_diff_table))\n",
    "            break\n",
    "            \n",
    "        Fwd_diff_table.append(f_values)\n",
    "        f_values = Difference(f_values, x_vals, c, rn)\n",
    "        c+=1\n",
    "        \n",
    "    for i in range(len(Fwd_diff_table)):\n",
    "        if i!=len(Fwd_diff_table):\n",
    "            Fwd_diff_table[i] += ['-']*(n - len(Fwd_diff_table[i]))\n",
    "    \n",
    "    return Fwd_diff_table"
   ]
  },
  {
   "cell_type": "code",
   "execution_count": 4,
   "id": "9522f67c",
   "metadata": {},
   "outputs": [],
   "source": [
    "def getLength(Fwd_diff_table):\n",
    "    c = 0\n",
    "    for i in Fwd_diff_table:\n",
    "        if (i.count('-')) != len(Fwd_diff_table[0]):\n",
    "            c+=1\n",
    "    if c == len(Fwd_diff_table):\n",
    "        return c\n",
    "    else: return c+1"
   ]
  },
  {
   "cell_type": "code",
   "execution_count": 5,
   "id": "bf157b3f",
   "metadata": {},
   "outputs": [],
   "source": [
    "def getOperator(Fwd_diff_table, op):    \n",
    "    del_string = ''\n",
    "    for i in range(getLength(Fwd_diff_table)):\n",
    "        if i>1:\n",
    "            del_string += '|' + str(f'{op}^'+str(i)+' f(x)').center(19)\n",
    "        elif i==1: del_string += '|'+ f'{op} f(x)'.center(19)\n",
    "            \n",
    "    return del_string"
   ]
  },
  {
   "cell_type": "code",
   "execution_count": 6,
   "id": "c0a4bcc0",
   "metadata": {},
   "outputs": [],
   "source": [
    "def drawOperator(op, num):\n",
    "    a = {}\n",
    "    for i in range(1, num+1):\n",
    "        if i==1:\n",
    "            a[i] = f'{op} '\n",
    "        else:\n",
    "            a[i] = f'{op}^{i} '\n",
    "    return a\n"
   ]
  },
  {
   "cell_type": "code",
   "execution_count": 7,
   "id": "9f1d8ac6",
   "metadata": {},
   "outputs": [],
   "source": [
    "def fac(n):\n",
    "    if n==0 or n==1:\n",
    "        return 1\n",
    "    else: return n*fac(n-1)"
   ]
  },
  {
   "cell_type": "code",
   "execution_count": 8,
   "id": "3be1892a",
   "metadata": {},
   "outputs": [],
   "source": [
    "def DrawForwardDiffTable(x, f_values, write=False, rn=20):\n",
    "    Fwd_diff_table = DifferenceArray(f_values)\n",
    "    del_string = getOperator(Fwd_diff_table, '∆')\n",
    "    del_op = drawOperator('∆', getLength(Fwd_diff_table))\n",
    "    \n",
    "    txt_file = ''\n",
    "    dashLen = len(f'| {\"x\".center(4)} |  {\"f(x)\".center(6)} {del_string}|')\n",
    "    \n",
    "    print('-'*dashLen)\n",
    "    print(f'| {\"x\".center(4)} |  {\"f(x)\".center(6)} {del_string}|')\n",
    "    print('-'*dashLen)\n",
    "    t = Fwd_diff_table\n",
    "    \n",
    "    txt_file += 'Forward Difference Table'.center(150) + '\\n\\n\\n'\n",
    "    txt_file += '-'*dashLen+'\\n'\n",
    "    txt_file += f'| {\"x\".center(4)} |  {\"f(x)\".center(6)} {del_string}|' + '\\n'\n",
    "    txt_file += '-'*dashLen+'\\n'\n",
    "\n",
    "    \n",
    "    tt = 0 if getLength(Fwd_diff_table)==len(Fwd_diff_table) else 1\n",
    "    for j in range(len(Fwd_diff_table)-1):\n",
    "        temp_string = f'| {str(x[j]).center(4)} |'\n",
    "        i=0\n",
    "        for k in range(len(Fwd_diff_table[j])):\n",
    "            if k==0:\n",
    "                temp_string += f'{t[i][j]}'.center(9) + '|'\n",
    "            else:\n",
    "                elt1, elt2 = t[i][j+1] , t[i][j]\n",
    "                if k==1:\n",
    "                    if elt1!='-' and elt2!='-':\n",
    "                        mod = ''\n",
    "                        if k+1 != len(Fwd_diff_table[j])-tt: mod = ' |'\n",
    "                        temp_string += f' {del_op[k]}f({x[j]}) = {round(elt1-elt2, rn)}'.ljust(18) + mod\n",
    "                    else:\n",
    "                        temp_string += f'\\t {str(t[i][j]).ljust(5)}\\t|'.center(18)\n",
    "                else:\n",
    "                    if elt1!='-' and elt2!='-':\n",
    "                        mod = ''\n",
    "                        if k+1 != len(Fwd_diff_table[j])-tt: mod = ' |'\n",
    "                        temp_string += f' {del_op[k]}f({x[j]}) = {round(elt1-elt2,rn)}'.ljust(18) + mod\n",
    "                            \n",
    "                i+=1\n",
    "\n",
    "        print(temp_string)\n",
    "        print('-'*dashLen)\n",
    "\n",
    "        txt_file += temp_string+'\\n'\n",
    "        txt_file += '-'*dashLen+'\\n'\n",
    "\n",
    "    temp_string = f'|{str(x[-1]).center(6)}|{str(t[0][-1]).center(9)}' + '|'\n",
    "\n",
    "    print(temp_string)\n",
    "    print('-'*dashLen)\n",
    "\n",
    "    txt_file += temp_string + ' |'.rjust(dashLen - 18) + '\\n'\n",
    "    txt_file += '-'*dashLen+'\\n'\n",
    "\n",
    "    if write or len(Fwd_diff_table)>5:\n",
    "        with open(\"Forward Difference Table.txt\", 'w', encoding=\"utf-8\") as f:\n",
    "            f.write(txt_file)"
   ]
  },
  {
   "cell_type": "code",
   "execution_count": 9,
   "id": "76598380",
   "metadata": {},
   "outputs": [],
   "source": [
    "def DrawBackDiffTable(x, f_values, write=False, rn=10):\n",
    "    Fwd_diff_table = DifferenceArray(f_values)\n",
    "    del_string = getOperator(Fwd_diff_table, '∇')\n",
    "    del_op_inv = drawOperator('∇', getLength(Fwd_diff_table))\n",
    "    \n",
    "    txt_file = ''\n",
    "    dashLen = len(f'| {\"x\".center(4)} |{\"f(x)\".center(6)} {del_string}|') + 2\n",
    "    \n",
    "    print('-'*dashLen)\n",
    "    print(f'| {\"x\".center(4)} |  {\"f(x)\".center(6)} {del_string}|')\n",
    "    print('-'*dashLen)\n",
    "    t = Fwd_diff_table\n",
    "\n",
    "    txt_file += 'Backward Difference Table'.center(150) + '\\n\\n'\n",
    "    txt_file += '-'*dashLen +'\\n'\n",
    "    txt_file += f'| {\"x\".center(4)} |  {\"f(x)\".center(6)} {del_string}|' + '\\n'\n",
    "    txt_file += '-'*dashLen +'\\n'\n",
    "\n",
    "    c = 0\n",
    "\n",
    "    for j in range(len(Fwd_diff_table)):\n",
    "        temp_string = f'| {str(x[j]).center(4)} |'\n",
    "        i, l = 0, 0\n",
    "        tt = 0 if getLength(Fwd_diff_table)==len(Fwd_diff_table) else 1\n",
    "        try:\n",
    "            for k in range(len(Fwd_diff_table[j])):\n",
    "                if k==0:\n",
    "                    temp_string += f'{t[i][j]}'.center(9) + '|'\n",
    "                else:\n",
    "                    elt1, elt2 = t[i][j+1] , t[i][j]\n",
    "\n",
    "                    if elt1!='-' and elt2!='-':\n",
    "                        mod = ''\n",
    "                        if k+1 != len(Fwd_diff_table[j])-tt: mod = ' |'\n",
    "                        temp_string += f' {del_op_inv[k]}f({x[c:][l+1]}) = {round(elt1-elt2,rn)}'.ljust(18) + mod\n",
    "            \n",
    "                    i+=1\n",
    "                    l+=1\n",
    "\n",
    "            c+=1        \n",
    "            print(temp_string)\n",
    "            print('-'*dashLen)\n",
    "\n",
    "            txt_file += temp_string\n",
    "            txt_file += '-'*dashLen +'\\n'\n",
    "\n",
    "            x_temp = x_temp[c:]\n",
    "\n",
    "        except:pass\n",
    "    \n",
    "    temp_string = f'| {str(x[-1]).center(4)} |{str(t[0][-1]).center(9)}' + '|'\n",
    "\n",
    "    print(temp_string)\n",
    "    print('-'*dashLen)\n",
    "\n",
    "    txt_file += temp_string +  ' |'.rjust(dashLen - 18) +'\\n'\n",
    "    txt_file += '-'*dashLen+'\\n'\n",
    "\n",
    "    if write or len(Fwd_diff_table)>6:\n",
    "        with open(\"Backward Difference Table.txt\", 'w', encoding=\"utf-8\") as f:\n",
    "            f.write(txt_file)"
   ]
  },
  {
   "cell_type": "code",
   "execution_count": 10,
   "id": "9afa2099",
   "metadata": {},
   "outputs": [],
   "source": [
    "def DrawDividedDiffTable(x, f_values, write=False):\n",
    "    t = DifferenceArray(f_values, x)\n",
    "\n",
    "    del_string = getOperator(t, 'φ')\n",
    "    del_op = drawOperator('φ', getLength(t))\n",
    "    \n",
    "    txt_file = ''\n",
    "    dashLen = len(f'| {\"x\".center(4)} |  {\"f(x)\".center(6)} {del_string}|')\n",
    "    \n",
    "    print('-'*dashLen)\n",
    "    print(f'| {\"x\".center(4)} |  {\"f(x)\".center(6)} {del_string}|')\n",
    "    print('-'*dashLen)\n",
    "    \n",
    "    txt_file += 'Forward Difference Table'.center(150) + '\\n\\n\\n'\n",
    "    txt_file += '-'*dashLen+'\\n'\n",
    "    txt_file += f'| {\"x\".center(4)} |  {\"f(x)\".center(6)} {del_string}|' + '\\n'\n",
    "    txt_file += '-'*dashLen+'\\n'\n",
    "\n",
    "    tt = 0 if getLength(t)==len(t) else 1\n",
    "    \n",
    "    for j in range(len(t)-1):\n",
    "        temp_string = f'| {str(x[j]).center(4)} |'\n",
    "        i=0\n",
    "        for k in range(len(t[j])):\n",
    "            if k==0:\n",
    "                temp_string += f'{t[i][j]}'.center(9) + '|'\n",
    "            else:\n",
    "                elt1 = t[k][j]\n",
    "                if elt1!='-':\n",
    "                    mod = ''\n",
    "                    if k+1 != len(t[j])-tt: mod = ' |'\n",
    "                    temp_string += f' {del_op[k]}y_{j} = {round(elt1,4)}'.ljust(18) + mod   \n",
    "                i+=1\n",
    "\n",
    "        print(temp_string)\n",
    "        print('-'*dashLen)\n",
    "\n",
    "        txt_file += temp_string+'\\n'\n",
    "        txt_file += '-'*dashLen+'\\n'\n",
    "\n",
    "    temp_string = f'|{str(x[-1]).center(6)}|{str(t[0][-1]).center(9)}' + '|'\n",
    "\n",
    "    print(temp_string)\n",
    "    print('-'*dashLen)\n",
    "\n",
    "    txt_file += temp_string + ' |'.rjust(dashLen - 18) + '\\n'\n",
    "    txt_file += '-'*dashLen+'\\n'\n",
    "\n",
    "    if write or len(t)>5:\n",
    "        with open(\"Forward Difference Table.txt\", 'w', encoding=\"utf-8\") as f:\n",
    "            f.write(txt_file)"
   ]
  },
  {
   "cell_type": "code",
   "execution_count": 11,
   "id": "3aea0318",
   "metadata": {},
   "outputs": [],
   "source": [
    "def lgrange_fmlua_UI(x_list, f_values):\n",
    "    eqns = []\n",
    "    d = []\n",
    "    n = []\n",
    "\n",
    "    print(\"\\t Using Lagrange's Formula for Unequal Interval \\t\\n\\nf(x) = \")\n",
    "    for i in range(len(x_list)):\n",
    "        tempEq = []\n",
    "        denon = 1\n",
    "        denon_str = ''\n",
    "        num_str = ''\n",
    "\n",
    "        for j in range(len(x_list)):\n",
    "            if i!=j:\n",
    "                mul = ''\n",
    "                if j+1 != len(x_list):mul = ' * '\n",
    "                num_str += f'(x- {x_list[j]}){mul}'\n",
    "                denon *= (x_list[i] - x_list[j])\n",
    "                denon_str += f'({x_list[i]} - {x_list[j]})'\n",
    "                tempEq.append([1, -x_list[j]])\n",
    "        print(f'    {num_str}/({denon_str}) * {f_values[i]}') # f({x_list[i]}) = , denominator: ({denon_str}) \n",
    "        d.append(denon)\n",
    "        n.append(f_values[i])\n",
    "        eqns.append(tempEq)\n",
    "\n",
    "    eqns2 = []\n",
    "    for i in range(len(eqns)):\n",
    "        p = np.poly1d([1])\n",
    "        for j in range(len(eqns[i])):\n",
    "            p *= np.poly1d(eqns[i][j])\n",
    "        eqns2.append(p)\n",
    "\n",
    "    print('\\n=  ',end=' ')\n",
    "    p = np.poly1d([0])\n",
    "    for i in range(len(eqns2)):\n",
    "        meq = eqns2[i].coeffs\n",
    "        nr_eqn = \" \".join(coef_2_str(meq[::-1]))\n",
    "        if i:print('     ',end='')\n",
    "            \n",
    "        print(f'({str_to_expr(nr_eqn)}) / {d[i]} * {n[i]}')\n",
    "        p += meq * n[i]/d[i]\n",
    "\n",
    "    expr = \" \".join(coef_2_str(p.coef[::-1]))\n",
    "    print('\\n=   ' + str(str_to_expr(expr)))"
   ]
  },
  {
   "cell_type": "code",
   "execution_count": 12,
   "id": "d0e3ffc4",
   "metadata": {},
   "outputs": [],
   "source": [
    "def Newton_Diff_Table(x_values, f_values, bkwd=False, rn=5):\n",
    "    Fwd_diff_table = DifferenceArray(f_values)\n",
    "    \n",
    "    exp = input('Which value you want to find: ')\n",
    "    h = round(x_values[1] - x_values[0], rn)\n",
    "    a = x_values[0]\n",
    "    \n",
    "    t = False\n",
    "    try:\n",
    "        value_to_find = float(exp)\n",
    "    except ValueError:\n",
    "        value_to_find = sympy.symbols(exp)\n",
    "        t = True\n",
    "\n",
    "    op = '-'\n",
    "    if bkwd:\n",
    "        a = x_values[-1]\n",
    "        op = '+'\n",
    "    \n",
    "    u = (value_to_find-a)/h\n",
    "    if not t: u = check_d_n_r((value_to_find-a)/h, rn)\n",
    "        \n",
    "    n = len(x_values)-1\n",
    "    j = 0\n",
    "    \n",
    "    title = \"Backward \" if bkwd else \"Forward \"\n",
    "    print(\"\\nUsing Newton's \" + title + \" Difference Formula.\")\n",
    "    print(f'\\n{\"b\" if bkwd else \"a\"}: {a}, h: {h}, u = ({value_to_find} - {a})/{h} : {u}\\n')\n",
    "\n",
    "    var = '-1-j' if bkwd else '0'\n",
    "    cal = 0\n",
    "    while n+1:\n",
    "        prod_cal = 1\n",
    "        c = 0\n",
    "\n",
    "        if j>0:\n",
    "            for i in range(j):\n",
    "#                 if t: u = f'({u})'\n",
    "                print(f'({u} {op} {c}) ', end=' ')\n",
    "                prod_cal *=  sympy.simplify(f'{u}{op}{c}')\n",
    "                c+=1\n",
    "        \n",
    "        if Fwd_diff_table[j][eval(var)] == '-':\n",
    "            break\n",
    "            \n",
    "        if not j: temp = ''\n",
    "        else: temp = f'/ {j}! * '\n",
    "        \n",
    "        cal += prod_cal/fac(j) * Fwd_diff_table[j][eval(var)]\n",
    "        if not t: calc = check_d_n_r(cal)\n",
    "            \n",
    "        print(f'{temp}{Fwd_diff_table[j][eval(var)]} = {cal}')\n",
    "\n",
    "        j+=1; n-=1\n",
    "\n",
    "    \n",
    "    if not t:\n",
    "        cal = check_d_n_r(cal, rn)\n",
    "\n",
    "    print(f\"\\n\\nThe Value of f({value_to_find}) =  {cal}\")\n",
    "    \n",
    "    return sympy.expand(cal)"
   ]
  },
  {
   "cell_type": "code",
   "execution_count": 13,
   "id": "517f5a0d",
   "metadata": {},
   "outputs": [],
   "source": [
    "def Numerical_Diff(x_values, f_values, show_working=False, up = 2):\n",
    "    Fwd_diff_table = DifferenceArray(f_values)\n",
    "    exp = input('Which value you want to find: ')\n",
    "    value_to_find = check_d_n_r(float(exp))\n",
    "\n",
    "    a = x_values[0]\n",
    "    h = round(x_values[1] - x_values[0], 5)\n",
    "    n = len(x_values)\n",
    "    x = check_d_n_r(round((value_to_find - a)/h, 5))\n",
    "    j = 0\n",
    "\n",
    "    div = ''\n",
    "    add = '+'\n",
    "    out = []\n",
    "    while n:\n",
    "        temp = ''\n",
    "        tt = ''\n",
    "        add2 = ''\n",
    "        if j>0:\n",
    "            for i in range(j):\n",
    "                mul = '*'\n",
    "                if i: tt += f' {mul} (x - {i})'\n",
    "                else: tt += f'x'     \n",
    "                    \n",
    "        if j: add2 = '+'\n",
    "        if  j>=1: tt += ' * '\n",
    "        if j+1 != n and j: div = '/'\n",
    "        if not j : temp = ''\n",
    "        else: temp = f'/ {j}!'\n",
    "\n",
    "        con = f\"({sympy.expand('*'.join(tt.split(' * ')[:-1]))}) \" if tt else '1'\n",
    "        con2 = f'/ {fac(j)}' if fac(j)>1 else ''\n",
    "        \n",
    "        if Fwd_diff_table[j][0] != '-' and con:\n",
    "            res = str(sympy.simplify(con)) + f' * {Fwd_diff_table[j][0]} {con2}'\n",
    "            if res != '0':out.append(res)\n",
    "        \n",
    "        if show_working:\n",
    "            print(add2, tt, end=' ')\n",
    "            print(f\"{Fwd_diff_table[j][0]} {temp}\")\n",
    "            \n",
    "        j+=1  \n",
    "        n-=1\n",
    "        \n",
    "    if show_working: print('\\n = ' + \" + \".join(out))\n",
    "\n",
    "    return out , h, x, value_to_find"
   ]
  },
  {
   "cell_type": "code",
   "execution_count": 14,
   "id": "6658df5b",
   "metadata": {},
   "outputs": [],
   "source": [
    "def cal_derivative(eq, h, x, at_x, orderOfDerivative=1, up=5):\n",
    "    prime = \"'\"*orderOfDerivative\n",
    "    add_star = f' ** {orderOfDerivative})' if orderOfDerivative>1 else ')'\n",
    "    t = ''\n",
    "    \n",
    "    for i in range(len(eq)):\n",
    "        add = ''\n",
    "        if i+1 != len(eq): add = ' + '\n",
    "        temp_der = sympy.diff(eq[i], 'x', orderOfDerivative)\n",
    "\n",
    "        if type(temp_der) in [sympy.core.numbers.Zero, sympy.core.numbers.Float]:\n",
    "            temp_der = check_d_n_r(temp_der)\n",
    "        \n",
    "        t += str(temp_der) + add\n",
    "    \n",
    "    derivative = sympy.simplify(t)\n",
    "    f_a = derivative.subs({'x':x})\n",
    "    \n",
    "    print(f\"\\n  Here a = {at_x}, h = {h}, x = {x}\")\n",
    "    print(f\"\\n ∴ (h{add_star} * f{prime}(a+xh) = ({t})\")\n",
    "    print(f\"\\n ∴ f{prime}({at_x}) = ({check_d_n_r(f_a)}) / ({h}{add_star}, at x = {x}\")\n",
    "    print(f\"\\n ∴ f{prime}({at_x}) = {check_d_n_r(f_a/h**orderOfDerivative)}\")\n",
    "    print('--'*30)"
   ]
  },
  {
   "cell_type": "code",
   "execution_count": 15,
   "id": "5f1ea955",
   "metadata": {},
   "outputs": [],
   "source": [
    "def Divided_Diff_eq(x_vals, f_vals, show_working=False):\n",
    "    arr = DifferenceArray(f_vals, x_vals)\n",
    "    calc = ''\n",
    "    for i in range(len(arr)):\n",
    "        if i==0:\n",
    "            calc += f'{arr[i][0]} + '\n",
    "            continue\n",
    "            \n",
    "        add = ''\n",
    "        if i+1 != len(arr): add='+'\n",
    "        f_at = arr[i][0]\n",
    "        if f_at=='-': f_at = 0\n",
    "        calc += f'{getFactors(x_vals, i)} * ({f_at}) {add} '\n",
    "        \n",
    "    if show_working:\n",
    "        print(' ∴ f(x) = ', calc)\n",
    "        print(f\" ∴ f(x) =  {sympy.simplify(calc)}\")\n",
    "    \n",
    "    return sympy.simplify(calc)"
   ]
  },
  {
   "cell_type": "markdown",
   "id": "f3800503",
   "metadata": {},
   "source": [
    "    \n",
    "   "
   ]
  },
  {
   "cell_type": "markdown",
   "id": "07069bba",
   "metadata": {},
   "source": [
    "    \n",
    "   "
   ]
  },
  {
   "cell_type": "markdown",
   "id": "b03ba601",
   "metadata": {},
   "source": [
    "    \n",
    "   "
   ]
  },
  {
   "cell_type": "markdown",
   "id": "dfe28ef0",
   "metadata": {},
   "source": [
    "## Index "
   ]
  },
  {
   "cell_type": "markdown",
   "id": "4d8ef53a",
   "metadata": {},
   "source": [
    "### 1. [Forward Difference Table](#Forward-Difference-Table)\n",
    "### 2. [Backward Difference Table](#Backward-Difference-Table)\n",
    "### 3. [Newton Forward & Backward Difference Table](#Newton-Difference-Table)\n",
    "### 4. [Lagrange's Formula for Unequal Interval](#Lagrange's-Formula-for-Unequal-Interval)\n",
    "### 5. [Finding the Derivative at point](#Finding-the-Derivative-at-point)\n",
    "### 6. [Newton Divided Differences Table & eqn](#Newton-Divided-Differences-Table-&-eqn)"
   ]
  },
  {
   "cell_type": "markdown",
   "id": "7083642e",
   "metadata": {},
   "source": [
    " \n",
    " \n",
    " \n",
    " "
   ]
  },
  {
   "cell_type": "markdown",
   "id": "638e3c0a",
   "metadata": {},
   "source": [
    "  "
   ]
  },
  {
   "cell_type": "markdown",
   "id": "087507de",
   "metadata": {},
   "source": [
    "## Forward Difference Table         "
   ]
  },
  {
   "cell_type": "code",
   "execution_count": 16,
   "id": "7d5004e6",
   "metadata": {},
   "outputs": [
    {
     "name": "stdout",
     "output_type": "stream",
     "text": [
      "------------------------------------------------------------------------------\n",
      "|  x   |   f(x)  |       ∆ f(x)      |      ∆^2 f(x)     |      ∆^3 f(x)     |\n",
      "------------------------------------------------------------------------------\n",
      "|  1   |    2    | ∆ f(1) = 3        | ∆^2 f(1) = 2.0    | ∆^3 f(1) = 0.0    |\n",
      "------------------------------------------------------------------------------\n",
      "|  2   |    5    | ∆ f(2) = 5        | ∆^2 f(2) = 2.0    | ∆^3 f(2) = 0.0    |\n",
      "------------------------------------------------------------------------------\n",
      "|  3   |    10   | ∆ f(3) = 7        | ∆^2 f(3) = 2.0    | ∆^3 f(3) = 0.0    |\n",
      "------------------------------------------------------------------------------\n",
      "|  4   |    17   | ∆ f(4) = 9        | ∆^2 f(4) = 2.0    |\n",
      "------------------------------------------------------------------------------\n",
      "|  5   |    26   | ∆ f(5) = 11       |\n",
      "------------------------------------------------------------------------------\n",
      "|  6   |    37   |\n",
      "------------------------------------------------------------------------------\n"
     ]
    }
   ],
   "source": [
    "x =  [1911, 1921, 1931, 1941, 1951, 1961]\n",
    "f_values = [12, 15, 20, 27, 39, 52]\n",
    "\n",
    "x = [3, 3.2, 3.4, 3.6, 3.8, 4]\n",
    "f_values = [-14, -10.032, -5.296, 0.256, 6.672, 14]\n",
    "\n",
    "# x = [1, 2, 3]\n",
    "# f_values = [5, 7, 8]\n",
    "x = [1, 2, 3, 4, 5, 6]\n",
    "f_values = [2, 5, 10, 17, 26, 37]\n",
    "DrawForwardDiffTable(x, f_values)"
   ]
  },
  {
   "cell_type": "markdown",
   "id": "842d5223",
   "metadata": {},
   "source": [
    "  "
   ]
  },
  {
   "cell_type": "markdown",
   "id": "dece9a07",
   "metadata": {},
   "source": [
    "## Backward Difference Table"
   ]
  },
  {
   "cell_type": "code",
   "execution_count": 28,
   "id": "fd01d6c7",
   "metadata": {},
   "outputs": [
    {
     "name": "stdout",
     "output_type": "stream",
     "text": [
      "------------------------------------------------------------------------------\n",
      "|  x   |   f(x)  |       ∇ f(x)      |      ∇^2 f(x)     |      ∇^3 f(x)     |\n",
      "------------------------------------------------------------------------------\n",
      "|  1   |    2    | ∇ f(2) = 3        | ∇^2 f(3) = 2.0    | ∇^3 f(4) = 0.0    |\n",
      "------------------------------------------------------------------------------\n",
      "|  2   |    5    | ∇ f(3) = 5        | ∇^2 f(4) = 2.0    | ∇^3 f(5) = 0.0    |\n",
      "------------------------------------------------------------------------------\n",
      "|  3   |    10   | ∇ f(4) = 7        | ∇^2 f(5) = 2.0    | ∇^3 f(6) = 0.0    |\n",
      "------------------------------------------------------------------------------\n",
      "|  4   |    17   | ∇ f(5) = 9        | ∇^2 f(6) = 2.0    |\n",
      "------------------------------------------------------------------------------\n",
      "|  5   |    26   | ∇ f(6) = 11       |\n",
      "------------------------------------------------------------------------------\n",
      "|  6   |    37   |\n",
      "------------------------------------------------------------------------------\n"
     ]
    }
   ],
   "source": [
    "x_values =  [10, 20, 30, 40]\n",
    "f_values =  [9, 39, 74, 114]\n",
    "\n",
    "x_values = [3, 3.2, 3.4, 3.6, 3.8, 4]\n",
    "f_values = [-14, -10.032, -5.296, 0.256, 6.672, 14]\n",
    "\n",
    "x_values = [1, 2, 3, 4, 5, 6]\n",
    "f_values = [2, 5, 10, 17, 26, 37]\n",
    "DrawBackDiffTable(x_values, f_values)"
   ]
  },
  {
   "cell_type": "markdown",
   "id": "33b5e12f",
   "metadata": {},
   "source": [
    " \n"
   ]
  },
  {
   "cell_type": "markdown",
   "id": "9883034b",
   "metadata": {},
   "source": [
    "## Newton Difference Table"
   ]
  },
  {
   "cell_type": "code",
   "execution_count": 25,
   "id": "fdf5009f",
   "metadata": {},
   "outputs": [
    {
     "name": "stdout",
     "output_type": "stream",
     "text": [
      "\n",
      "-----------------------------------------\n",
      "|   x   |   0   |   1   |   2   |   3   |\n",
      "-----------------------------------------\n",
      "|   y   |   1   |   3   |   7   |   13  |\n",
      "-----------------------------------------\n",
      "\n",
      "\n",
      "------------------------------------------------------------------------------\n",
      "|  x   |   f(x)  |       ∇ f(x)      |      ∇^2 f(x)     |      ∇^3 f(x)     |\n",
      "------------------------------------------------------------------------------\n",
      "|  0   |    1    | ∇ f(1) = 2        | ∇^2 f(2) = 2.0    | ∇^3 f(3) = 0.0   \n",
      "------------------------------------------------------------------------------\n",
      "|  1   |    3    | ∇ f(2) = 4        | ∇^2 f(3) = 2.0    |\n",
      "------------------------------------------------------------------------------\n",
      "|  2   |    7    | ∇ f(3) = 6        |\n",
      "------------------------------------------------------------------------------\n",
      "|  3   |    13   |\n",
      "------------------------------------------------------------------------------\n",
      "\n",
      "\n",
      "Which value you want to find: x\n",
      "\n",
      "Using Newton's Backward  Difference Formula.\n",
      "\n",
      "b: 3, h: 1, u = (x - 3)/1 : x - 3\n",
      "\n",
      "13 = 13.0\n",
      "(x - 3 + 0)  / 1! * 6.0 = 6.0*x - 5.0\n",
      "(x - 3 + 0)  (x - 3 + 1)  / 2! * 2.0 = 6.0*x + 1.0*(x - 3)*(x - 2) - 5.0\n",
      "(x - 3 + 0)  (x - 3 + 1)  (x - 3 + 2)  \n",
      "\n",
      "The Value of f(x) =  6.0*x + 1.0*(x - 3)*(x - 2) - 5.0\n"
     ]
    }
   ],
   "source": [
    "x_values =  [10, 20, 30, 40]\n",
    "f_values =  [9, 39, 74, 114]\n",
    "\n",
    "x_values = [3, 3.2, 3.4, 3.6, 3.8, 4]\n",
    "f_values = [-14, -10.032, -5.296, 0.256, 6.672, 14]\n",
    "\n",
    "x_values =  [0,1,2,3]\n",
    "f_values =  [-3,6,8,12]\n",
    "\n",
    "x_values = [0.4, 0.5]\n",
    "f_values = [2, 2.28]\n",
    "\n",
    "x_values = [1,2, 3, 5, 6, 7]\n",
    "f_values = [2, 4, 8, 32, 64, 128]\n",
    "\n",
    "# x_values = [0.1, 0.3, 0.5, 0.7, 0.9, 1.1]\n",
    "# f_values = [-1.699, -1.703, 0.375, 0.443, 1.429, 2.631]\n",
    "\n",
    "# x_values = [0, 0.1, 0.2, 0.3, 0.4, 0.5]\n",
    "# f_values = [-1.5, -1.27, -0.98, -0.63, -0.22, 0.25]\n",
    "\n",
    "# x_values, f_values, bkwd = [-5, -4, -2, 0, 1, 3, 4], [275, -94, -334, -350, -349, -269, -91], False\n",
    "# x_values, f_values = [80, 85, 90, 95, 100], [5026, 5674, 6362, 7088, 7854]\n",
    "x_values, f_values = [1, 2, 3, 4, 5, 6, 7, 8], [1, 8, 27, 64, 125, 216, 343, 512]\n",
    "x_values, f_values = [0, 1, 2, 3,4 ,5], [4, 8, 15, 7, 6, 2]\n",
    "# x_values, f_values = [80, 85, 90, 95, 100], [5026, 5674, 6362, 7088, 7854]\n",
    "\n",
    "x_values, f_values = [45, 50, 55, 60], [0.7071, 0.766, 0.8192, 0.866]\n",
    "\n",
    "x_values, f_values = [0,1,2,3], [1, 3, 7, 13]\n",
    "Draw_table(x_values, f_values)\n",
    "print()\n",
    "bkwd = True\n",
    "if len(f_values)<7:\n",
    "    if bkwd: DrawBackDiffTable(x_values, f_values)\n",
    "    else: DrawForwardDiffTable(x_values, f_values)\n",
    "    print('\\n')\n",
    "\n",
    "exp = Newton_Diff_Table(x_values, f_values, bkwd)"
   ]
  },
  {
   "cell_type": "code",
   "execution_count": 22,
   "id": "4aaba7f0",
   "metadata": {},
   "outputs": [
    {
     "name": "stdout",
     "output_type": "stream",
     "text": [
      "6362.00000000000\n"
     ]
    }
   ],
   "source": [
    "print(exp.subs({'x':90}))"
   ]
  },
  {
   "cell_type": "markdown",
   "id": "0ce04fe4",
   "metadata": {},
   "source": [
    "## Lagrange's Formula for Unequal Interval"
   ]
  },
  {
   "cell_type": "code",
   "execution_count": 17,
   "id": "eee68420",
   "metadata": {},
   "outputs": [
    {
     "name": "stdout",
     "output_type": "stream",
     "text": [
      "\t Using Lagrange's Formula for Unequal Interval \t\n",
      "\n",
      "f(x) = \n",
      "    (x- 1) * (x- 4) * (x- 7)/((-1 - 1)(-1 - 4)(-1 - 7)) * -2\n",
      "    (x- -1) * (x- 4) * (x- 7)/((1 - -1)(1 - 4)(1 - 7)) * 0\n",
      "    (x- -1) * (x- 1) * (x- 7)/((4 - -1)(4 - 1)(4 - 7)) * 63\n",
      "    (x- -1) * (x- 1) * (x- 4) * /((7 - -1)(7 - 1)(7 - 4)) * 342\n",
      "\n",
      "=   (x**3 - 12*x**2 + 39*x - 28) / -80 * -2\n",
      "     (x**3 - 10*x**2 + 17*x + 28) / 36 * 0\n",
      "     (x**3 - 7*x**2 - x + 7) / -45 * 63\n",
      "     (x**3 - 4*x**2 - x + 4) / 144 * 342\n",
      "\n",
      "=   x**3 - 1\n"
     ]
    }
   ],
   "source": [
    "# x_list = [0, 2, 3, 6]\n",
    "# f_values = [659, 705, 729, 804]\n",
    "\n",
    "x_list = [2, 2.5, 3]\n",
    "f_values = [0.69315, 0.91629, 1.09861]\n",
    "\n",
    "x_list = [1,2, 3, 5, 6, 7]\n",
    "f_values = [2, 4, 8, 32, 64, 128]\n",
    "\n",
    "x_list = [0, 3, 4]\n",
    "f_values = [1, 27, 64]\n",
    "\n",
    "x_list, f_values = [5, 6, 9, 11], [12, 13, 14, 16]\n",
    "# x_list, f_values = [i*0.1 for i in range(5)], [1, 0.9975, 0.99, 0.9776, 0.9604]\n",
    "# x_list, f_values = [-2, -1, 3], [46, 4, 150]\n",
    "x_list, f_values = [1.2, 1.4, 1.6], [0.5506, 0.6048, 0.6658]\n",
    "x_list, f_values = [0.4, 0.6, 0.8], [0.0256, 0.1296, 0.4096]\n",
    "\n",
    "x_list, f_values = [0.4, 0.6, 0.8], [0.0256, 0.1296, 0.4096]\n",
    "x_list, f_values = [1, 1.1, 1.2, 1.3, 1.4, 1.5, 1.6], [7.989, 8.403, 8.781, 9.129, 9.451, 9.75, 10.031]\n",
    "x_list=[0.61, 0.62, 0.63, 0.64, 0.65, 0.66, 0.67]\n",
    "f_values = [1.840431, 1.858928, 1.877610, 1.896481, 1.915541, 1.934792, 1.954237]\n",
    "x_list, f_values = [0, 1, 2, 3,4 ,5], [4, 8, 15, 7, 6, 2]\n",
    "\n",
    "x_list, f_values = [-2, -1, 3], [46, 4, 150]\n",
    "x_list, f_values = [0, 3, 4], [1, 27, 64]\n",
    "\n",
    "x_list, f_values = [-1, 1, 4, 7], [-2, 0, 63, 342]\n",
    "lgrange_fmlua_UI(x_list, f_values)"
   ]
  },
  {
   "cell_type": "code",
   "execution_count": 44,
   "id": "8552ffbc",
   "metadata": {},
   "outputs": [
    {
     "data": {
      "text/plain": [
       "63.99996"
      ]
     },
     "execution_count": 44,
     "metadata": {},
     "output_type": "execute_result"
    }
   ],
   "source": [
    "x = 4\n",
    "7.08333*x**2 - 12.58333*x + 1"
   ]
  },
  {
   "cell_type": "code",
   "execution_count": 44,
   "id": "6267f1ce",
   "metadata": {},
   "outputs": [
    {
     "data": {
      "text/latex": [
       "$\\displaystyle - 0.6 x^{5} + 7.66666666666667 x^{4} - 34.0 x^{3} + 58.8333333333336 x^{2} - 27.9000000000007 x + 4.0000000000006$"
      ],
      "text/plain": [
       "-0.6*x**5 + 7.66666666666667*x**4 - 34.0*x**3 + 58.8333333333336*x**2 - 27.9000000000007*x + 4.0000000000006"
      ]
     },
     "execution_count": 44,
     "metadata": {},
     "output_type": "execute_result"
    }
   ],
   "source": [
    "sympy.simplify('-4.0*x - 0.6*(x - 5)*(x - 4)*(x - 3)*(x - 2)*(x - 1) - 1.33333333333333*(x - 5)*(x - 4)*(x - 3)*(x - 2) - 1.66666666666667*(x - 5)*(x - 4)*(x - 3) - 1.5*(x - 5)*(x - 4) + 22.0')"
   ]
  },
  {
   "cell_type": "code",
   "execution_count": 46,
   "id": "2c3d4248",
   "metadata": {},
   "outputs": [
    {
     "data": {
      "text/plain": [
       "5.333333333333333"
      ]
     },
     "execution_count": 46,
     "metadata": {},
     "output_type": "execute_result"
    }
   ],
   "source": [
    "16/3"
   ]
  },
  {
   "cell_type": "markdown",
   "id": "a2dc8ffa",
   "metadata": {},
   "source": [
    "## Finding the Derivative at point"
   ]
  },
  {
   "cell_type": "code",
   "execution_count": 20,
   "id": "4a060633",
   "metadata": {},
   "outputs": [
    {
     "name": "stdout",
     "output_type": "stream",
     "text": [
      "Which value you want to find: 2\n",
      "-------------------------------------------------------------------------------------------\n",
      " ∴ f(a+xh) = 1 * 0  + x * 0.128  + x*(x - 1) * 0.288 / 2 + x*(x**2 - 3*x + 2) * 0.048 / 6\n",
      "-------------------------------------------------------------------------------------------\n",
      "\n",
      "  Here a = 2, h = 0.2, x = 5\n",
      "\n",
      " ∴ (h) * f'(a+xh) = (0 + 0.128 + 0.288*x - 0.144 + 0.008*x**2 + 0.008*x*(2*x - 3) - 0.024*x + 0.016)\n",
      "\n",
      " ∴ f'(2) = (1.8) / (0.2), at x = 5\n",
      "\n",
      " ∴ f'(2) = 9.0\n",
      "------------------------------------------------------------\n",
      "\n",
      "  Here a = 2, h = 0.2, x = 5\n",
      "\n",
      " ∴ (h ** 2) * f''(a+xh) = (0 + 0 + 0.288 + 0.048*(x - 1))\n",
      "\n",
      " ∴ f''(2) = (0.48) / (0.2 ** 2), at x = 5\n",
      "\n",
      " ∴ f''(2) = 12.0\n",
      "------------------------------------------------------------\n"
     ]
    }
   ],
   "source": [
    "# x_values = [3, 3.2, 3.4, 3.6, 3.8, 4]\n",
    "# f_values = [-14, -10.032, -5.296, 0.256, 6.672, 14]\n",
    "\n",
    "x_values = [1+i*0.2 for i in range(6)]\n",
    "f_values = [0, 0.128, 0.544, 1.296, 2.432, 4]\n",
    "\n",
    "diff_eq, h, x, at_x = Numerical_Diff(x_values, f_values)\n",
    "n = len(\" + \".join(diff_eq))\n",
    "print('-'*(n+15))\n",
    "print(f\" ∴ f(a+xh) = {' + '.join(diff_eq)}\")\n",
    "print('-'*(n+15))\n",
    "\n",
    "cal_derivative(diff_eq, h, x, at_x,  1) # 1st order derivative\n",
    "cal_derivative(diff_eq, h, x, at_x, 2)  # 2nd order derivative\n"
   ]
  },
  {
   "cell_type": "markdown",
   "id": "1c9ea951",
   "metadata": {},
   "source": [
    " "
   ]
  },
  {
   "cell_type": "markdown",
   "id": "6b1a85a6",
   "metadata": {},
   "source": [
    " "
   ]
  },
  {
   "cell_type": "markdown",
   "id": "1e670b09",
   "metadata": {},
   "source": [
    "## Newton Divided Differences Table & eqn"
   ]
  },
  {
   "cell_type": "code",
   "execution_count": 16,
   "id": "4080e825",
   "metadata": {},
   "outputs": [
    {
     "name": "stdout",
     "output_type": "stream",
     "text": [
      "----------------------------------------------------------\n",
      "|  x   |   f(x)  |       φ f(x)      |      φ^2 f(x)     |\n",
      "----------------------------------------------------------\n",
      "| 0.2  |0.9800665778412416| φ y_0 = -0.2473   | φ^2 y_0 = -0.4773\n",
      "----------------------------------------------------------\n",
      "| 0.3  |0.955336489125606| φ y_1 = -0.3428   |\n",
      "----------------------------------------------------------\n",
      "| 0.4  |0.9210609940028851|\n",
      "----------------------------------------------------------\n",
      "\n",
      "\n",
      " ∴ f(x) =  0.9800665778412416 + (x - 0.2) * (-0.2473008872) + (x - 0.2) * (x - 0.3) * (-0.47727032)  \n",
      " ∴ f(x) =  -0.47727032*x**2 - 0.008665727200000001*x + 1.000890536081242\n"
     ]
    }
   ],
   "source": [
    "x_vals = [-1, 1, 4, 7]\n",
    "f_vals = [-2, 0, 63, 342]\n",
    "# x_vals = [0.2, 0.3]\n",
    "# f_vals = [cos(x*pi/180) for x in x_vals]\n",
    "\n",
    "x_vals = [654, 658, 659, 661]\n",
    "f_vals = [2.8156, 2.8182, 2.8189, 2.8202]\n",
    "\n",
    "x_vals = [0, 2, 3, 4, 7, 9]\n",
    "f_vals = [4, 26, 58, 112, 466, 922]\n",
    "\n",
    "x_vals = [0, 1, 4, 5]\n",
    "f_vals = [8, 11, 68, 123]\n",
    "\n",
    "x_vals = [0, 2, 4, 7, 9]\n",
    "f_vals = [5, 26, 112, 466, 922]\n",
    "\n",
    "x_vals = [1,2, 3, 5, 6, 7]\n",
    "f_vals = [2, 4, 8, 32, 64, 128]\n",
    "\n",
    "x_vals = [0.2, 0.3, 0.4]\n",
    "f_vals = [cos(i) for i in x_vals]\n",
    "DrawDividedDiffTable(x_vals, f_vals)\n",
    "print('\\n')\n",
    "eqn = Divided_Diff_eq(x_vals, f_vals, True)\n",
    "# x_vals = [5, 6, 9, 11] f_vals = [12, 13, 14, 16] #x_vals = [0, 2, 3, 6] f_vals = [648, 704, 729, 792]"
   ]
  },
  {
   "cell_type": "code",
   "execution_count": 29,
   "id": "6071a456",
   "metadata": {},
   "outputs": [
    {
     "data": {
      "text/latex": [
       "$\\displaystyle 16.1$"
      ],
      "text/plain": [
       "16.1000000000000"
      ]
     },
     "execution_count": 29,
     "metadata": {},
     "output_type": "execute_result"
    }
   ],
   "source": [
    "eqn.subs({'x':4})\n",
    "# sympy.expand((x - 0) * (x - 2) * (x - 4) * (x-7))"
   ]
  },
  {
   "cell_type": "markdown",
   "id": "75cab1d9",
   "metadata": {},
   "source": [
    "## Jacobian Matrix"
   ]
  },
  {
   "cell_type": "code",
   "execution_count": 31,
   "id": "228a4898",
   "metadata": {},
   "outputs": [
    {
     "name": "stdout",
     "output_type": "stream",
     "text": [
      "f(x, y) = x**3 +x*y**2 - y**3\n",
      " -------------------------------------------\n",
      "|  y \\ x   |    0     |    1     |    2     |\n",
      " -------------------------------------------\n",
      "|    0     |    0     |    1     |    8     |\n",
      "---------------------------------------------\n",
      "|    1     |    -1    |    1     |    9     |\n",
      "---------------------------------------------\n",
      "|    2     |    -8    |    -3    |    8     |\n",
      "---------------------------------------------\n"
     ]
    }
   ],
   "source": [
    "x_vals = [0, 1, 2]\n",
    "y_vals = [0, 1, 2]\n",
    "f1 = 'x**3 +x*y**2 - y**3'\n",
    "\n",
    "arr = make_table_xy(x_vals, y_vals, f1)\n",
    "print(f'f(x, y) = {f1}')\n",
    "create_xy_table(x_vals, y_vals, arr)\n"
   ]
  },
  {
   "cell_type": "code",
   "execution_count": 36,
   "id": "b7da1f75",
   "metadata": {},
   "outputs": [
    {
     "name": "stdout",
     "output_type": "stream",
     "text": [
      "Enter the Expression: x*y + 5*x + y*6\n",
      "\n",
      "f(x, y) = x*y + 5*x + y*6\n",
      " -------------------------------------------\n",
      "|  y \\ x   |    0     |    1     |    2     |\n",
      " -------------------------------------------\n",
      "|    0     |    0     |    5     |    10    |\n",
      "---------------------------------------------\n",
      "|    1     |    6     |    12    |    18    |\n",
      "---------------------------------------------\n",
      "|    2     |    12    |    19    |    26    |\n",
      "---------------------------------------------\n"
     ]
    }
   ],
   "source": [
    "x_vals = [0, 1, 2]\n",
    "y_vals = [0, 1, 2]\n",
    "f2 = input(\"Enter the Expression: \")\n",
    "\n",
    "arr = make_table_xy(x_vals, y_vals, f2)\n",
    "print(f'\\nf(x, y) = {f2}')\n",
    "create_xy_table(x_vals, y_vals, arr)"
   ]
  },
  {
   "cell_type": "code",
   "execution_count": null,
   "id": "7b2b5637",
   "metadata": {},
   "outputs": [],
   "source": [
    "at_x, at_y = 1, 2"
   ]
  },
  {
   "cell_type": "code",
   "execution_count": null,
   "id": "40701168",
   "metadata": {},
   "outputs": [],
   "source": [
    "getH"
   ]
  },
  {
   "cell_type": "code",
   "execution_count": null,
   "id": "d4e81df6",
   "metadata": {},
   "outputs": [],
   "source": []
  },
  {
   "cell_type": "markdown",
   "id": "aa5c683f",
   "metadata": {},
   "source": [
    "## Stirling Formula"
   ]
  },
  {
   "cell_type": "code",
   "execution_count": 22,
   "id": "dc48b5ea",
   "metadata": {},
   "outputs": [
    {
     "name": "stdout",
     "output_type": "stream",
     "text": [
      "------------------------------------------------------------------------------------------------------------------------------------------\n",
      "|  x   |   f(x)  |       ∆ f(x)      |      ∆^2 f(x)     |      ∆^3 f(x)     |      ∆^4 f(x)     |      ∆^5 f(x)     |      ∆^6 f(x)     |\n",
      "------------------------------------------------------------------------------------------------------------------------------------------\n",
      "| 0.61 | 1.840431| ∆ f(0.61) = 0.018497 | ∆^2 f(0.61) = 0.000185 | ∆^3 f(0.61) = 4e-06 | ∆^4 f(0.61) = -4e-06 | ∆^5 f(0.61) = 6e-06 | ∆^6 f(0.61) = -7e-06\n",
      "------------------------------------------------------------------------------------------------------------------------------------------\n",
      "| 0.62 | 1.858928| ∆ f(0.62) = 0.018682 | ∆^2 f(0.62) = 0.000189 | ∆^3 f(0.62) = 0.0 | ∆^4 f(0.62) = 2e-06 | ∆^5 f(0.62) = -1e-06 |\n",
      "------------------------------------------------------------------------------------------------------------------------------------------\n",
      "| 0.63 | 1.87761 | ∆ f(0.63) = 0.018871 | ∆^2 f(0.63) = 0.000189 | ∆^3 f(0.63) = 2e-06 | ∆^4 f(0.63) = 1e-06 |\n",
      "------------------------------------------------------------------------------------------------------------------------------------------\n",
      "| 0.64 | 1.896481| ∆ f(0.64) = 0.01906 | ∆^2 f(0.64) = 0.000191 | ∆^3 f(0.64) = 3e-06 |\n",
      "------------------------------------------------------------------------------------------------------------------------------------------\n",
      "| 0.65 | 1.915541| ∆ f(0.65) = 0.019251 | ∆^2 f(0.65) = 0.000194 |\n",
      "------------------------------------------------------------------------------------------------------------------------------------------\n",
      "| 0.66 | 1.934792| ∆ f(0.66) = 0.019445 |\n",
      "------------------------------------------------------------------------------------------------------------------------------------------\n",
      "| 0.67 | 1.954237|\n",
      "------------------------------------------------------------------------------------------------------------------------------------------\n"
     ]
    }
   ],
   "source": [
    "x_vals = [0.61, 0.62, 0.63, 0.64, 0.65, 0.66, 0.67]\n",
    "f_vals = [1.840431, 1.858928, 1.877610, 1.896481, 1.915541, 1.934792, 1.954237]\n",
    "DrawForwardDiffTable(x_vals, f_vals, rn=6)"
   ]
  },
  {
   "cell_type": "code",
   "execution_count": 55,
   "id": "f2096474",
   "metadata": {},
   "outputs": [
    {
     "name": "stdout",
     "output_type": "stream",
     "text": [
      "Here x0 : 0.64 is close to the value 0.644 from the X-table\n"
     ]
    },
    {
     "data": {
      "text/plain": [
       "0.4"
      ]
     },
     "execution_count": 55,
     "metadata": {},
     "output_type": "execute_result"
    }
   ],
   "source": [
    "h = getHeight(x_vals)\n",
    "x= 0.644\n",
    "MIN = [abs(x - i) for i in x_vals]\n",
    "new_x_frm = MIN.index(min(MIN))\n",
    "x0 = x_vals[new_x_frm]\n",
    "print(f\"Here x0 : {x0} is close to the value {x} from the X-table\")\n",
    "p = check_d_n_r((x - x0)/h, 5)\n",
    "p"
   ]
  },
  {
   "cell_type": "code",
   "execution_count": 39,
   "id": "0d777e20",
   "metadata": {},
   "outputs": [
    {
     "data": {
      "text/plain": [
       "[[1.840431, 1.858928, 1.87761, 1.896481, 1.915541, 1.934792, 1.954237],\n",
       " [0.018497, 0.018682, 0.018871, 0.01906, 0.019251, 0.019445, '-'],\n",
       " [0.000185, 0.000189, 0.000189, 0.000191, 0.000194, '-', '-'],\n",
       " [4e-06, 0.0, 2e-06, 3e-06, '-', '-', '-'],\n",
       " [-4e-06, 2e-06, 1e-06, '-', '-', '-', '-'],\n",
       " [6e-06, -1e-06, '-', '-', '-', '-', '-'],\n",
       " [-7e-06, '-', '-', '-', '-', '-', '-']]"
      ]
     },
     "execution_count": 39,
     "metadata": {},
     "output_type": "execute_result"
    }
   ],
   "source": [
    "DifferenceArray(f_vals, rn=7)"
   ]
  },
  {
   "cell_type": "code",
   "execution_count": 56,
   "id": "3f40901b",
   "metadata": {},
   "outputs": [
    {
     "data": {
      "text/plain": [
       "3"
      ]
     },
     "execution_count": 56,
     "metadata": {},
     "output_type": "execute_result"
    }
   ],
   "source": [
    "new_x_frm"
   ]
  },
  {
   "cell_type": "code",
   "execution_count": 60,
   "id": "ea3ae7d1",
   "metadata": {},
   "outputs": [],
   "source": [
    "pre_x_vals = x_vals[:new_x_frm]\n",
    "pre_x_diff_arr = DifferenceArray(pre_x_vals)"
   ]
  },
  {
   "cell_type": "code",
   "execution_count": 59,
   "id": "aa43e4dd",
   "metadata": {},
   "outputs": [],
   "source": [
    "new_x_vals = x_vals[new_x_frm:]\n",
    "new_x_diff_arr = DifferenceArray(new_x_vals)"
   ]
  },
  {
   "cell_type": "code",
   "execution_count": null,
   "id": "802dcb1b",
   "metadata": {},
   "outputs": [],
   "source": []
  },
  {
   "cell_type": "code",
   "execution_count": null,
   "id": "3d70daaf",
   "metadata": {},
   "outputs": [],
   "source": []
  },
  {
   "cell_type": "code",
   "execution_count": null,
   "id": "b1e8e5e3",
   "metadata": {},
   "outputs": [],
   "source": []
  },
  {
   "cell_type": "code",
   "execution_count": null,
   "id": "78dca2b1",
   "metadata": {},
   "outputs": [],
   "source": []
  },
  {
   "cell_type": "code",
   "execution_count": null,
   "id": "2a989529",
   "metadata": {},
   "outputs": [],
   "source": []
  },
  {
   "cell_type": "code",
   "execution_count": null,
   "id": "cf5b2dd7",
   "metadata": {},
   "outputs": [],
   "source": []
  },
  {
   "cell_type": "code",
   "execution_count": null,
   "id": "588c01b9",
   "metadata": {},
   "outputs": [],
   "source": []
  },
  {
   "cell_type": "code",
   "execution_count": null,
   "id": "b1cd1e8b",
   "metadata": {},
   "outputs": [],
   "source": []
  },
  {
   "cell_type": "code",
   "execution_count": null,
   "id": "840741ea",
   "metadata": {},
   "outputs": [],
   "source": []
  },
  {
   "cell_type": "code",
   "execution_count": null,
   "id": "6659cf7d",
   "metadata": {},
   "outputs": [],
   "source": []
  },
  {
   "cell_type": "code",
   "execution_count": null,
   "id": "52b4d4a8",
   "metadata": {},
   "outputs": [],
   "source": []
  },
  {
   "cell_type": "code",
   "execution_count": null,
   "id": "cabb26d0",
   "metadata": {},
   "outputs": [],
   "source": []
  },
  {
   "cell_type": "code",
   "execution_count": null,
   "id": "55f7327e",
   "metadata": {},
   "outputs": [],
   "source": []
  },
  {
   "cell_type": "code",
   "execution_count": null,
   "id": "b8d462f7",
   "metadata": {},
   "outputs": [],
   "source": []
  },
  {
   "cell_type": "code",
   "execution_count": null,
   "id": "cf83fe76",
   "metadata": {},
   "outputs": [],
   "source": []
  },
  {
   "cell_type": "code",
   "execution_count": null,
   "id": "e50473ad",
   "metadata": {},
   "outputs": [],
   "source": []
  },
  {
   "cell_type": "code",
   "execution_count": null,
   "id": "a5d88197",
   "metadata": {},
   "outputs": [],
   "source": []
  },
  {
   "cell_type": "code",
   "execution_count": null,
   "id": "432e6642",
   "metadata": {},
   "outputs": [],
   "source": []
  },
  {
   "cell_type": "code",
   "execution_count": null,
   "id": "f400b02a",
   "metadata": {},
   "outputs": [],
   "source": []
  },
  {
   "cell_type": "code",
   "execution_count": null,
   "id": "d555b44f",
   "metadata": {},
   "outputs": [],
   "source": []
  },
  {
   "cell_type": "code",
   "execution_count": null,
   "id": "7f8c23e7",
   "metadata": {},
   "outputs": [],
   "source": []
  },
  {
   "cell_type": "code",
   "execution_count": null,
   "id": "df7cfa4d",
   "metadata": {},
   "outputs": [],
   "source": []
  },
  {
   "cell_type": "code",
   "execution_count": null,
   "id": "1b715d78",
   "metadata": {},
   "outputs": [],
   "source": []
  },
  {
   "cell_type": "code",
   "execution_count": 7,
   "id": "2c0830f8",
   "metadata": {},
   "outputs": [],
   "source": [
    "import math\n",
    " \n",
    "# Function to calculate value using\n",
    "# Stirling formula\n",
    "def Stirling(x, fx, x1, n):\n",
    " \n",
    "    y1 = 0; N1 = 1; d = 1;\n",
    "    N2 = 1; d2 = 1;\n",
    "    temp1 = 1; temp2 = 1;\n",
    "    k = 1; l = 1;\n",
    "    delta = [[0 for i in range(n)]\n",
    "                for j in range(n)];\n",
    " \n",
    "    h = x[1] - x[0];\n",
    "    s = math.floor(n / 2);\n",
    "    a = x[s];\n",
    "    u = (x1 - a) / h;\n",
    "    print(\"Here a: \", a)\n",
    "    # Preparing the forward difference\n",
    "    # table\n",
    "    for i in range(n - 1):\n",
    "        delta[i][0] = fx[i + 1] - fx[i];\n",
    "    for i in range(1, n - 1):\n",
    "        for j in range(n - i - 1):\n",
    "            delta[j][i] = (delta[j + 1][i - 1] -\n",
    "                           delta[j][i - 1]);\n",
    " \n",
    "    # Calculating f(x) using the Stirling formula\n",
    "    y1 = fx[s];\n",
    " \n",
    "    for i in range(1, n):\n",
    "        if (i % 2 != 0):\n",
    "            if (k != 2):\n",
    "                temp1 *= (pow(u, k) - pow((k - 1), 2));\n",
    "            else:\n",
    "                temp1 *= (pow(u, 2) - pow((k - 1), 2));\n",
    "            k += 1;\n",
    "            d *= i;\n",
    "            s = math.floor((n - i) / 2);\n",
    "            y1 += (temp1 / (2 * d)) * (delta[s][i - 1] +\n",
    "                                       delta[s - 1][i - 1]);\n",
    "        else:\n",
    "            temp2 *= (pow(u, 2) - pow((l - 1), 2));\n",
    "            l += 1;\n",
    "            d *= i;\n",
    "            s = math.floor((n - i) / 2);\n",
    "            y1 += (temp2 / (d)) * (delta[s][i - 1]);\n",
    " \n",
    "    return y1\n",
    " "
   ]
  },
  {
   "cell_type": "code",
   "execution_count": 11,
   "id": "6ea5ba27",
   "metadata": {},
   "outputs": [
    {
     "name": "stdout",
     "output_type": "stream",
     "text": [
      "Here a:  1.3\n"
     ]
    },
    {
     "data": {
      "text/plain": [
       "10.038200000000005"
      ]
     },
     "execution_count": 11,
     "metadata": {},
     "output_type": "execute_result"
    }
   ],
   "source": [
    "# Driver Code\n",
    "n = 5;\n",
    "x = [0, 0.5, 1.0, 1.5, 2.0 ];\n",
    "fx = [ 0, 0.191, 0.341, 0.433, 0.477];\n",
    "\n",
    "x = [0.61, 0.62, 0.63, 0.64, 0.65, 0.66, 0.67]\n",
    "fx = [1.840431, 1.858928, 1.877610, 1.896481, 1.915541, 1.934792, 1.954237]\n",
    "x, fx = [1, 1.1, 1.2, 1.3, 1.4, 1.5, 1.6], [7.989, 8.403, 8.781, 9.129, 9.451, 9.75, 10.031]\n",
    "\n",
    "n = len(x)\n",
    "\n",
    "\n",
    "# Value to calculate f(x)\n",
    "x1 = 1.6;\n",
    "Stirling(x, fx, x1, n)"
   ]
  },
  {
   "cell_type": "code",
   "execution_count": 10,
   "id": "40ddee30",
   "metadata": {},
   "outputs": [
    {
     "data": {
      "text/plain": [
       "8.404"
      ]
     },
     "execution_count": 10,
     "metadata": {},
     "output_type": "execute_result"
    }
   ],
   "source": [
    "round(8.404200000000003, 3)"
   ]
  },
  {
   "cell_type": "code",
   "execution_count": null,
   "id": "331e3138",
   "metadata": {},
   "outputs": [],
   "source": [
    "Dra"
   ]
  },
  {
   "cell_type": "code",
   "execution_count": null,
   "id": "431d5f37",
   "metadata": {},
   "outputs": [],
   "source": []
  },
  {
   "cell_type": "code",
   "execution_count": null,
   "id": "9c99d88a",
   "metadata": {},
   "outputs": [],
   "source": []
  },
  {
   "cell_type": "code",
   "execution_count": null,
   "id": "85c160db",
   "metadata": {},
   "outputs": [],
   "source": []
  },
  {
   "cell_type": "code",
   "execution_count": null,
   "id": "808d95c8",
   "metadata": {},
   "outputs": [],
   "source": []
  },
  {
   "cell_type": "code",
   "execution_count": null,
   "id": "b96a3fdf",
   "metadata": {},
   "outputs": [],
   "source": []
  },
  {
   "cell_type": "code",
   "execution_count": 105,
   "id": "9ff039be",
   "metadata": {},
   "outputs": [
    {
     "data": {
      "text/plain": [
       "[[0, 6, 12], [5, 12, 19], [10, 18, 26]]"
      ]
     },
     "execution_count": 105,
     "metadata": {},
     "output_type": "execute_result"
    }
   ],
   "source": [
    "def make_table_xy(x_vals, y_vals, f):\n",
    "    res = []\n",
    "    expr = sympy.simplify(f)\n",
    "    for i in range(len(x_vals)):\n",
    "        temp_res = []\n",
    "        for j in range(len(y_vals)):\n",
    "            temp_res.append(expr.subs({'x': x_vals[i], 'y':y_vals[j]}))\n",
    "        res.append(temp_res)\n",
    "    return res\n",
    "\n",
    "x_vals = [0, 1, 2]\n",
    "y_vals = [0, 1, 2]\n",
    "\n",
    "f = 'x**3 + x*y**2 - y**3'\n",
    "f2 = 'x*y + 5*x + 6*y'\n",
    "make_table_xy(x_vals, y_vals, f)\n",
    "make_table_xy(x_vals, y_vals, f2)"
   ]
  },
  {
   "cell_type": "code",
   "execution_count": 172,
   "id": "f61154e9",
   "metadata": {},
   "outputs": [],
   "source": [
    "def Draw_table(x_vals, y_vals, only_x=False, anim=False):\n",
    "    x_t = '|' + 'x'.center(10)\n",
    "    y_t = '|' + 'y'.center(10)\n",
    "    for i in range(len(x_vals)):\n",
    "        x_t += '|' + str(x_vals[i]).center(10) \n",
    "        \n",
    "    for j in range(len(y_vals)):\n",
    "        y_t += '|' + str(y_vals[j]).center(10) \n",
    "\n",
    "    x_t += '|'\n",
    "    y_t += '|'\n",
    "\n",
    "    if only_x:\n",
    "        return x_t\n",
    "    else:\n",
    "        if len(x_vals)==len(y_vals):\n",
    "            print('-'*len(x_t))\n",
    "            print(x_t)\n",
    "            print('-'*len(x_t))\n",
    "            print(y_t)\n",
    "            print('-'*len(x_t))\n",
    "        else:\n",
    "            print(\"[-] !! This may be a Bivariate Table !!\", end='')\n",
    "            if anim:\n",
    "                sleep(2)\n",
    "                print('\\r', end='')\n",
    "                print(\"Creating a Bivariate Table now .... \", end='')\n",
    "                sleep(3)\n",
    "                print('\\r', end='')\n",
    "                create_xy_table(x_vals, y_vals, arr)\n",
    "                "
   ]
  },
  {
   "cell_type": "code",
   "execution_count": null,
   "id": "06f6eccb",
   "metadata": {},
   "outputs": [],
   "source": []
  },
  {
   "cell_type": "code",
   "execution_count": null,
   "id": "62e77bb4",
   "metadata": {},
   "outputs": [],
   "source": []
  },
  {
   "cell_type": "code",
   "execution_count": null,
   "id": "58265ad7",
   "metadata": {},
   "outputs": [],
   "source": []
  },
  {
   "cell_type": "code",
   "execution_count": 204,
   "id": "be0c4626",
   "metadata": {},
   "outputs": [],
   "source": [
    "def create_xy_table(x_vals, y_vals, arr): \n",
    "    tt = '|' + 'y \\ x'.center(10) + '|' + Draw_table(x_vals, y_vals, True)[12:] \n",
    "    print(' ' + '-'*(len(tt)-2))\n",
    "    print(tt)\n",
    "    print(' ' + '-'*(len(tt)-2))\n",
    "\n",
    "    for i in range(len(y_vals)):\n",
    "        print('|' + str(y_vals[i]).center(10) + '|',end='')\n",
    "        for j in range(len(x_vals)):\n",
    "            print(str(arr[j][i]).center(10) + '|', end='')\n",
    "        print('\\n' + '-'*len(tt))"
   ]
  },
  {
   "cell_type": "code",
   "execution_count": 208,
   "id": "ed2a6de0",
   "metadata": {},
   "outputs": [
    {
     "name": "stdout",
     "output_type": "stream",
     "text": [
      "value at (7, 3) : 12\n",
      "value at (7, 4) : -3\n",
      "value at (7, 5) : 1\n",
      "value at (8, 3) : 15\n",
      "value at (8, 4) : 0\n",
      "value at (8, 5) : 9\n",
      "value at (9, 3) : 17\n",
      "value at (9, 4) : 2\n",
      "value at (9, 5) : 3\n"
     ]
    }
   ],
   "source": [
    "x_vals = [7, 8, 9]\n",
    "y_vals = [3, 4, 5]\n",
    "arr = get_f_x_y(x_vals, y_vals)"
   ]
  },
  {
   "cell_type": "code",
   "execution_count": 209,
   "id": "c9ef3f95",
   "metadata": {},
   "outputs": [
    {
     "name": "stdout",
     "output_type": "stream",
     "text": [
      " -------------------------------------------\n",
      "|  y \\ x   |    7     |    8     |    9     |\n",
      " -------------------------------------------\n",
      "|    3     |    12    |    15    |    17    |\n",
      "---------------------------------------------\n",
      "|    4     |    -3    |    0     |    2     |\n",
      "---------------------------------------------\n",
      "|    5     |    1     |    9     |    3     |\n",
      "---------------------------------------------\n"
     ]
    }
   ],
   "source": [
    "create_xy_table(x_vals, y_vals, arr)"
   ]
  },
  {
   "cell_type": "code",
   "execution_count": null,
   "id": "a426d610",
   "metadata": {},
   "outputs": [],
   "source": []
  },
  {
   "cell_type": "code",
   "execution_count": null,
   "id": "a637701e",
   "metadata": {},
   "outputs": [],
   "source": []
  },
  {
   "cell_type": "code",
   "execution_count": null,
   "id": "62aa0c44",
   "metadata": {},
   "outputs": [],
   "source": []
  },
  {
   "cell_type": "code",
   "execution_count": null,
   "id": "2280f899",
   "metadata": {},
   "outputs": [],
   "source": []
  },
  {
   "cell_type": "code",
   "execution_count": null,
   "id": "9bb528c9",
   "metadata": {},
   "outputs": [],
   "source": []
  },
  {
   "cell_type": "code",
   "execution_count": null,
   "id": "7e6f165f",
   "metadata": {},
   "outputs": [],
   "source": []
  },
  {
   "cell_type": "code",
   "execution_count": null,
   "id": "d4ac6dfb",
   "metadata": {},
   "outputs": [],
   "source": []
  },
  {
   "cell_type": "code",
   "execution_count": null,
   "id": "d9057b97",
   "metadata": {},
   "outputs": [],
   "source": []
  },
  {
   "cell_type": "code",
   "execution_count": null,
   "id": "a1b0bc17",
   "metadata": {},
   "outputs": [],
   "source": []
  },
  {
   "cell_type": "code",
   "execution_count": 397,
   "id": "a32bb94e",
   "metadata": {},
   "outputs": [
    {
     "ename": "error",
     "evalue": "multiple repeat at position 2",
     "output_type": "error",
     "traceback": [
      "\u001b[1;31m---------------------------------------------------------------------------\u001b[0m",
      "\u001b[1;31merror\u001b[0m                                     Traceback (most recent call last)",
      "\u001b[1;32mC:\\Users\\CLEOPH~1\\AppData\\Local\\Temp/ipykernel_16192/2759971944.py\u001b[0m in \u001b[0;36m<module>\u001b[1;34m\u001b[0m\n\u001b[0;32m      1\u001b[0m \u001b[0mcoefs\u001b[0m \u001b[1;33m=\u001b[0m \u001b[0mstr\u001b[0m\u001b[1;33m(\u001b[0m\u001b[0mt1\u001b[0m\u001b[1;33m)\u001b[0m\u001b[1;33m.\u001b[0m\u001b[0mreplace\u001b[0m\u001b[1;33m(\u001b[0m\u001b[1;34m'-'\u001b[0m\u001b[1;33m,\u001b[0m \u001b[1;34m'+-'\u001b[0m\u001b[1;33m)\u001b[0m\u001b[1;33m.\u001b[0m\u001b[0msplit\u001b[0m\u001b[1;33m(\u001b[0m\u001b[1;34m'+'\u001b[0m\u001b[1;33m)\u001b[0m\u001b[1;33m\u001b[0m\u001b[1;33m\u001b[0m\u001b[0m\n\u001b[0;32m      2\u001b[0m \u001b[1;32mfor\u001b[0m \u001b[0mi\u001b[0m \u001b[1;32min\u001b[0m \u001b[0mcoefs\u001b[0m\u001b[1;33m:\u001b[0m\u001b[1;33m\u001b[0m\u001b[1;33m\u001b[0m\u001b[0m\n\u001b[1;32m----> 3\u001b[1;33m     \u001b[0mpwr\u001b[0m \u001b[1;33m=\u001b[0m \u001b[0mre\u001b[0m\u001b[1;33m.\u001b[0m\u001b[0msearch\u001b[0m\u001b[1;33m(\u001b[0m\u001b[1;34mr'x**(\\d)'\u001b[0m\u001b[1;33m,\u001b[0m \u001b[0mi\u001b[0m\u001b[1;33m)\u001b[0m\u001b[1;33m\u001b[0m\u001b[1;33m\u001b[0m\u001b[0m\n\u001b[0m\u001b[0;32m      4\u001b[0m     \u001b[0mprint\u001b[0m\u001b[1;33m(\u001b[0m\u001b[0mpwr\u001b[0m\u001b[1;33m)\u001b[0m\u001b[1;33m\u001b[0m\u001b[1;33m\u001b[0m\u001b[0m\n\u001b[0;32m      5\u001b[0m \u001b[1;33m\u001b[0m\u001b[0m\n",
      "\u001b[1;32mc:\\python-3-9-1\\lib\\re.py\u001b[0m in \u001b[0;36msearch\u001b[1;34m(pattern, string, flags)\u001b[0m\n\u001b[0;32m    199\u001b[0m     \"\"\"Scan through string looking for a match to the pattern, returning\n\u001b[0;32m    200\u001b[0m     a Match object, or None if no match was found.\"\"\"\n\u001b[1;32m--> 201\u001b[1;33m     \u001b[1;32mreturn\u001b[0m \u001b[0m_compile\u001b[0m\u001b[1;33m(\u001b[0m\u001b[0mpattern\u001b[0m\u001b[1;33m,\u001b[0m \u001b[0mflags\u001b[0m\u001b[1;33m)\u001b[0m\u001b[1;33m.\u001b[0m\u001b[0msearch\u001b[0m\u001b[1;33m(\u001b[0m\u001b[0mstring\u001b[0m\u001b[1;33m)\u001b[0m\u001b[1;33m\u001b[0m\u001b[1;33m\u001b[0m\u001b[0m\n\u001b[0m\u001b[0;32m    202\u001b[0m \u001b[1;33m\u001b[0m\u001b[0m\n\u001b[0;32m    203\u001b[0m \u001b[1;32mdef\u001b[0m \u001b[0msub\u001b[0m\u001b[1;33m(\u001b[0m\u001b[0mpattern\u001b[0m\u001b[1;33m,\u001b[0m \u001b[0mrepl\u001b[0m\u001b[1;33m,\u001b[0m \u001b[0mstring\u001b[0m\u001b[1;33m,\u001b[0m \u001b[0mcount\u001b[0m\u001b[1;33m=\u001b[0m\u001b[1;36m0\u001b[0m\u001b[1;33m,\u001b[0m \u001b[0mflags\u001b[0m\u001b[1;33m=\u001b[0m\u001b[1;36m0\u001b[0m\u001b[1;33m)\u001b[0m\u001b[1;33m:\u001b[0m\u001b[1;33m\u001b[0m\u001b[1;33m\u001b[0m\u001b[0m\n",
      "\u001b[1;32mc:\\python-3-9-1\\lib\\re.py\u001b[0m in \u001b[0;36m_compile\u001b[1;34m(pattern, flags)\u001b[0m\n\u001b[0;32m    302\u001b[0m     \u001b[1;32mif\u001b[0m \u001b[1;32mnot\u001b[0m \u001b[0msre_compile\u001b[0m\u001b[1;33m.\u001b[0m\u001b[0misstring\u001b[0m\u001b[1;33m(\u001b[0m\u001b[0mpattern\u001b[0m\u001b[1;33m)\u001b[0m\u001b[1;33m:\u001b[0m\u001b[1;33m\u001b[0m\u001b[1;33m\u001b[0m\u001b[0m\n\u001b[0;32m    303\u001b[0m         \u001b[1;32mraise\u001b[0m \u001b[0mTypeError\u001b[0m\u001b[1;33m(\u001b[0m\u001b[1;34m\"first argument must be string or compiled pattern\"\u001b[0m\u001b[1;33m)\u001b[0m\u001b[1;33m\u001b[0m\u001b[1;33m\u001b[0m\u001b[0m\n\u001b[1;32m--> 304\u001b[1;33m     \u001b[0mp\u001b[0m \u001b[1;33m=\u001b[0m \u001b[0msre_compile\u001b[0m\u001b[1;33m.\u001b[0m\u001b[0mcompile\u001b[0m\u001b[1;33m(\u001b[0m\u001b[0mpattern\u001b[0m\u001b[1;33m,\u001b[0m \u001b[0mflags\u001b[0m\u001b[1;33m)\u001b[0m\u001b[1;33m\u001b[0m\u001b[1;33m\u001b[0m\u001b[0m\n\u001b[0m\u001b[0;32m    305\u001b[0m     \u001b[1;32mif\u001b[0m \u001b[1;32mnot\u001b[0m \u001b[1;33m(\u001b[0m\u001b[0mflags\u001b[0m \u001b[1;33m&\u001b[0m \u001b[0mDEBUG\u001b[0m\u001b[1;33m)\u001b[0m\u001b[1;33m:\u001b[0m\u001b[1;33m\u001b[0m\u001b[1;33m\u001b[0m\u001b[0m\n\u001b[0;32m    306\u001b[0m         \u001b[1;32mif\u001b[0m \u001b[0mlen\u001b[0m\u001b[1;33m(\u001b[0m\u001b[0m_cache\u001b[0m\u001b[1;33m)\u001b[0m \u001b[1;33m>=\u001b[0m \u001b[0m_MAXCACHE\u001b[0m\u001b[1;33m:\u001b[0m\u001b[1;33m\u001b[0m\u001b[1;33m\u001b[0m\u001b[0m\n",
      "\u001b[1;32mc:\\python-3-9-1\\lib\\sre_compile.py\u001b[0m in \u001b[0;36mcompile\u001b[1;34m(p, flags)\u001b[0m\n\u001b[0;32m    762\u001b[0m     \u001b[1;32mif\u001b[0m \u001b[0misstring\u001b[0m\u001b[1;33m(\u001b[0m\u001b[0mp\u001b[0m\u001b[1;33m)\u001b[0m\u001b[1;33m:\u001b[0m\u001b[1;33m\u001b[0m\u001b[1;33m\u001b[0m\u001b[0m\n\u001b[0;32m    763\u001b[0m         \u001b[0mpattern\u001b[0m \u001b[1;33m=\u001b[0m \u001b[0mp\u001b[0m\u001b[1;33m\u001b[0m\u001b[1;33m\u001b[0m\u001b[0m\n\u001b[1;32m--> 764\u001b[1;33m         \u001b[0mp\u001b[0m \u001b[1;33m=\u001b[0m \u001b[0msre_parse\u001b[0m\u001b[1;33m.\u001b[0m\u001b[0mparse\u001b[0m\u001b[1;33m(\u001b[0m\u001b[0mp\u001b[0m\u001b[1;33m,\u001b[0m \u001b[0mflags\u001b[0m\u001b[1;33m)\u001b[0m\u001b[1;33m\u001b[0m\u001b[1;33m\u001b[0m\u001b[0m\n\u001b[0m\u001b[0;32m    765\u001b[0m     \u001b[1;32melse\u001b[0m\u001b[1;33m:\u001b[0m\u001b[1;33m\u001b[0m\u001b[1;33m\u001b[0m\u001b[0m\n\u001b[0;32m    766\u001b[0m         \u001b[0mpattern\u001b[0m \u001b[1;33m=\u001b[0m \u001b[1;32mNone\u001b[0m\u001b[1;33m\u001b[0m\u001b[1;33m\u001b[0m\u001b[0m\n",
      "\u001b[1;32mc:\\python-3-9-1\\lib\\sre_parse.py\u001b[0m in \u001b[0;36mparse\u001b[1;34m(str, flags, state)\u001b[0m\n\u001b[0;32m    946\u001b[0m \u001b[1;33m\u001b[0m\u001b[0m\n\u001b[0;32m    947\u001b[0m     \u001b[1;32mtry\u001b[0m\u001b[1;33m:\u001b[0m\u001b[1;33m\u001b[0m\u001b[1;33m\u001b[0m\u001b[0m\n\u001b[1;32m--> 948\u001b[1;33m         \u001b[0mp\u001b[0m \u001b[1;33m=\u001b[0m \u001b[0m_parse_sub\u001b[0m\u001b[1;33m(\u001b[0m\u001b[0msource\u001b[0m\u001b[1;33m,\u001b[0m \u001b[0mstate\u001b[0m\u001b[1;33m,\u001b[0m \u001b[0mflags\u001b[0m \u001b[1;33m&\u001b[0m \u001b[0mSRE_FLAG_VERBOSE\u001b[0m\u001b[1;33m,\u001b[0m \u001b[1;36m0\u001b[0m\u001b[1;33m)\u001b[0m\u001b[1;33m\u001b[0m\u001b[1;33m\u001b[0m\u001b[0m\n\u001b[0m\u001b[0;32m    949\u001b[0m     \u001b[1;32mexcept\u001b[0m \u001b[0mVerbose\u001b[0m\u001b[1;33m:\u001b[0m\u001b[1;33m\u001b[0m\u001b[1;33m\u001b[0m\u001b[0m\n\u001b[0;32m    950\u001b[0m         \u001b[1;31m# the VERBOSE flag was switched on inside the pattern.  to be\u001b[0m\u001b[1;33m\u001b[0m\u001b[1;33m\u001b[0m\u001b[1;33m\u001b[0m\u001b[0m\n",
      "\u001b[1;32mc:\\python-3-9-1\\lib\\sre_parse.py\u001b[0m in \u001b[0;36m_parse_sub\u001b[1;34m(source, state, verbose, nested)\u001b[0m\n\u001b[0;32m    441\u001b[0m     \u001b[0mstart\u001b[0m \u001b[1;33m=\u001b[0m \u001b[0msource\u001b[0m\u001b[1;33m.\u001b[0m\u001b[0mtell\u001b[0m\u001b[1;33m(\u001b[0m\u001b[1;33m)\u001b[0m\u001b[1;33m\u001b[0m\u001b[1;33m\u001b[0m\u001b[0m\n\u001b[0;32m    442\u001b[0m     \u001b[1;32mwhile\u001b[0m \u001b[1;32mTrue\u001b[0m\u001b[1;33m:\u001b[0m\u001b[1;33m\u001b[0m\u001b[1;33m\u001b[0m\u001b[0m\n\u001b[1;32m--> 443\u001b[1;33m         itemsappend(_parse(source, state, verbose, nested + 1,\n\u001b[0m\u001b[0;32m    444\u001b[0m                            not nested and not items))\n\u001b[0;32m    445\u001b[0m         \u001b[1;32mif\u001b[0m \u001b[1;32mnot\u001b[0m \u001b[0msourcematch\u001b[0m\u001b[1;33m(\u001b[0m\u001b[1;34m\"|\"\u001b[0m\u001b[1;33m)\u001b[0m\u001b[1;33m:\u001b[0m\u001b[1;33m\u001b[0m\u001b[1;33m\u001b[0m\u001b[0m\n",
      "\u001b[1;32mc:\\python-3-9-1\\lib\\sre_parse.py\u001b[0m in \u001b[0;36m_parse\u001b[1;34m(source, state, verbose, nested, first)\u001b[0m\n\u001b[0;32m    669\u001b[0m                                    source.tell() - here + len(this))\n\u001b[0;32m    670\u001b[0m             \u001b[1;32mif\u001b[0m \u001b[0mitem\u001b[0m\u001b[1;33m[\u001b[0m\u001b[1;36m0\u001b[0m\u001b[1;33m]\u001b[0m\u001b[1;33m[\u001b[0m\u001b[1;36m0\u001b[0m\u001b[1;33m]\u001b[0m \u001b[1;32min\u001b[0m \u001b[0m_REPEATCODES\u001b[0m\u001b[1;33m:\u001b[0m\u001b[1;33m\u001b[0m\u001b[1;33m\u001b[0m\u001b[0m\n\u001b[1;32m--> 671\u001b[1;33m                 raise source.error(\"multiple repeat\",\n\u001b[0m\u001b[0;32m    672\u001b[0m                                    source.tell() - here + len(this))\n\u001b[0;32m    673\u001b[0m             \u001b[1;32mif\u001b[0m \u001b[0mitem\u001b[0m\u001b[1;33m[\u001b[0m\u001b[1;36m0\u001b[0m\u001b[1;33m]\u001b[0m\u001b[1;33m[\u001b[0m\u001b[1;36m0\u001b[0m\u001b[1;33m]\u001b[0m \u001b[1;32mis\u001b[0m \u001b[0mSUBPATTERN\u001b[0m\u001b[1;33m:\u001b[0m\u001b[1;33m\u001b[0m\u001b[1;33m\u001b[0m\u001b[0m\n",
      "\u001b[1;31merror\u001b[0m: multiple repeat at position 2"
     ]
    }
   ],
   "source": [
    "coefs = str(t1).replace('-', '+-').split('+')\n",
    "for i in coefs:\n",
    "    pwr = re.search(r'x**(\\d)', i)\n",
    "    print(pwr)\n",
    "    \n",
    "#     pwr = i.split('**')[-1]\n",
    "#     c = i.split('*')[0]\n",
    "    \n",
    "#     if 'x' in pwr:\n",
    "#         pwr = pwr.split('*x')\n",
    "        \n",
    "#     if 'x' in c:\n",
    "#         c = 1\n",
    "# #         if '-' in c: c = '-1'\n",
    "        \n",
    "        \n",
    "#     print(\"For \", i, \" , power: \", pwr, '  coeffs: ', c)"
   ]
  },
  {
   "cell_type": "code",
   "execution_count": 396,
   "id": "2b53c775",
   "metadata": {},
   "outputs": [],
   "source": [
    "import re"
   ]
  },
  {
   "cell_type": "code",
   "execution_count": 411,
   "id": "a0458552",
   "metadata": {},
   "outputs": [
    {
     "ename": "IndexError",
     "evalue": "list index out of range",
     "output_type": "error",
     "traceback": [
      "\u001b[1;31m---------------------------------------------------------------------------\u001b[0m",
      "\u001b[1;31mIndexError\u001b[0m                                Traceback (most recent call last)",
      "\u001b[1;32mC:\\Users\\CLEOPH~1\\AppData\\Local\\Temp/ipykernel_16192/3669867248.py\u001b[0m in \u001b[0;36m<module>\u001b[1;34m\u001b[0m\n\u001b[1;32m----> 1\u001b[1;33m \u001b[0mcoefs\u001b[0m\u001b[1;33m[\u001b[0m\u001b[1;36m4\u001b[0m\u001b[1;33m]\u001b[0m\u001b[1;33m\u001b[0m\u001b[1;33m\u001b[0m\u001b[0m\n\u001b[0m",
      "\u001b[1;31mIndexError\u001b[0m: list index out of range"
     ]
    }
   ],
   "source": [
    "coefs[]"
   ]
  },
  {
   "cell_type": "code",
   "execution_count": 408,
   "id": "fee784de",
   "metadata": {},
   "outputs": [
    {
     "data": {
      "text/plain": [
       "'3'"
      ]
     },
     "execution_count": 408,
     "metadata": {},
     "output_type": "execute_result"
    }
   ],
   "source": [
    "pwr = re.search('x\\**(\\d)', 'x**3')\n",
    "pwr.group(1)"
   ]
  },
  {
   "cell_type": "code",
   "execution_count": 416,
   "id": "fb8c093c",
   "metadata": {},
   "outputs": [
    {
     "data": {
      "text/plain": [
       "'1'"
      ]
     },
     "execution_count": 416,
     "metadata": {},
     "output_type": "execute_result"
    }
   ],
   "source": [
    "cfs = re.search('(\\d|\\w)*x', '-1x**3')\n",
    "cfs.group(1)"
   ]
  },
  {
   "cell_type": "code",
   "execution_count": null,
   "id": "0f42ff7a",
   "metadata": {},
   "outputs": [],
   "source": []
  },
  {
   "cell_type": "code",
   "execution_count": null,
   "id": "72e8e1c2",
   "metadata": {},
   "outputs": [],
   "source": []
  },
  {
   "cell_type": "code",
   "execution_count": null,
   "id": "afa4297b",
   "metadata": {},
   "outputs": [],
   "source": [
    "def Newton_Diff_Table(x_values, f_values, bkwd=False):\n",
    "    Fwd_diff_table = DifferenceArray(f_values)\n",
    "\n",
    "    exp = input('Which value you want to find: ')\n",
    "    try:\n",
    "        value_to_find = float(exp)\n",
    "    except:\n",
    "        value_to_find = symbols(exp)\n",
    "\n",
    "    op = '-'\n",
    "    a = x_values[0]\n",
    "\n",
    "    if bkwd:\n",
    "        a = x_values[-1]\n",
    "        op = '+'\n",
    "\n",
    "    h = round(x_values[1] - x_values[0], 5)\n",
    "    u = check_d_n_r((value_to_find-a)/h)\n",
    "    n = len(x_values)-1\n",
    "\n",
    "    cal = 0\n",
    "    j = 0\n",
    "    title = \"Backward \" if bkwd else \"Forward \"\n",
    "    print(\"\\nUsing Newton's \" + title + \" Difference Formula.\")\n",
    "    print(f'\\n{\"b\" if bkwd else \"a\"}: {a}, h: {h}, u = ({value_to_find} - {a})/{h} : {u}\\n')\n",
    "\n",
    "    var = '-1-j' if bkwd else '0'\n",
    "    while n+1:\n",
    "        prod_cal = 1\n",
    "        c = 0\n",
    "\n",
    "        if j>0:\n",
    "            for i in range(j):\n",
    "                print(f'({u} {op} {c}) ', end=' ')\n",
    "                prod_cal *=  eval(f'{u}{op}{c}')\n",
    "                c+=1\n",
    "        \n",
    "        if Fwd_diff_table[j][eval(var)] == '-':\n",
    "            break\n",
    "            \n",
    "        if not j: temp = ''\n",
    "        else: temp = f'/ {j}! * '\n",
    "            \n",
    "        print(f'{temp}{Fwd_diff_table[j][eval(var)]} = {check_d_n_r(prod_cal/fac(j)*Fwd_diff_table[j][eval(var)])}')\n",
    "        cal += prod_cal/fac(j) * Fwd_diff_table[j][eval(var)]\n",
    "        j+=1; n-=1\n",
    "        \n",
    "    cal = check_d_n_r(cal)\n",
    "    print(f\"\\n\\nThe Value of f({value_to_find}) =  {cal}\")\n",
    "    return cal\n",
    "\n"
   ]
  },
  {
   "cell_type": "code",
   "execution_count": 121,
   "id": "8d01ea4e",
   "metadata": {},
   "outputs": [],
   "source": [
    "def Divided_Diff_eq(x_vals, f_vals, show_working=False):\n",
    "    arr = DifferenceArray(f_vals, x_vals)\n",
    "    calc = ''\n",
    "    for i in range(len(arr)):\n",
    "        if i==0:\n",
    "            calc += f'{arr[i][0]} + '\n",
    "            continue\n",
    "            \n",
    "        add = ''\n",
    "        if i+1 != len(arr): add='+'\n",
    "        f_at = arr[i][0]\n",
    "        if f_at=='-': f_at = 0\n",
    "        calc += f'{getFactors(x_vals, i)} * ({f_at}) {add} '\n",
    "        \n",
    "    if show_working:\n",
    "        print(' ∴ f(x) = ', calc)\n",
    "        print(f\" ∴ f(x) =  {sympy.simplify(calc)}\")\n",
    "    \n",
    "    return sympy.simplify(calc)"
   ]
  },
  {
   "cell_type": "code",
   "execution_count": 122,
   "id": "8b7a4c24",
   "metadata": {},
   "outputs": [
    {
     "name": "stdout",
     "output_type": "stream",
     "text": [
      " ∴ f(x) =  648 + (x - 0) * (28.0) + (x - 0) * (x - 2) * (-1.0) + (x - 0) * (x - 2) * (x - 3) * (0)  \n",
      " ∴ f(x) =  -1.0*x**2 + 30.0*x + 648.0\n"
     ]
    },
    {
     "data": {
      "text/latex": [
       "$\\displaystyle - 1.0 x^{2} + 30.0 x + 648.0$"
      ],
      "text/plain": [
       "-1.0*x**2 + 30.0*x + 648.0"
      ]
     },
     "execution_count": 122,
     "metadata": {},
     "output_type": "execute_result"
    }
   ],
   "source": [
    "x_vals = [0, 2, 3, 6]\n",
    "f_vals = [648, 704, 729, 792]\n"
   ]
  },
  {
   "cell_type": "code",
   "execution_count": 207,
   "id": "3aaf04be",
   "metadata": {},
   "outputs": [],
   "source": [
    "x_vals = [0, 2, 3, 6]\n",
    "f_vals = [648, 704, 729, 792]\n"
   ]
  },
  {
   "cell_type": "code",
   "execution_count": null,
   "id": "6c7e9816",
   "metadata": {},
   "outputs": [],
   "source": []
  },
  {
   "cell_type": "code",
   "execution_count": 206,
   "id": "34588b53",
   "metadata": {},
   "outputs": [
    {
     "name": "stdout",
     "output_type": "stream",
     "text": [
      "------------------------------------------------------------------------------\n",
      "|  x   |   f(x)  |       φ f(x)      |      φ^2 f(x)     |      φ^3 f(x)     |\n",
      "------------------------------------------------------------------------------\n",
      "|  0   |   648   | φ y_0 = 28.0      | φ^2 y_0 = -1.0    |\n",
      "------------------------------------------------------------------------------\n",
      "|  2   |   704   | φ y_1 = 25.0      | φ^2 y_1 = -1.0    |\n",
      "------------------------------------------------------------------------------\n",
      "|  3   |   729   | φ y_2 = 21.0      |\n",
      "------------------------------------------------------------------------------\n",
      "|  6   |   792   |\n",
      "------------------------------------------------------------------------------\n"
     ]
    }
   ],
   "source": [
    "def DrawDividedDiffTable(x, f_values, write=False):\n",
    "    t = DifferenceArray(f_values, x)\n",
    "\n",
    "    del_string = getOperator(t, 'φ')\n",
    "    del_op = drawOperator('φ', getLength(t))\n",
    "    \n",
    "    txt_file = ''\n",
    "    dashLen = len(f'| {\"x\".center(4)} |  {\"f(x)\".center(6)} {del_string}|')\n",
    "    \n",
    "    print('-'*dashLen)\n",
    "    print(f'| {\"x\".center(4)} |  {\"f(x)\".center(6)} {del_string}|')\n",
    "    print('-'*dashLen)\n",
    "    \n",
    "    txt_file += 'Forward Difference Table'.center(150) + '\\n\\n\\n'\n",
    "    txt_file += '-'*dashLen+'\\n'\n",
    "    txt_file += f'| {\"x\".center(4)} |  {\"f(x)\".center(6)} {del_string}|' + '\\n'\n",
    "    txt_file += '-'*dashLen+'\\n'\n",
    "\n",
    "    tt = 0 if getLength(t)==len(t) else 1\n",
    "    \n",
    "    for j in range(len(t)-1):\n",
    "        temp_string = f'| {str(x[j]).center(4)} |'\n",
    "        i=0\n",
    "        for k in range(len(t[j])):\n",
    "            if k==0:\n",
    "                temp_string += f'{t[i][j]}'.center(9) + '|'\n",
    "            else:\n",
    "                elt1 = t[k][j]\n",
    "                if elt1!='-':\n",
    "                    mod = ''\n",
    "                    if k+1 != len(t[j])-tt: mod = ' |'\n",
    "                    temp_string += f' {del_op[k]}y_{j} = {round(elt1,4)}'.ljust(18) + mod   \n",
    "                i+=1\n",
    "\n",
    "        print(temp_string)\n",
    "        print('-'*dashLen)\n",
    "\n",
    "        txt_file += temp_string+'\\n'\n",
    "        txt_file += '-'*dashLen+'\\n'\n",
    "\n",
    "    temp_string = f'|{str(x[-1]).center(6)}|{str(t[0][-1]).center(9)}' + '|'\n",
    "\n",
    "    print(temp_string)\n",
    "    print('-'*dashLen)\n",
    "\n",
    "    txt_file += temp_string + ' |'.rjust(dashLen - 18) + '\\n'\n",
    "    txt_file += '-'*dashLen+'\\n'\n",
    "\n",
    "    if write or len(t)>5:\n",
    "        with open(\"Forward Difference Table.txt\", 'w', encoding=\"utf-8\") as f:\n",
    "            f.write(txt_file)\n",
    "            \n",
    "x_vals = [0, 2, 3, 6]\n",
    "f_vals = [648, 704, 729, 792]\n",
    "# x_vals = [5, 6, 9, 11]\n",
    "# f_vals = [12, 13, 14, 16]\n",
    "DrawDividedDiffTable(x_vals, f_vals)"
   ]
  },
  {
   "cell_type": "code",
   "execution_count": 181,
   "id": "55f06362",
   "metadata": {},
   "outputs": [
    {
     "data": {
      "text/plain": [
       "[[648, 704, 729, 792],\n",
       " [28.0, 25.0, 21.0, '-'],\n",
       " [-1.0, -1.0, '-', '-'],\n",
       " ['-', '-', '-', '-']]"
      ]
     },
     "execution_count": 181,
     "metadata": {},
     "output_type": "execute_result"
    }
   ],
   "source": [
    "x_vals = [0, 2, 3, 6]\n",
    "f_vals = [648, 704, 729, 792]\n",
    "t = DifferenceArray(f_vals, x_vals)\n",
    "t"
   ]
  },
  {
   "cell_type": "code",
   "execution_count": 166,
   "id": "543d9abf",
   "metadata": {},
   "outputs": [
    {
     "name": "stdout",
     "output_type": "stream",
     "text": [
      "28.0 -1.0\n"
     ]
    },
    {
     "data": {
      "text/plain": [
       "(25.0, -1.0)"
      ]
     },
     "execution_count": 166,
     "metadata": {},
     "output_type": "execute_result"
    }
   ],
   "source": [
    "print(t[1][0], t[2][0])\n",
    "t[1][1], t[2][1]"
   ]
  },
  {
   "cell_type": "code",
   "execution_count": null,
   "id": "77495a9a",
   "metadata": {},
   "outputs": [],
   "source": []
  },
  {
   "cell_type": "code",
   "execution_count": null,
   "id": "79449ca0",
   "metadata": {},
   "outputs": [],
   "source": []
  },
  {
   "cell_type": "code",
   "execution_count": null,
   "id": "c93503e5",
   "metadata": {},
   "outputs": [],
   "source": []
  },
  {
   "cell_type": "code",
   "execution_count": null,
   "id": "9664ba00",
   "metadata": {},
   "outputs": [],
   "source": []
  },
  {
   "cell_type": "code",
   "execution_count": null,
   "id": "53244122",
   "metadata": {},
   "outputs": [],
   "source": []
  },
  {
   "cell_type": "code",
   "execution_count": null,
   "id": "8530438b",
   "metadata": {},
   "outputs": [],
   "source": []
  },
  {
   "cell_type": "code",
   "execution_count": null,
   "id": "592eeed8",
   "metadata": {},
   "outputs": [],
   "source": [
    "def Difference(f_values):\n",
    "    del_values = []\n",
    "    for i in range(len(f_values)-1):\n",
    "        del_values.append(round(f_values[i+1] - f_values[i], 4))\n",
    "    return del_values\n",
    "\n",
    "def DifferenceArray(f_values):    \n",
    "    Fwd_diff_table = []\n",
    "    n = len(f_values)\n",
    "    b = len(f_values) \n",
    "    while len(f_values)!=0:\n",
    "        if round(sum(f_values)/len(f_values), 5) == f_values[0]:\n",
    "            Fwd_diff_table.append(f_values)\n",
    "            Fwd_diff_table += [['-'] * b] * (b - len(Fwd_diff_table))\n",
    "            break\n",
    "            \n",
    "        Fwd_diff_table.append(f_values)\n",
    "        f_values = Difference(f_values)\n",
    "    \n",
    "    for i in range(len(Fwd_diff_table)):\n",
    "        if i!=len(Fwd_diff_table):\n",
    "            Fwd_diff_table[i] += ['-']*(n - len(Fwd_diff_table[i]))\n",
    "    \n",
    "    return Fwd_diff_table"
   ]
  },
  {
   "cell_type": "code",
   "execution_count": null,
   "id": "b8b7bdc7",
   "metadata": {},
   "outputs": [],
   "source": []
  },
  {
   "cell_type": "code",
   "execution_count": null,
   "id": "c8a9f611",
   "metadata": {},
   "outputs": [],
   "source": []
  },
  {
   "cell_type": "code",
   "execution_count": 227,
   "id": "d470467f",
   "metadata": {},
   "outputs": [],
   "source": [
    "def fast_scandir(dirname):\n",
    "    subfolders= [f.path for f in os.scandir(dirname) if f.is_dir()]\n",
    "    for dirname in list(subfolders):\n",
    "        subfolders.extend(fast_scandir(dirname))\n",
    "    return subfolders"
   ]
  },
  {
   "cell_type": "code",
   "execution_count": 228,
   "id": "5772eb5d",
   "metadata": {},
   "outputs": [
    {
     "data": {
      "text/plain": [
       "['C:/Users/Cleophas Rebello/Desktop/jupyter_notebook',\n",
       " 'C:/Users/Cleophas Rebello/Desktop/Maths',\n",
       " 'C:/Users/Cleophas Rebello/Desktop/jupyter_notebook\\\\.ipynb_checkpoints',\n",
       " 'C:/Users/Cleophas Rebello/Desktop/jupyter_notebook\\\\Downloaded_Files',\n",
       " 'C:/Users/Cleophas Rebello/Desktop/jupyter_notebook\\\\Downloaded_Files\\\\.Statuses',\n",
       " 'C:/Users/Cleophas Rebello/Desktop/jupyter_notebook\\\\Downloaded_Files\\\\WhatsApp Animated Gifs',\n",
       " 'C:/Users/Cleophas Rebello/Desktop/jupyter_notebook\\\\Downloaded_Files\\\\WhatsApp Audio',\n",
       " 'C:/Users/Cleophas Rebello/Desktop/jupyter_notebook\\\\Downloaded_Files\\\\WhatsApp Documents',\n",
       " 'C:/Users/Cleophas Rebello/Desktop/jupyter_notebook\\\\Downloaded_Files\\\\WhatsApp Images',\n",
       " 'C:/Users/Cleophas Rebello/Desktop/jupyter_notebook\\\\Downloaded_Files\\\\WhatsApp Stickers',\n",
       " 'C:/Users/Cleophas Rebello/Desktop/jupyter_notebook\\\\Downloaded_Files\\\\WhatsApp Video',\n",
       " 'C:/Users/Cleophas Rebello/Desktop/jupyter_notebook\\\\Downloaded_Files\\\\WhatsApp Voice Notes',\n",
       " 'C:/Users/Cleophas Rebello/Desktop/jupyter_notebook\\\\Downloaded_Files\\\\WhatsApp Animated Gifs\\\\Sent',\n",
       " 'C:/Users/Cleophas Rebello/Desktop/jupyter_notebook\\\\Downloaded_Files\\\\WhatsApp Documents\\\\Sent',\n",
       " 'C:/Users/Cleophas Rebello/Desktop/jupyter_notebook\\\\Downloaded_Files\\\\WhatsApp Images\\\\Sent',\n",
       " 'C:/Users/Cleophas Rebello/Desktop/jupyter_notebook\\\\Downloaded_Files\\\\WhatsApp Voice Notes\\\\202107',\n",
       " 'C:/Users/Cleophas Rebello/Desktop/jupyter_notebook\\\\Downloaded_Files\\\\WhatsApp Voice Notes\\\\202115',\n",
       " 'C:/Users/Cleophas Rebello/Desktop/jupyter_notebook\\\\Downloaded_Files\\\\WhatsApp Voice Notes\\\\202130',\n",
       " 'C:/Users/Cleophas Rebello/Desktop/jupyter_notebook\\\\Downloaded_Files\\\\WhatsApp Voice Notes\\\\202132',\n",
       " 'C:/Users/Cleophas Rebello/Desktop/jupyter_notebook\\\\Downloaded_Files\\\\WhatsApp Voice Notes\\\\202143',\n",
       " 'C:/Users/Cleophas Rebello/Desktop/jupyter_notebook\\\\Downloaded_Files\\\\WhatsApp Voice Notes\\\\202147',\n",
       " 'C:/Users/Cleophas Rebello/Desktop/jupyter_notebook\\\\Downloaded_Files\\\\WhatsApp Voice Notes\\\\202149',\n",
       " 'C:/Users/Cleophas Rebello/Desktop/Maths\\\\M-1',\n",
       " 'C:/Users/Cleophas Rebello/Desktop/Maths\\\\M-2',\n",
       " 'C:/Users/Cleophas Rebello/Desktop/Maths\\\\M-3',\n",
       " 'C:/Users/Cleophas Rebello/Desktop/Maths\\\\M-4',\n",
       " 'C:/Users/Cleophas Rebello/Desktop/Maths\\\\M-1\\\\Notes',\n",
       " 'C:/Users/Cleophas Rebello/Desktop/Maths\\\\M-1\\\\Practical',\n",
       " 'C:/Users/Cleophas Rebello/Desktop/Maths\\\\M-1\\\\Practical\\\\solutions',\n",
       " 'C:/Users/Cleophas Rebello/Desktop/Maths\\\\M-2\\\\Notes',\n",
       " 'C:/Users/Cleophas Rebello/Desktop/Maths\\\\M-2\\\\Practical',\n",
       " 'C:/Users/Cleophas Rebello/Desktop/Maths\\\\M-2\\\\Practical\\\\Sols',\n",
       " 'C:/Users/Cleophas Rebello/Desktop/Maths\\\\M-3\\\\Notes',\n",
       " 'C:/Users/Cleophas Rebello/Desktop/Maths\\\\M-4\\\\.ipynb_checkpoints',\n",
       " 'C:/Users/Cleophas Rebello/Desktop/Maths\\\\M-4\\\\__pycache__']"
      ]
     },
     "execution_count": 228,
     "metadata": {},
     "output_type": "execute_result"
    }
   ],
   "source": [
    "fast_scandir('C:/Users/Cleophas Rebello/Desktop/')"
   ]
  },
  {
   "cell_type": "code",
   "execution_count": 224,
   "id": "620c0b96",
   "metadata": {},
   "outputs": [
    {
     "name": "stdout",
     "output_type": "stream",
     "text": [
      ".ipynb_checkpoints\\Tom M. Apostol - Calculus, Volume II_ Multi-Variable Calculus and Linear Algebra, with Applications to Differential Equations and Probability Vol. 2(1969, John Wiley & Sons) - libgen.lc.txt\n",
      ".ipynb_checkpoints\\Untitled.ipynb\n",
      "Downloaded_Files\\Tom M. Apostol - Calculus, Volume II_ Multi-Variable Calculus and Linear Algebra, with Applications to Differential Equations and Probability Vol. 2(1969, John Wiley & Sons) - libgen.lc.txt\n",
      "Downloaded_Files\\Untitled.ipynb\n",
      ".Statuses\\.djvu\n",
      "WhatsApp Animated Gifs\\.djvu\n",
      "WhatsApp Audio\\.djvu\n",
      "WhatsApp Documents\\.djvu\n",
      "WhatsApp Images\\.djvu\n",
      "WhatsApp Stickers\\.djvu\n",
      "WhatsApp Video\\.djvu\n",
      "WhatsApp Voice Notes\\.djvu\n",
      "Sent\\1-Evaluation of double and Triple Integrals.pdf\n",
      "Sent\\12 th passing.pdf\n",
      "Sent\\15march2021.pdf\n",
      "Sent\\1616149296140_COL369.TXT\n",
      "Sent\\2-Change of variables.pdf\n",
      "Sent\\3 pax from BOM TO COK.pdf\n",
      "Sent\\3-Line Integrals of scalar and vector fields.pdf\n",
      "Sent\\4-Green's theorem.pdf\n",
      "Sent\\4.2.7.pdf\n",
      "Sent\\4.3.10.docx\n",
      "Sent\\4.3.11 (2).pdf\n",
      "Sent\\4.3.9.docx\n",
      "Sent\\5-Surface Integrals.pdf\n",
      "Sent\\5_6237825559418635176.pdf\n",
      "Sent\\6-Stokes-Gauss Theorem (1).pdf\n",
      "Sent\\7-Miscellaneous-prac.pdf\n",
      "Sent\\87ac70792d404c3.pdf\n",
      "Sent\\Aadhar .pdf\n",
      "Sent\\AC-tybsc-syllabus-2018-19.pdf\n",
      "Sent\\Adobe Scan 06 Feb 2021.pdf\n",
      "Sent\\ADVANCED ENGINEERING MATHEMATICS BY ERWIN ERESZIG1.pdf\n",
      "Sent\\Advt-of-PIB-2021pdf-b6811ba8cbdb0ce3f7fc346cc86cedc9.pdf\n",
      "Sent\\AIDED + SFC Result Declaration NOV 2021.pdf\n",
      "Sent\\AIDED Result Declaration May 2021.pdf\n",
      "Sent\\AIDED_AdmissionFee_Chart_2021_2022_Degree.pdf\n",
      "Sent\\Algorithm Essential broucher.pdf\n",
      "Sent\\Analytic_Functions.pdf\n",
      "Sent\\Arrangment-of-Terms.pdf\n",
      "Sent\\ATKT Result Declaration March 2021.pdf\n",
      "Sent\\Banking Exam_ Kirti College_workshop_Comp Exam.pdf\n",
      "Sent\\Banner.pdf\n",
      "Sent\\Bari - for email (1).docx\n",
      "Sent\\book.pdf\n",
      "Sent\\Brochure For National Symposium on Mathematics-1.pdf\n",
      "Sent\\Brochure-2.pdf\n",
      "Sent\\C-R equations.pdf\n",
      "Sent\\C2C.pdf\n",
      "Sent\\CamScanner 02-27-2021 08.52.33.pdf\n",
      "Sent\\CamScanner 03-01-2021 13.40.15.pdf\n",
      "Sent\\CamScanner 03-01-2021 13.41.37.pdf\n",
      "Sent\\CamScanner 03-06-2021 09.01.33.pdf\n",
      "Sent\\CamScanner 06-23-2021 10.11.00(3)(1).pdf\n",
      "Sent\\CamScanner 06-23-2021 10.11.00.pdf\n",
      "Sent\\CamScanner 08-01-2021 11.02.18.pdf\n",
      "Sent\\Career Guidance.pdf\n",
      "Sent\\certificate.pdf\n",
      "Sent\\Chrissy p.t project new.pdf\n",
      "Sent\\Circular -01.04.2021 - conduct of examinations 2020-21.pdf\n",
      "Sent\\CIRCULAR Date 24.03.2021.pdf\n",
      "Sent\\Cleophas.pdf\n",
      "Sent\\CLG EVENT.docx\n",
      "Sent\\COMPETITIVE EXAMS_Workshop_counselling cell _Kirti college.pdf\n",
      "Sent\\custom.css\n",
      "Sent\\Derivates.pdf\n",
      "Sent\\Efficiency LSD -CRD.pdf\n",
      "Sent\\Efficiency LSD-RBD.pdf\n",
      "Sent\\Feedback Notice - Curriculum and student satisafaction survey.pdf\n",
      "Sent\\FEES_NOT_PAID_30th May_1105am.pdf\n",
      "Sent\\Final flyer 16th march 2021 skill dev by placement cell.pdf\n",
      "Sent\\FINAL SEM FOUR REG PRACT TT APR 2021.pdf\n",
      "Sent\\FINAL SEM TWO  REG PRACT TT APR 2021.pdf\n",
      "Sent\\final.pdf\n",
      "Sent\\FLORA FEST BROCHURE 2021 PDF.pdf\n",
      "Sent\\Functions.pdf\n",
      "Sent\\Graphs of regions_pdf.pdf\n",
      "Sent\\groups 1.pdf\n",
      "Sent\\Harmonic Functions.pdf\n",
      "Sent\\Housing_Price.csv\n",
      "Sent\\IMPORTANT NOTICE FC INTERNALS.docx\n",
      "Sent\\Inaguration.pdf\n",
      "Sent\\Integration.pdf\n",
      "Sent\\INTERNATIONAL YOGA DAY 2021--Poster (1).pdf\n",
      "Sent\\Internship Notice 2021-221617193190613.pdf\n",
      "Sent\\Introduction to Complex numbers.pdf\n",
      "Sent\\Invited Talk.pdf\n",
      "Sent\\invoice.pdf\n",
      "Sent\\IQAC National Semianr_1_1.pdf\n",
      "Sent\\Jacobi's method .31.49.pdf\n",
      "Sent\\Jerrold E. Marsden, Anthony Tromba - Vector calculus (2003, W.H. Freeman) - libgen.lc.djvu\n",
      "Sent\\Line Integrals.pdf\n",
      "Sent\\Magnetic-Materials-Background-4-Classification-of-Magnetic-Materials.pdf\n",
      "Sent\\MARKSHEET OF 5 TESTS.xlsx\n",
      "Sent\\Mathematrix'21 Brochure.pdf\n",
      "Sent\\METRIC SPACES_pdf.pdf\n",
      "Sent\\MT-222.pdf\n",
      "Sent\\Multiple Integrals.pdf\n",
      "Sent\\Mumbai.pdf\n",
      "Sent\\NEST.pdf\n",
      "Sent\\NET-JRF-INORGANIC-CHEMISTRY_June-2018(1).pdf\n",
      "Sent\\NET-JRF-ORGANIC-CHEMISTRY_03-01-2019(1).pdf\n",
      "Sent\\NET-JRF-PHYSICAL-CHEMISTRY_06-01-2019-.pdf\n",
      "Sent\\New doc Apr 8, 2021 3.28 PM.pdf\n",
      "Sent\\New doc May 20, 2021 8.48 AM.pdf\n",
      "Sent\\New doc May 20, 2021 8.49 AM.pdf\n",
      "Sent\\New doc May 20, 2021 8.55 AM.pdf\n",
      "Sent\\New doc Sep 24, 2021 10.44 AM-1.pdf\n",
      "Sent\\New doc Sep 24, 2021 10.44 AM.pdf\n",
      "Sent\\New doc Sep 24, 2021 10.46 AM.pdf\n",
      "Sent\\Normal distribution (23-2-21).pdf\n",
      "Sent\\Normal distribution (26-2-21).pdf\n",
      "Sent\\Normal distribution.pdf\n",
      "Sent\\Notes 18 june.pdf\n",
      "Sent\\Notice_TYBSC PPT Presentation_17.2.2021.docx\n",
      "Sent\\OUR RECRUITERS.pdf\n",
      "Sent\\Paper 3 Practical (1-6) Kuldeep Rathod.pdf\n",
      "Sent\\PAPER III.pdf\n",
      "Sent\\PENDING Admisssions Notice AY 2021-22.docx\n",
      "Sent\\poster for Madhava.pdf\n",
      "Sent\\PosterJAM2022.pdf\n",
      "Sent\\Power method .48.03.pdf\n",
      "Sent\\pract 3- 09-24-2021 19.17.39.pdf\n",
      "Sent\\pract 4 09-25-2021 19.34.28.pdf\n",
      "Sent\\pract 5.pdf\n",
      "Sent\\pract 6.pdf\n",
      "Sent\\PRACTICAL 1_SQL.pdf\n",
      "Sent\\Practical 2.3.pdf\n",
      "Sent\\Practical 2.4.pdf\n",
      "Sent\\practical 4.1.7 (Q3 onwards).pdf\n",
      "Sent\\Practical 4.1.8( Normal distn and CLT).pdf\n",
      "Sent\\Practical time table for TYBSC - semester V  September 2021.pdf\n",
      "Sent\\Practical-2.pdf\n",
      "Sent\\practical_-3.pdf\n",
      "Sent\\PRACTICAL_2_SQL.pdf\n",
      "Sent\\PRACTICAL_3_SQL.pdf\n",
      "Sent\\practical_4.pdf\n",
      "Sent\\PRACTICAL_4_SQL.pdf\n",
      "Sent\\PRACTICAL_5_PL_SQL.pdf\n",
      "Sent\\PRACTICAL_5_PL_SQL_ANSWERS.pdf\n",
      "Sent\\practical_misc.pdf\n",
      "Sent\\Pre-Admission Notice AY 2021-22_11May21.pdf\n",
      "Sent\\programme final.pdf\n",
      "Sent\\Pukar Brochure 2021-22 Reduced.pdf\n",
      "Sent\\Python --  Lec 1-Copy1.html\n",
      "Sent\\Question Paper - Sessional Exam 26 July 2021.pdf\n",
      "Sent\\Quotient Spaces notes.pdf\n",
      "Sent\\Report-12121140001695_Ms.CLEMENTINEREBELLO_03Oct2021_102834.pdf\n",
      "Sent\\Report-12121140001696_Mr.COLLINREBELLO_03Oct2021_103208.pdf\n",
      "Sent\\Resume Writing workshop.pdf\n",
      "Sent\\REVISED FC NCC_NOTICE_16th Apr 2021-converted.pdf\n",
      "Sent\\S.Y.B.A.-SYBCom-Foundation-Course-II-Eng-Rev.pdf\n",
      "Sent\\Sample Q. Paper_SYBSc_Sem4_Reg_Statistics_ Paper1  Paper2 and Paper3_April2021.xlsx\n",
      "Sent\\Sem 5 Paper 2 pract 1.pdf\n",
      "Sent\\Sem-VI Paper-I Practicals(Complex Analysis).pdf\n",
      "Sent\\Semester 2 Paper Maths-1.pdf\n",
      "Sent\\SEM_1_&_3_ATKT_FC_INTERNAL.pdf\n",
      "Sent\\SEM_FOUR_THEORY_TT_APRIL_2021.pdf\n",
      "Sent\\Senior Scholarship.pdf\n",
      "Sent\\SHN Health declaration.docx\n",
      "Sent\\srujan 1.pdf\n",
      "Sent\\srujan 2.pdf\n",
      "Sent\\Srujan 3.pdf\n",
      "Sent\\Srujan 3.pptx\n",
      "Sent\\SRUJAN20-21_ SCHEDULE-final.pdf\n",
      "Sent\\standard Continuous distribution.pdf\n",
      "Sent\\Standard continuous probability distribution (unit 1).pdf\n",
      "Sent\\STASTISTICS DEPARTMENT TIMETABLE_ FY AND SY SCIENCE WITH PRACTICALS_14.1.2021 ONWARDS-converted.pdf\n",
      "Sent\\STASTISTICS DEPARTMENT TIMETABLE_ FY ^J SY AND TY SCIENCE WITH PRACTICALS_22.2.2021 ONWARDS-converted.pdf\n",
      "Sent\\Statistics Dept. _Srujan Festival Programmes_2020-21-1.docx\n",
      "Sent\\Statistics Dept. _Srujan Festival Programmes_2020-21.docx\n",
      "Sent\\Students list.xlsx\n",
      "Sent\\SUBJECT VERIFICATION Notice AY 2021-22.pdf\n",
      "Sent\\SYsyllabus2018.pdf\n",
      "Sent\\SY_TY_AdmissionSchedule_2021_22.pdf\n",
      "Sent\\SY_TY_Outsiders_NOTICE AUG 2021.pdf\n",
      "Sent\\SY_TY_StepsForAdmission_2021_22.pdf\n",
      "Sent\\T Y PRACICAL4.pdf\n",
      "Sent\\T.Y.B.Sc.  SEM V  PRACTICAL QUESTIONS  PDF.pdf\n",
      "Sent\\TEMPORARY_TIMETABLE_TY_ MATHEMATICS.pdf\n",
      "Sent\\Temprature Check form.docx\n",
      "Sent\\Tenth Passing.pdf\n",
      "Sent\\Time Table  TYBSC 02.12.2021.pdf\n",
      "Sent\\Tom M. Apostol - Calculus, Volume II_ Multi-Variable Calculus and Linear Algebra, with Applications to Differential Equations and Probability Vol. 2(1969,.txt\n",
      "Sent\\TRAVEL HISTORY 14 DAYS.docx\n",
      "Sent\\ty p3-metric spaces 06-18-2021 11.12.02.pdf\n",
      "Sent\\ty p3-metric space_06-19-2021 10.06.54.pdf\n",
      "Sent\\ty semVI Paper 3 practicals Rev 18-19 Final.pdf\n",
      "Sent\\TYBSC MATHEMATICS-converted (1).pdf\n",
      "Sent\\TYBSC SYLLABUS.pdf\n",
      "Sent\\TYBSc_Maths_Prel_exams_2021.pdf\n",
      "Sent\\typ3  12-14-2021 08.37.53.pdf\n",
      "Sent\\TY_NOV_2021_STEPS for MOCK Test.pdf\n",
      "Sent\\TY_TIMETABLE_ MATHEMATICS_2021-22.pdf\n",
      "Sent\\Unit 3 (1).pdf\n",
      "Sent\\Unit 3 (2).pdf\n",
      "Sent\\Unit 3(3).pdf\n",
      "Sent\\UNIT_II_TOPIC_(d)_PLSQL_NOTES_TY_AC_2020_21.pdf\n",
      "Sent\\UNIT_I_TOPIC_1_AND_2_INTRO_RDBMS.pdf\n",
      "Sent\\UNIT_I_TOPIC_1_AND_2_INTRO_RDBMS_ERD_TY_AC_2020_21.pdf\n",
      "Sent\\Untitled document.pdf\n",
      "Sent\\Untitled presentation.pdf\n",
      "Sent\\Updated List of Project.xlsx\n",
      "Sent\\V1_OFFLINE_STUDENTS_ATKT Exam APR 2021 Notice.pdf\n",
      "Sent\\V1_ONLINE_STUDENTS_ATKT Exam APR 2021 Notice.pdf\n",
      "Sent\\V5_ONLINE_STUDENTS_ATKT Exam JAN 2021 Notice.pdf\n",
      "Sent\\WORLD NATURE CONSERVATION DAY NATIONAL LEVEL NCC final-2.pdf\n",
      "Sent\\भारतीय सैन्यात अधिकारी भरती.pdf\n",
      "Sent\\IMG-20211031-WA0002.jpg\n",
      "Sent\\IMG-20211206-WA0000.jpg\n",
      "Sent\\IMG-20211207-WA0000.jpg\n",
      "Sent\\IMG-20211211-WA0005.jpg\n",
      "Sent\\IMG-20211212-WA0000.jpg\n",
      "Sent\\IMG-20211213-WA0001.jpg\n",
      "Sent\\IMG-20211216-WA0000.jpg\n",
      "Sent\\IMG-20211216-WA0001.jpg\n",
      "Sent\\IMG-20211216-WA0002.jpg\n",
      "Sent\\IMG-20211216-WA0003.jpg\n",
      "Sent\\IMG-20211218-WA0003.jpg\n",
      "Sent\\IMG-20211218-WA0004.jpg\n",
      "Sent\\IMG-20211218-WA0005.jpg\n",
      "Sent\\IMG-20211220-WA0000.jpg\n",
      "Sent\\IMG-20211220-WA0001.jpg\n",
      "Sent\\IMG-20211220-WA0002.jpg\n",
      "Sent\\IMG-20211222-WA0000.jpg\n",
      "Sent\\IMG-20211224-WA0000.jpg\n",
      "Sent\\IMG-20211224-WA0001.jpg\n",
      "Sent\\IMG-20211224-WA0002.jpg\n",
      "Sent\\IMG-20211224-WA0003.jpg\n",
      "Sent\\IMG-20211225-WA0001.jpg\n",
      "Sent\\IMG-20211226-WA0002.jpg\n",
      "Sent\\IMG-20211226-WA0004.jpg\n",
      "Sent\\IMG-20211227-WA0002.jpg\n",
      "Sent\\IMG-20211227-WA0003.jpg\n",
      "Sent\\IMG-20211227-WA0008.jpg\n",
      "Sent\\IMG-20211227-WA0010.jpg\n",
      "Sent\\IMG-20211227-WA0011.jpg\n",
      "Sent\\IMG-20211228-WA0000.jpg\n",
      "Sent\\IMG-20211228-WA0002.jpg\n",
      "Sent\\IMG-20211229-WA0000.jpg\n",
      "Sent\\IMG-20211231-WA0000.jpg\n",
      "Sent\\IMG-20220101-WA0000.jpg\n",
      "Sent\\IMG-20220101-WA0001.jpg\n",
      "Sent\\IMG-20220103-WA0001.jpg\n",
      "Sent\\IMG-20220103-WA0002.jpg\n",
      "Sent\\IMG-20220104-WA0001.jpg\n",
      "Sent\\IMG-20220104-WA0002.jpg\n",
      "Sent\\IMG-20220104-WA0003.jpg\n",
      "Sent\\IMG-20220104-WA0004.jpg\n",
      "Sent\\IMG-20220104-WA0005.jpg\n",
      "Sent\\IMG-20220104-WA0006.jpg\n",
      "Sent\\IMG-20220104-WA0007.jpg\n",
      "Sent\\IMG-20220104-WA0008.jpg\n",
      "Sent\\IMG-20220104-WA0009.jpg\n",
      "Sent\\IMG-20220104-WA0010.jpg\n",
      "Sent\\IMG-20220104-WA0011.jpg\n",
      "Sent\\IMG-20220104-WA0012.jpg\n",
      "Sent\\IMG-20220104-WA0013.jpg\n",
      "Sent\\IMG-20220104-WA0014.jpg\n",
      "Sent\\IMG-20220104-WA0015.jpg\n",
      "Sent\\IMG-20220104-WA0016.jpg\n",
      "Sent\\IMG-20220104-WA0017.jpg\n",
      "Sent\\IMG-20220104-WA0018.jpg\n",
      "Sent\\IMG-20220104-WA0019.jpg\n",
      "Sent\\IMG-20220104-WA0020.jpg\n",
      "Sent\\IMG-20220104-WA0021.jpg\n",
      "Sent\\IMG-20220104-WA0022.jpg\n",
      "Sent\\IMG-20220104-WA0023.jpg\n",
      "Sent\\IMG-20220104-WA0024.jpg\n",
      "Sent\\IMG-20220104-WA0025.jpg\n",
      "Sent\\IMG-20220104-WA0026.jpg\n",
      "Sent\\IMG-20220104-WA0027.jpg\n",
      "Sent\\IMG-20220104-WA0028.jpg\n",
      "Sent\\IMG-20220104-WA0029.jpg\n",
      "Sent\\IMG-20220104-WA0030.jpg\n",
      "Sent\\IMG-20220104-WA0031.jpg\n",
      "Sent\\IMG-20220104-WA0032.jpg\n",
      "Sent\\IMG-20220104-WA0033.jpg\n",
      "Sent\\IMG-20220104-WA0034.jpg\n",
      "Sent\\IMG-20220104-WA0035.jpg\n",
      "Sent\\IMG-20220104-WA0036.jpg\n",
      "Sent\\IMG-20220104-WA0037.jpg\n",
      "Sent\\IMG-20220104-WA0038.jpg\n",
      "Sent\\IMG-20220104-WA0039.jpg\n",
      "Sent\\IMG-20220104-WA0040.jpg\n",
      "Sent\\IMG-20220104-WA0041.jpg\n",
      "Sent\\IMG-20220104-WA0042.jpg\n",
      "Sent\\IMG-20220104-WA0043.jpg\n",
      "Sent\\IMG-20220104-WA0044.jpg\n",
      "Sent\\IMG-20220104-WA0045.jpg\n",
      "Sent\\IMG-20220104-WA0046.jpg\n",
      "Sent\\IMG-20220104-WA0047.jpg\n"
     ]
    }
   ],
   "source": [
    "for i, j, k in os.walk('C:\\\\Users\\\\Cleophas Rebello\\\\Desktop\\\\jupyter_notebook'):\n",
    "    for subfolder in j:\n",
    "        for sub_files in k:\n",
    "            print(subfolder + '\\\\' + sub_files)"
   ]
  },
  {
   "cell_type": "code",
   "execution_count": 198,
   "id": "25dbd443",
   "metadata": {},
   "outputs": [
    {
     "data": {
      "text/plain": [
       "True"
      ]
     },
     "execution_count": 198,
     "metadata": {},
     "output_type": "execute_result"
    }
   ],
   "source": []
  },
  {
   "cell_type": "code",
   "execution_count": null,
   "id": "f7b7fc9d",
   "metadata": {},
   "outputs": [],
   "source": []
  },
  {
   "cell_type": "code",
   "execution_count": 138,
   "id": "fafc676e",
   "metadata": {},
   "outputs": [],
   "source": [
    "def getForwardDiffvalues(x, f_values):\n",
    "    t = DifferenceArray(f_values)\n",
    "    r = 5\n",
    "    output = []\n",
    "    for j in range(len(t)-1):\n",
    "        i=0\n",
    "        for k in range(len(t[j])):\n",
    "            output2 = []\n",
    "            if k==0:\n",
    "                output2.append((x[j], t[i][j]))\n",
    "            else:\n",
    "                elt1, elt2 = t[i][j+1] , t[i][j]\n",
    "                if k==1:\n",
    "                    if elt1!='-' and elt2!='-':\n",
    "                        output2.append((x[j], round(elt1-elt2, r)))\n",
    "                    else:\n",
    "                        output2.append(t[i][j])\n",
    "                else:\n",
    "                    if elt1!='-' and elt2!='-':\n",
    "                        output2.append((x[j], round(elt1-elt2, r)))\n",
    "                i+=1\n",
    "        \n",
    "            output.append(output2)\n",
    "\n",
    "    output.append([(x[-1], t[0][-1])])\n",
    "\n",
    "    result = []\n",
    "    for i in range(0, len(output), len(f_values)):\n",
    "        result.append(output[i:i+len(f_values)])\n",
    "    \n",
    "    final_rslt = []\n",
    "    for i in range(len(result)):\n",
    "        res = []\n",
    "        for j in range(len(result[i])):\n",
    "            if result[i][j]: res.append(result[i][j])\n",
    "            else: res.append([])\n",
    "        final_rslt.append(res)\n",
    "    \n",
    "    return final_rslt\n",
    "\n",
    "x = [3, 3.2, 3.4, 3.6, 3.8, 4]\n",
    "f_values = [-14, -10.032, -5.296, 0.256, 6.672, 14]\n",
    "z = getForwardDiffvalues(x, f_values)"
   ]
  },
  {
   "cell_type": "code",
   "execution_count": 139,
   "id": "a4960f08",
   "metadata": {},
   "outputs": [
    {
     "data": {
      "text/plain": [
       "[[[(3, -14)], [(3, 3.968)], [(3, 0.768)], [(3, 0.048)], [(3, 0.0)], []],\n",
       " [[(3.2, -10.032)],\n",
       "  [(3.2, 4.736)],\n",
       "  [(3.2, 0.816)],\n",
       "  [(3.2, 0.048)],\n",
       "  [(3.2, 0.0)],\n",
       "  []],\n",
       " [[(3.4, -5.296)], [(3.4, 5.552)], [(3.4, 0.864)], [(3.4, 0.048)], [], []],\n",
       " [[(3.6, 0.256)], [(3.6, 6.416)], [(3.6, 0.912)], [], [], []],\n",
       " [[(3.8, 6.672)], [(3.8, 7.328)], [], [], [], []],\n",
       " [[(4, 14)]]]"
      ]
     },
     "execution_count": 139,
     "metadata": {},
     "output_type": "execute_result"
    }
   ],
   "source": [
    "z"
   ]
  },
  {
   "cell_type": "code",
   "execution_count": 140,
   "id": "ed6288c0",
   "metadata": {},
   "outputs": [
    {
     "name": "stdout",
     "output_type": "stream",
     "text": [
      "[[(3, -14)], [(3, 3.968)], [(3, 0.768)], [(3, 0.048)], [(3, 0.0)], []]\n",
      "[[(3.2, -10.032)], [(3.2, 4.736)], [(3.2, 0.816)], [(3.2, 0.048)], [(3.2, 0.0)], []]\n",
      "[[(3.4, -5.296)], [(3.4, 5.552)], [(3.4, 0.864)], [(3.4, 0.048)], [], []]\n",
      "[[(3.6, 0.256)], [(3.6, 6.416)], [(3.6, 0.912)], [], [], []]\n",
      "[[(3.8, 6.672)], [(3.8, 7.328)], [], [], [], []]\n",
      "[[(4, 14)]]\n"
     ]
    }
   ],
   "source": [
    "for i in range(len(z)):\n",
    "    print(z[i])"
   ]
  },
  {
   "cell_type": "code",
   "execution_count": null,
   "id": "665fd71f",
   "metadata": {},
   "outputs": [],
   "source": []
  },
  {
   "cell_type": "code",
   "execution_count": null,
   "id": "22ef8c56",
   "metadata": {},
   "outputs": [],
   "source": []
  },
  {
   "cell_type": "code",
   "execution_count": null,
   "id": "df8c8d6b",
   "metadata": {},
   "outputs": [],
   "source": []
  },
  {
   "cell_type": "code",
   "execution_count": 75,
   "id": "8f30a51d",
   "metadata": {},
   "outputs": [
    {
     "name": "stdout",
     "output_type": "stream",
     "text": [
      "--------------------------------------------------------------------------------------------------\n",
      "|  x   |   f(x)  |       ∆ f(x)      |      ∆^2 f(x)     |      ∆^3 f(x)     |      ∆^4 f(x)     |\n",
      "--------------------------------------------------------------------------------------------------\n",
      "|  3   |   -14   | ∆ f(3) = 3.968    | ∆^2 f(3) = 0.768  | ∆^3 f(3) = 0.048  | ∆^4 f(3) = 0.0   \n",
      "--------------------------------------------------------------------------------------------------\n",
      "| 3.2  | -10.032 | ∆ f(3.2) = 4.736  | ∆^2 f(3.2) = 0.816 | ∆^3 f(3.2) = 0.048 | ∆^4 f(3.2) = 0.0 \n",
      "--------------------------------------------------------------------------------------------------\n",
      "| 3.4  |  -5.296 | ∆ f(3.4) = 5.552  | ∆^2 f(3.4) = 0.864 | ∆^3 f(3.4) = 0.048 |\n",
      "--------------------------------------------------------------------------------------------------\n",
      "| 3.6  |  0.256  | ∆ f(3.6) = 6.416  | ∆^2 f(3.6) = 0.912 |\n",
      "--------------------------------------------------------------------------------------------------\n",
      "| 3.8  |  6.672  | ∆ f(3.8) = 7.328  |\n",
      "--------------------------------------------------------------------------------------------------\n",
      "|  4   |    14   |\n",
      "--------------------------------------------------------------------------------------------------\n"
     ]
    }
   ],
   "source": [
    "x = [3, 3.2, 3.4, 3.6, 3.8, 4]\n",
    "f_values = [-14, -10.032, -5.296, 0.256, 6.672, 14]\n",
    "DrawForwardDiffTable(x, f_values)"
   ]
  },
  {
   "cell_type": "code",
   "execution_count": null,
   "id": "c521485e",
   "metadata": {},
   "outputs": [],
   "source": []
  },
  {
   "cell_type": "code",
   "execution_count": 86,
   "id": "6f646ac4",
   "metadata": {},
   "outputs": [
    {
     "data": {
      "text/plain": [
       "[[(3, -14)],\n",
       " [(3, 3.968)],\n",
       " [(3, 0.768)],\n",
       " [(3, 0.048)],\n",
       " [(3, 0.0)],\n",
       " [],\n",
       " [(3.2, -10.032)],\n",
       " [(3.2, 4.736)],\n",
       " [(3.2, 0.816)],\n",
       " [(3.2, 0.048)],\n",
       " [(3.2, 0.0)],\n",
       " [],\n",
       " [(3.4, -5.296)],\n",
       " [(3.4, 5.552)],\n",
       " [(3.4, 0.864)],\n",
       " [(3.4, 0.048)],\n",
       " [],\n",
       " [],\n",
       " [(3.6, 0.256)],\n",
       " [(3.6, 6.416)],\n",
       " [(3.6, 0.912)],\n",
       " [],\n",
       " [],\n",
       " [],\n",
       " [(3.8, 6.672)],\n",
       " [(3.8, 7.328)],\n",
       " [],\n",
       " [],\n",
       " [],\n",
       " [],\n",
       " [4, 14, 'hello']]"
      ]
     },
     "execution_count": 86,
     "metadata": {},
     "output_type": "execute_result"
    }
   ],
   "source": [
    "z"
   ]
  },
  {
   "cell_type": "code",
   "execution_count": null,
   "id": "e30bcee9",
   "metadata": {},
   "outputs": [],
   "source": []
  },
  {
   "cell_type": "code",
   "execution_count": 188,
   "id": "de6a384f",
   "metadata": {},
   "outputs": [],
   "source": [
    "def getForwardDiffvalues(x, f_values):\n",
    "    t = DifferenceArray(f_values)\n",
    "    r = 5\n",
    "    output = []\n",
    "    for j in range(len(t)-1):\n",
    "        i=0\n",
    "        for k in range(len(t[j])):\n",
    "            output2 = []\n",
    "            if k==0:\n",
    "                output2.append((x[j], t[i][j]))\n",
    "            else:\n",
    "                elt1, elt2 = t[i][j+1] , t[i][j]\n",
    "                if k==1:\n",
    "                    if elt1!='-' and elt2!='-':\n",
    "                        output2.append((x[j], round(elt1-elt2, r)))\n",
    "                    else:\n",
    "                        output2.append(t[i][j])\n",
    "                else:\n",
    "                    if elt1!='-' and elt2!='-':\n",
    "                        output2.append((x[j], round(elt1-elt2, r)))\n",
    "                i+=1\n",
    "        \n",
    "            output:output.append(output2)\n",
    "\n",
    "    output.append([(x[-1], t[0][-1])])\n",
    "\n",
    "    result = []\n",
    "    for i in range(0, len(output), len(f_values)):\n",
    "        result.append(output[i:i+len(f_values)])\n",
    "    \n",
    "    final_rslt = []\n",
    "    for i in range(len(result)):\n",
    "        res = []\n",
    "        for j in range(len(result[i])):\n",
    "            if result[i][j]: res.append(result[i][j][0])\n",
    "            else: res.append([])\n",
    "        final_rslt.append(res)\n",
    "    \n",
    "    return final_rslt"
   ]
  },
  {
   "cell_type": "code",
   "execution_count": 194,
   "id": "4f8857c8",
   "metadata": {},
   "outputs": [],
   "source": [
    "z = getForwardDiffvalues(x_values, f_values)"
   ]
  },
  {
   "cell_type": "code",
   "execution_count": 191,
   "id": "e8285c21",
   "metadata": {},
   "outputs": [
    {
     "name": "stdout",
     "output_type": "stream",
     "text": [
      "----------------------------------------------------------------------------------------------------------------------\n",
      "|  x   |   f(x)  |       ∆ f(x)      |      ∆^2 f(x)     |      ∆^3 f(x)     |      ∆^4 f(x)     |      ∆^5 f(x)     |\n",
      "----------------------------------------------------------------------------------------------------------------------\n",
      "|  3   |\n",
      "-------\n",
      "| 3.2  |\n",
      "-------\n",
      "| 3.4  |\n",
      "-------\n",
      "| 3.6  |\n",
      "-------\n",
      "| 3.8  |\n",
      "-------\n",
      "|  4   |\n",
      "-------\n"
     ]
    }
   ],
   "source": [
    "del_string = getOperator(z, '∆')\n",
    "del_op = drawOperator('∆', getLength(z))\n",
    "dashLen = len(f'| {\"x\".center(4)} |  {\"f(x)\".center(6)} {del_string}|')\n",
    "\n",
    "print('-'*dashLen)\n",
    "print(f'| {\"x\".center(4)} |  {\"f(x)\".center(6)} {del_string}|')\n",
    "print('-'*dashLen)\n",
    "    \n",
    "for i in range(len(z)):\n",
    "    temp_string = f'| {str(x[i]).center(4)} |'\n",
    "    \n",
    "#     for j in range(len(z[i])):\n",
    "        \n",
    "    print(temp_string)\n",
    "    print('-------')"
   ]
  },
  {
   "cell_type": "code",
   "execution_count": null,
   "id": "ebe5cd78",
   "metadata": {},
   "outputs": [],
   "source": []
  },
  {
   "cell_type": "code",
   "execution_count": 195,
   "id": "d02bd2b4",
   "metadata": {},
   "outputs": [
    {
     "data": {
      "text/plain": [
       "[['-', (3, 3.968), (3, 0.768), (3, 0.048), (3, 0.0), []],\n",
       " [(3.2, -10.032), (3.2, 4.736), (3.2, 0.816), (3.2, 0.048), (3.2, 0.0), []],\n",
       " [(3.4, -5.296), (3.4, 5.552), (3.4, 0.864), (3.4, 0.048), [], []],\n",
       " [(3.6, 0.256), (3.6, 6.416), (3.6, 0.912), [], [], []],\n",
       " [(3.8, 6.672), (3.8, 7.328), [], [], [], []],\n",
       " [(4, 14)]]"
      ]
     },
     "execution_count": 195,
     "metadata": {},
     "output_type": "execute_result"
    }
   ],
   "source": [
    "z"
   ]
  },
  {
   "cell_type": "code",
   "execution_count": null,
   "id": "71265ea1",
   "metadata": {},
   "outputs": [],
   "source": []
  },
  {
   "cell_type": "code",
   "execution_count": null,
   "id": "c4bcee24",
   "metadata": {},
   "outputs": [],
   "source": []
  },
  {
   "cell_type": "code",
   "execution_count": 192,
   "id": "08546c71",
   "metadata": {},
   "outputs": [
    {
     "ename": "AttributeError",
     "evalue": "'int' object has no attribute 'count'",
     "output_type": "error",
     "traceback": [
      "\u001b[1;31m---------------------------------------------------------------------------\u001b[0m",
      "\u001b[1;31mAttributeError\u001b[0m                            Traceback (most recent call last)",
      "\u001b[1;32mC:\\Users\\CLEOPH~1\\AppData\\Local\\Temp/ipykernel_7436/137449857.py\u001b[0m in \u001b[0;36m<module>\u001b[1;34m\u001b[0m\n\u001b[0;32m     61\u001b[0m             \u001b[0mf\u001b[0m\u001b[1;33m.\u001b[0m\u001b[0mwrite\u001b[0m\u001b[1;33m(\u001b[0m\u001b[0mtxt_file\u001b[0m\u001b[1;33m)\u001b[0m\u001b[1;33m\u001b[0m\u001b[1;33m\u001b[0m\u001b[0m\n\u001b[0;32m     62\u001b[0m \u001b[1;33m\u001b[0m\u001b[0m\n\u001b[1;32m---> 63\u001b[1;33m \u001b[0mTempDrawForwardDiffTable\u001b[0m\u001b[1;33m(\u001b[0m\u001b[0mx_values\u001b[0m\u001b[1;33m,\u001b[0m \u001b[0mf_values\u001b[0m\u001b[1;33m)\u001b[0m\u001b[1;33m\u001b[0m\u001b[1;33m\u001b[0m\u001b[0m\n\u001b[0m",
      "\u001b[1;32mC:\\Users\\CLEOPH~1\\AppData\\Local\\Temp/ipykernel_7436/137449857.py\u001b[0m in \u001b[0;36mTempDrawForwardDiffTable\u001b[1;34m(z, write)\u001b[0m\n\u001b[0;32m      1\u001b[0m \u001b[1;32mdef\u001b[0m \u001b[0mTempDrawForwardDiffTable\u001b[0m\u001b[1;33m(\u001b[0m\u001b[0mz\u001b[0m\u001b[1;33m,\u001b[0m \u001b[0mwrite\u001b[0m\u001b[1;33m=\u001b[0m\u001b[1;32mFalse\u001b[0m\u001b[1;33m)\u001b[0m\u001b[1;33m:\u001b[0m\u001b[1;33m\u001b[0m\u001b[1;33m\u001b[0m\u001b[0m\n\u001b[1;32m----> 2\u001b[1;33m     \u001b[0mdel_string\u001b[0m \u001b[1;33m=\u001b[0m \u001b[0mgetOperator\u001b[0m\u001b[1;33m(\u001b[0m\u001b[0mz\u001b[0m\u001b[1;33m,\u001b[0m \u001b[1;34m'∆'\u001b[0m\u001b[1;33m)\u001b[0m\u001b[1;33m\u001b[0m\u001b[1;33m\u001b[0m\u001b[0m\n\u001b[0m\u001b[0;32m      3\u001b[0m     \u001b[0mdel_op\u001b[0m \u001b[1;33m=\u001b[0m \u001b[0mdrawOperator\u001b[0m\u001b[1;33m(\u001b[0m\u001b[1;34m'∆'\u001b[0m\u001b[1;33m,\u001b[0m \u001b[0mgetLength\u001b[0m\u001b[1;33m(\u001b[0m\u001b[0mz\u001b[0m\u001b[1;33m)\u001b[0m\u001b[1;33m)\u001b[0m\u001b[1;33m\u001b[0m\u001b[1;33m\u001b[0m\u001b[0m\n\u001b[0;32m      4\u001b[0m \u001b[1;33m\u001b[0m\u001b[0m\n\u001b[0;32m      5\u001b[0m     \u001b[0mtxt_file\u001b[0m \u001b[1;33m=\u001b[0m \u001b[1;34m''\u001b[0m\u001b[1;33m\u001b[0m\u001b[1;33m\u001b[0m\u001b[0m\n",
      "\u001b[1;32mC:\\Users\\CLEOPH~1\\AppData\\Local\\Temp/ipykernel_7436/2358520263.py\u001b[0m in \u001b[0;36mgetOperator\u001b[1;34m(Fwd_diff_table, op)\u001b[0m\n\u001b[0;32m      1\u001b[0m \u001b[1;32mdef\u001b[0m \u001b[0mgetOperator\u001b[0m\u001b[1;33m(\u001b[0m\u001b[0mFwd_diff_table\u001b[0m\u001b[1;33m,\u001b[0m \u001b[0mop\u001b[0m\u001b[1;33m)\u001b[0m\u001b[1;33m:\u001b[0m\u001b[1;33m\u001b[0m\u001b[1;33m\u001b[0m\u001b[0m\n\u001b[0;32m      2\u001b[0m     \u001b[0mdel_string\u001b[0m \u001b[1;33m=\u001b[0m \u001b[1;34m''\u001b[0m\u001b[1;33m\u001b[0m\u001b[1;33m\u001b[0m\u001b[0m\n\u001b[1;32m----> 3\u001b[1;33m     \u001b[1;32mfor\u001b[0m \u001b[0mi\u001b[0m \u001b[1;32min\u001b[0m \u001b[0mrange\u001b[0m\u001b[1;33m(\u001b[0m\u001b[0mgetLength\u001b[0m\u001b[1;33m(\u001b[0m\u001b[0mFwd_diff_table\u001b[0m\u001b[1;33m)\u001b[0m\u001b[1;33m)\u001b[0m\u001b[1;33m:\u001b[0m\u001b[1;33m\u001b[0m\u001b[1;33m\u001b[0m\u001b[0m\n\u001b[0m\u001b[0;32m      4\u001b[0m         \u001b[1;32mif\u001b[0m \u001b[0mi\u001b[0m\u001b[1;33m>\u001b[0m\u001b[1;36m1\u001b[0m\u001b[1;33m:\u001b[0m\u001b[1;33m\u001b[0m\u001b[1;33m\u001b[0m\u001b[0m\n\u001b[0;32m      5\u001b[0m             \u001b[0mdel_string\u001b[0m \u001b[1;33m+=\u001b[0m \u001b[1;34m'|'\u001b[0m \u001b[1;33m+\u001b[0m \u001b[0mstr\u001b[0m\u001b[1;33m(\u001b[0m\u001b[1;34mf'{op}^'\u001b[0m\u001b[1;33m+\u001b[0m\u001b[0mstr\u001b[0m\u001b[1;33m(\u001b[0m\u001b[0mi\u001b[0m\u001b[1;33m)\u001b[0m\u001b[1;33m+\u001b[0m\u001b[1;34m' f(x)'\u001b[0m\u001b[1;33m)\u001b[0m\u001b[1;33m.\u001b[0m\u001b[0mcenter\u001b[0m\u001b[1;33m(\u001b[0m\u001b[1;36m19\u001b[0m\u001b[1;33m)\u001b[0m\u001b[1;33m\u001b[0m\u001b[1;33m\u001b[0m\u001b[0m\n",
      "\u001b[1;32mC:\\Users\\CLEOPH~1\\AppData\\Local\\Temp/ipykernel_7436/3588653420.py\u001b[0m in \u001b[0;36mgetLength\u001b[1;34m(Fwd_diff_table)\u001b[0m\n\u001b[0;32m      2\u001b[0m     \u001b[0mc\u001b[0m \u001b[1;33m=\u001b[0m \u001b[1;36m0\u001b[0m\u001b[1;33m\u001b[0m\u001b[1;33m\u001b[0m\u001b[0m\n\u001b[0;32m      3\u001b[0m     \u001b[1;32mfor\u001b[0m \u001b[0mi\u001b[0m \u001b[1;32min\u001b[0m \u001b[0mFwd_diff_table\u001b[0m\u001b[1;33m:\u001b[0m\u001b[1;33m\u001b[0m\u001b[1;33m\u001b[0m\u001b[0m\n\u001b[1;32m----> 4\u001b[1;33m         \u001b[1;32mif\u001b[0m \u001b[1;33m(\u001b[0m\u001b[0mi\u001b[0m\u001b[1;33m.\u001b[0m\u001b[0mcount\u001b[0m\u001b[1;33m(\u001b[0m\u001b[1;34m'-'\u001b[0m\u001b[1;33m)\u001b[0m\u001b[1;33m)\u001b[0m \u001b[1;33m!=\u001b[0m \u001b[0mlen\u001b[0m\u001b[1;33m(\u001b[0m\u001b[0mFwd_diff_table\u001b[0m\u001b[1;33m[\u001b[0m\u001b[1;36m0\u001b[0m\u001b[1;33m]\u001b[0m\u001b[1;33m)\u001b[0m\u001b[1;33m:\u001b[0m\u001b[1;33m\u001b[0m\u001b[1;33m\u001b[0m\u001b[0m\n\u001b[0m\u001b[0;32m      5\u001b[0m             \u001b[0mc\u001b[0m\u001b[1;33m+=\u001b[0m\u001b[1;36m1\u001b[0m\u001b[1;33m\u001b[0m\u001b[1;33m\u001b[0m\u001b[0m\n\u001b[0;32m      6\u001b[0m     \u001b[1;32mif\u001b[0m \u001b[0mc\u001b[0m \u001b[1;33m==\u001b[0m \u001b[0mlen\u001b[0m\u001b[1;33m(\u001b[0m\u001b[0mFwd_diff_table\u001b[0m\u001b[1;33m)\u001b[0m\u001b[1;33m:\u001b[0m\u001b[1;33m\u001b[0m\u001b[1;33m\u001b[0m\u001b[0m\n",
      "\u001b[1;31mAttributeError\u001b[0m: 'int' object has no attribute 'count'"
     ]
    }
   ],
   "source": [
    "def TempDrawForwardDiffTable(z, write=False):\n",
    "    del_string = getOperator(z, '∆')\n",
    "    del_op = drawOperator('∆', getLength(z))\n",
    "    \n",
    "    txt_file = ''\n",
    "    dashLen = len(f'| {\"x\".center(4)} |  {\"f(x)\".center(6)} {del_string}|')\n",
    "    \n",
    "    print('-'*dashLen)\n",
    "    print(f'| {\"x\".center(4)} |  {\"f(x)\".center(6)} {del_string}|')\n",
    "    print('-'*dashLen)\n",
    "    t = Fwd_diff_table\n",
    "    \n",
    "    txt_file += 'Forward Difference Table'.center(150) + '\\n\\n\\n'\n",
    "    txt_file += '-'*dashLen+'\\n'\n",
    "    txt_file += f'| {\"x\".center(4)} |  {\"f(x)\".center(6)} {del_string}|' + '\\n'\n",
    "    txt_file += '-'*dashLen+'\\n'\n",
    "    t = z\n",
    "    \n",
    "    tt = 0 if getLength(z)==len(z) else 1\n",
    "    \n",
    "    for j in range(len(z)):\n",
    "        temp_string = f'| {str(z[j]).center(4)} |'\n",
    "        i=0\n",
    "        for k in range(len(z[j])):\n",
    "            if k==0:\n",
    "                temp_string += f'{z[i][j]}'.center(9) + '|'\n",
    "            else:\n",
    "                elt1, elt2 = z[i][j+1] , z[i][j]\n",
    "                if k==1:\n",
    "                    if elt1!='-' and elt2!='-':\n",
    "                        mod = ''\n",
    "                        if k+1 != len(Fwd_diff_table[j])-tt: mod = ' |'\n",
    "                        temp_string += f' {del_op[k]}f({x[j]}) = {round(elt1-elt2, 4)}'.ljust(18) + mod\n",
    "                    else:\n",
    "                        temp_string += f'\\t {str(t[i][j]).ljust(5)}\\t|'.center(18)\n",
    "                else:\n",
    "                    if elt1!='-' and elt2!='-':\n",
    "                        mod = ''\n",
    "                        if k+1 != len(Fwd_diff_table[j])-tt: mod = ' |'\n",
    "                        temp_string += f' {del_op[k]}f({x[j]}) = {round(elt1-elt2,4)}'.ljust(18) + mod\n",
    "#   \n",
    "                            \n",
    "                i+=1\n",
    "\n",
    "        print(temp_string)\n",
    "        print('-'*dashLen)\n",
    "\n",
    "        txt_file += temp_string+'\\n'\n",
    "        txt_file += '-'*dashLen+'\\n'\n",
    "\n",
    "    temp_string = f'|{str(x[-1]).center(6)}|{str(t[0][-1]).center(9)}' + '|'\n",
    "\n",
    "    print(temp_string)\n",
    "    print('-'*dashLen)\n",
    "\n",
    "    txt_file += temp_string + ' |'.rjust(dashLen - 18) + '\\n'\n",
    "    txt_file += '-'*dashLen+'\\n'\n",
    "\n",
    "    if write or len(Fwd_diff_table)>5:\n",
    "        with open(\"Forward Difference Table.txt\", 'w', encoding=\"utf-8\") as f:\n",
    "            f.write(txt_file)\n",
    "            \n",
    "TempDrawForwardDiffTable(x_values, f_values)"
   ]
  },
  {
   "cell_type": "code",
   "execution_count": null,
   "id": "d7780564",
   "metadata": {},
   "outputs": [],
   "source": []
  },
  {
   "cell_type": "code",
   "execution_count": 187,
   "id": "90e6b23f",
   "metadata": {},
   "outputs": [
    {
     "data": {
      "text/plain": [
       "2994828895"
      ]
     },
     "execution_count": 187,
     "metadata": {},
     "output_type": "execute_result"
    }
   ],
   "source": [
    "sum({1,3,3}, 2994828891)"
   ]
  },
  {
   "cell_type": "code",
   "execution_count": null,
   "id": "914067c4",
   "metadata": {},
   "outputs": [],
   "source": []
  },
  {
   "cell_type": "code",
   "execution_count": null,
   "id": "f7a47b48",
   "metadata": {},
   "outputs": [],
   "source": []
  },
  {
   "cell_type": "code",
   "execution_count": 163,
   "id": "ba7dfe64",
   "metadata": {},
   "outputs": [
    {
     "data": {
      "text/plain": [
       "[[[(3, -14), (3, 3.968), (3, 0.768), (3, 0.048), (3, 0.0), []],\n",
       "  [(3.2, -10.032), (3.2, 4.736), (3.2, 0.816), (3.2, 0.048), (3.2, 0.0), []],\n",
       "  [(3.4, -5.296), (3.4, 5.552), (3.4, 0.864), (3.4, 0.048), [], []],\n",
       "  [(3.6, 0.256), (3.6, 6.416), (3.6, 0.912), [], [], []],\n",
       "  [(3.8, 6.672), (3.8, 7.328), [], [], [], []],\n",
       "  [(4, 14)]]]"
      ]
     },
     "execution_count": 163,
     "metadata": {},
     "output_type": "execute_result"
    }
   ],
   "source": [
    "result = []\n",
    "for i in range(0, len(z), len(f_values)):\n",
    "    result.append(z[i:i+6])\n",
    "result"
   ]
  },
  {
   "cell_type": "code",
   "execution_count": null,
   "id": "ad6b5be6",
   "metadata": {},
   "outputs": [],
   "source": []
  },
  {
   "cell_type": "code",
   "execution_count": 145,
   "id": "3643a4ad",
   "metadata": {},
   "outputs": [],
   "source": [
    "final_rslt = []\n",
    "for i in range(len(result)):\n",
    "    res = []\n",
    "    for j in range(len(result[i])):\n",
    "        if result[i][j]:\n",
    "#             print(f'result at --> {result[i][j]}')\n",
    "            res.append(result[i][j])\n",
    "        else:\n",
    "            res.append([])\n",
    "    final_rslt.append(res)"
   ]
  },
  {
   "cell_type": "code",
   "execution_count": 146,
   "id": "5abea5db",
   "metadata": {
    "scrolled": true
   },
   "outputs": [
    {
     "name": "stdout",
     "output_type": "stream",
     "text": [
      "[[[(3, -14)], [(3, 3.968)], [(3, 0.768)], [(3, 0.048)], [(3, 0.0)], []], [[(3.2, -10.032)], [(3.2, 4.736)], [(3.2, 0.816)], [(3.2, 0.048)], [(3.2, 0.0)], []], [[(3.4, -5.296)], [(3.4, 5.552)], [(3.4, 0.864)], [(3.4, 0.048)], [], []], [[(3.6, 0.256)], [(3.6, 6.416)], [(3.6, 0.912)], [], [], []], [[(3.8, 6.672)], [(3.8, 7.328)], [], [], [], []], [[(4, 14)]]]\n",
      "----------------\n"
     ]
    }
   ],
   "source": [
    "for i in final_rslt:\n",
    "    print(i)\n",
    "    print('----------------')"
   ]
  },
  {
   "cell_type": "code",
   "execution_count": 66,
   "id": "fdb1d078",
   "metadata": {},
   "outputs": [],
   "source": [
    "if []:\n",
    "    print('NO')"
   ]
  },
  {
   "cell_type": "code",
   "execution_count": 126,
   "id": "c1a2094a",
   "metadata": {},
   "outputs": [
    {
     "data": {
      "text/plain": [
       "(4, 14)"
      ]
     },
     "execution_count": 126,
     "metadata": {},
     "output_type": "execute_result"
    }
   ],
   "source": [
    "[(4, 14)][0]"
   ]
  },
  {
   "cell_type": "code",
   "execution_count": null,
   "id": "44de9e93",
   "metadata": {},
   "outputs": [],
   "source": []
  },
  {
   "cell_type": "code",
   "execution_count": null,
   "id": "9c81ea0f",
   "metadata": {},
   "outputs": [],
   "source": []
  },
  {
   "cell_type": "code",
   "execution_count": 120,
   "id": "2fe34048",
   "metadata": {},
   "outputs": [],
   "source": [
    "def Numerical_Diff(x_values, f_values, show_working=False, up = 2):\n",
    "    Fwd_diff_table = DifferenceArray(f_values)\n",
    "    exp = 3 # input('Which value you want to find: ')\n",
    "    value_to_find = check_d_n_r(float(exp))\n",
    "\n",
    "    a = x_values[0]\n",
    "    h = round(x_values[1] - x_values[0], 5)\n",
    "    n = len(x_values)\n",
    "    x = check_d_n_r(round((value_to_find - a)/h, 5))\n",
    "    j = 0\n",
    "\n",
    "    div = ''\n",
    "    add = '+'\n",
    "    out = []\n",
    "    while n:\n",
    "        temp = ''\n",
    "        tt = ''\n",
    "        add2 = ''\n",
    "        if j>0:\n",
    "            for i in range(j):\n",
    "                mul = '*'\n",
    "                if i: tt += f' {mul} (x - {i})'\n",
    "                else: tt += f'x'     \n",
    "                    \n",
    "        if j: add2 = '+'\n",
    "        if  j>=1: tt += ' * '\n",
    "        if j+1 != n and j: div = '/'\n",
    "        if not j : temp = ''\n",
    "        else: temp = f'/ {j}!'\n",
    "\n",
    "        con = f\"({sympy.expand('*'.join(tt.split(' * ')[:-1]))}) \" if tt else '1'\n",
    "        con2 = f'/ {fac(j)}' if fac(j)>1 else ''\n",
    "        \n",
    "        if Fwd_diff_table[j][0] != '-' and con:\n",
    "            res = str(sympy.simplify(con)) + f' * {Fwd_diff_table[j][0]} {con2}'\n",
    "            if res != '0':out.append(res)\n",
    "        \n",
    "        if show_working:\n",
    "            print(add2, tt, end=' ')\n",
    "            print(f\"{Fwd_diff_table[j][0]} {temp}\")\n",
    "            \n",
    "        j+=1  \n",
    "        n-=1\n",
    "        \n",
    "    if show_working: print('\\n = ' + \" + \".join(out))\n",
    "\n",
    "    return out , h, x, value_to_find\n",
    "\n",
    "x_values = [3, 3.2, 3.4, 3.6, 3.8, 4]\n",
    "f_values = [-14, -10.032, -5.296, 0.256, 6.672, 14]\n",
    "diff_eq, h, x, at_x = Numerical_Diff(x_values, f_values)"
   ]
  },
  {
   "cell_type": "code",
   "execution_count": 121,
   "id": "6f83d928",
   "metadata": {},
   "outputs": [
    {
     "data": {
      "text/plain": [
       "['1 * -14 ',\n",
       " 'x * 3.968 ',\n",
       " 'x*(x - 1) * 0.768 / 2',\n",
       " 'x*(x**2 - 3*x + 2) * 0.048 / 6']"
      ]
     },
     "execution_count": 121,
     "metadata": {},
     "output_type": "execute_result"
    }
   ],
   "source": [
    "diff_eq"
   ]
  },
  {
   "cell_type": "code",
   "execution_count": null,
   "id": "a7969ea9",
   "metadata": {},
   "outputs": [],
   "source": []
  },
  {
   "cell_type": "code",
   "execution_count": 123,
   "id": "948b136b",
   "metadata": {},
   "outputs": [
    {
     "name": "stdout",
     "output_type": "stream",
     "text": [
      "------------------------------------------------------------\n",
      " ∴ f(a+xh) = 1 * -14  + x * 3.968  + x*(x - 1) * 0.768 / 2 + x*(x**2 - 3*x + 2) * 0.048 / 6\n",
      "------------------------------------------------------------\n",
      "\n",
      "  Here a = 3, h = 0.2, x = 0\n",
      "\n",
      " ∴ (h) * f'(a+xh) = (0 + 3.968 + 0.768*x - 0.384 + 0.008*x**2 + 0.008*x*(2*x - 3) - 0.024*x + 0.016)\n",
      "\n",
      " ∴ f'(3) = (3.6) / (0.2), at x = 0\n",
      "\n",
      " ∴ f'(3) = 18\n",
      "------------------------------------------------------------\n",
      "\n",
      "  Here a = 3, h = 0.2, x = 0\n",
      "\n",
      " ∴ (h ** 2) * f''(a+xh) = (0 + 0 + 0.768 + 0.048*(x - 1))\n",
      "\n",
      " ∴ f''(3) = (0.72) / (0.2 ** 2), at x = 0\n",
      "\n",
      " ∴ f''(3) = 18.0\n",
      "------------------------------------------------------------\n"
     ]
    }
   ],
   "source": [
    "def cal_derivative(eq, h, x, at_x, orderOfDerivative=1, up=5):\n",
    "    prime = \"'\"*orderOfDerivative\n",
    "    add_star = f' ** {orderOfDerivative})' if orderOfDerivative>1 else ')'\n",
    "    t = ''\n",
    "    \n",
    "    for i in range(len(eq)):\n",
    "        add = ''\n",
    "        if i+1 != len(eq): add = ' + '\n",
    "        temp_der = sympy.diff(eq[i], 'x', orderOfDerivative)\n",
    "\n",
    "        if type(temp_der) in [sympy.core.numbers.Zero, sympy.core.numbers.Float]:\n",
    "            temp_der = check_d_n_r(temp_der)\n",
    "        \n",
    "        t += str(temp_der) + add\n",
    "    \n",
    "    derivative = sympy.simplify(t)\n",
    "    f_a = derivative.subs({'x':x})\n",
    "    \n",
    "    print(f\"\\n  Here a = {at_x}, h = {h}, x = {x}\")\n",
    "    print(f\"\\n ∴ (h{add_star} * f{prime}(a+xh) = ({t})\")\n",
    "    print(f\"\\n ∴ f{prime}({at_x}) = ({check_d_n_r(f_a)}) / ({h}{add_star}, at x = {x}\")\n",
    "    print(f\"\\n ∴ f{prime}({at_x}) = {check_d_n_r(f_a/h**orderOfDerivative)}\")\n",
    "    print('--'*30)\n",
    "\n",
    "x_values = [3, 3.2, 3.4, 3.6, 3.8, 4]\n",
    "f_values = [-14, -10.032, -5.296, 0.256, 6.672, 14]\n",
    "diff_eq, h, x, at_x = Numerical_Diff(x_values, f_values)\n",
    "print('--'*30)\n",
    "print(f\" ∴ f(a+xh) = {' + '.join(diff_eq)}\")\n",
    "print('--'*30)\n",
    "\n",
    "cal_derivative(diff_eq, h, x, at_x,  1) # 1st order derivative\n",
    "cal_derivative(diff_eq, h, x, at_x, 2)  # 2nd order derivative\n"
   ]
  },
  {
   "cell_type": "code",
   "execution_count": null,
   "id": "2ee6e23c",
   "metadata": {
    "scrolled": true
   },
   "outputs": [],
   "source": []
  },
  {
   "cell_type": "code",
   "execution_count": 1,
   "id": "057276d5",
   "metadata": {},
   "outputs": [],
   "source": [
    "import math\n",
    " \n",
    "# Function to calculate value using\n",
    "# Stirling formula\n",
    "def Stirling(x, fx, x1, n):\n",
    " \n",
    "    y1 = 0; N1 = 1; d = 1;\n",
    "    N2 = 1; d2 = 1;\n",
    "    temp1 = 1; temp2 = 1;\n",
    "    k = 1; l = 1;\n",
    "    delta = [[0 for i in range(n)]\n",
    "                for j in range(n)];\n",
    " \n",
    "    h = x[1] - x[0];\n",
    "    s = math.floor(n / 2);\n",
    "    a = x[s];\n",
    "    u = (x1 - a) / h;\n",
    " \n",
    "    # Preparing the forward difference\n",
    "    # table\n",
    "    for i in range(n - 1):\n",
    "        delta[i][0] = fx[i + 1] - fx[i];\n",
    "    for i in range(1, n - 1):\n",
    "        for j in range(n - i - 1):\n",
    "            delta[j][i] = (delta[j + 1][i - 1] -\n",
    "                           delta[j][i - 1]);\n",
    " \n",
    "    # Calculating f(x) using the Stirling formula\n",
    "    y1 = fx[s];\n",
    " \n",
    "    for i in range(1, n):\n",
    "        if (i % 2 != 0):\n",
    "            if (k != 2):\n",
    "                temp1 *= (pow(u, k) - pow((k - 1), 2));\n",
    "            else:\n",
    "                temp1 *= (pow(u, 2) - pow((k - 1), 2));\n",
    "            k += 1;\n",
    "            d *= i;\n",
    "            s = math.floor((n - i) / 2);\n",
    "            y1 += (temp1 / (2 * d)) * (delta[s][i - 1] +\n",
    "                                       delta[s - 1][i - 1]);\n",
    "        else:\n",
    "            temp2 *= (pow(u, 2) - pow((l - 1), 2));\n",
    "            l += 1;\n",
    "            d *= i;\n",
    "            s = math.floor((n - i) / 2);\n",
    "            y1 += (temp2 / (d)) * (delta[s][i - 1]);\n",
    " \n",
    "    print(round(y1, 3));"
   ]
  },
  {
   "cell_type": "code",
   "execution_count": null,
   "id": "f7ef5ddd",
   "metadata": {},
   "outputs": [],
   "source": [
    " \n",
    "# Driver Code\n",
    "n = 5;\n",
    "x = [0, 0.5, 1.0, 1.5, 2.0 ];\n",
    "fx = [ 0, 0.191, 0.341, 0.433, 0.477];\n",
    " \n",
    "# Value to calculate f(x)\n",
    "x1 = 1.22;\n",
    "Stirling(x, fx, x1, n);"
   ]
  },
  {
   "cell_type": "code",
   "execution_count": null,
   "id": "926ac699",
   "metadata": {},
   "outputs": [],
   "source": []
  },
  {
   "cell_type": "code",
   "execution_count": null,
   "id": "c66970ef",
   "metadata": {},
   "outputs": [],
   "source": []
  },
  {
   "cell_type": "code",
   "execution_count": null,
   "id": "f1aa84bb",
   "metadata": {},
   "outputs": [],
   "source": []
  },
  {
   "cell_type": "code",
   "execution_count": null,
   "id": "a2edc294",
   "metadata": {},
   "outputs": [],
   "source": []
  },
  {
   "cell_type": "code",
   "execution_count": 10,
   "id": "9f33d6df",
   "metadata": {},
   "outputs": [],
   "source": [
    "def Newton_Bkd_Diff_Table(x, f_values):\n",
    "    Fwd_diff_table = DifferenceArray(f_values)\n",
    "    exp = input('Which value you want to find: ')\n",
    "    try:\n",
    "        value_to_find = float(exp)\n",
    "    except:\n",
    "        value_to_find = symbols(exp)\n",
    "        \n",
    "    b = x_values[-1]\n",
    "    h = round(x_values[1] - x_values[0], 5)\n",
    "    u = (value_to_find-b)/h\n",
    "    n = len(x_values)-1\n",
    "\n",
    "    cal = 0\n",
    "    j = 0\n",
    "\n",
    "    print(f'\\nb: {b}, h: {h}, u = ({value_to_find} - {b})/{h} : {u}\\n')\n",
    "\n",
    "    while n+1:\n",
    "        prod_cal = 1\n",
    "        c = 0\n",
    "\n",
    "        if j>0:\n",
    "            for i in range(j):\n",
    "                print(f'({u} + {c}) ', end=' ')\n",
    "                prod_cal *=  (u+c)\n",
    "                c+=1\n",
    "\n",
    "        if not j: temp = ''\n",
    "        else: temp = f'/ {j}! * '\n",
    "\n",
    "        print(f'{temp}{Fwd_diff_table[j][-1-j]} = {prod_cal/fac(j)*Fwd_diff_table[j][-1-j]}')\n",
    "        cal += prod_cal/fac(j) * Fwd_diff_table[j][-1-j]\n",
    "        j+=1  \n",
    "        n-=1\n",
    "\n",
    "    print(f\"\\nThe Value of f({value_to_find}) =  {cal}\")\n",
    "    return cal"
   ]
  },
  {
   "cell_type": "code",
   "execution_count": 9,
   "id": "635b3cf4",
   "metadata": {},
   "outputs": [],
   "source": [
    "def Newton_Fwd_Diff_Table(x, f_values):\n",
    "    Fwd_diff_table = DifferenceArray(f_values)\n",
    "    exp = input('Which value you want to find: ')\n",
    "    try:\n",
    "        value_to_find = float(exp)\n",
    "    except:\n",
    "        value_to_find = symbols(exp)\n",
    "        \n",
    "    a = x[0]\n",
    "    h = check_d_n_r(x[1] - x[0])\n",
    "    u = check_d_n_r((value_to_find-a)/h)\n",
    "    n = len(x)-1\n",
    "\n",
    "    cal = 0\n",
    "    j = 0\n",
    "\n",
    "\n",
    "    print(f'\\na: {a}, h: {h}, u = ({value_to_find} - {a})/{h} : {u}\\n')\n",
    "\n",
    "    while n+1:\n",
    "        prod_cal = 1\n",
    "        c = 0\n",
    "\n",
    "        if j>0:\n",
    "            for i in range(j):\n",
    "                print(f'({u} - {c}) ', end=' ')\n",
    "                prod_cal *=  (u-c)\n",
    "                c+=1\n",
    "\n",
    "        if not j: temp = ''\n",
    "        else: temp = f'/ {j}! * '\n",
    "\n",
    "        print(f'{temp}{Fwd_diff_table[j][0]} = {prod_cal/fac(j)*Fwd_diff_table[j][0]}')\n",
    "        cal += prod_cal/fac(j) * Fwd_diff_table[j][0]\n",
    "        j+=1  \n",
    "        n-=1\n",
    "\n",
    "    print(f\"\\nThe Value of f({value_to_find}) =  {cal}\")\n",
    "    return cal\n"
   ]
  },
  {
   "cell_type": "code",
   "execution_count": null,
   "id": "e1ab1e3e",
   "metadata": {},
   "outputs": [],
   "source": []
  },
  {
   "cell_type": "code",
   "execution_count": 28,
   "id": "324c164a",
   "metadata": {},
   "outputs": [
    {
     "data": {
      "text/plain": [
       "True"
      ]
     },
     "execution_count": 28,
     "metadata": {},
     "output_type": "execute_result"
    }
   ],
   "source": [
    "round(sum([0.048, 0.048, 0.048])/3, 5) == 0.048"
   ]
  },
  {
   "cell_type": "code",
   "execution_count": null,
   "id": "d97f2e29",
   "metadata": {},
   "outputs": [],
   "source": []
  },
  {
   "cell_type": "code",
   "execution_count": null,
   "id": "e5c102d5",
   "metadata": {},
   "outputs": [],
   "source": []
  },
  {
   "cell_type": "code",
   "execution_count": null,
   "id": "583af189",
   "metadata": {},
   "outputs": [],
   "source": []
  },
  {
   "cell_type": "code",
   "execution_count": 38,
   "id": "5d811deb",
   "metadata": {},
   "outputs": [],
   "source": [
    "eqns2 = []\n",
    "for i in range(len(eqns)):\n",
    "    p = np.poly1d([1])\n",
    "    for j in range(len(eqns[i])):\n",
    "        p *= np.poly1d(eqns[i][j])\n",
    "    eqns2.append(p)"
   ]
  },
  {
   "cell_type": "code",
   "execution_count": 57,
   "id": "2b7f73fe",
   "metadata": {},
   "outputs": [
    {
     "name": "stdout",
     "output_type": "stream",
     "text": [
      "-6*x**3 + 11*x**2 - 6*x + 1 / -24 * -21\n",
      "6*x**3 + x**2 - 4*x + 1 / 4 * 15\n",
      "3*x**3 - x**2 - 3*x + 1 / -3 * 12\n",
      "2*x**3 - x**2 - 2*x + 1 / 8 * 3\n"
     ]
    },
    {
     "data": {
      "text/latex": [
       "$\\displaystyle 1.0 x^{3} - 9.0 x^{2} + 17.0 x + 6.0$"
      ],
      "text/plain": [
       "1.0*x**3 - 9.0*x**2 + 17.0*x + 6.0"
      ]
     },
     "execution_count": 57,
     "metadata": {},
     "output_type": "execute_result"
    }
   ],
   "source": [
    "p = np.poly1d([0])\n",
    "for i in range(len(eqns2)):\n",
    "    meq = eqns2[i].coeffs\n",
    "    nr_eqn = \" \".join(coef_2_str(meq))\n",
    "    print(f'{str_to_expr(nr_eqn)} / {d[i]} * {n[i]}')\n",
    "    p += meq * n[i]/d[i]\n",
    "\n",
    "expr = \" \".join(coef_2_str(p.coef[::-1]))\n",
    "str_to_expr(expr)"
   ]
  },
  {
   "cell_type": "code",
   "execution_count": 52,
   "id": "abdd0e3a",
   "metadata": {},
   "outputs": [
    {
     "data": {
      "text/latex": [
       "$\\displaystyle 1.0 x^{3} - 9.0 x^{2} + 17.0 x + 6.0$"
      ],
      "text/plain": [
       "1.0*x**3 - 9.0*x**2 + 17.0*x + 6.0"
      ]
     },
     "execution_count": 52,
     "metadata": {},
     "output_type": "execute_result"
    }
   ],
   "source": [
    "parsing.sympy_parser.parse_expr(expr)"
   ]
  },
  {
   "cell_type": "code",
   "execution_count": null,
   "id": "446b8866",
   "metadata": {},
   "outputs": [],
   "source": []
  },
  {
   "cell_type": "code",
   "execution_count": null,
   "id": "0b510b93",
   "metadata": {},
   "outputs": [],
   "source": []
  },
  {
   "cell_type": "code",
   "execution_count": 15,
   "id": "608ef37b",
   "metadata": {},
   "outputs": [],
   "source": [
    "from math import factorial\n",
    " \n",
    "# input n\n",
    "n = 5\n",
    "def pascalTriangle(n):\n",
    "    result = []\n",
    "    for i in range(n):\n",
    "        temp = []\n",
    "\n",
    "        for j in range(i+1):\n",
    "            temp.append(factorial(i)//(factorial(j)*factorial(i-j)))\n",
    "        result.append(temp)\n",
    "    \n",
    "    res = []\n",
    "    for i in range(len(result[-1])):\n",
    "        if i%2!=0: res.append(result[-1][i] * -1)\n",
    "        else: res.append(result[-1][i])\n",
    "    return res"
   ]
  },
  {
   "cell_type": "code",
   "execution_count": 59,
   "id": "c38cf1ff",
   "metadata": {},
   "outputs": [
    {
     "data": {
      "text/plain": [
       "[1, -4, 6, -4, 1]"
      ]
     },
     "execution_count": 59,
     "metadata": {},
     "output_type": "execute_result"
    }
   ],
   "source": [
    "pascalTriangle(5)"
   ]
  },
  {
   "cell_type": "code",
   "execution_count": null,
   "id": "2b027695",
   "metadata": {},
   "outputs": [],
   "source": []
  },
  {
   "cell_type": "code",
   "execution_count": null,
   "id": "0011214a",
   "metadata": {},
   "outputs": [],
   "source": []
  },
  {
   "cell_type": "markdown",
   "id": "e84b70ae",
   "metadata": {},
   "source": [
    "## Missing Value"
   ]
  },
  {
   "cell_type": "code",
   "execution_count": 27,
   "id": "ef75bb08",
   "metadata": {},
   "outputs": [],
   "source": [
    "import sympy"
   ]
  },
  {
   "cell_type": "code",
   "execution_count": 28,
   "id": "8ee8ba8e",
   "metadata": {},
   "outputs": [],
   "source": [
    "def signsCal(coef):\n",
    "    signs = []\n",
    "    for i in coef:\n",
    "        if i >= 0:\n",
    "            signs.append('+')\n",
    "        else:\n",
    "            signs.append('-')\n",
    "    return signs"
   ]
  },
  {
   "cell_type": "code",
   "execution_count": 34,
   "id": "09d1c1f8",
   "metadata": {},
   "outputs": [
    {
     "name": "stdout",
     "output_type": "stream",
     "text": [
      "+1*(E-1)**4 -4*(E-1)**3 +6*(E-1)**2 -4*(E-1)**1 +1*(E-1)**0 \n",
      "-4*(-1 + E)**3 - 4*E + 5 + (-1 + E)**4 + 6*(-1 + E)**2\n"
     ]
    }
   ],
   "source": [
    "coef = pascalTriangle(5)\n",
    "signs = signsCal(coef)\n",
    "\n",
    "E_string = ''\n",
    "deg = len(coef)-1\n",
    "E = symbols('E')\n",
    "\n",
    "for i in range(len(coef)):\n",
    "    if coef[i] >= 0:\n",
    "        E_string += f'{signs[i]}{coef[i]}*(E-1)**{int(deg - i)} '\n",
    "    else:\n",
    "        E_string += f'{coef[i]}*(E-1)**{int(deg - i)} '\n",
    "\n",
    "    \n",
    "print(E_string)\n",
    "print(sympy.parsing.sympy_parser.parse_expr(E_string))\n"
   ]
  },
  {
   "cell_type": "code",
   "execution_count": 56,
   "id": "b8586ae8",
   "metadata": {},
   "outputs": [
    {
     "name": "stdout",
     "output_type": "stream",
     "text": [
      "Here 4 values of f(x) are given\n",
      "  ∴ ∆^4  f(x) = 0, ∀x\n",
      "  (E - 1)^4 f(x) = 0 \n",
      " ( -4*(-1 + E)**3 - 4*E + 5 + (-1 + E)**4 + 6*(-1 + E)**2 ) * f(0)\n",
      "  -4*(-1 + E)**3*f(0) - (-4 + 4*E)*f(0) + f(0) + (-1 + E)**4*f(0) + 6*(-1 + E)**2*f(0)\n"
     ]
    }
   ],
   "source": [
    "x_list = [0,1,2,3,4]\n",
    "f_list = [1,3,9,'?', 81]\n",
    "del_op = drawOperator('∆', len(f_list))\n",
    "a = x_list[0]\n",
    "num_fx = len(f_list) - f_list.count(\"?\")\n",
    "coef = pascalTriangle(5)\n",
    "signs = signsCal(coef)\n",
    "E_string = ''\n",
    "deg = len(coef)-1\n",
    "E = symbols('E')\n",
    "\n",
    "print( f'Here {num_fx} values of f(x) are given')\n",
    "print(f'  ∴ {del_op[num_fx]} f(x) = 0, ∀x')\n",
    "print(f'  (E - 1)^{num_fx} f(x) = 0 ')\n",
    "\n",
    "\n",
    "\n",
    "for i in range(len(coef)):\n",
    "    if coef[i] >= 0:\n",
    "        E_string += f'{signs[i]}{coef[i]}*(E-1)**{int(deg - i)}'\n",
    "    else:\n",
    "        E_string += f'{coef[i]}*(E-1)**{int(deg - i)} '\n",
    "\n",
    "print(f' ( {str(sympy.parsing.sympy_parser.parse_expr(E_string))} ) * f({a})')\n",
    "\n",
    "E_string2 = ''\n",
    "for i in range(len(coef)):\n",
    "    if coef[i] >= 0:\n",
    "        E_string2 += f'{signs[i]}{coef[i]}*(E-1)**{int(deg - i)} * f({a})'\n",
    "    else:\n",
    "        E_string2 += f'{coef[i]}*(E-1)**{int(deg - i)} *f({a})'\n",
    "print(' ', str(sympy.parsing.sympy_parser.parse_expr(E_string2)))"
   ]
  },
  {
   "cell_type": "code",
   "execution_count": 63,
   "id": "ab0bacde",
   "metadata": {},
   "outputs": [],
   "source": [
    "coefs = pascalTriangle(len(f_list))\n",
    "j = 0\n",
    "E_string = ''\n",
    "for i in range(len(coefs)-1, -1, -1):\n",
    "    if i>1:\n",
    "        E = symbols(f'E**{i}')\n",
    "    elif i==1:\n",
    "        E = symbols('E')\n",
    "    E_string += str(coefs[j] * E) + ' '\n",
    "    j+=1"
   ]
  },
  {
   "cell_type": "code",
   "execution_count": 64,
   "id": "813c5306",
   "metadata": {},
   "outputs": [
    {
     "data": {
      "text/plain": [
       "'E**4 -4*E**3 6*E**2 -4*E E '"
      ]
     },
     "execution_count": 64,
     "metadata": {},
     "output_type": "execute_result"
    }
   ],
   "source": [
    "E_string"
   ]
  },
  {
   "cell_type": "code",
   "execution_count": null,
   "id": "f31b0df8",
   "metadata": {},
   "outputs": [],
   "source": []
  },
  {
   "cell_type": "code",
   "execution_count": 201,
   "id": "3b2159da",
   "metadata": {},
   "outputs": [
    {
     "ename": "SyntaxError",
     "evalue": "invalid syntax (Temp/ipykernel_6576/3496345486.py, line 11)",
     "output_type": "error",
     "traceback": [
      "\u001b[1;36m  File \u001b[1;32m\"C:\\Users\\CLEOPH~1\\AppData\\Local\\Temp/ipykernel_6576/3496345486.py\"\u001b[1;36m, line \u001b[1;32m11\u001b[0m\n\u001b[1;33m    tem[0][]\u001b[0m\n\u001b[1;37m           ^\u001b[0m\n\u001b[1;31mSyntaxError\u001b[0m\u001b[1;31m:\u001b[0m invalid syntax\n"
     ]
    }
   ],
   "source": [
    " \n",
    "\"\"\"\n",
    "0,0,\n",
    "0,1 | 1,0\n",
    "0,2 | 1,1 | 2,0\n",
    "0,3 | 1,2 | 2,1 | 3,0\n",
    "0,4 | 1,3 | 2,2 | 3,1 | 4,0\n",
    "0,5 | 1,4 | 2,3 | 3,2 | 5,0\n",
    "0,6 | 1,5 | 2,4 | 3,3 | 6,0\n",
    "\"\"\"\n",
    "\n",
    "tem[0][]  "
   ]
  },
  {
   "cell_type": "code",
   "execution_count": 69,
   "id": "e2ccafe6",
   "metadata": {},
   "outputs": [
    {
     "name": "stdout",
     "output_type": "stream",
     "text": [
      "1 | (j,i):  (0, 0) | \n",
      "-----------------------\n",
      "2 | (j,i):  (0, 1) | (j,i):  (1, 1) | \n",
      "-----------------------\n",
      "3 | (j,i):  (0, 2) | (j,i):  (1, 2) | (j,i):  (2, 2) | \n",
      "-----------------------\n",
      "4 | (j,i):  (0, 3) | (j,i):  (1, 3) | (j,i):  (2, 3) | (j,i):  (3, 3) | \n",
      "-----------------------\n",
      "5 | (j,i):  (0, 4) | (j,i):  (1, 4) | (j,i):  (2, 4) | (j,i):  (3, 4) | (j,i):  (4, 4) | \n",
      "-----------------------\n",
      "6 | (j,i):  (0, 5) | (j,i):  (1, 5) | (j,i):  (2, 5) | (j,i):  (3, 5) | (j,i):  (4, 5) | (j,i):  (5, 5) | \n",
      "-----------------------\n",
      "7 | (j,i):  (0, 6) | (j,i):  (1, 6) | (j,i):  (2, 6) | (j,i):  (3, 6) | (j,i):  (4, 6) | (j,i):  (5, 6) | (j,i):  (6, 6) | \n",
      "-----------------------\n",
      "8 | (j,i):  (0, 7) | (j,i):  (1, 7) | (j,i):  (2, 7) | (j,i):  (3, 7) | (j,i):  (4, 7) | (j,i):  (5, 7) | (j,i):  (6, 7) | (j,i):  (7, 7) | \n",
      "-----------------------\n"
     ]
    }
   ],
   "source": [
    "i=0\n",
    "for k in range(len(x_values)):\n",
    "    j = 0\n",
    "    print(x_values[k],end=' | ')\n",
    "    tempstr = ''\n",
    "    \n",
    "    \n",
    "    while i+1 > j:\n",
    "        try:\n",
    "            print('(j,i): ', (j, i),end= ' | ')\n",
    "#             print(tem[j][i],end=' | ')\n",
    "            \n",
    "        except:\n",
    "            pass\n",
    "        j+=1\n",
    "        \n",
    "    i += 1\n",
    "    print('\\n-----------------------')\n",
    "    \"\"\"\n",
    "0,0,\n",
    "0,1 | 1,0\n",
    "0,2 | 1,1 | 2,0\n",
    "0,3 | 1,2 | 2,1 | 3,0\n",
    "0,4 | 1,3 | 2,2 | 3,1 | 4,0\n",
    "0,5 | 1,4 | 2,3 | 3,2 | 5,0\n",
    "0,6 | 1,5 | 2,4 | 3,3 | 6,0\n",
    "\"\"\"\n",
    "    "
   ]
  },
  {
   "cell_type": "code",
   "execution_count": 15,
   "id": "7680cf2c",
   "metadata": {},
   "outputs": [
    {
     "data": {
      "text/plain": [
       "8"
      ]
     },
     "execution_count": 15,
     "metadata": {},
     "output_type": "execute_result"
    }
   ],
   "source": [
    "tem[0][1]"
   ]
  },
  {
   "cell_type": "markdown",
   "id": "e635b5f1",
   "metadata": {},
   "source": [
    " "
   ]
  },
  {
   "cell_type": "markdown",
   "id": "ddc5db75",
   "metadata": {},
   "source": [
    " "
   ]
  },
  {
   "cell_type": "markdown",
   "id": "2c9c1575",
   "metadata": {},
   "source": [
    " "
   ]
  },
  {
   "cell_type": "markdown",
   "id": "3b56afd0",
   "metadata": {},
   "source": [
    "###### [Index](#Index)"
   ]
  },
  {
   "cell_type": "code",
   "execution_count": 126,
   "id": "c5c1f3c5",
   "metadata": {
    "collapsed": true
   },
   "outputs": [
    {
     "name": "stdout",
     "output_type": "stream",
     "text": [
      "------------------------------------------------------------------------------\n",
      "|  x   |   f(x)  |       ∆ f(x)      |      ∆^2 f(x)     |      ∆^3 f(x)     |\n",
      "------------------------------------------------------------------------------\n",
      "|  10 |    9   |   ∆ f(10) = 30    |   ∆^2 f(10) = 5   |   ∆^3 f(10) = 0   |\n",
      "------------------------------------------------------------------------------\n",
      "|  20 |    39   |   ∆ f(20) = 35    |   ∆^2 f(20) = 5   |                   |\n",
      "------------------------------------------------------------------------------\n",
      "|  30 |    74   |   ∆ f(30) = 40    |                   |                   |\n",
      "------------------------------------------------------------------------------\n",
      "|  40 |   114   |                                                           |\n",
      "------------------------------------------------------------------------------\n",
      "\n",
      "Which Value you want to find: 15\n",
      "\n",
      "a: 10, h: 10, u = (15.0 - 10)/10 : 0.5\n",
      "\n",
      "9 = 9.0\n",
      "(0.5 - 0)  / 1! * 30 = 15.0\n",
      "(0.5 - 0)  (0.5 - 1)  / 2! * 5 = -0.625\n",
      "(0.5 - 0)  (0.5 - 1)  (0.5 - 2)  / 3! * 0 = 0.0\n",
      "\n",
      "The Value of f(15.0) =  23.375\n"
     ]
    }
   ],
   "source": []
  },
  {
   "cell_type": "markdown",
   "id": "25ab02d8",
   "metadata": {},
   "source": [
    " "
   ]
  },
  {
   "cell_type": "markdown",
   "id": "74692c3f",
   "metadata": {},
   "source": [
    " "
   ]
  },
  {
   "cell_type": "markdown",
   "id": "8ef9a404",
   "metadata": {},
   "source": [
    " "
   ]
  },
  {
   "cell_type": "markdown",
   "id": "dcfeb452",
   "metadata": {},
   "source": [
    "##### [index](#Index)"
   ]
  },
  {
   "cell_type": "code",
   "execution_count": 136,
   "id": "f07314b3",
   "metadata": {},
   "outputs": [],
   "source": [
    "def Newton_Bkd_Diff_Table(x, f_values):\n",
    "    Fwd_diff_table = DifferenceArray(f_values)\n",
    "    value_to_find = float(input(\"\\nWhich Value you want to find: \"))\n",
    "\n",
    "    b = x_values[-1]\n",
    "    h = x_values[1] - x_values[0]\n",
    "    u = (value_to_find-b)/h\n",
    "    n = len(x_values)-1\n",
    "\n",
    "    cal = 0\n",
    "    j = 0\n",
    "\n",
    "    print(f'\\nb: {b}, h: {h}, u = ({value_to_find} - {b})/{h} : {u}\\n')\n",
    "\n",
    "    while n+1:\n",
    "        prod_cal = 1\n",
    "        c = 0\n",
    "\n",
    "        if j>0:\n",
    "            for i in range(j):\n",
    "                print(f'({u} + {c}) ', end=' ')\n",
    "                prod_cal *=  (u+c)\n",
    "                c+=1\n",
    "\n",
    "        if not j: temp = ''\n",
    "        else: temp = f'/ {j}! * '\n",
    "\n",
    "        print(f'{temp}{Fwd_diff_table[j][-1-j]} = {prod_cal/fac(j)*Fwd_diff_table[j][-1-j]}')\n",
    "        cal += prod_cal/fac(j) * Fwd_diff_table[j][-1-j]\n",
    "        j+=1  \n",
    "        n-=1\n",
    "\n",
    "    print(f\"\\nThe Value of f({value_to_find}) =  {cal}\")"
   ]
  },
  {
   "cell_type": "code",
   "execution_count": 137,
   "id": "a1b9ff04",
   "metadata": {
    "collapsed": true
   },
   "outputs": [
    {
     "name": "stdout",
     "output_type": "stream",
     "text": [
      "\n",
      "Which Value you want to find: 7.5\n",
      "\n",
      "b: 8, h: 1, u = (7.5 - 8)/1 : -0.5\n",
      "\n",
      "512 = 512.0\n",
      "(-0.5 + 0)  / 1! * 169 = -84.5\n",
      "(-0.5 + 0)  (-0.5 + 1)  / 2! * 42 = -5.25\n",
      "(-0.5 + 0)  (-0.5 + 1)  (-0.5 + 2)  / 3! * 6 = -0.375\n",
      "(-0.5 + 0)  (-0.5 + 1)  (-0.5 + 2)  (-0.5 + 3)  / 4! * 0 = -0.0\n",
      "(-0.5 + 0)  (-0.5 + 1)  (-0.5 + 2)  (-0.5 + 3)  (-0.5 + 4)  / 5! * 0 = -0.0\n",
      "(-0.5 + 0)  (-0.5 + 1)  (-0.5 + 2)  (-0.5 + 3)  (-0.5 + 4)  (-0.5 + 5)  / 6! * 0 = -0.0\n",
      "(-0.5 + 0)  (-0.5 + 1)  (-0.5 + 2)  (-0.5 + 3)  (-0.5 + 4)  (-0.5 + 5)  (-0.5 + 6)  / 7! * 0 = -0.0\n",
      "\n",
      "The Value of f(7.5) =  421.875\n"
     ]
    }
   ],
   "source": [
    "x_values =  [i for i in range(1, 9)]\n",
    "f_values =  [i**3 for i in range(1, 9)]\n",
    "\n",
    "if len(f_values)<6:\n",
    "    DrawBackDiffTable(x_values, f_values)\n",
    "\n",
    "Newton_Bkd_Diff_Table(x_values, f_values)"
   ]
  },
  {
   "cell_type": "code",
   "execution_count": null,
   "id": "9a10e491",
   "metadata": {},
   "outputs": [],
   "source": []
  },
  {
   "cell_type": "markdown",
   "id": "1a4f626e",
   "metadata": {},
   "source": [
    "## Finding the Polynomial Equation"
   ]
  },
  {
   "cell_type": "code",
   "execution_count": 185,
   "id": "c6a17e75",
   "metadata": {},
   "outputs": [
    {
     "name": "stdout",
     "output_type": "stream",
     "text": [
      "------------------------------------------------------------------------------\n",
      "|  x   |   f(x)  |       ∇ f(x)      |      ∇^2 f(x)     |      ∇^3 f(x)     |\n",
      "------------------------------------------------------------------------------\n",
      "|  0   |    1   |    ∇ f(1) = 2     |   ∇^2 f(2) = 2    |   ∇^3 f(3) = 0    |\n",
      "------------------------------------------------------------------------------\n",
      "|  1   |    3   |    ∇ f(2) = 4     |   ∇^2 f(3) = 2    |                   |\n",
      "------------------------------------------------------------------------------\n",
      "|  2   |    7   |    ∇ f(3) = 6     |                   |                   |\n",
      "------------------------------------------------------------------------------\n",
      "|  3   |    13   |                                                           |\n",
      "------------------------------------------------------------------------------\n",
      "Which value you want to find: o\n",
      "\n",
      "b: 3, h: 1, u = (o - 3)/1 : o - 3\n",
      "\n",
      "13 = 13.0\n",
      "(o - 3 + 0)  / 1! * 6 = 6*o - 18\n",
      "(o - 3 + 0)  (o - 3 + 1)  / 2! * 2 = (o - 3)*(o - 2)\n",
      "(o - 3 + 0)  (o - 3 + 1)  (o - 3 + 2)  / 3! * 0 = 0\n",
      "\n",
      "The Value of f(o) =  6*o + (o - 3)*(o - 2) - 5.0\n"
     ]
    }
   ],
   "source": [
    "x_values = [i for i in range(4)]\n",
    "f_values = [1,3,7,13]\n",
    "DrawBackDiffTable(x_values, f_values)\n",
    "Newton_Bkd_Diff_Table(x_values, f_values)"
   ]
  },
  {
   "cell_type": "code",
   "execution_count": null,
   "id": "e283e5fa",
   "metadata": {},
   "outputs": [],
   "source": []
  },
  {
   "cell_type": "code",
   "execution_count": null,
   "id": "fbb8739f",
   "metadata": {},
   "outputs": [],
   "source": []
  },
  {
   "cell_type": "code",
   "execution_count": null,
   "id": "abdc8499",
   "metadata": {},
   "outputs": [],
   "source": []
  },
  {
   "cell_type": "code",
   "execution_count": 141,
   "id": "072dfd49",
   "metadata": {},
   "outputs": [],
   "source": []
  },
  {
   "cell_type": "code",
   "execution_count": 173,
   "id": "933a5727",
   "metadata": {},
   "outputs": [],
   "source": [
    "def Newton_Bkd_Diff_Table(x, f_values):\n",
    "    Fwd_diff_table = DifferenceArray(f_values)\n",
    "    exp = input('Which value you want to find: ')\n",
    "    try:\n",
    "        value_to_find = float(exp)\n",
    "    except:\n",
    "        value_to_find = symbols(exp)\n",
    "        \n",
    "    b = x_values[-1]\n",
    "    h = x_values[1] - x_values[0]\n",
    "    u = (value_to_find-b)/h\n",
    "    n = len(x_values)-1\n",
    "\n",
    "    cal = 0\n",
    "    j = 0\n",
    "\n",
    "    print(f'\\nb: {b}, h: {h}, u = ({value_to_find} - {b})/{h} : {u}\\n')\n",
    "\n",
    "    while n+1:\n",
    "        prod_cal = 1\n",
    "        c = 0\n",
    "\n",
    "        if j>0:\n",
    "            for i in range(j):\n",
    "                print(f'({u} + {c}) ', end=' ')\n",
    "                prod_cal *=  (u+c)\n",
    "                c+=1\n",
    "\n",
    "        if not j: temp = ''\n",
    "        else: temp = f'/ {j}! * '\n",
    "\n",
    "        print(f'{temp}{Fwd_diff_table[j][-1-j]} = {prod_cal/fac(j)*Fwd_diff_table[j][-1-j]}')\n",
    "        cal += prod_cal/fac(j) * Fwd_diff_table[j][-1-j]\n",
    "        j+=1  \n",
    "        n-=1\n",
    "\n",
    "    print(f\"\\nThe Value of f({value_to_find}) =  {cal}\")"
   ]
  },
  {
   "cell_type": "code",
   "execution_count": 183,
   "id": "9b7f4a3f",
   "metadata": {},
   "outputs": [
    {
     "name": "stdout",
     "output_type": "stream",
     "text": [
      "------------------------------------------------------------------------------\n",
      "|  x   |   f(x)  |       ∇ f(x)      |      ∇^2 f(x)     |      ∇^3 f(x)     |\n",
      "------------------------------------------------------------------------------\n",
      "|  0   |    1   |    ∇ f(1) = 2     |   ∇^2 f(2) = 2    |   ∇^3 f(3) = 0    |\n",
      "------------------------------------------------------------------------------\n",
      "|  1   |    3   |    ∇ f(2) = 4     |   ∇^2 f(3) = 2    |                   |\n",
      "------------------------------------------------------------------------------\n",
      "|  2   |    7   |    ∇ f(3) = 6     |                   |                   |\n",
      "------------------------------------------------------------------------------\n",
      "|  3   |    13   |                                                           |\n",
      "------------------------------------------------------------------------------\n",
      "Which value you want to find: x\n",
      "\n",
      "b: 3, h: 1, u = (x - 3)/1 : x - 3\n",
      "\n",
      "13 = 13.0\n",
      "(x - 3 + 0)  / 1! * 6 = 6*x - 18\n",
      "(x - 3 + 0)  (x - 3 + 1)  / 2! * 2 = (x - 3)*(x - 2)\n",
      "(x - 3 + 0)  (x - 3 + 1)  (x - 3 + 2)  / 3! * 0 = 0\n",
      "\n",
      "The Value of f(x) =  6*x + (x - 3)*(x - 2) - 5.0\n"
     ]
    }
   ],
   "source": [
    "x_values = [i for i in range(4)]\n",
    "f_values = [1,3,7,13]\n",
    "DrawBackDiffTable(x_values, f_values)\n",
    "Newton_Bkd_Diff_Table(x_values, f_values)"
   ]
  },
  {
   "cell_type": "code",
   "execution_count": null,
   "id": "a47e8b1c",
   "metadata": {},
   "outputs": [],
   "source": []
  },
  {
   "cell_type": "code",
   "execution_count": null,
   "id": "890ef6c8",
   "metadata": {},
   "outputs": [],
   "source": []
  },
  {
   "cell_type": "code",
   "execution_count": null,
   "id": "a403909a",
   "metadata": {},
   "outputs": [],
   "source": []
  },
  {
   "cell_type": "code",
   "execution_count": null,
   "id": "e62572cd",
   "metadata": {},
   "outputs": [],
   "source": []
  },
  {
   "cell_type": "code",
   "execution_count": null,
   "id": "9d3694cf",
   "metadata": {},
   "outputs": [],
   "source": []
  },
  {
   "cell_type": "code",
   "execution_count": 1,
   "id": "f6b3af84",
   "metadata": {},
   "outputs": [],
   "source": [
    "from sympy import symbols"
   ]
  },
  {
   "cell_type": "code",
   "execution_count": 9,
   "id": "34f7a8c2",
   "metadata": {},
   "outputs": [
    {
     "ename": "TypeError",
     "evalue": "__mul__() missing 1 required positional argument: 'val'",
     "output_type": "error",
     "traceback": [
      "\u001b[1;31m---------------------------------------------------------------------------\u001b[0m",
      "\u001b[1;31mTypeError\u001b[0m                                 Traceback (most recent call last)",
      "\u001b[1;32mC:\\Users\\CLEOPH~1\\AppData\\Local\\Temp/ipykernel_2284/2585479595.py\u001b[0m in \u001b[0;36m<module>\u001b[1;34m\u001b[0m\n\u001b[1;32m----> 1\u001b[1;33m \u001b[0mPolynomial\u001b[0m\u001b[1;33m(\u001b[0m\u001b[1;33m(\u001b[0m\u001b[0mx\u001b[0m\u001b[1;33m-\u001b[0m\u001b[1;36m3\u001b[0m\u001b[1;33m)\u001b[0m\u001b[1;33m,\u001b[0m \u001b[1;33m(\u001b[0m\u001b[0mx\u001b[0m\u001b[1;33m-\u001b[0m\u001b[1;36m2\u001b[0m\u001b[1;33m)\u001b[0m\u001b[1;33m,\u001b[0m \u001b[1;33m(\u001b[0m\u001b[0mx\u001b[0m\u001b[1;33m-\u001b[0m\u001b[1;36m3\u001b[0m\u001b[1;33m)\u001b[0m\u001b[1;33m)\u001b[0m\u001b[1;33m.\u001b[0m\u001b[0m__mul__\u001b[0m\u001b[1;33m(\u001b[0m\u001b[1;33m)\u001b[0m\u001b[1;33m\u001b[0m\u001b[1;33m\u001b[0m\u001b[0m\n\u001b[0m",
      "\u001b[1;31mTypeError\u001b[0m: __mul__() missing 1 required positional argument: 'val'"
     ]
    }
   ],
   "source": [
    "Polynomial((x-3), (x-2), (x-3)).__mul__()"
   ]
  },
  {
   "cell_type": "code",
   "execution_count": 2,
   "id": "dcfc11bd",
   "metadata": {},
   "outputs": [],
   "source": [
    "x = symbols('x')"
   ]
  },
  {
   "cell_type": "code",
   "execution_count": 3,
   "id": "852a00b2",
   "metadata": {},
   "outputs": [
    {
     "data": {
      "text/latex": [
       "$\\displaystyle \\left(x - 3\\right) \\left(x - 2\\right) \\left(x - 1\\right)$"
      ],
      "text/plain": [
       "(x - 3)*(x - 2)*(x - 1)"
      ]
     },
     "execution_count": 3,
     "metadata": {},
     "output_type": "execute_result"
    }
   ],
   "source": [
    "(x-1)*(x-2)*(x-3)"
   ]
  },
  {
   "cell_type": "code",
   "execution_count": 11,
   "id": "5f12e8f0",
   "metadata": {},
   "outputs": [
    {
     "data": {
      "text/plain": [
       "poly1d([ 1, -3,  2])"
      ]
     },
     "execution_count": 11,
     "metadata": {},
     "output_type": "execute_result"
    }
   ],
   "source": [
    "import numpy as np\n",
    "\n",
    "p1 = np.poly1d([1, -1])\n",
    "p2 = np.poly1d([1, -2])\n",
    "p1*p2"
   ]
  },
  {
   "cell_type": "code",
   "execution_count": null,
   "id": "d46db24a",
   "metadata": {},
   "outputs": [],
   "source": []
  },
  {
   "cell_type": "code",
   "execution_count": 56,
   "id": "0fc80463",
   "metadata": {},
   "outputs": [
    {
     "data": {
      "text/plain": [
       "[[1, 8, 27, 64, 125, 216, 343, 512],\n",
       " [7, 19, 37, 61, 91, 127, 169, '-'],\n",
       " [12, 18, 24, 30, 36, 42, '-', '-'],\n",
       " [6, 6, 6, 6, 6, '-', '-', '-'],\n",
       " [0, '-', '-', '-', '-', '-', '-', '-']]"
      ]
     },
     "execution_count": 56,
     "metadata": {},
     "output_type": "execute_result"
    }
   ],
   "source": [
    "x_values =  [i for i in range(1, 9)]\n",
    "f_values =  [i**3 for i in range(1, 9)]\n",
    "\n",
    "Fwd_diff_table = []\n",
    "n = len(f_values)\n",
    "\n",
    "while len(f_values)!=0:\n",
    "    Fwd_diff_table.append(f_values)\n",
    "    f_values = Difference(f_values)\n",
    "\n",
    "Fwd_diff_table2 = []\n",
    "for i in range(len(Fwd_diff_table)):\n",
    "    cnt_0 = 0\n",
    "    for j in range(len(Fwd_diff_table[i])):\n",
    "        if Fwd_diff_table[i][j] == 0:\n",
    "            cnt_0 += 1\n",
    "            \n",
    "    if cnt_0<2:\n",
    "        Fwd_diff_table2.append(Fwd_diff_table[i])\n",
    "\n",
    "for i in range(len(Fwd_diff_table2)):\n",
    "    if i!=len(Fwd_diff_table2):\n",
    "        Fwd_diff_table2[i] += ['-']*(n - len(Fwd_diff_table2[i]))\n",
    "        \n",
    "Fwd_diff_table2"
   ]
  },
  {
   "cell_type": "code",
   "execution_count": null,
   "id": "47dfcbfb",
   "metadata": {},
   "outputs": [],
   "source": []
  },
  {
   "cell_type": "code",
   "execution_count": 73,
   "id": "de578575",
   "metadata": {},
   "outputs": [],
   "source": [
    "temp = [[1, 8, 27, 64, 125, 216, 343, 512],\n",
    " [7, 19, 37, 61, 91, 127, 169, '-'],\n",
    " [12, 18, 24, 30, 36, 42, '-', '-'],\n",
    " [6, 6, 6, 6, 6, '-', '-', '-'],\n",
    " [0, '-', '-', '-', '-', '-', '-', '-']]"
   ]
  },
  {
   "cell_type": "code",
   "execution_count": 75,
   "id": "a83dd590",
   "metadata": {},
   "outputs": [
    {
     "ename": "TypeError",
     "evalue": "unsupported operand type(s) for -: 'list' and 'list'",
     "output_type": "error",
     "traceback": [
      "\u001b[1;31m---------------------------------------------------------------------------\u001b[0m",
      "\u001b[1;31mTypeError\u001b[0m                                 Traceback (most recent call last)",
      "\u001b[1;32mC:\\Users\\CLEOPH~1\\AppData\\Local\\Temp/ipykernel_11244/1614538185.py\u001b[0m in \u001b[0;36m<module>\u001b[1;34m\u001b[0m\n\u001b[1;32m----> 1\u001b[1;33m \u001b[0mDrawBackDiffTable\u001b[0m\u001b[1;33m(\u001b[0m\u001b[0mx_values\u001b[0m\u001b[1;33m,\u001b[0m \u001b[0mtemp\u001b[0m\u001b[1;33m)\u001b[0m\u001b[1;33m\u001b[0m\u001b[1;33m\u001b[0m\u001b[0m\n\u001b[0m",
      "\u001b[1;32mC:\\Users\\CLEOPH~1\\AppData\\Local\\Temp/ipykernel_11244/403019596.py\u001b[0m in \u001b[0;36mDrawBackDiffTable\u001b[1;34m(x, f_values, write)\u001b[0m\n\u001b[0;32m      1\u001b[0m \u001b[1;32mdef\u001b[0m \u001b[0mDrawBackDiffTable\u001b[0m\u001b[1;33m(\u001b[0m\u001b[0mx\u001b[0m\u001b[1;33m,\u001b[0m \u001b[0mf_values\u001b[0m\u001b[1;33m,\u001b[0m \u001b[0mwrite\u001b[0m\u001b[1;33m=\u001b[0m\u001b[1;32mFalse\u001b[0m\u001b[1;33m)\u001b[0m\u001b[1;33m:\u001b[0m\u001b[1;33m\u001b[0m\u001b[1;33m\u001b[0m\u001b[0m\n\u001b[1;32m----> 2\u001b[1;33m     \u001b[0mFwd_diff_table\u001b[0m \u001b[1;33m=\u001b[0m \u001b[0mDifferenceArray\u001b[0m\u001b[1;33m(\u001b[0m\u001b[0mf_values\u001b[0m\u001b[1;33m)\u001b[0m\u001b[1;33m\u001b[0m\u001b[1;33m\u001b[0m\u001b[0m\n\u001b[0m\u001b[0;32m      3\u001b[0m \u001b[1;33m\u001b[0m\u001b[0m\n\u001b[0;32m      4\u001b[0m     \u001b[0mdel_string\u001b[0m \u001b[1;33m=\u001b[0m \u001b[0mgetOperator\u001b[0m\u001b[1;33m(\u001b[0m\u001b[0mFwd_diff_table\u001b[0m\u001b[1;33m,\u001b[0m \u001b[1;34m'∇'\u001b[0m\u001b[1;33m)\u001b[0m\u001b[1;33m\u001b[0m\u001b[1;33m\u001b[0m\u001b[0m\n\u001b[0;32m      5\u001b[0m     \u001b[0mdel_op_inv\u001b[0m \u001b[1;33m=\u001b[0m \u001b[0mdrawOperator\u001b[0m\u001b[1;33m(\u001b[0m\u001b[1;34m'∇'\u001b[0m\u001b[1;33m,\u001b[0m \u001b[0mlen\u001b[0m\u001b[1;33m(\u001b[0m\u001b[0mFwd_diff_table\u001b[0m\u001b[1;33m)\u001b[0m\u001b[1;33m)\u001b[0m\u001b[1;33m\u001b[0m\u001b[1;33m\u001b[0m\u001b[0m\n",
      "\u001b[1;32mC:\\Users\\CLEOPH~1\\AppData\\Local\\Temp/ipykernel_11244/437306.py\u001b[0m in \u001b[0;36mDifferenceArray\u001b[1;34m(f_values)\u001b[0m\n\u001b[0;32m      5\u001b[0m     \u001b[1;32mwhile\u001b[0m \u001b[0mlen\u001b[0m\u001b[1;33m(\u001b[0m\u001b[0mf_values\u001b[0m\u001b[1;33m)\u001b[0m\u001b[1;33m!=\u001b[0m\u001b[1;36m0\u001b[0m\u001b[1;33m:\u001b[0m\u001b[1;33m\u001b[0m\u001b[1;33m\u001b[0m\u001b[0m\n\u001b[0;32m      6\u001b[0m         \u001b[0mFwd_diff_table\u001b[0m\u001b[1;33m.\u001b[0m\u001b[0mappend\u001b[0m\u001b[1;33m(\u001b[0m\u001b[0mf_values\u001b[0m\u001b[1;33m)\u001b[0m\u001b[1;33m\u001b[0m\u001b[1;33m\u001b[0m\u001b[0m\n\u001b[1;32m----> 7\u001b[1;33m         \u001b[0mf_values\u001b[0m \u001b[1;33m=\u001b[0m \u001b[0mDifference\u001b[0m\u001b[1;33m(\u001b[0m\u001b[0mf_values\u001b[0m\u001b[1;33m)\u001b[0m\u001b[1;33m\u001b[0m\u001b[1;33m\u001b[0m\u001b[0m\n\u001b[0m\u001b[0;32m      8\u001b[0m \u001b[1;33m\u001b[0m\u001b[0m\n\u001b[0;32m      9\u001b[0m     \u001b[0mFwd_diff_table2\u001b[0m \u001b[1;33m=\u001b[0m \u001b[1;33m[\u001b[0m\u001b[1;33m]\u001b[0m\u001b[1;33m\u001b[0m\u001b[1;33m\u001b[0m\u001b[0m\n",
      "\u001b[1;32mC:\\Users\\CLEOPH~1\\AppData\\Local\\Temp/ipykernel_11244/2030306128.py\u001b[0m in \u001b[0;36mDifference\u001b[1;34m(f_values)\u001b[0m\n\u001b[0;32m      2\u001b[0m     \u001b[0mdel_values\u001b[0m \u001b[1;33m=\u001b[0m \u001b[1;33m[\u001b[0m\u001b[1;33m]\u001b[0m\u001b[1;33m\u001b[0m\u001b[1;33m\u001b[0m\u001b[0m\n\u001b[0;32m      3\u001b[0m     \u001b[1;32mfor\u001b[0m \u001b[0mi\u001b[0m \u001b[1;32min\u001b[0m \u001b[0mrange\u001b[0m\u001b[1;33m(\u001b[0m\u001b[0mlen\u001b[0m\u001b[1;33m(\u001b[0m\u001b[0mf_values\u001b[0m\u001b[1;33m)\u001b[0m\u001b[1;33m-\u001b[0m\u001b[1;36m1\u001b[0m\u001b[1;33m)\u001b[0m\u001b[1;33m:\u001b[0m\u001b[1;33m\u001b[0m\u001b[1;33m\u001b[0m\u001b[0m\n\u001b[1;32m----> 4\u001b[1;33m         \u001b[0mdel_values\u001b[0m\u001b[1;33m.\u001b[0m\u001b[0mappend\u001b[0m\u001b[1;33m(\u001b[0m\u001b[0mround\u001b[0m\u001b[1;33m(\u001b[0m\u001b[0mf_values\u001b[0m\u001b[1;33m[\u001b[0m\u001b[0mi\u001b[0m\u001b[1;33m+\u001b[0m\u001b[1;36m1\u001b[0m\u001b[1;33m]\u001b[0m \u001b[1;33m-\u001b[0m \u001b[0mf_values\u001b[0m\u001b[1;33m[\u001b[0m\u001b[0mi\u001b[0m\u001b[1;33m]\u001b[0m\u001b[1;33m,\u001b[0m \u001b[1;36m4\u001b[0m\u001b[1;33m)\u001b[0m\u001b[1;33m)\u001b[0m\u001b[1;33m\u001b[0m\u001b[1;33m\u001b[0m\u001b[0m\n\u001b[0m\u001b[0;32m      5\u001b[0m     \u001b[1;32mreturn\u001b[0m \u001b[0mdel_values\u001b[0m\u001b[1;33m\u001b[0m\u001b[1;33m\u001b[0m\u001b[0m\n",
      "\u001b[1;31mTypeError\u001b[0m: unsupported operand type(s) for -: 'list' and 'list'"
     ]
    }
   ],
   "source": [
    "DrawBackDiffTable(x_values, temp)"
   ]
  },
  {
   "cell_type": "code",
   "execution_count": null,
   "id": "858ffb56",
   "metadata": {},
   "outputs": [],
   "source": []
  },
  {
   "cell_type": "code",
   "execution_count": null,
   "id": "5ecd8c6d",
   "metadata": {},
   "outputs": [],
   "source": []
  },
  {
   "cell_type": "code",
   "execution_count": 15,
   "id": "f02e0414",
   "metadata": {},
   "outputs": [
    {
     "data": {
      "text/plain": [
       "84.5"
      ]
     },
     "execution_count": 15,
     "metadata": {},
     "output_type": "execute_result"
    }
   ],
   "source": []
  },
  {
   "cell_type": "code",
   "execution_count": 35,
   "id": "1a1a1263",
   "metadata": {},
   "outputs": [
    {
     "data": {
      "text/plain": [
       "[[1, 8, 27, 64, 125, 216, 343, 512],\n",
       " [7, 19, 37, 61, 91, 127, 169, '-'],\n",
       " [12, 18, 24, 30, 36, 42, '-', '-'],\n",
       " [6, 6, 6, 6, 6, '-', '-', '-'],\n",
       " [0, 0, 0, 0, '-', '-', '-', '-'],\n",
       " [0, 0, 0, '-', '-', '-', '-', '-'],\n",
       " [0, 0, '-', '-', '-', '-', '-', '-'],\n",
       " [0, '-', '-', '-', '-', '-', '-', '-']]"
      ]
     },
     "execution_count": 35,
     "metadata": {},
     "output_type": "execute_result"
    }
   ],
   "source": [
    "Fwd_diff_table"
   ]
  },
  {
   "cell_type": "code",
   "execution_count": 46,
   "id": "9d372866",
   "metadata": {},
   "outputs": [
    {
     "name": "stdout",
     "output_type": "stream",
     "text": [
      "True\n",
      "True\n",
      "True\n",
      "True\n",
      "False\n",
      "False\n",
      "False\n",
      "False\n"
     ]
    },
    {
     "data": {
      "text/plain": [
       "1"
      ]
     },
     "execution_count": 46,
     "metadata": {},
     "output_type": "execute_result"
    }
   ],
   "source": [
    "\n",
    "for i in range(len(Fwd_diff_table)):\n",
    "    cnt_0 = 0\n",
    "    for j in range(len(Fwd_diff_table[i])):\n",
    "        if Fwd_diff_table[i][j] == 0:\n",
    "            cnt_0 += 1\n",
    "    print(cnt_0==0)\n",
    "            \n",
    "cnt_0"
   ]
  },
  {
   "cell_type": "code",
   "execution_count": 41,
   "id": "b1437fd5",
   "metadata": {},
   "outputs": [
    {
     "data": {
      "text/plain": [
       "0"
      ]
     },
     "execution_count": 41,
     "metadata": {},
     "output_type": "execute_result"
    }
   ],
   "source": [
    "[0, 0, 0, 0, '-', '-', '-', '-'].index(0, 0, 5)"
   ]
  },
  {
   "cell_type": "code",
   "execution_count": 20,
   "id": "7be53ae3",
   "metadata": {},
   "outputs": [],
   "source": [
    "from sympy import symbols"
   ]
  },
  {
   "cell_type": "code",
   "execution_count": 19,
   "id": "19ac44ad",
   "metadata": {},
   "outputs": [
    {
     "name": "stdout",
     "output_type": "stream",
     "text": [
      "Which value you want to find: x\n"
     ]
    }
   ],
   "source": [
    "x = input(\"Which value you want to find: \")"
   ]
  },
  {
   "cell_type": "code",
   "execution_count": 27,
   "id": "04079b22",
   "metadata": {},
   "outputs": [],
   "source": [
    "ex = '3.2'"
   ]
  },
  {
   "cell_type": "code",
   "execution_count": 28,
   "id": "b6e810b9",
   "metadata": {},
   "outputs": [
    {
     "data": {
      "text/plain": [
       "False"
      ]
     },
     "execution_count": 28,
     "metadata": {},
     "output_type": "execute_result"
    }
   ],
   "source": [
    "    ex.isdigit()"
   ]
  },
  {
   "cell_type": "code",
   "execution_count": 21,
   "id": "25cf6c3b",
   "metadata": {},
   "outputs": [],
   "source": [
    "x  = symbols('x')"
   ]
  },
  {
   "cell_type": "code",
   "execution_count": 22,
   "id": "ba61debf",
   "metadata": {},
   "outputs": [
    {
     "data": {
      "text/latex": [
       "$\\displaystyle 6 x + \\left(x - 3\\right) \\left(x - 2\\right) - 5$"
      ],
      "text/plain": [
       "6*x + (x - 3)*(x - 2) - 5"
      ]
     },
     "execution_count": 22,
     "metadata": {},
     "output_type": "execute_result"
    }
   ],
   "source": [
    "13 + 6*(x-3) + (x-3)*(x-2)/2*2 + 0"
   ]
  },
  {
   "cell_type": "code",
   "execution_count": 26,
   "id": "baffe1e2",
   "metadata": {},
   "outputs": [],
   "source": [
    "import sympy"
   ]
  },
  {
   "cell_type": "code",
   "execution_count": 33,
   "id": "a9156e04",
   "metadata": {},
   "outputs": [
    {
     "data": {
      "text/latex": [
       "$\\displaystyle \\left(x - 3\\right) \\left(x - 2\\right)$"
      ],
      "text/plain": [
       "(x - 3)*(x - 2)"
      ]
     },
     "execution_count": 33,
     "metadata": {},
     "output_type": "execute_result"
    }
   ],
   "source": [
    "sympy.simplify((x-3)*(x-2), doit=True)"
   ]
  },
  {
   "cell_type": "code",
   "execution_count": 9,
   "id": "43adfaed",
   "metadata": {},
   "outputs": [
    {
     "name": "stdout",
     "output_type": "stream",
     "text": [
      "-----------------------------------------------------------------------------------\n",
      "|  x   |   f(x)  |     ∆ f(x)\t      |    ∆^2 f(x)\t     |    ∆^3 f(x)\t     |\n",
      "-----------------------------------------------------------------------------------\n",
      "|  10 |    9   | ∆ f(10)=(39-9)=30  | ∆^2 f(10)=(35-30)=5  | ∆^3 f(10)=(5-5)=0  |\n",
      "-----------------------------------------------------------------------------------\n",
      "|  20 |    39   | ∆ f(20)=(74-39)=35  | ∆^2 f(20)=(40-35)=5  |\t           \t|\n",
      "-----------------------------------------------------------------------------------\n",
      "|  30 |    74   | ∆ f(30)=(114-74)=40  |\t           \t|\t           \t|\n",
      "-----------------------------------------------------------------------------------\n",
      "|  40 |   114   |\n",
      "-----------------------------------------------------------------------------------\n"
     ]
    }
   ],
   "source": [
    "x =  [10, 20, 30, 40]\n",
    "f_values =  [9, 39, 74, 114]\n",
    "\n",
    "DrawForwardDiffTable(x, f_values)"
   ]
  },
  {
   "cell_type": "code",
   "execution_count": 11,
   "id": "d8470f87",
   "metadata": {},
   "outputs": [],
   "source": [
    "temp = DifferenceArray(f_values)"
   ]
  },
  {
   "cell_type": "code",
   "execution_count": null,
   "id": "e13304b8",
   "metadata": {},
   "outputs": [],
   "source": [
    "temp[]"
   ]
  },
  {
   "cell_type": "code",
   "execution_count": 104,
   "id": "789c7efd",
   "metadata": {},
   "outputs": [
    {
     "name": "stdout",
     "output_type": "stream",
     "text": [
      "The Value of f(1946) =  0\n"
     ]
    }
   ],
   "source": [
    "cal = 0\n",
    "j = 0\n",
    "while n+1:\n",
    "    prod_cal = 1\n",
    "    c = 0\n",
    "    \n",
    "    if j!=0:\n",
    "        for i in range(j):\n",
    "#             print(f'{u-c} * ', end=' ')\n",
    "            prod_cal *=  (u-c)\n",
    "            c+=1\n",
    "            \n",
    "    cal += prod_cal/fac(j) * Fwd_diff_table[j][0]\n",
    "#     print(f\"{prod_cal/fac(j)} * {Fwd_diff_table[j][0]}, cal: {cal}\")\n",
    "    j+=1\n",
    "        \n",
    "    n-=1\n",
    "#     print('----------')\n",
    "    \n",
    "print(f\"The Value of f({value_to_find}) =  {round(cal, 5)}\")"
   ]
  },
  {
   "cell_type": "code",
   "execution_count": 18,
   "id": "76abcde1",
   "metadata": {},
   "outputs": [
    {
     "data": {
      "text/plain": [
       "1"
      ]
     },
     "execution_count": 18,
     "metadata": {},
     "output_type": "execute_result"
    }
   ],
   "source": [
    "fac(1)"
   ]
  },
  {
   "cell_type": "code",
   "execution_count": 28,
   "id": "0e117d38",
   "metadata": {},
   "outputs": [
    {
     "name": "stdout",
     "output_type": "stream",
     "text": [
      "0\n"
     ]
    }
   ],
   "source": [
    "for i in range(0+1):\n",
    "    print(i)"
   ]
  },
  {
   "cell_type": "code",
   "execution_count": 46,
   "id": "a0286662",
   "metadata": {},
   "outputs": [],
   "source": [
    "prod_cal = 1\n",
    "u = 3.5\n",
    "c = 0"
   ]
  },
  {
   "cell_type": "code",
   "execution_count": 84,
   "id": "a877fdf5",
   "metadata": {},
   "outputs": [
    {
     "name": "stdout",
     "output_type": "stream",
     "text": [
      "0.4 - 0 = 0.4\n",
      "0.4 - 1 = -0.6\n",
      "0.4 - 2 = -1.6\n",
      "0.4 - 3 = -2.6\n"
     ]
    },
    {
     "data": {
      "text/plain": [
       "-0.041600000000000005"
      ]
     },
     "execution_count": 84,
     "metadata": {},
     "output_type": "execute_result"
    }
   ],
   "source": [
    "prod_cal = 1\n",
    "u = 0.4\n",
    "c = 0\n",
    "num = 4\n",
    "for i in range(num):\n",
    "    print(f'{u} - {c} = {u-c}')\n",
    "    prod_cal *=  (u-c)\n",
    "    c+=1\n",
    "    \n",
    "prod_cal/fac(num)"
   ]
  },
  {
   "cell_type": "code",
   "execution_count": null,
   "id": "0f03da5f",
   "metadata": {},
   "outputs": [],
   "source": []
  },
  {
   "cell_type": "code",
   "execution_count": null,
   "id": "ad88a973",
   "metadata": {},
   "outputs": [],
   "source": []
  },
  {
   "cell_type": "code",
   "execution_count": null,
   "id": "d8dc9001",
   "metadata": {},
   "outputs": [],
   "source": []
  },
  {
   "cell_type": "code",
   "execution_count": 78,
   "id": "7ea19b5f",
   "metadata": {},
   "outputs": [
    {
     "name": "stdout",
     "output_type": "stream",
     "text": [
      "----------------------------------------------------------------------------------------------------------------------------------------\n",
      "|  x  |  f(x)  |     ∇ f(x)\t      |    ∇^2 f(x)\t     |    ∇^3 f(x)\t     |    ∇^4 f(x)\t     |    ∇^5 f(x)\t     |\n",
      "----------------------------------------------------------------------------------------------------------------------------------------\n",
      "|  0  |   2    |     ∇ f(1)=(5-2)=3    |   ∇^2 f(2)=(1-3)=-2   |  ∇^3 f(3)=(-4--2)=-2  |  ∇^4 f(4)=(11--2)=13  | ∇^5 f(5)=(-21-13)=-34 |\n",
      "----------------------------------------------------------------------------------------------------------------------------------------\n",
      "|  1  |   5    |     ∇ f(2)=(6-5)=1    |   ∇^2 f(3)=(-3-1)=-4  |   ∇^3 f(4)=(7--4)=11  | ∇^4 f(5)=(-10-11)=-21 |                       |\n",
      "----------------------------------------------------------------------------------------------------------------------------------------\n",
      "|  2  |   6    |     ∇ f(3)=(3-6)=-3   |   ∇^2 f(4)=(4--3)=7   |  ∇^3 f(5)=(-3-7)=-10  |                       |                       |\n",
      "----------------------------------------------------------------------------------------------------------------------------------------\n",
      "|  3  |   3    |     ∇ f(4)=(7-3)=4    |   ∇^2 f(5)=(1-4)=-3   |                       |                       |                       |\n",
      "----------------------------------------------------------------------------------------------------------------------------------------\n",
      "|  4  |   7    |     ∇ f(5)=(8-7)=1    |                       |                       |                       |                       |\n",
      "----------------------------------------------------------------------------------------------------------------------------------------\n",
      "|  5  |   8    |                       |                       |                       |                       |                       |\n",
      "----------------------------------------------------------------------------------------------------------------------------------------\n",
      "\n"
     ]
    }
   ],
   "source": [
    "with open(\"Backward Difference Table.txt\", 'w', encoding=\"utf-8\") as f:\n",
    "    f.write('Backward Difference Table'.center(150) + '\\n\\n')\n",
    "    print('--'*68)\n",
    "    print(f'| {\"x\".center(3)} |{\"f(x)\".center(7)} {del_string}|')\n",
    "    print('--'*68)\n",
    "    t = Fwd_diff_table\n",
    "\n",
    "    f.write('--'*68+'\\n')\n",
    "    f.write(f'| {\"x\".center(3)} |{\"f(x)\".center(3)} {del_string}|\\n')\n",
    "    f.write('--'*68+'\\n')\n",
    "    \n",
    "    c = 0\n",
    "\n",
    "    for j in range(len(Fwd_diff_table)):\n",
    "        temp_string = f'| {str(x[j]).center(3)} |'\n",
    "        i, l = 0, 0\n",
    "\n",
    "        try:\n",
    "            for k in range(len(Fwd_diff_table[j])):\n",
    "                if k==0:\n",
    "                    temp_string += f'{t[i][j]}'.center(8) + '|'\n",
    "                else:\n",
    "                    elt1, elt2 = t[i][j+1] , t[i][j]\n",
    "                    if k==1:\n",
    "                        if elt1!='-' and elt2!='-':\n",
    "                            do = f'{del_op_inv[k]}f({x[c:][l+1]})'.ljust(6)\n",
    "                            calc = f'({elt1}-{elt2})={elt1-elt2}'\n",
    "                            temp_string += f' {do}={calc}'.center(23) + '|'\n",
    "\n",
    "                    else:\n",
    "                        if elt1!='-' and elt2!='-':\n",
    "                            do = f'{del_op_inv[k]}f({x[c:][l+1]})'.ljust(6)\n",
    "                            calc = f'({elt1}-{elt2})={elt1-elt2}'\n",
    "                            temp_string += f'{do}={calc}'.center(23) + '|'\n",
    "                            \n",
    "                        else:\n",
    "                            temp_string += f'{\"  \".center(23)}|'.ljust(5)\n",
    "                    \n",
    "                    i+=1\n",
    "                    l+=1\n",
    "\n",
    "            c+=1        \n",
    "            print(temp_string)\n",
    "            print('--'*68)\n",
    "            \n",
    "            f.write(temp_string)\n",
    "            f.write('--'*68+'\\n')\n",
    "            \n",
    "            x_temp = x_temp[c:]\n",
    "            \n",
    "        except:\n",
    "            pass\n",
    "    \n",
    "    temp_string = f'| {str(x[-1]).center(3)} |'\n",
    "    temp_string += f'{str(t[0][-1]).center(8)}| {\"   \".center(22)}|{\"   \".center(23)}| {\"   \".center(22)}|{\"   \".center(23)}|{\"   \".center(23)}|'\n",
    "\n",
    "    print(temp_string)\n",
    "    print('--'*68+'\\n')\n",
    "\n",
    "    f.write(temp_string+'\\n')\n",
    "    f.write('--'*68+'\\n')\n",
    "\n"
   ]
  },
  {
   "cell_type": "code",
   "execution_count": null,
   "id": "2be044c2",
   "metadata": {},
   "outputs": [],
   "source": []
  },
  {
   "cell_type": "code",
   "execution_count": 243,
   "id": "ba37206d",
   "metadata": {},
   "outputs": [
    {
     "name": "stdout",
     "output_type": "stream",
     "text": [
      "----------------------------------------------------------------------------------------------------------------------------------------\n",
      "|  x  |   f(x)  |      ∆ f(x)\t       \t|     ∆^2 f(x)\t      \t|     ∆^3 f(x)\t      \t|     ∆^4 f(x)\t      \t|     ∆^5 f(x)\t      \t|\n",
      "----------------------------------------------------------------------------------------------------------------------------------------\n",
      "|  0  |    2\t| ∆ f(5)=(5-2)=3\t | ∆^2 f(10)=(1-3)=-2\t| ∆^3 f(15)=(-4--2)=-2\t| ∆^4 f(20)=(11--2)=13\t| ∆^5 f(25)=(-21-13)=-34\t|\n",
      "----------------------------------------------------------------------------------------------------------------------------------------\n",
      "|  5  |    5\t| ∆ f(10)=(6-5)=1\t | ∆^2 f(15)=(-3-1)=-4\t| ∆^3 f(20)=(7--4)=11\t| ∆^4 f(25)=(-10-11)=-21\t|\t           \t|\n",
      "----------------------------------------------------------------------------------------------------------------------------------------\n",
      "|  10 |    6\t| ∆ f(15)=(3-6)=-3\t | ∆^2 f(20)=(4--3)=7\t| ∆^3 f(25)=(-3-7)=-10\t|\t           \t|\t           \t|\n",
      "----------------------------------------------------------------------------------------------------------------------------------------\n",
      "|  15 |    3\t| ∆ f(20)=(7-3)=4\t | ∆^2 f(25)=(1-4)=-3\t|\t           \t|\t           \t|\t           \t|\n",
      "----------------------------------------------------------------------------------------------------------------------------------------\n",
      "|  20 |    7\t| ∆ f(25)=(8-7)=1\t |\t           \t|\t           \t|\t           \t|\t           \t|\n",
      "----------------------------------------------------------------------------------------------------------------------------------------\n",
      "|  25 |    8\t|           DNE          |         DNE          |          DNE          |         DNE          |          DNE           |\n",
      "----------------------------------------------------------------------------------------------------------------------------------------\n"
     ]
    }
   ],
   "source": [
    "\n",
    "print('--'*68)\n",
    "print(f'| {\"x\".center(3)} |  {\"f(x)\".center(6)} {del_string}|')\n",
    "print('--'*68)\n",
    "t = Fwd_diff_table\n",
    "\n",
    "c = 0\n",
    "x = [5*i for i in range(6)]\n",
    "\n",
    "# for i in range(len(x)):\n",
    "#     for l in range(len(x[c:])):\n",
    "#         print(x[c:][l], end=', ')\n",
    "        \n",
    "#     print()\n",
    "#     c+=1\n",
    "    \n",
    "    \n",
    "    \n",
    "for j in range(len(Fwd_diff_table)):\n",
    "    temp_string = f'| {str(x[j]).center(3)} |'\n",
    "    i=0\n",
    "    \n",
    "    l=0\n",
    "    try:\n",
    "        for k in range(len(Fwd_diff_table[j])):\n",
    "\n",
    "            if k==0:\n",
    "                temp_string += f'    {t[i][j]}\\t|'\n",
    "            else:\n",
    "                elt1, elt2 = t[i][j+1] , t[i][j]\n",
    "\n",
    "                if k==1:\n",
    "                    if elt1!='-' and elt2!='-':\n",
    "    #                         temp_string += f'c:{c}, l:{l}, '\n",
    "                        temp_string += f' {del_op[k]}f({x[c:][l+1]})=({elt1}-{elt2})={elt1-elt2}\\t |'.ljust(5) #  {(i,j+1)} - {(i,j)}   i:{i},j:{j}, k:{k}\\t\n",
    "                    else:\n",
    "                        temp_string += f'\\t {str(t[i][j]).ljust(5)}\\t|'\n",
    "                else:\n",
    "                    if elt1!='-' and elt2!='-':\n",
    "    #                         temp_string += f'c:{c}, l:{l}, '\n",
    "                        temp_string += f' {del_op[k]}f({x[c:][l+1]})=({elt1}-{elt2})={elt1-elt2}\\t|'.ljust(5) #  {(i,j+1)} - {(i,j)}   i:{i},j:{j}, k:{k}\\t\n",
    "                    else:\n",
    "                        temp_string += f'\\t {\"   \".center(10)}\\t|'\n",
    "\n",
    "\n",
    "                i+=1\n",
    "                l+=1\n",
    "\n",
    "        c+=1        \n",
    "        print(temp_string)\n",
    "    #     print(f'{x_temp}, {x_temp[c:]} c:{c}, l:{l}')\n",
    "\n",
    "        x_temp = x_temp[c:]\n",
    "\n",
    "        print('--'*68)\n",
    "    except:\n",
    "        temp_string += f'\\t {\"   \".center(10)}\\t|'\n",
    "\n",
    "    \n",
    "temp_string = f'| {str(x[-1]).center(3)} |'\n",
    "temp_string += f'    {t[0][-1]}\\t| {\"DNE\".center(23)}|{\"DNE\".center(22)}| {\"DNE\".center(22)}|{\"DNE\".center(22)}|{\"DNE\".center(24)}|'\n",
    "\n",
    "print(temp_string)\n",
    "print('--'*68)\n",
    "\n"
   ]
  },
  {
   "cell_type": "code",
   "execution_count": 240,
   "id": "26f50caf",
   "metadata": {},
   "outputs": [
    {
     "data": {
      "text/plain": [
       "[0, 5, 10, 15, 20, 25]"
      ]
     },
     "execution_count": 240,
     "metadata": {},
     "output_type": "execute_result"
    }
   ],
   "source": [
    "x"
   ]
  },
  {
   "cell_type": "code",
   "execution_count": 235,
   "id": "29579a87",
   "metadata": {},
   "outputs": [
    {
     "name": "stdout",
     "output_type": "stream",
     "text": [
      "0, 5, 10, 15, 20, 25, \n",
      "5, 10, 15, 20, 25, \n",
      "10, 15, 20, 25, \n",
      "15, 20, 25, \n",
      "20, 25, \n",
      "25, \n"
     ]
    }
   ],
   "source": [
    "c = 0\n",
    "x = [5*i for i in range(6)]\n",
    "# print(x)\n",
    "for i in range(len(x)):\n",
    "    for l in range(len(x[c:])):\n",
    "        print(x[c:][l], end=', ')\n",
    "        \n",
    "    print()\n",
    "    c+=1\n",
    "    "
   ]
  },
  {
   "cell_type": "code",
   "execution_count": 185,
   "id": "add13856",
   "metadata": {},
   "outputs": [
    {
     "name": "stdout",
     "output_type": "stream",
     "text": [
      "0, 5, "
     ]
    }
   ],
   "source": [
    "c = 0\n",
    "l = 0\n",
    "print(x[c:][l],end=', ')\n",
    "l+=1\n",
    "print(x[c:][l],end=', ')"
   ]
  },
  {
   "cell_type": "code",
   "execution_count": 36,
   "id": "89ce1d74",
   "metadata": {},
   "outputs": [],
   "source": [
    "x = [5*i for i in range(6)]"
   ]
  },
  {
   "cell_type": "code",
   "execution_count": 37,
   "id": "d315c217",
   "metadata": {},
   "outputs": [],
   "source": [
    "c = len(x)"
   ]
  },
  {
   "cell_type": "code",
   "execution_count": 38,
   "id": "46cf0b8d",
   "metadata": {},
   "outputs": [
    {
     "name": "stdout",
     "output_type": "stream",
     "text": [
      "0\n",
      "5\n",
      "10\n",
      "15\n",
      "20\n",
      "25\n"
     ]
    }
   ],
   "source": [
    "for i in range(c):\n",
    "    print(x[i])"
   ]
  },
  {
   "cell_type": "code",
   "execution_count": null,
   "id": "de983f85",
   "metadata": {},
   "outputs": [],
   "source": []
  },
  {
   "cell_type": "code",
   "execution_count": null,
   "id": "9a10b964",
   "metadata": {},
   "outputs": [],
   "source": []
  },
  {
   "cell_type": "code",
   "execution_count": null,
   "id": "47c453fe",
   "metadata": {},
   "outputs": [],
   "source": []
  },
  {
   "cell_type": "code",
   "execution_count": 255,
   "id": "361bc2f4",
   "metadata": {},
   "outputs": [],
   "source": [
    "del_string = ''\n",
    "for i in range(len(Fwd_diff_table)):\n",
    "    if i>1:\n",
    "        del_string += str('∆^'+str(i)+' f(x)\\t').center(9)\n",
    "    elif i==1: del_string += str('∆ f(x)\\t\\t').center(9)"
   ]
  },
  {
   "cell_type": "code",
   "execution_count": null,
   "id": "18e88707",
   "metadata": {},
   "outputs": [],
   "source": []
  },
  {
   "cell_type": "code",
   "execution_count": null,
   "id": "206521b8",
   "metadata": {},
   "outputs": [],
   "source": []
  },
  {
   "cell_type": "code",
   "execution_count": 256,
   "id": "6f653a3e",
   "metadata": {
    "scrolled": true
   },
   "outputs": [
    {
     "name": "stdout",
     "output_type": "stream",
     "text": [
      "----------------------------------------------------------------------------------------------------\n",
      "|    x  |   f(x)  |\t ∆ f(x)\t\t∆^2 f(x)\t∆^3 f(x)\t∆^4 f(x)\t∆^5 f(x)\t|\n",
      "----------------------------------------------------------------------------------------------------\n",
      "|    0  |    7\t  | (0,2) (0,1) (14 - 11) | (0,3) (0,2) (18 - 14) | (0,4) (0,3) (24 - 18) | (0,5) (0,4) (32 - 24) |\n",
      "|    5  |    11\t  | (1,2) (1,1) (4 - 3) | (1,3) (1,2) (6 - 4) | (1,4) (1,3) (8 - 6) | -  \t\n",
      "|    10 |    14\t  | (2,2) (2,1) (2 - 1) | (2,3) (2,2) (2 - 2) | -  \t -  \t\n",
      "|    15 |    18\t  | (3,2) (3,1) (0 - 1) | -  \t -  \t -  \t\n",
      "|    20 |    24\t  | -  \t -  \t -  \t -  \t\n",
      "|    25 |    32\t  | -  \t -  \t -  \t -  \t\n",
      "----------------------------------------------------------------------------------------------------\n"
     ]
    }
   ],
   "source": [
    "n = 5\n",
    "s = 20\n",
    "print('--'*50)\n",
    "print(f'|  {\"x\".center(n)}|  {\"f(x)\".center(n)}  |\\t{del_string}|')\n",
    "print('--'*50)\n",
    "\n",
    "for i in range(len(Fwd_diff_table)):\n",
    "    temp_string = f'|  {str(x[i]).center(5)}|'\n",
    "    \n",
    "    for j in range(len(Fwd_diff_table[i])-1):\n",
    "        if j==0:\n",
    "            temp_string += f'    {Fwd_diff_table[j][i]}\\t  |'\n",
    "        else:\n",
    "            elt1, elt2 = Fwd_diff_table[i][j+1] , Fwd_diff_table[i][j]\n",
    "            \n",
    "            if elt1!='-' and elt2!='-':\n",
    "                temp_string += f' ({i},{j+1}) ({i},{j}) ({elt1} - {elt2}) |'  # \n",
    "            else:\n",
    "                temp_string += f'{\"-\".center(4)}\\t'\n",
    "\n",
    "    print(temp_string)\n",
    "    \n",
    "print('--'*50)"
   ]
  },
  {
   "cell_type": "code",
   "execution_count": 306,
   "id": "163b62f8",
   "metadata": {
    "scrolled": false
   },
   "outputs": [
    {
     "name": "stdout",
     "output_type": "stream",
     "text": [
      "----------------------------------------------------------------------------------------------------\n",
      "|    x  |   f(x)  |\t ∆ f(x)\t\t∆^2 f(x)\t∆^3 f(x)\t∆^4 f(x)\t∆^5 f(x)\t|\n",
      "----------------------------------------------------------------------------------------------------\n",
      "|    0  |    7\t  |    4\t  |    -1\t  |    2\t  |    -1\t  |\n",
      "----------------------------------------------------------------------------------------------------\n",
      "|    5  |  (14 - 11) = 3 |  (4 - 3) = 1 |  (2 - 1) = 1 |  (0 - 1) = -1 | -  \t\n",
      "----------------------------------------------------------------------------------------------------\n",
      "|    10 |  (18 - 14) = 4 |  (6 - 4) = 2 |  (2 - 2) = 0 | -  \t -  \t\n",
      "----------------------------------------------------------------------------------------------------\n",
      "|    15 |  (24 - 18) = 6 |  (8 - 6) = 2 | -  \t -  \t -  \t\n",
      "----------------------------------------------------------------------------------------------------\n",
      "|    20 |  (32 - 24) = 8 | -  \t -  \t -  \t -  \t\n",
      "----------------------------------------------------------------------------------------------------\n"
     ]
    },
    {
     "ename": "IndexError",
     "evalue": "list index out of range",
     "output_type": "error",
     "traceback": [
      "\u001b[1;31m---------------------------------------------------------------------------\u001b[0m",
      "\u001b[1;31mIndexError\u001b[0m                                Traceback (most recent call last)",
      "\u001b[1;32mC:\\Users\\CLEOPH~1\\AppData\\Local\\Temp/ipykernel_3104/1107081225.py\u001b[0m in \u001b[0;36m<module>\u001b[1;34m\u001b[0m\n\u001b[0;32m     16\u001b[0m         \u001b[1;32melse\u001b[0m\u001b[1;33m:\u001b[0m\u001b[1;33m\u001b[0m\u001b[1;33m\u001b[0m\u001b[0m\n\u001b[0;32m     17\u001b[0m \u001b[1;31m#             print(i,j)\u001b[0m\u001b[1;33m\u001b[0m\u001b[1;33m\u001b[0m\u001b[1;33m\u001b[0m\u001b[0m\n\u001b[1;32m---> 18\u001b[1;33m             \u001b[0melt1\u001b[0m\u001b[1;33m,\u001b[0m \u001b[0melt2\u001b[0m \u001b[1;33m=\u001b[0m \u001b[0mt\u001b[0m\u001b[1;33m[\u001b[0m\u001b[0mi\u001b[0m\u001b[1;33m]\u001b[0m\u001b[1;33m[\u001b[0m\u001b[0mj\u001b[0m\u001b[1;33m+\u001b[0m\u001b[1;36m1\u001b[0m\u001b[1;33m]\u001b[0m \u001b[1;33m,\u001b[0m \u001b[0mt\u001b[0m\u001b[1;33m[\u001b[0m\u001b[0mi\u001b[0m\u001b[1;33m]\u001b[0m\u001b[1;33m[\u001b[0m\u001b[0mj\u001b[0m\u001b[1;33m]\u001b[0m\u001b[1;33m\u001b[0m\u001b[1;33m\u001b[0m\u001b[0m\n\u001b[0m\u001b[0;32m     19\u001b[0m \u001b[1;33m\u001b[0m\u001b[0m\n\u001b[0;32m     20\u001b[0m             \u001b[1;32mif\u001b[0m \u001b[0melt1\u001b[0m\u001b[1;33m!=\u001b[0m\u001b[1;34m'-'\u001b[0m \u001b[1;32mand\u001b[0m \u001b[0melt2\u001b[0m\u001b[1;33m!=\u001b[0m\u001b[1;34m'-'\u001b[0m\u001b[1;33m:\u001b[0m\u001b[1;33m\u001b[0m\u001b[1;33m\u001b[0m\u001b[0m\n",
      "\u001b[1;31mIndexError\u001b[0m: list index out of range"
     ]
    }
   ],
   "source": [
    "n = 5\n",
    "s = 20\n",
    "print('--'*50)\n",
    "print(f'|  {\"x\".center(n)}|  {\"f(x)\".center(n)}  |\\t{del_string}|')\n",
    "print('--'*50)\n",
    "l = len(Fwd_diff_table[0])-1\n",
    "j = 0\n",
    "c=0\n",
    "t = Fwd_diff_table\n",
    "while j<len(Fwd_diff_table[0]):\n",
    "    temp_string = f'|  {str(x[c]).center(5)}|'\n",
    "    i = 0\n",
    "    for k in range(len(Fwd_diff_table[i])-1):\n",
    "        if j==0:\n",
    "            temp_string += f'    {t[i][j]}\\t  |'\n",
    "        else:\n",
    "#             print(i,j)\n",
    "            elt1, elt2 = t[i][j+1] , t[i][j]\n",
    "            \n",
    "            if elt1!='-' and elt2!='-':\n",
    "                temp_string += f'  ({elt1} - {elt2}) = {elt1-elt2} |'  # \n",
    "            else:\n",
    "                temp_string += f'{\"-\".center(4)}\\t'\n",
    "        \n",
    "        i+=1\n",
    "    print(temp_string)\n",
    "    j+=1\n",
    "    l-=1\n",
    "    c+=1\n",
    "    print('--'*50)"
   ]
  },
  {
   "cell_type": "code",
   "execution_count": 300,
   "id": "325866bc",
   "metadata": {},
   "outputs": [
    {
     "data": {
      "text/plain": [
       "(0, 7)"
      ]
     },
     "execution_count": 300,
     "metadata": {},
     "output_type": "execute_result"
    }
   ],
   "source": [
    "i,j+2"
   ]
  },
  {
   "cell_type": "code",
   "execution_count": 489,
   "id": "ad84c335",
   "metadata": {},
   "outputs": [
    {
     "name": "stdout",
     "output_type": "stream",
     "text": [
      "|     ∆^5 f(x)\t      \t\n"
     ]
    }
   ],
   "source": [
    "print('|' + str('∆^'+str(i)+' f(x)\\t').center(20)+ '\\t') "
   ]
  },
  {
   "cell_type": "code",
   "execution_count": 481,
   "id": "1193cd7f",
   "metadata": {},
   "outputs": [
    {
     "data": {
      "text/plain": [
       "9"
      ]
     },
     "execution_count": 481,
     "metadata": {},
     "output_type": "execute_result"
    }
   ],
   "source": [
    "len(str('∆^'+str(i)+' f(x)\\t'))"
   ]
  },
  {
   "cell_type": "code",
   "execution_count": 9,
   "id": "4b80a113",
   "metadata": {},
   "outputs": [
    {
     "name": "stdout",
     "output_type": "stream",
     "text": [
      "|      ∆ f(x)\t       \t|     ∆^2 f(x)\t      \t|     ∆^3 f(x)\t      \t|     ∆^4 f(x)\t      \t|     ∆^5 f(x)\t      \t\n"
     ]
    }
   ],
   "source": [
    "del_string = ''\n",
    "for i in range(len(Fwd_diff_table)):\n",
    "    if i>1:\n",
    "        del_string += '|' + str('∆^'+str(i)+' f(x)\\t').center(20)+ '\\t'\n",
    "    elif i==1: del_string += '|'+ '∆ f(x)\\t'.center(20) + '\\t'\n",
    "print(del_string)"
   ]
  },
  {
   "cell_type": "code",
   "execution_count": 7,
   "id": "c60db18f",
   "metadata": {},
   "outputs": [],
   "source": [
    "\n"
   ]
  },
  {
   "cell_type": "code",
   "execution_count": null,
   "id": "1bf3ef46",
   "metadata": {},
   "outputs": [],
   "source": []
  },
  {
   "cell_type": "code",
   "execution_count": null,
   "id": "1050bcbe",
   "metadata": {},
   "outputs": [],
   "source": []
  },
  {
   "cell_type": "code",
   "execution_count": 540,
   "id": "16053e49",
   "metadata": {},
   "outputs": [
    {
     "data": {
      "text/plain": [
       "'∆^5'"
      ]
     },
     "execution_count": 540,
     "metadata": {},
     "output_type": "execute_result"
    }
   ],
   "source": [
    "del_op[5]"
   ]
  },
  {
   "cell_type": "code",
   "execution_count": 402,
   "id": "7e1c8f0d",
   "metadata": {},
   "outputs": [
    {
     "ename": "IndexError",
     "evalue": "list index out of range",
     "output_type": "error",
     "traceback": [
      "\u001b[1;31m---------------------------------------------------------------------------\u001b[0m",
      "\u001b[1;31mIndexError\u001b[0m                                Traceback (most recent call last)",
      "\u001b[1;32mC:\\Users\\CLEOPH~1\\AppData\\Local\\Temp/ipykernel_3104/675464085.py\u001b[0m in \u001b[0;36m<module>\u001b[1;34m\u001b[0m\n\u001b[1;32m----> 1\u001b[1;33m \u001b[0mt\u001b[0m\u001b[1;33m[\u001b[0m\u001b[1;36m1\u001b[0m\u001b[1;33m]\u001b[0m\u001b[1;33m[\u001b[0m\u001b[1;36m6\u001b[0m\u001b[1;33m]\u001b[0m\u001b[1;33m\u001b[0m\u001b[1;33m\u001b[0m\u001b[0m\n\u001b[0m",
      "\u001b[1;31mIndexError\u001b[0m: list index out of range"
     ]
    }
   ],
   "source": [
    "t[1][6]"
   ]
  },
  {
   "cell_type": "code",
   "execution_count": 403,
   "id": "0276f521",
   "metadata": {},
   "outputs": [
    {
     "data": {
      "text/plain": [
       "6"
      ]
     },
     "execution_count": 403,
     "metadata": {},
     "output_type": "execute_result"
    }
   ],
   "source": [
    "len(t)"
   ]
  },
  {
   "cell_type": "code",
   "execution_count": null,
   "id": "94103e3b",
   "metadata": {},
   "outputs": [],
   "source": []
  },
  {
   "cell_type": "code",
   "execution_count": 388,
   "id": "8a4bd3c4",
   "metadata": {},
   "outputs": [
    {
     "name": "stdout",
     "output_type": "stream",
     "text": [
      "(1, 1) (1, 0) 3 - 4  =  -1\n",
      "(1, 2) (1, 1) 4 - 3  =  1\n",
      "(1, 3) (1, 2) 6 - 4  =  2\n",
      "(1, 4) (1, 3) 8 - 6  =  2\n",
      "(1, 5) (1, 4) - - 8 "
     ]
    }
   ],
   "source": [
    "i=1\n",
    "for j in range(len(Fwd_diff_table[i])-1):\n",
    "    try:\n",
    "        print((i,j+1), (i,j), str(Fwd_diff_table[i][j+1]) + ' - ' + str(Fwd_diff_table[i][j]),end=' ')\n",
    "        print(' = ', Fwd_diff_table[i][j+1] - Fwd_diff_table[i][j])\n",
    "    except:pass"
   ]
  },
  {
   "cell_type": "code",
   "execution_count": null,
   "id": "4ae90561",
   "metadata": {},
   "outputs": [],
   "source": []
  },
  {
   "cell_type": "code",
   "execution_count": null,
   "id": "7f142d6b",
   "metadata": {},
   "outputs": [],
   "source": []
  },
  {
   "cell_type": "code",
   "execution_count": null,
   "id": "f2c4a759",
   "metadata": {},
   "outputs": [],
   "source": []
  },
  {
   "cell_type": "code",
   "execution_count": null,
   "id": "b93d1281",
   "metadata": {},
   "outputs": [],
   "source": []
  },
  {
   "cell_type": "code",
   "execution_count": 218,
   "id": "246f3a4b",
   "metadata": {},
   "outputs": [
    {
     "name": "stdout",
     "output_type": "stream",
     "text": [
      "(1, 1) (1, 0) 3 - 4  =  -1\n",
      "(1, 2) (1, 1) 4 - 3  =  1\n",
      "(1, 3) (1, 2) 6 - 4  =  2\n",
      "(1, 4) (1, 3) 8 - 6  =  2\n",
      "(1, 5) (1, 4) - - 8 "
     ]
    }
   ],
   "source": [
    "i=1\n",
    "for j in range(len(Fwd_diff_table[i])-1):\n",
    "    try:\n",
    "        print((i,j+1), (i,j), str(Fwd_diff_table[i][j+1]) + ' - ' + str(Fwd_diff_table[i][j]),end=' ')\n",
    "        print(' = ', Fwd_diff_table[i][j+1] - Fwd_diff_table[i][j])\n",
    "    except:pass"
   ]
  },
  {
   "cell_type": "code",
   "execution_count": null,
   "id": "384c5008",
   "metadata": {},
   "outputs": [],
   "source": [
    "i = 1\n",
    "\n"
   ]
  },
  {
   "cell_type": "code",
   "execution_count": null,
   "id": "9e19784a",
   "metadata": {},
   "outputs": [],
   "source": []
  },
  {
   "cell_type": "code",
   "execution_count": null,
   "id": "8cd6c77d",
   "metadata": {},
   "outputs": [],
   "source": []
  },
  {
   "cell_type": "code",
   "execution_count": null,
   "id": "943b9614",
   "metadata": {},
   "outputs": [],
   "source": []
  },
  {
   "cell_type": "code",
   "execution_count": 237,
   "id": "ae78315b",
   "metadata": {},
   "outputs": [
    {
     "name": "stdout",
     "output_type": "stream",
     "text": [
      "  x  \t f(x)\t\t∆ f(x)\t\t∆^2 f(x)\t∆^3 f(x)\t∆^4 f(x)\t∆^5 f(x)\t\n",
      "\n",
      "  0\t 7(E(0, 0))\t\t -1(E(0, 2))\t\t -1(E(0, 4))\t\n",
      "\t \t\t\t\t\t\t 4(O(0, 1))\t\t \t\t\t\t\t\t 2(O(0, 3))\t\t \t\t\t\t\t\t 0(O(0, 5))\t\n",
      "\n",
      "  5\t 11(E(1, 0))\t\t 1(E(1, 2))\t\t -1(E(1, 4))\t\n",
      "\t \t\t\t\t\t\t 3(O(1, 1))\t\t \t\t\t\t\t\t 1(O(1, 3))\t\t (O(1, 5))\t\n",
      "\n",
      "  10\t 14(E(2, 0))\t\t 2(E(2, 2))\t\n",
      "\t \t\t\t\t\t\t 4(O(2, 1))\t\t \t\t\t\t\t\t 0(O(2, 3))\t\t (O(2, 5))\t\n",
      "\n",
      "  15\t 18(E(3, 0))\t\t 2(E(3, 2))\t\n",
      "\t \t\t\t\t\t\t 6(O(3, 1))\t\t (O(3, 3))\t\t (O(3, 5))\t\n",
      "\n",
      "  20\t 24(E(4, 0))\t\n",
      "\t \t\t\t\t\t\t 8(O(4, 1))\t\t (O(4, 3))\t\t (O(4, 5))\t\n",
      "\n",
      "  25\t 32(E(5, 0))\t\n",
      "\t (O(5, 1))\t\t (O(5, 3))\t\t (O(5, 5))\t\n",
      "\n"
     ]
    }
   ],
   "source": [
    "for i in range(len(Fwd_diff_table)):\n",
    "    temp_string = f'  {x[i]}'\n",
    "    todd = ''\n",
    "    teven =''\n",
    "    for j in range(len(Fwd_diff_table[i])):\n",
    "        if j%2!=0:\n",
    "            if Fwd_diff_table[j][i] =='-': todd += f'\\t (O{(i,j)})\\t'\n",
    "            else: todd += f'\\t {tt} {Fwd_diff_table[j][i]}(O{(i,j)})\\t'\n",
    "        else:\n",
    "            if Fwd_diff_table[j][i] == '-': f'\\t   (E{(i,j)})\\t'\n",
    "            else:\n",
    "                temp_string += f'\\t {Fwd_diff_table[j][i]}(E{(i,j)})\\t'\n",
    "        \n",
    "    print(temp_string)\n",
    "    print(todd)\n",
    "#     print(teven)\n",
    "    print()"
   ]
  },
  {
   "cell_type": "code",
   "execution_count": null,
   "id": "14577935",
   "metadata": {},
   "outputs": [],
   "source": []
  },
  {
   "cell_type": "code",
   "execution_count": 199,
   "id": "0073909e",
   "metadata": {},
   "outputs": [
    {
     "data": {
      "text/plain": [
       "[[7, 4, -1, 2, -1, 0],\n",
       " [11, 3, 1, 1, -1, '-'],\n",
       " [14, 4, 2, 0, '-', '-'],\n",
       " [18, 6, 2, '-', '-', '-'],\n",
       " [24, 8, '-', '-', '-', '-'],\n",
       " [32, '-', '-', '-', '-', '-']]"
      ]
     },
     "execution_count": 199,
     "metadata": {},
     "output_type": "execute_result"
    }
   ],
   "source": [
    "tlist = []\n",
    "\n",
    "for i in range(len(Fwd_diff_table)):\n",
    "    tlist2 = []\n",
    "    for j in range(len(Fwd_diff_table[i])):\n",
    "        tlist2.append(Fwd_diff_table[j][i])\n",
    "    tlist.append(tlist2)\n",
    "        \n",
    "tlist"
   ]
  },
  {
   "cell_type": "code",
   "execution_count": 222,
   "id": "7a878337",
   "metadata": {},
   "outputs": [
    {
     "name": "stdout",
     "output_type": "stream",
     "text": [
      "0\n",
      "1\n",
      "2\n",
      "3\n",
      "4\n",
      "5\n",
      "6\n",
      "7\n",
      "8\n",
      "9\n",
      "10\n",
      "11\n"
     ]
    }
   ],
   "source": [
    "for i in range(len(Fwd_diff_table)*2):\n",
    "    "
   ]
  },
  {
   "cell_type": "code",
   "execution_count": 254,
   "id": "70c23280",
   "metadata": {},
   "outputs": [
    {
     "name": "stdout",
     "output_type": "stream",
     "text": [
      "7\n",
      "4\n",
      "-1\n",
      "2\n",
      "-1\n",
      "0\n",
      "\n",
      "11\n",
      "3\n",
      "1\n",
      "1\n",
      "-1\n",
      "-\n",
      "\n",
      "14\n",
      "4\n",
      "2\n",
      "0\n",
      "-\n",
      "-\n",
      "\n",
      "18\n",
      "6\n",
      "2\n",
      "-\n",
      "-\n",
      "-\n",
      "\n",
      "24\n",
      "8\n",
      "-\n",
      "-\n",
      "-\n",
      "-\n",
      "\n",
      "32\n",
      "-\n",
      "-\n",
      "-\n",
      "-\n",
      "-\n",
      "\n"
     ]
    }
   ],
   "source": [
    "\n",
    "for i in range(len(Fwd_diff_table)):\n",
    "    tstring = ''\n",
    "    c =0\n",
    "    for j in range(len(Fwd_diff_table[i])):\n",
    "        if c<(j+1):\n",
    "            tstring += f'{Fwd_diff_table[j][i]}\\n'\n",
    "            c+=1\n",
    "    print(tstring)"
   ]
  },
  {
   "cell_type": "code",
   "execution_count": 257,
   "id": "1584a160",
   "metadata": {},
   "outputs": [
    {
     "data": {
      "text/plain": [
       "[4, 3, 4, 6, 8, '-']"
      ]
     },
     "execution_count": 257,
     "metadata": {},
     "output_type": "execute_result"
    }
   ],
   "source": [
    "Fwd_diff_table[1]"
   ]
  },
  {
   "cell_type": "code",
   "execution_count": 210,
   "id": "f9bad2e0",
   "metadata": {},
   "outputs": [
    {
     "data": {
      "text/plain": [
       "5"
      ]
     },
     "execution_count": 210,
     "metadata": {},
     "output_type": "execute_result"
    }
   ],
   "source": [
    "Fwd_diff_table[-1].count('-')"
   ]
  },
  {
   "cell_type": "code",
   "execution_count": 286,
   "id": "44010bc4",
   "metadata": {},
   "outputs": [
    {
     "data": {
      "text/plain": [
       "[7, 11, 14, 18, 24, 32]"
      ]
     },
     "execution_count": 286,
     "metadata": {},
     "output_type": "execute_result"
    }
   ],
   "source": [
    "Fwd_diff_table[0][]"
   ]
  },
  {
   "cell_type": "code",
   "execution_count": 293,
   "id": "c4739da3",
   "metadata": {},
   "outputs": [
    {
     "name": "stdout",
     "output_type": "stream",
     "text": [
      "7\n",
      "\t4\n",
      "11\n",
      "\t3\n",
      "14\n",
      "\t4\n",
      "18\n",
      "\t6\n",
      "24\n",
      "\t8\n",
      "32\n",
      "\t-\n"
     ]
    }
   ],
   "source": [
    "c,c1 = 0, 1\n",
    "for i in range(len(Fwd_diff_table)):\n",
    "    print(Fwd_diff_table[0][c])\n",
    "    print('\\t'+ str(Fwd_diff_table[1][c1-1]))\n",
    "    c+=1\n",
    "    c1+=1\n"
   ]
  },
  {
   "cell_type": "code",
   "execution_count": null,
   "id": "f4d434a7",
   "metadata": {},
   "outputs": [],
   "source": []
  },
  {
   "cell_type": "code",
   "execution_count": 262,
   "id": "3d05da87",
   "metadata": {},
   "outputs": [
    {
     "data": {
      "text/plain": [
       "[[7, 11, 14, 18, 24, 32],\n",
       " [4, 3, 4, 6, 8, '-'],\n",
       " [-1, 1, 2, 2, '-', '-'],\n",
       " [2, 1, 0, '-', '-', '-'],\n",
       " [-1, -1, '-', '-', '-', '-'],\n",
       " [0, '-', '-', '-', '-', '-']]"
      ]
     },
     "execution_count": 262,
     "metadata": {},
     "output_type": "execute_result"
    }
   ],
   "source": [
    "Fwd_diff_table"
   ]
  },
  {
   "cell_type": "code",
   "execution_count": 294,
   "id": "b0b59560",
   "metadata": {},
   "outputs": [
    {
     "data": {
      "text/plain": [
       "1"
      ]
     },
     "execution_count": 294,
     "metadata": {},
     "output_type": "execute_result"
    }
   ],
   "source": [
    "tmp = [4, 3, 4, 6, 8, '-']\n",
    "\n",
    "\n",
    "dashCount = tmp.count('-')\n",
    "if dashCount:\n",
    "    "
   ]
  },
  {
   "cell_type": "code",
   "execution_count": null,
   "id": "16ad380c",
   "metadata": {},
   "outputs": [],
   "source": []
  },
  {
   "cell_type": "code",
   "execution_count": 236,
   "id": "5ea6f6a2",
   "metadata": {},
   "outputs": [
    {
     "data": {
      "text/plain": [
       "[[7, 11, 14, 18, 24, 32],\n",
       " [4, 3, 4, 6, 8, '-'],\n",
       " [-1, 1, 2, 2, '-', '-'],\n",
       " [2, 1, 0, '-', '-', '-'],\n",
       " [-1, -1, '-', '-', '-', '-'],\n",
       " [0, '-', '-', '-', '-', '-']]"
      ]
     },
     "execution_count": 236,
     "metadata": {},
     "output_type": "execute_result"
    }
   ],
   "source": [
    "Fwd_diff_table"
   ]
  },
  {
   "cell_type": "code",
   "execution_count": null,
   "id": "4d8b2d6c",
   "metadata": {},
   "outputs": [],
   "source": []
  },
  {
   "cell_type": "code",
   "execution_count": null,
   "id": "1a530177",
   "metadata": {},
   "outputs": [],
   "source": []
  },
  {
   "cell_type": "code",
   "execution_count": null,
   "id": "127f2c1e",
   "metadata": {},
   "outputs": [],
   "source": []
  },
  {
   "cell_type": "code",
   "execution_count": null,
   "id": "80afff23",
   "metadata": {},
   "outputs": [],
   "source": []
  },
  {
   "cell_type": "code",
   "execution_count": null,
   "id": "391af748",
   "metadata": {},
   "outputs": [],
   "source": []
  },
  {
   "cell_type": "code",
   "execution_count": null,
   "id": "db4b2026",
   "metadata": {},
   "outputs": [],
   "source": []
  },
  {
   "cell_type": "code",
   "execution_count": null,
   "id": "9ffd2630",
   "metadata": {},
   "outputs": [],
   "source": []
  },
  {
   "cell_type": "code",
   "execution_count": null,
   "id": "61050983",
   "metadata": {},
   "outputs": [],
   "source": []
  },
  {
   "cell_type": "code",
   "execution_count": null,
   "id": "eaa583fc",
   "metadata": {},
   "outputs": [],
   "source": []
  },
  {
   "cell_type": "code",
   "execution_count": null,
   "id": "a12a6cba",
   "metadata": {},
   "outputs": [],
   "source": []
  },
  {
   "cell_type": "code",
   "execution_count": null,
   "id": "46a18601",
   "metadata": {},
   "outputs": [],
   "source": []
  },
  {
   "cell_type": "code",
   "execution_count": null,
   "id": "29f68030",
   "metadata": {},
   "outputs": [],
   "source": []
  },
  {
   "cell_type": "code",
   "execution_count": null,
   "id": "f62dafb6",
   "metadata": {},
   "outputs": [],
   "source": []
  },
  {
   "cell_type": "code",
   "execution_count": null,
   "id": "a6954b14",
   "metadata": {},
   "outputs": [],
   "source": []
  },
  {
   "cell_type": "code",
   "execution_count": null,
   "id": "c327ca16",
   "metadata": {},
   "outputs": [],
   "source": []
  },
  {
   "cell_type": "code",
   "execution_count": null,
   "id": "b827aa3e",
   "metadata": {},
   "outputs": [],
   "source": []
  },
  {
   "cell_type": "code",
   "execution_count": null,
   "id": "dd7da15b",
   "metadata": {},
   "outputs": [],
   "source": []
  },
  {
   "cell_type": "code",
   "execution_count": 157,
   "id": "c8ba44b4",
   "metadata": {},
   "outputs": [
    {
     "name": "stdout",
     "output_type": "stream",
     "text": [
      "[7, 11, 14, 18, 24, 32]\n",
      "found a dash\n",
      "found a dash\n",
      "found a dash\n",
      "found a dash\n",
      "found a dash\n",
      "found a dash\n"
     ]
    }
   ],
   "source": [
    "l = 0\n",
    "for i in range(len(Fwd_diff_table[l])):\n",
    "    if '-' in Fwd_diff_table[l]:\n",
    "        break\n",
    "        \n",
    "    "
   ]
  },
  {
   "cell_type": "code",
   "execution_count": 155,
   "id": "8a475624",
   "metadata": {},
   "outputs": [
    {
     "data": {
      "text/plain": [
       "True"
      ]
     },
     "execution_count": 155,
     "metadata": {},
     "output_type": "execute_result"
    }
   ],
   "source": [
    "'-' in Fwd_diff_table[l]"
   ]
  },
  {
   "cell_type": "code",
   "execution_count": null,
   "id": "edd3bcaa",
   "metadata": {},
   "outputs": [],
   "source": [
    "#  1, 9 , 2, 8  "
   ]
  },
  {
   "cell_type": "code",
   "execution_count": 68,
   "id": "f4f9268a",
   "metadata": {},
   "outputs": [
    {
     "name": "stdout",
     "output_type": "stream",
     "text": [
      "[7, 11, 14, 18, 24, 32]\n",
      "[4, 3, 4, 6, 8, '-']\n",
      "[-1, 1, 2, 2, '-', '-']\n",
      "[2, 1, 0, '-', '-', '-']\n",
      "[-1, -1, '-', '-', '-', '-']\n",
      "[0, '-', '-', '-', '-', '-']\n"
     ]
    }
   ],
   "source": [
    "for i in range(len(Fwd_diff_table)):\n",
    "    print(Fwd_diff_table[i])"
   ]
  },
  {
   "cell_type": "code",
   "execution_count": 70,
   "id": "d56f3e0a",
   "metadata": {},
   "outputs": [
    {
     "data": {
      "text/plain": [
       "11"
      ]
     },
     "execution_count": 70,
     "metadata": {},
     "output_type": "execute_result"
    }
   ],
   "source": [
    "Fwd_diff_table[0][1]"
   ]
  },
  {
   "cell_type": "code",
   "execution_count": 72,
   "id": "57081b66",
   "metadata": {},
   "outputs": [
    {
     "data": {
      "text/plain": [
       "7"
      ]
     },
     "execution_count": 72,
     "metadata": {},
     "output_type": "execute_result"
    }
   ],
   "source": [
    "F_values[0]"
   ]
  },
  {
   "cell_type": "code",
   "execution_count": 95,
   "id": "e6adfcab",
   "metadata": {},
   "outputs": [
    {
     "name": "stdout",
     "output_type": "stream",
     "text": [
      "  x  \t f(x)\t\t∆ f(x)\t\t∆^2 f(x)\t∆^3 f(x)\t∆^4 f(x)\t∆^5 f(x)\t\n",
      "  0        7 \t\t  11\t\t  14\t\t  18\t\t  24\t\t  32\n",
      "\n",
      "  5        4 \t\t  3 \t\t  4 \t\t  6 \t\t  8 \n",
      "\n",
      "  10       -1\t\t  1 \t\t  2 \t\t  2 \n",
      "\n",
      "  15       2 \t\t  1 \t\t  0 \n",
      "\n",
      "  20       -1\t\t  -1\n",
      "\n",
      "  25       0 \n",
      "\n"
     ]
    }
   ],
   "source": [
    "n = 5\n",
    "print(f'{\"x\".center(n)}\\t{\"f(x)\".center(n)}\\t\\t{del_string}')\n",
    "\n",
    "for i in range(len(Fwd_diff_table)):\n",
    "    print('', str(x[i]).center(3), '   ',  \"\\t\\t\".join([' '+str(i).center(3) for i in Fwd_diff_table[i]]))\n",
    "    print()"
   ]
  }
 ],
 "metadata": {
  "kernelspec": {
   "display_name": "Python 3 (ipykernel)",
   "language": "python",
   "name": "python3"
  },
  "language_info": {
   "codemirror_mode": {
    "name": "ipython",
    "version": 3
   },
   "file_extension": ".py",
   "mimetype": "text/x-python",
   "name": "python",
   "nbconvert_exporter": "python",
   "pygments_lexer": "ipython3",
   "version": "3.10.2"
  }
 },
 "nbformat": 4,
 "nbformat_minor": 5
}
