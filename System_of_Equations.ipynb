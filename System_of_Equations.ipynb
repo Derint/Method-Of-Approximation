{
 "cells": [
  {
   "cell_type": "code",
   "execution_count": 1,
   "id": "623bb8fe",
   "metadata": {},
   "outputs": [],
   "source": [
    "from fractions import Fraction\n",
    "from math import *\n",
    "from icecream import ic\n",
    "import inspect\n",
    "import numpy as np"
   ]
  },
  {
   "cell_type": "code",
   "execution_count": 2,
   "id": "1e9364dd",
   "metadata": {},
   "outputs": [],
   "source": [
    "def DrawMat(L,adj=2):\n",
    "    frame = inspect.currentframe()\n",
    "    frame = inspect.getouterframes(frame)[1]\n",
    "    string = inspect.getframeinfo(frame[0]).code_context[0].strip()\n",
    "    args = string[string.find('(') + 1:-1].split(',')\n",
    "    \n",
    "    names = []\n",
    "    for i in args:\n",
    "        if i.find('=') != -1:\n",
    "            names.append(i.split('=')[1].strip())\n",
    "        \n",
    "        else:\n",
    "            names.append(i)\n",
    "    \n",
    "\n",
    "    for i in range(len(L)):\n",
    "        if i > 0:\n",
    "            print(f'{\"      \".center(6)} {str(L[i]).rjust(5)}')\n",
    "        else:\n",
    "            print(f'{names[0].center(4)} = {str(L[i]).rjust(5)}')\n",
    "    print('')\n",
    "    \n",
    "# DrawMat(a,4)"
   ]
  },
  {
   "cell_type": "markdown",
   "id": "e233fcfb",
   "metadata": {},
   "source": [
    "## Jacobi Method"
   ]
  },
  {
   "cell_type": "code",
   "execution_count": null,
   "id": "07b9bdf2",
   "metadata": {
    "scrolled": true
   },
   "outputs": [],
   "source": [
    "a = [[3,1,1],[1,4,2],[1,2,5]]\n",
    "b = (1,0,0)\n",
    "\n",
    "DrawMat(a, 3)\n",
    "DrawMat(b, 3)\n",
    "x_0, y_0, z_0 = 1,0,0\n",
    "\n",
    "upto = 4\n",
    "precision = 1e-10\n",
    "\n",
    "counter = 0\n",
    "print(f'Initial values are: x_0 = {x_0}, y_0 = {y_0}, z_0 = {z_0}\\n')\n",
    "\n",
    "while True:\n",
    "        \n",
    "    x = round(1/a[0][0] * (b[0] - a[0][1] * y_0 - a[0][2] * z_0), upto)\n",
    "    y = round(1/a[1][1] * (b[1] - a[1][0] * x_0 - a[1][2] * z_0), upto)\n",
    "    z = round(1/a[2][2] * (b[2] - a[2][0] * x_0 - a[2][1] * y_0), upto)\n",
    "    \n",
    "    if abs(x - x_0) < precision and abs(y - y_0) < precision and abs(z - z_0) < precision:\n",
    "        break\n",
    "        \n",
    "    print(f'{counter + 1} Iteration')   \n",
    "    print(f'x_{counter+1} = {x}, y_{counter+1} = {y}, z_{counter+1} = {z}')\n",
    "    \n",
    "    x_0 = x\n",
    "    y_0 = y\n",
    "    z_0 = z\n",
    "    \n",
    "    print('')\n",
    "    counter += 1\n",
    "#     if counter == 3: break\n",
    "    \n",
    "    "
   ]
  },
  {
   "cell_type": "markdown",
   "id": "fa0f6255",
   "metadata": {},
   "source": [
    "## Gauss-Seidel Method"
   ]
  },
  {
   "cell_type": "code",
   "execution_count": null,
   "id": "b84ae449",
   "metadata": {},
   "outputs": [],
   "source": [
    "a = [[12,7,3],[1,5,1],[2,7,-11]]\n",
    "b = [2,-5,6]\n",
    "\n",
    "x_0,y_0, z_0 = 1,3,5\n",
    "\n",
    "upto = 20\n",
    "up = 4\n",
    "count = 0\n",
    "precision = 1e-10\n",
    "\n",
    "temp_list_x = []\n",
    "temp_list_y = []\n",
    "temp_list_z = []\n",
    "\n",
    "while True:\n",
    "    x = round(1/a[0][0] * (b[0] - a[0][1] * y_0 - a[0][2] * z_0), upto)\n",
    "    y = round(1/a[1][1] * (b[1] - a[1][0] * x - a[1][2] * z_0), upto)\n",
    "    z = round(1/a[2][2] * (b[2] - a[2][0] * x - a[2][1] * y), upto)\n",
    "    \n",
    "    if abs(y - y_0) < precision and abs(z - z_0) < precision:\n",
    "        break\n",
    "    \n",
    "    if round(x, up) not in temp_list_x:\n",
    "        temp_list_x.append(round(x, up))\n",
    "        \n",
    "    if round(y, up) not in temp_list_y:\n",
    "        temp_list_y.append(round(y, up))\n",
    "        \n",
    "    if round(z, up) not in temp_list_z:\n",
    "        temp_list_z.append(round(z, up))\n",
    "        \n",
    "    y_0 = y\n",
    "    z_0 = z\n",
    "    \n",
    "    count += 1\n",
    "    \n",
    "#     if count == 3: break\n",
    "\n",
    "for i in range(min(len(temp_list_x), len(temp_list_y),len(temp_list_z))):\n",
    "    print(f'{i + 1} Iteration.')\n",
    "    print(f'x = {round(temp_list_x[i], up)}, y = {round(temp_list_y[i], up)}, z = {round(temp_list_z[i], up)}')\n",
    "    print('')\n",
    "    \n",
    "print(f\"x = {temp_list_x[-1]}, y = {temp_list_y[-1]}, z = {temp_list_z[-1]}\")\n",
    "print(f\"x = {Fraction(x).limit_denominator()}, y = {Fraction(y).limit_denominator()}, z = {Fraction(z).limit_denominator()}\")\n",
    "\n",
    "del temp_list_x, temp_list_y, temp_list_z"
   ]
  },
  {
   "cell_type": "markdown",
   "id": "038339ab",
   "metadata": {},
   "source": [
    "## Cholesky Method"
   ]
  },
  {
   "cell_type": "code",
   "execution_count": null,
   "id": "c3dc735e",
   "metadata": {},
   "outputs": [],
   "source": [
    "A = [[1,2,3],[2,8,22],[3,22,82]]\n",
    "B = [174, 236, 308]"
   ]
  },
  {
   "cell_type": "code",
   "execution_count": null,
   "id": "b068110d",
   "metadata": {},
   "outputs": [],
   "source": [
    "DrawMat(A)\n",
    "\n",
    "l_11 = sqrt(A[0][0])\n",
    "l_21 = A[0][1]/l_11\n",
    "l_31 = A[2][0]/l_11\n",
    "\n",
    "l_22 = sqrt(A[1][1] - l_21**2)\n",
    "\n",
    "l_32 = (A[1][2] - (l_31*l_21))/l_22\n",
    "l_33 = sqrt(A[2][2] - l_31**2 - l_32**2)\n",
    "\n",
    "L = [[l_11, 0, 0], [l_21, l_22, 0], [l_31, l_32, l_33]]\n",
    "L_T = [[l_11, l_21, l_31], [0, l_22, l_32], [0, 0, l_33]]\n",
    "\n",
    "DrawMat(L)\n",
    "\n",
    "DrawMat(L_T)\n",
    "\n",
    "y_1 = B[0]/L[0][0]\n",
    "y_2 = (B[1] - y_1 * L[1][0])/L[1][1]\n",
    "y_3 = (B[2] - L[2][0] * y_1 - L[2][1] * y_2)/L[2][2]\n",
    "Y = [y_1, y_2, y_3]\n",
    "\n",
    "z = Y[2]/L[2][2]\n",
    "\n",
    "y = (Y[1] - L_T[1][2] * z)/L_T[1][1]\n",
    "\n",
    "x = (Y[0] - L_T[0][1] * y - L_T[0][2] * z)/L_T[0][0]\n",
    "\n",
    "print(f'x = {x}, y = {y}, z = {z}')"
   ]
  },
  {
   "cell_type": "markdown",
   "id": "c7c8d015",
   "metadata": {},
   "source": [
    "## Factorization/ LU/ Triangualtion/ Doolittle Method"
   ]
  },
  {
   "cell_type": "code",
   "execution_count": 7,
   "id": "895ea4c6",
   "metadata": {},
   "outputs": [],
   "source": [
    "A = [[25,5,4],[0,8,16],[0,12,22]]\n",
    "B = [2.72, 0.39, 1.60]"
   ]
  },
  {
   "cell_type": "code",
   "execution_count": 8,
   "id": "a854408a",
   "metadata": {},
   "outputs": [],
   "source": [
    "r = 5\n",
    "u_11 = round(A[0][0],r)\n",
    "u_12 = round(A[0][1],r)\n",
    "u_13 = round(A[0][2],r)\n",
    "\n",
    "l_21 = round(A[1][0]/u_11,r)\n",
    "l_31 = round(A[2][0]/u_11,r)\n",
    "\n",
    "u_22 = round(A[1][1] - l_21 * u_12,r)\n",
    "u_23 = round(A[1][2] - l_21 * u_13,r)\n",
    "\n",
    "l_32 = round((A[2][1] - l_31 * u_12)/u_22,r)\n",
    "u_33 = round((A[2][2] - l_31 * u_13 - l_32 * u_23),r)"
   ]
  },
  {
   "cell_type": "code",
   "execution_count": 9,
   "id": "2fd9329d",
   "metadata": {},
   "outputs": [],
   "source": [
    "L = [[1, 0, 0], [l_21, 1, 0], [l_31, l_32, 1]]\n",
    "U = [[u_11, u_12, u_13], [0, u_22, u_23], [0, 0, u_33]]"
   ]
  },
  {
   "cell_type": "code",
   "execution_count": 10,
   "id": "50c07472",
   "metadata": {},
   "outputs": [
    {
     "name": "stdout",
     "output_type": "stream",
     "text": [
      " L   = [1, 0, 0]\n",
      "       [0.0, 1, 0]\n",
      "       [0.0, 1.5, 1]\n",
      "\n",
      " U   = [25, 5, 4]\n",
      "       [0, 8.0, 16.0]\n",
      "       [0, 0, -2.0]\n",
      "\n"
     ]
    }
   ],
   "source": [
    "DrawMat(L,7)\n",
    "\n",
    "DrawMat(U,8)"
   ]
  },
  {
   "cell_type": "code",
   "execution_count": null,
   "id": "abfb5a8c",
   "metadata": {},
   "outputs": [],
   "source": [
    "y_1 = round(B[0],r)\n",
    "y_2 = round(B[1] - L[1][0] * y_1,r)\n",
    "y_3 = round(B[2] - L[2][0] * y_1 - L[2][1] * y_2,r)\n",
    "\n",
    "Y = [y_1, y_2, y_3]\n",
    "Y"
   ]
  },
  {
   "cell_type": "code",
   "execution_count": null,
   "id": "9c8776dc",
   "metadata": {
    "scrolled": true
   },
   "outputs": [],
   "source": [
    "x_3 = Y[2]/u_33\n",
    "x_2 = (Y[1] - u_23 * x_3)/u_22\n",
    "x_1 = (Y[0] - u_12 * x_2 - u_13 * x_3)/u_11\n",
    "\n",
    "let = ['x', 'y', 'z']\n",
    "sols = [x_1, x_2, x_3]\n",
    "\n",
    "# Printing The Solutions\n",
    "print(\", \".join([f'{let[i]} = {Fraction(sols[i]).limit_denominator()} i.e ({round(sols[i], 5)})' for i in range(len(sols))]))"
   ]
  },
  {
   "cell_type": "markdown",
   "id": "cd73d613",
   "metadata": {},
   "source": [
    "## Crout's Method"
   ]
  },
  {
   "cell_type": "code",
   "execution_count": null,
   "id": "35e5955b",
   "metadata": {},
   "outputs": [],
   "source": [
    "A = [[1,1,1],[4,3,-1],[3,5,3]]"
   ]
  },
  {
   "cell_type": "code",
   "execution_count": null,
   "id": "1de33801",
   "metadata": {},
   "outputs": [],
   "source": [
    "# Finding the values of L, U\n",
    "l_11 = A[0][0]\n",
    "l_21 = A[1][0]\n",
    "l_31 = A[2][0]\n",
    "\n",
    "u_12 = A[0][1]/l_11\n",
    "l_22 = A[1][1] - l_21 * u_12\n",
    "l_32 = A[2][1] - l_31 * u_12\n",
    "\n",
    "u_13 = A[0][2]/l_11\n",
    "u_23 = (A[1][2] - l_21 * u_13)/l_22\n",
    "l_33 = (A[2][2] - l_31 * u_13 - l_32 * u_23)\n",
    "\n",
    "# Putting Values in L, U\n",
    "L = [[1, 0, 0],[l_21, l_22, 0], [l_31, l_32, l_33]]\n",
    "U = [[1, u_12, u_13], [0, 1, u_23], [0, 0, 1]]"
   ]
  },
  {
   "cell_type": "code",
   "execution_count": null,
   "id": "be1581d2",
   "metadata": {},
   "outputs": [],
   "source": [
    "DrawMat(L)\n",
    "\n",
    "DrawMat(U)"
   ]
  },
  {
   "cell_type": "code",
   "execution_count": null,
   "id": "e0409dc3",
   "metadata": {},
   "outputs": [],
   "source": [
    "y_1 = B[0]\n",
    "y_2 = B[1] - l_21 * y_1\n",
    "y_3 = (B[2] - l_31 * y_1 - l_32 * y_2)/l_33\n",
    "\n",
    "Y = [y_1, y_2, y_3]\n",
    "\n",
    "# Finding the Solution \n",
    "z = Y[2]\n",
    "y = Y[1] - u_23 * z\n",
    "x = Y[0] - u_13*z - u_12 * y\n",
    "x,y,z"
   ]
  },
  {
   "cell_type": "code",
   "execution_count": null,
   "id": "6123d9b2",
   "metadata": {},
   "outputs": [],
   "source": [
    "let = ['x', 'y', 'z']\n",
    "sols = [x, y, z]\n",
    "\n",
    "# Printing The Solutions\n",
    "print(\", \".join([f'{let[i]} = {Fraction(sols[i]).limit_denominator()}' for i in range(len(sols))]))"
   ]
  },
  {
   "cell_type": "markdown",
   "id": "3c0c4b45",
   "metadata": {},
   "source": [
    "# Eigen Value & Eigen Vectors"
   ]
  },
  {
   "cell_type": "markdown",
   "id": "a33a3c00",
   "metadata": {},
   "source": [
    "## Power Method"
   ]
  },
  {
   "cell_type": "code",
   "execution_count": 3,
   "id": "e6e4aba3",
   "metadata": {},
   "outputs": [],
   "source": [
    "def resultMat(A,X_0, upto = 5):\n",
    "    A_nxt = []\n",
    "    for i in range(len(A)):\n",
    "        t = 0\n",
    "        for j in range(len(A[i])):\n",
    "            t += A[i][j] * X_0[j]\n",
    "        A_nxt.append(round(t,upto))\n",
    "\n",
    "    return A_nxt\n",
    "\n",
    "def takeOut(test):\n",
    "    m = test[0]\n",
    "    pos = 0\n",
    "\n",
    "    for i in range(len(test)):\n",
    "        if abs(test[i]) > m:\n",
    "            m = abs(test[i])\n",
    "            pos = i\n",
    "            \n",
    "    return test[pos]"
   ]
  },
  {
   "cell_type": "code",
   "execution_count": 4,
   "id": "f97afbc7",
   "metadata": {
    "scrolled": false
   },
   "outputs": [
    {
     "name": "stdout",
     "output_type": "stream",
     "text": [
      "\n",
      "Iteration 1\n",
      "\n",
      " A   = [4, 1, -1]\n",
      "       [2, 3, -1]\n",
      "       [-2, 1, 5]\n",
      "\n",
      "X_0  =     1\n",
      "           0\n",
      "           0\n",
      "\n",
      "rslt =     4\n",
      "           2\n",
      "          -2\n",
      "\n",
      " λ^(0) = 4, x^(1) = (1.0, 0.5, -0.5)^T\n",
      "--------------------------------------------------\n",
      "\n",
      "Iteration 2\n",
      "\n",
      " A   = [4, 1, -1]\n",
      "       [2, 3, -1]\n",
      "       [-2, 1, 5]\n",
      "\n",
      "X_0  =   1.0\n",
      "         0.5\n",
      "        -0.5\n",
      "\n",
      "rslt =   5.0\n",
      "         4.0\n",
      "        -4.0\n",
      "\n",
      " λ^(1) = 5.0, x^(2) = (1.0, 0.8, -0.8)^T\n",
      "--------------------------------------------------\n",
      "\n",
      "Iteration 3\n",
      "\n",
      " A   = [4, 1, -1]\n",
      "       [2, 3, -1]\n",
      "       [-2, 1, 5]\n",
      "\n",
      "X_0  =   1.0\n",
      "         0.8\n",
      "        -0.8\n",
      "\n",
      "rslt =   5.6\n",
      "         5.2\n",
      "        -5.2\n",
      "\n",
      " λ^(2) = 5.6, x^(3) = (1.0, 0.929, -0.929)^T\n",
      "--------------------------------------------------\n",
      "\n",
      "Iteration 4\n",
      "\n",
      " A   = [4, 1, -1]\n",
      "       [2, 3, -1]\n",
      "       [-2, 1, 5]\n",
      "\n",
      "X_0  =   1.0\n",
      "       0.929\n",
      "       -0.929\n",
      "\n",
      "rslt = 5.858\n",
      "       5.716\n",
      "       -5.716\n",
      "\n",
      " λ^(3) = 5.858, x^(4) = (1.0, 0.976, -0.976)^T\n",
      "--------------------------------------------------\n",
      "\n",
      "Iteration 5\n",
      "\n",
      " A   = [4, 1, -1]\n",
      "       [2, 3, -1]\n",
      "       [-2, 1, 5]\n",
      "\n",
      "X_0  =   1.0\n",
      "       0.976\n",
      "       -0.976\n",
      "\n",
      "rslt = 5.952\n",
      "       5.904\n",
      "       -5.904\n",
      "\n",
      " λ^(4) = 5.952, x^(5) = (1.0, 0.992, -0.992)^T\n",
      "--------------------------------------------------\n",
      "\n",
      "Iteration 6\n",
      "\n",
      " A   = [4, 1, -1]\n",
      "       [2, 3, -1]\n",
      "       [-2, 1, 5]\n",
      "\n",
      "X_0  =   1.0\n",
      "       0.992\n",
      "       -0.992\n",
      "\n",
      "rslt = 5.984\n",
      "       5.968\n",
      "       -5.968\n",
      "\n",
      " λ^(5) = 5.984, x^(6) = (1.0, 0.997, -0.997)^T\n",
      "--------------------------------------------------\n",
      "\n",
      "Iteration 7\n",
      "\n",
      " A   = [4, 1, -1]\n",
      "       [2, 3, -1]\n",
      "       [-2, 1, 5]\n",
      "\n",
      "X_0  =   1.0\n",
      "       0.997\n",
      "       -0.997\n",
      "\n",
      "rslt = 5.994\n",
      "       5.988\n",
      "       -5.988\n",
      "\n",
      " λ^(6) = 5.994, x^(7) = (1.0, 0.999, -0.999)^T\n",
      "--------------------------------------------------\n",
      "\n",
      "Iteration 8\n",
      "\n",
      " A   = [4, 1, -1]\n",
      "       [2, 3, -1]\n",
      "       [-2, 1, 5]\n",
      "\n",
      "X_0  =   1.0\n",
      "       0.999\n",
      "       -0.999\n",
      "\n",
      "rslt = 5.998\n",
      "       5.996\n",
      "       -5.996\n",
      "\n",
      " λ^(7) = 5.998, x^(8) = (1.0, 1.0, -1.0)^T\n",
      "--------------------------------------------------\n",
      "\n",
      "Iteration 9\n",
      "\n",
      " A   = [4, 1, -1]\n",
      "       [2, 3, -1]\n",
      "       [-2, 1, 5]\n",
      "\n",
      "X_0  =   1.0\n",
      "         1.0\n",
      "        -1.0\n",
      "\n",
      "rslt =   6.0\n",
      "         6.0\n",
      "        -6.0\n",
      "\n",
      " λ^(8) = 6.0, x^(9) = (1.0, 1.0, -1.0)^T\n",
      "--------------------------------------------------\n",
      "\n"
     ]
    }
   ],
   "source": [
    "A = [[4,1,-1],[2,3,-1],[-2,1,5]]\n",
    "X_0 = (1,0,0)\n",
    "\n",
    "e_v_p = 0\n",
    "precision = 1e-10\n",
    "count = 0\n",
    "upto = 3\n",
    "\n",
    "x_0 = []\n",
    "resMat = []\n",
    "e_values = []\n",
    "\n",
    "while True:\n",
    "    eVMat = resultMat(A, X_0,upto)\n",
    "    e_v_n = takeOut(eVMat)\n",
    "    \n",
    "    x_0.append(X_0)\n",
    "    X_0 = [round(i/e_v_n, upto) for i in eVMat]\n",
    "    \n",
    "    if abs(e_v_n - e_v_p) < precision:\n",
    "        break\n",
    "        \n",
    "    resMat.append(eVMat)\n",
    "    e_values.append(e_v_n)\n",
    "    \n",
    "    e_v_p = e_v_n\n",
    "    count+=1\n",
    "\n",
    "mr = min(len(x_0), len(resMat), len(e_values))\n",
    "\n",
    "print()\n",
    "for i in range(mr):\n",
    "    print(f'Iteration {i+1}')\n",
    "    print()\n",
    "    DrawMat(A)\n",
    "    X_0 = x_0[i]\n",
    "    DrawMat(X_0)\n",
    "    rslt = resMat[i]\n",
    "    DrawMat(rslt)\n",
    "    \n",
    "    print(f' λ^({i}) = {round(e_values[i],upto)}, x^({i+1}) = {tuple(x_0[i+1])}^T')\n",
    "    print('-----'*10)\n",
    "    print('')\n",
    "    \n",
    "del x_0, resMat, e_values"
   ]
  },
  {
   "cell_type": "markdown",
   "id": "bd98284c",
   "metadata": {},
   "source": [
    "## Inverse Power Method"
   ]
  },
  {
   "cell_type": "code",
   "execution_count": null,
   "id": "d95a32d6",
   "metadata": {},
   "outputs": [],
   "source": [
    "def MulMatrix(A,B,upto=4):\n",
    "    '''\n",
    "    Can Be only Used For nxn Matrices\n",
    "    A x B \n",
    "    '''\n",
    "    output = []\n",
    "    \n",
    "    # This loops through each Row\n",
    "    if len(A) == len(B):\n",
    "        for main_val in range(len(A)):\n",
    "            temp_out = []\n",
    "\n",
    "            # This loops Through each Column\n",
    "            for val in range(len(A[main_val])):\n",
    "                t = 0\n",
    "                mul = [i[val] for i in B]\n",
    "\n",
    "                # This Calculates the Value at that particular row-column\n",
    "                for i in range(len(A)):\n",
    "                    t += A[main_val][i] * mul[i]\n",
    "                    \n",
    "#                 temp_out.append(Fraction(t).limit_denominator())\n",
    "                temp_out.append(round(t, upto))\n",
    "\n",
    "            output.append(temp_out)\n",
    "\n",
    "        return output\n",
    "    \n",
    "    else:\n",
    "        print('Can Only be used only for nxn Matrix')"
   ]
  },
  {
   "cell_type": "markdown",
   "id": "5d5167b1",
   "metadata": {},
   "source": [
    "### Testing"
   ]
  },
  {
   "cell_type": "code",
   "execution_count": null,
   "id": "4d215219",
   "metadata": {},
   "outputs": [],
   "source": [
    "p1 = [[1/sqrt(2),0,-1/sqrt(2)],[0,1,0],[1/sqrt(2),0,1/sqrt(2)]]\n",
    "# A = [[2,sqrt(2),4],[sqrt(2),6,sqrt(2)],[4,sqrt(2),2]]\n",
    "\n",
    "\n",
    "p2 = [[1/sqrt(2),-1/sqrt(2),0],[1/sqrt(2),1/sqrt(2),0],[0,0,1]]\n",
    "# MulMatrix(MulMatrix(p1,A), p2)\n",
    "MulMatrix(p1,p2)\n"
   ]
  },
  {
   "cell_type": "code",
   "execution_count": null,
   "id": "f1a79e47",
   "metadata": {},
   "outputs": [],
   "source": [
    "p1_inv = [[1/sqrt(2), 0, 1/sqrt(2)],[0,1,0],[-1/sqrt(2),0,1/sqrt(2)]]\n",
    "# A = [[15.010,0,0.008],[0,15.010,-0.0058],[0.008,-0.0058,15.010]]\n",
    "A = [[2,sqrt(2),4],[sqrt(2),6,sqrt(2)],[4,sqrt(2),2]]\n",
    "p1 = [[1/sqrt(2), 0, -1/sqrt(2)],[0,1,0],[1/sqrt(2), 0, 1/sqrt(2)]]\n",
    "\n",
    "DrawMat(p1_inv)\n",
    "DrawMat(A)\n",
    "DrawMat(p1)\n",
    "\n",
    "MulMatrix(MulMatrix(p1_inv, A),p1)"
   ]
  },
  {
   "cell_type": "code",
   "execution_count": null,
   "id": "cc83a0f4",
   "metadata": {},
   "outputs": [],
   "source": [
    "L = [[1,0,0],[4,-1,0],[3,2,-10]]\n",
    "U = [[1,1,1],[0,1,5],[0,0,1]]\n",
    "\n",
    "np.array(MulMatrix(L,U))"
   ]
  },
  {
   "cell_type": "code",
   "execution_count": null,
   "id": "0ebff8e1",
   "metadata": {},
   "outputs": [],
   "source": [
    "L = [[1,0,0],[2,2,0],[3,8,3]]\n",
    "U = [[1,2,3],[0,2,8],[0,0,3]]\n",
    "print(MulMatrix(L,U))\n",
    "\n",
    "\n",
    "B = [[1,0,0,0],[-4,1,0,0],[-2,-0.25,1,0],[-3,0.5,0,1]]\n",
    "A = [[1,1/4, 1, -8/11],[0,-1/4,1,-3/11],[0,0,-2,15/11],[0,0,0,2/11]]\n",
    "MulMatrix(A,B)"
   ]
  },
  {
   "cell_type": "code",
   "execution_count": null,
   "id": "aa921748",
   "metadata": {},
   "outputs": [],
   "source": [
    "DrawMat(A,5)\n",
    "\n",
    "DrawMat(B,5)"
   ]
  },
  {
   "cell_type": "code",
   "execution_count": null,
   "id": "d2a417c5",
   "metadata": {},
   "outputs": [],
   "source": [
    "A = [[1,2,3],[4,5,6]]\n",
    "B = [[1,2],[3,4],[5,6]]\n",
    "\n",
    "DrawMat(A)\n",
    "DrawMat(B)\n",
    "\n",
    "MulMatrix(A,B)"
   ]
  },
  {
   "cell_type": "code",
   "execution_count": null,
   "id": "ba6e5497",
   "metadata": {},
   "outputs": [],
   "source": []
  }
 ],
 "metadata": {
  "interpreter": {
   "hash": "5ead2df587fb78ad87b2d99398d0390f7db1c7374998f931cf60d3068c2f1f25"
  },
  "kernelspec": {
   "display_name": "Python 3",
   "language": "python",
   "name": "python3"
  },
  "language_info": {
   "codemirror_mode": {
    "name": "ipython",
    "version": 3
   },
   "file_extension": ".py",
   "mimetype": "text/x-python",
   "name": "python",
   "nbconvert_exporter": "python",
   "pygments_lexer": "ipython3",
   "version": "3.9.6"
  }
 },
 "nbformat": 4,
 "nbformat_minor": 5
}
