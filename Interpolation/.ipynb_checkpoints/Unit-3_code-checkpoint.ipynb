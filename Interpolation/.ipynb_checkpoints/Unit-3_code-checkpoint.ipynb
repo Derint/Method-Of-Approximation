{
 "cells": [
  {
   "cell_type": "code",
   "execution_count": null,
   "id": "1d320df9",
   "metadata": {},
   "outputs": [],
   "source": [
    "from Helper_functions import *\n",
    "from math import *\n",
    "\n",
    "_ = '_'"
   ]
  },
  {
   "cell_type": "code",
   "execution_count": null,
   "id": "e881849e",
   "metadata": {},
   "outputs": [],
   "source": [
    "def Trapezoidal_Rule(a, b, f, n, h, show_working=False, rn = 5):\n",
    "    n, h = get_n_h(a, b, n, h, rn)\n",
    "    x_vals, y_vals = calc_x_y(a, b, f, n, h, rn=rn)\n",
    "\n",
    "    s1, s2 = 0, 0\n",
    "    for i in range(len(y_vals)):\n",
    "        if i == 0 or i==(len(y_vals)-1):\n",
    "            s1 += y_vals[i]\n",
    "        else:\n",
    "            s2 += y_vals[i]\n",
    "\n",
    "    total = h/2 * (s1 + 2 * s2)\n",
    "    \n",
    "    if show_working:\n",
    "        print(f'h: {h}, n: {n}, f(x) : {f}')\n",
    "        if n<11 and rn < 9: Draw_table(x_vals, y_vals)\n",
    "        tpe = ' ' if n==1 else ' Composite '\n",
    "        print(f'\\n By{tpe}Trapezoidal Rule.\\n\\t Integral from :: {a} to {b} ∫f(x) dx = ∫ {f} dx = {check_d_n_r(total)}')\n",
    "    return total"
   ]
  },
  {
   "cell_type": "code",
   "execution_count": null,
   "id": "4f80a9b7",
   "metadata": {},
   "outputs": [],
   "source": [
    "def Simpson_1_3_rule(a, b, f, n, h, show_working=False, rn=5):\n",
    "    n, h = get_n_h(a, b, n, h, rn)\n",
    "    \n",
    "    if n % 2!=0:\n",
    "        print('[-] Simpson\\'s 1/3rd rule is only Applicable for EVEN number of partions. ')\n",
    "        return None\n",
    "    \n",
    "    x_vals, y_vals = calc_x_y(a, b, f, n, _, rn=rn)\n",
    "    s1, s2, s3 = 0, 0, 0\n",
    "    for i in range(len(y_vals)):\n",
    "        if i == 0 or i==(len(y_vals)-1):\n",
    "            s1 += y_vals[i]\n",
    "        elif i%2==0:\n",
    "            s2 += y_vals[i]\n",
    "        else:\n",
    "            s3 += y_vals[i]\n",
    "\n",
    "    total = h/3 * (s1 + 4 * s3 + 2*s2)\n",
    "    \n",
    "    if show_working:\n",
    "        print(f'h: {h}, n: {n}, f(x) : {f}')\n",
    "        if n<11 and rn < 9: Draw_table(x_vals, y_vals)\n",
    "        tpe = ' ' if n==2 else ' Composite '\n",
    "        print(f'\\n By{tpe}Simpson\\'s 1/3rd Rule.\\n\\t Integral from :: {a} to {b} ∫f(x) dx = ∫ {f} dx = {total}')\n",
    "    return total"
   ]
  },
  {
   "cell_type": "code",
   "execution_count": null,
   "id": "67af6284",
   "metadata": {},
   "outputs": [],
   "source": [
    "def Simpson_3_8_rule(a, b, f, n, h, show_working=False, rn=5):\n",
    "    n, h = get_n_h(a, b, n, h, rn=rn)\n",
    "    if n % 3!=0:\n",
    "        print('[-] Simpson\\'s 3/8th rule is only Applicable for n Divisible by 3. ')\n",
    "        return None\n",
    "\n",
    "    x_vals, y_vals = calc_x_y(a, b, f, n, h, rn=rn)\n",
    "    s1, s2, s3 = 0, 0, 0\n",
    "    for i in range(len(y_vals)):\n",
    "        if i==0 or i==len(y_vals)-1:\n",
    "            s1 += y_vals[i]\n",
    "        elif i%3==0:\n",
    "            s2 += y_vals[i]\n",
    "        else:\n",
    "            s3 += y_vals[i]\n",
    "    total = 3/8 * h * (s1 + 3 * s3 + 2 * s2)\n",
    "\n",
    "    if show_working:\n",
    "        print(f'h: {h}, n: {n}, f(x) : {f}\\n')\n",
    "        if n<11 and rn < 9:Draw_table(x_vals, y_vals)\n",
    "        tpe = ' ' if n==3 else ' Composite '\n",
    "        print(f' By{tpe}Simpson\\'s 3/8th Rule.\\n\\t Integral from :: {a} to {b} ∫f(x) dx = ∫ {f} dx = {total}')\n",
    "    return total"
   ]
  },
  {
   "cell_type": "code",
   "execution_count": null,
   "id": "dea54779",
   "metadata": {},
   "outputs": [],
   "source": [
    "def calc_x_y(a, b, f, n, h, print_table=False, rn=5):\n",
    "    n, h = get_n_h(a, b, n, h, rn=rn)\n",
    "    x_vals = [check_d_n_r(a + i*h, rn) for i in range(int(n)+1)]\n",
    "    y_vals = []\n",
    "    for i in range(len(x_vals)):\n",
    "        x = x_vals[i]\n",
    "        y_vals.append(check_d_n_r(eval(f), rn))\n",
    "        \n",
    "    if print_table:\n",
    "        Draw_table(x_vals, y_vals)\n",
    "    \n",
    "    return x_vals, y_vals\n",
    "\n",
    "def get_n_h(a, b, n, h, rn=10):\n",
    "    if h == '_':\n",
    "        h = check_d_n_r((b - a)/n, rn)\n",
    "    \n",
    "    elif n == '_':\n",
    "        n = check_d_n_r((b - a)/h, rn)\n",
    "        \n",
    "    return n , h"
   ]
  },
  {
   "cell_type": "markdown",
   "id": "4fdccf17",
   "metadata": {},
   "source": [
    " "
   ]
  },
  {
   "cell_type": "markdown",
   "id": "a7588b0f",
   "metadata": {},
   "source": [
    " "
   ]
  },
  {
   "cell_type": "markdown",
   "id": "21a212d9",
   "metadata": {},
   "source": [
    "## Trapezoidal Rule"
   ]
  },
  {
   "cell_type": "markdown",
   "id": "6d9179f5",
   "metadata": {},
   "source": [
    " "
   ]
  },
  {
   "cell_type": "markdown",
   "id": "c9c7630c",
   "metadata": {},
   "source": [
    " "
   ]
  },
  {
   "cell_type": "code",
   "execution_count": null,
   "id": "51338a42",
   "metadata": {},
   "outputs": [],
   "source": [
    "a,b,f, n, h = 0, pi, 'x * sin(x)', 4, _\n",
    "Trapezoidal_Rule(a, b, f, n, h, True)"
   ]
  },
  {
   "cell_type": "markdown",
   "id": "420d2f53",
   "metadata": {},
   "source": [
    "## Simpsons 1/3 Rule"
   ]
  },
  {
   "cell_type": "code",
   "execution_count": null,
   "id": "9ccfbbf2",
   "metadata": {
    "scrolled": true
   },
   "outputs": [],
   "source": [
    "a,b,f,n,h = 1, 4, '1/(2*x + 1)', 4, _\n",
    "Simpson_1_3_rule(a, b, f, n, h, True)"
   ]
  },
  {
   "cell_type": "markdown",
   "id": "8ec9ac83",
   "metadata": {},
   "source": [
    "## Simpsons 3/8 th rule"
   ]
  },
  {
   "cell_type": "code",
   "execution_count": null,
   "id": "9494ad1f",
   "metadata": {},
   "outputs": [],
   "source": [
    "a,b,f,n,h = 4, 5.2, 'log(x, e)', 6, _\n",
    "Simpson_3_8_rule(a, b, f, n, h, True, rn=5)"
   ]
  },
  {
   "cell_type": "code",
   "execution_count": null,
   "id": "54463ecf",
   "metadata": {},
   "outputs": [],
   "source": []
  }
 ],
 "metadata": {
  "kernelspec": {
   "display_name": "Python 3 (ipykernel)",
   "language": "python",
   "name": "python3"
  },
  "language_info": {
   "codemirror_mode": {
    "name": "ipython",
    "version": 3
   },
   "file_extension": ".py",
   "mimetype": "text/x-python",
   "name": "python",
   "nbconvert_exporter": "python",
   "pygments_lexer": "ipython3",
   "version": "3.10.2"
  }
 },
 "nbformat": 4,
 "nbformat_minor": 5
}
