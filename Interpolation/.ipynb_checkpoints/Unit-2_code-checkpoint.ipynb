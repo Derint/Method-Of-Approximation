{
 "cells": [
  {
   "cell_type": "code",
   "execution_count": null,
   "id": "11cbffb8",
   "metadata": {},
   "outputs": [],
   "source": [
    "from sympy import symbols, parsing, expand, simplify\n",
    "from  numpy import poly1d, around\n",
    "from Interpolation import *\n",
    "from Helper_functions import *"
   ]
  },
  {
   "cell_type": "code",
   "execution_count": null,
   "id": "49df047f",
   "metadata": {},
   "outputs": [],
   "source": [
    "def piece_wise_poly(x_v, f_v, show_working=False):\n",
    "    calc = ''\n",
    "    for i in range(len(x_v)):\n",
    "        t_x_v = x_v.copy()\n",
    "        if len(t_x_v)>1:\n",
    "            add = ''\n",
    "            if i+1 != len(x_v): add='+'\n",
    "            t_x_v.pop(i)\n",
    "            ex1 = f'{getFactors(t_x_v, len(t_x_v))} / '\n",
    "            ex2 = f'({getFactors(t_x_v, len(t_x_v), x_v[i])})  * ({f_v[i]}) {add} '\n",
    "            calc += ex1 + ex2\n",
    "            \n",
    "            if show_working:\n",
    "                print('\\t' + ex1 + ' ' + ex2, end='')\n",
    "    if show_working: print('\\n        = ', end='')\n",
    "    return sympy.expand(calc)\n",
    "\n",
    "def Piecewise_Interpolation(x_list, f_values, gap, show_working=False):\n",
    "    if gap > len(x_list)-1:\n",
    "        print(f'[-] In Order to find the Polynomial of order {gap}, len(x_list) should be greater than gap')\n",
    "        return None\n",
    "    \n",
    "    intervals = getIntervals(x_list, gap)\n",
    "    f_intervals = getIntervals(f_values, gap)\n",
    "    pwi = {1:'Linear', 2:'Quadratic', 3:'Cubic', 4:'Quartic'}\n",
    "    print(f'By Piecewise {pwi[gap]} Interpolating Formula we have, ')\n",
    "    \n",
    "    for _ in range(len(intervals)):\n",
    "        print(\"\\tBy Lagrange's Interpolation Formula\\n\\n   f(x) = \" , end='\\n' if show_working else '')\n",
    "        print(piece_wise_poly(intervals[_], f_intervals[_], show_working), end=' ')\n",
    "        print(' x  ∈  [', \", \".join([str(intervals[_][0]), str(intervals[_][-1])]), ']')\n",
    "        print('----'*15)"
   ]
  },
  {
   "cell_type": "code",
   "execution_count": null,
   "id": "b690aa14",
   "metadata": {},
   "outputs": [],
   "source": [
    "def lgrange_Bivariate_I(x_list, alpha='x', write=False, str_format=True):\n",
    "    result = []\n",
    "    result_2 = []\n",
    "    for i in range(len(x_list)):\n",
    "        denon_str = ''\n",
    "        num_str = ''\n",
    "        mul_poly = poly1d([1])\n",
    "        dr = 1\n",
    "        for j in range(len(x_list)):\n",
    "            if i!=j:\n",
    "                num_str += f'({alpha} - {x_list[j]}) '\n",
    "                mul_poly *= poly1d([1, -x_list[j]])\n",
    "                denon_str += f'({x_list[i]} - {x_list[j]})'\n",
    "                dr *= x_list[i] - x_list[j]\n",
    "                \n",
    "        res = mul_poly/dr\n",
    "        result_2.append(f'{num_str.replace(\") (\", \") * (\")}/ ({dr})')\n",
    "        num_str = num_str.replace(\") (\", ') * (')\n",
    "        \n",
    "        if write:\n",
    "            print(f'    {num_str}/({denon_str})')\n",
    "            print('\\t' + \" \".join(coef_2_str(res.coef[::-1], alpha)))\n",
    "            print('---------------------------------------------')\n",
    "            \n",
    "        result.append(res.coef[::-1])\n",
    "\n",
    "    if str_format:\n",
    "        return result_2\n",
    "    \n",
    "    return result\n"
   ]
  },
  {
   "cell_type": "code",
   "execution_count": null,
   "id": "aeacc523",
   "metadata": {},
   "outputs": [],
   "source": [
    "def Lagrange_Bivariate_IF(x_vals, y_vals, arr, show_working=False):\n",
    "    m, n = len(x_vals), len(y_vals)\n",
    "    if show_working:\n",
    "        print(f\"Here m: {m}, n: {n}\\n\")\n",
    "    \n",
    "    x__ = lgrange_Bivariate_I(x_vals)\n",
    "    y__ = lgrange_Bivariate_I(y_vals, 'y')\n",
    "    \n",
    "    if show_working:\n",
    "        print(f\"\\nBy Lagrange's Bivariate Interpolating Formula \\n\\nP(x, y) = \", end='')\n",
    "    for i in range(len(arr)):\n",
    "        add4, tab = '', ''\n",
    "        if i: tab = '\\t'\n",
    "        if i: add4 = ' + '\n",
    "        if show_working:\n",
    "            print(f'{tab}{add4}X_{m-1},{x_vals[i]} * ',end='[')\n",
    "        for j in range(len(arr[i])):\n",
    "            add = ''\n",
    "            if j+1 != len(arr[i]):\n",
    "                add = '+'\n",
    "            if show_working:\n",
    "                print(f'  Y_{n-1},{y_vals[j]} * (F_{x_vals[i]}_{y_vals[j]}) {add}', end=' ')\n",
    "        if show_working:\n",
    "            print(']')\n",
    "    \n",
    "    if show_working:\n",
    "        print('\\n= ', end='')\n",
    "        \n",
    "    t = ''\n",
    "    for i in range(len(arr)):\n",
    "        res_str = ''\n",
    "        add4 = ''\n",
    "        \n",
    "        if i: add4 = ' + '\n",
    "        if show_working:\n",
    "            print(f'{add4}({x__[i]}) * ',end='[ ')\n",
    "            \n",
    "        res_str += f'({x__[i]}) * ('\n",
    "        for j in range(len(arr[i])):\n",
    "            add = ''\n",
    "            if j+1 != len(arr[i]):\n",
    "                add = ' + '\n",
    "            add2 = ''\n",
    "            if j: add2 = ' + '\n",
    "            res_str += f'({y__[j]} * {arr[i][j]}) {add}'\n",
    "            if show_working:\n",
    "                print(f'({y__[j]} * {arr[i][j]}) {add}', end='')\n",
    "            \n",
    "        res_str += ')'\n",
    "            \n",
    "        add3 = ''\n",
    "        if i+1 != len(arr):add3 = ' + '\n",
    "\n",
    "        t += str(expand(res_str)) + add3\n",
    "        if show_working:\n",
    "            print(']')\n",
    "\n",
    "    if show_working:\n",
    "        print('\\n ∴ P(x, y) = ' , simplify(t))\n",
    "        \n",
    "    return simplify(t)\n",
    "\n"
   ]
  },
  {
   "cell_type": "code",
   "execution_count": null,
   "id": "7b8d0715",
   "metadata": {},
   "outputs": [],
   "source": [
    "def d_fx_f(x_vals, x_at, y_at, h, f, n=5):\n",
    "    i_ = value_at(x_vals, x_at, 1)\n",
    "    return round(((f[i_][y_at] - f[x_at][y_at])/h), n)\n",
    "\n",
    "def d_fx_b(x_vals, x_at, y_at, h, f, n=5):\n",
    "    i_ = value_at(x_vals, x_at, -1)\n",
    "    return round(((f[x_at][y_at] - f[i_][y_at])/h), n)\n",
    "\n",
    "def d_fx_c(x_vals, x_at, y_at, h, f, n=5):\n",
    "    i_ = value_at(x_vals, x_at, 1), value_at(x_vals, x_at, -1)\n",
    "    return round(((f[i_[0]][y_at] - f[i_[1]][y_at])/(2*h)), n)"
   ]
  },
  {
   "cell_type": "code",
   "execution_count": null,
   "id": "4ea55afc",
   "metadata": {},
   "outputs": [],
   "source": [
    "def d_fy_f(y_vals, x_at, y_at, k, f, n=5):\n",
    "    j_ = value_at(y_vals, y_at, 1)\n",
    "    return round(((f[x_at][j_] - f[x_at][y_at])/k), n)\n",
    "\n",
    "def d_fy_b(y_vals, x_at, y_at, k, f, n=5):\n",
    "    j_ = value_at(y_vals, y_at, -1)\n",
    "    return round(((f[x_at][y_at] - f[x_at][j_])/k), n)\n",
    "\n",
    "def d_fy_c(y_vals, x_at, y_at, k, f, n=5):\n",
    "    j_ = value_at(y_vals, y_at, 1), value_at(y_vals, y_at, -1)\n",
    "    return round(((f[x_at][j_[0]] - f[x_at][j_[1]])/(2*k)), n)"
   ]
  },
  {
   "cell_type": "code",
   "execution_count": null,
   "id": "3013b635",
   "metadata": {},
   "outputs": [],
   "source": [
    "def d2_fx_f(x_vals, x_at, y_at, h, f, n=5):\n",
    "    i_ = value_at(x_vals, x_at, 2), value_at(x_vals, x_at, 1)\n",
    "    return round((f[i_[0]][y_at] - 2*f[i_[1]][y_at] + f[x_at][y_at])/h**2, n)\n",
    "\n",
    "def d2_fx_b(x_vals, x_at, y_at, h, f, n=5):\n",
    "    i_ = value_at(x_vals, x_at, -1), value_at(x_vals, x_at, -2)\n",
    "    return round((f[x_at][y_at] - 2*f[i_[i_[0]]][y_at] + f[i_[1]][y_at])/h**2, n)\n",
    "\n",
    "def d2_fx_c(x_vals, x_at, y_at, h, f, n=5):\n",
    "    i_ = value_at(x_vals, x_at, -1), value_at(x_vals, x_at, 1)\n",
    "    return round((f[i_[0]][y_at] - 2*f[x_at][y_at] + f[i_[1]][y_at])/h**2, n)"
   ]
  },
  {
   "cell_type": "code",
   "execution_count": null,
   "id": "f7b51cf8",
   "metadata": {},
   "outputs": [],
   "source": [
    "def d2_fy_f(y_vals, x_at, y_at, k, f, n=5):\n",
    "    j_ = value_at(y_vals, y_at, 2), value_at(y_vals, y_at, 1)\n",
    "    return round((f[x_at][j_[0]] - 2*f[x_at][j_[1]] + f[x_at][y_at])/k**2, n)\n",
    "\n",
    "def d2_fy_b(y_vals, x_at, y_at, k, f, n=5):\n",
    "    j_ = value_at(y_vals, y_at, -1), value_at(y_vals, y_at, -2)\n",
    "    return round((f[x_at][y_at] - 2*f[x_at][j_[0]] + f[x_at][j_[1]])/k**2, n)\n",
    "\n",
    "def d2_fy_c(y_vals, x_at, y_at, f, a, n=5):\n",
    "    j_ = value_at(y_vals, y_at, -1), value_at(y_vals, y_at, 1)\n",
    "    return round((f[x_at][j_[0]] - 2*f[x_at][y_at] + f[x_at][j_[1]])/k**2, n)"
   ]
  },
  {
   "cell_type": "code",
   "execution_count": null,
   "id": "310b1043",
   "metadata": {},
   "outputs": [],
   "source": [
    "def d2_fxy(x_vals, y_vals, x_at, y_at, h, k, f, n=5):\n",
    "    i_ = value_at(x_vals, x_at, 1), value_at(x_vals, x_at, -1)\n",
    "    j_ = value_at(y_vals, y_at, 1), value_at(y_vals, y_at, -1)\n",
    "    nr = f[i_[0]][j_[0]] - f[i_[0]][j_[1]] - f[i_[1]][j_[0]] + f[i_[1]][j_[1]]\n",
    "    dnr = 4 * h * k\n",
    "    return round(nr/dnr, n)\n",
    "\n",
    "def d2_fyx(x_vals, y_vals, x_at, y_at, h, k, f, n=5):\n",
    "    i_ = value_at(x_vals, x_at, 1), value_at(x_vals, x_at, -1)\n",
    "    j_ = value_at(y_vals, y_at, 1), value_at(y_vals, y_at, -1)\n",
    "    nr = f[i_[0]][j_[0]] - f[i_[0]][j_[1]] - f[i_[1]][j_[0]] + f[i_[1]][j_[1]]\n",
    "    dnr = 4 * h * k\n",
    "    return round(nr/dnr, n)"
   ]
  },
  {
   "cell_type": "code",
   "execution_count": null,
   "id": "858d1019",
   "metadata": {},
   "outputs": [],
   "source": [
    "def del_x_j(x_0, y_0, h, f):\n",
    "    return check_d_n_r((f[x_0 + h][y_0] - f[x_0][y_0])/(2*h))\n",
    "\n",
    "def del_y_j(x_0, y_0, k, f):\n",
    "    return check_d_n_r((f[x_0][y_0+k] - f[x_0][y_0])/(2*k))\n",
    "\n",
    "def del_x(x_0, y_0, h, f):\n",
    "    if type(f)==dict:\n",
    "        return f[x_0 + h][y_0] - f[x_0][y_0]\n",
    "    elif type(f)==str:\n",
    "        f = sympy.simplify(f)\n",
    "        return sub_vals(f, x_0+h, y_0) - sub_vals(f, x_0, y_0)\n",
    "    \n",
    "def del_y(x_0, y_0, k, f):\n",
    "    if type(f)==dict:\n",
    "        return f[x_0][y_0+k] - f[x_0][y_0]\n",
    "    elif type(f)==str:\n",
    "        f = sympy.simplify(f)\n",
    "        return sub_vals(f, x_0, y_0+k) - sub_vals(f, x_0, y_0)\n",
    "    \n",
    "def del_xx(x_0, y_0, h, f, n=5):\n",
    "    c1, c2 = round(x_0 + 2* h, n), round(x_0+h, n)\n",
    "    if type(f)==dict:\n",
    "        return f[c1][y_0] - 2 * f[c2][y_0] + f[x_0][y_0]\n",
    "    elif type(f)==str:\n",
    "        f = sympy.simplify(f)\n",
    "        return sub_vals(f, c1, y_0) - 2 * sub_vals(f, c2, y_0) + sub_vals(f, x_0, y_0)\n",
    "\n",
    "def del_yy(x_0, y_0, k, f, n=5):\n",
    "    c1, c2 = round(y_0+2*k, n), round(y_0+k, n)\n",
    "    if type(f)==dict:\n",
    "        return f[x_0][c1] - 2 * f[x_0][c2] + f[x_0][y_0]\n",
    "    elif type(f)==str:\n",
    "        f = sympy.simplify(f)\n",
    "        return sub_vals(f, x_0, c1) - 2 * sub_vals(f, x_0, c2) + sub_vals(f, x_0, y_0)\n",
    "\n",
    "def del_xy(x_0, y_0, h, k, f, n=5):\n",
    "    c1, c2 = round(x_0+h, n), round(y_0+k, n)\n",
    "    if type(f)==dict:\n",
    "        return f[c1][c2] - f[c1][y_0] - f[x_0][c2] + f[x_0][y_0]\n",
    "    elif type(f)==str:\n",
    "        f = sympy.simplify(f)\n",
    "        return sub_vals(f, c1, c2) - sub_vals(f, c1, y_0) - sub_vals(f, x_0, c2) + sub_vals(f, x_0, y_0)"
   ]
  },
  {
   "cell_type": "code",
   "execution_count": null,
   "id": "bde1d144",
   "metadata": {},
   "outputs": [],
   "source": [
    "def jacobian_matrix(x_vals, y_vals, f1, f2, x_0, y_0, print_table = False):\n",
    "    if print_table:\n",
    "        print_details(x_vals, y_vals, f1)\n",
    "        print_details(x_vals, y_vals, f2)\n",
    "    \n",
    "    h, k = getHeight(x_vals), getHeight(y_vals)\n",
    "    arr = make_table_xy(x_vals, y_vals, f1)\n",
    "    dxf1 = del_x_j(x_0, y_0, h, arr)\n",
    "    dyf1 = del_y_j(x_0, y_0, k, arr)\n",
    "\n",
    "    arr = make_table_xy(x_vals, y_vals, f2)\n",
    "    dxf2 = del_x_j(x_0, y_0, h, arr)\n",
    "    dyf2 = del_y_j(x_0, y_0, k, arr)\n",
    "\n",
    "    J_mat = [[dxf1, dyf1], [dxf2, dyf2]]\n",
    "    \n",
    "    if print_table:\n",
    "        print(\" Jacobian Matrix = \", end='')\n",
    "        DrawMat(J_mat)\n",
    "    \n",
    "    return J_mat"
   ]
  },
  {
   "cell_type": "code",
   "execution_count": null,
   "id": "ff6e7cc5",
   "metadata": {},
   "outputs": [],
   "source": [
    "def Newton_Bivariate_interpolation(x_vals, y_vals, arr, at_x='x', at_y='y', show_working=False):\n",
    "    if len(x_vals)>3 or len(y_vals)>3:\n",
    "        print(\"\\n  [-] This Funtion Can only handle x and y at 3 values ...  \")\n",
    "        return None\n",
    "    \n",
    "    x_0, y_0 = x_vals[0], y_vals[0]\n",
    "    h, k = getHeight(x_vals), getHeight(y_vals)\n",
    "    f = get_x_y_at(x_vals, y_vals, arr)\n",
    "    if show_working: \n",
    "        print(f'  Here h : {h}, k : {k}, x0 : {x_0}, y0 : {y_0}', end = ', ')\n",
    "    t = ''\n",
    "    for i in range(len(x_vals)):\n",
    "        if i==0:\n",
    "            t += f'{f[x_0][y_0]} + '\n",
    "\n",
    "        else:\n",
    "            if i == 1:\n",
    "                fwd_val_x = del_x(x_0, y_0, h, f)\n",
    "                fwd_val_y = del_y(x_0, y_0, k, f)\n",
    "                if show_working: \n",
    "                    print(f'∆x = {fwd_val_x}, ∆y = {fwd_val_y}', end=', ')\n",
    "\n",
    "            elif i==2:\n",
    "                fwd_val_x = del_xx(x_0, y_0, h, f)\n",
    "                fwd_val_y = del_yy(x_0, y_0, k, f)\n",
    "                fwd_val_xy = del_xy(x_0, y_0, h, k, f)\n",
    "                \n",
    "                if show_working:\n",
    "                    print(f'∆xx = {fwd_val_x}, ∆yy = {fwd_val_y}, ∆xy = {fwd_val_xy}')\n",
    "                    \n",
    "            s1 = getFactors(x_vals, i, at_x) +  ' * '\n",
    "            s2 = ' + '+ getFactors(y_vals, i, at_y) + ' * '\n",
    "\n",
    "            s1 += f'({fwd_val_x}) '\n",
    "            s2 += f'({fwd_val_y}) '\n",
    "            total = s1 \n",
    "            if i==2:\n",
    "                total += f\" + 2/({h}*{k}) * {getFactors(x_vals, 1)} * {getFactors(y_vals, 1, 'y')} * ({fwd_val_xy})\"\n",
    "            total +=  s2\n",
    "            mul = ''\n",
    "            if i>1:\n",
    "                mul = f'1/{fac(i)} * '\n",
    "\n",
    "            add = ''\n",
    "            if i+1 != len(x_vals): add = '+'\n",
    "            t += f'{mul}({total}) {add} '\n",
    "            \n",
    "    if show_working:\n",
    "        print('\\n  f(x) =',t)\n",
    "        \n",
    "    return sympy.simplify(t)"
   ]
  },
  {
   "cell_type": "markdown",
   "id": "2ba47d48",
   "metadata": {},
   "source": [
    " "
   ]
  },
  {
   "cell_type": "markdown",
   "id": "68f9fe2e",
   "metadata": {},
   "source": [
    " "
   ]
  },
  {
   "cell_type": "markdown",
   "id": "82c0d68f",
   "metadata": {},
   "source": [
    " "
   ]
  },
  {
   "cell_type": "markdown",
   "id": "f595da16",
   "metadata": {},
   "source": [
    "## Index "
   ]
  },
  {
   "cell_type": "markdown",
   "id": "c73d9ce5",
   "metadata": {},
   "source": [
    "### 1. [Numerical Differentiation](#Numerical-Differentiation)\n",
    "### 2. [Piecewise  Interpolation](#Piecewise-Interpolation)\n",
    "### 3. [Lagrange's Bivariate Interpolation](#Lagranges-Bivariate-Interpolation)\n",
    "### 4. [Newton's Bivariate Interpolation](#Newtons-Bivariate-Interpolation)\n",
    "### 5. [Interpolation for Numerical Partial Differentiation](#Interpolation-for-Numerical-Partial-Differentiation)\n",
    "### 6. [Jacobian Matrix](#Jacobian-Matrix)\n",
    "### 7. [Forward Difference Value For Bivariate](#Forward-Difference-Value-For-Bivariate)"
   ]
  },
  {
   "cell_type": "markdown",
   "id": "ccc507de",
   "metadata": {},
   "source": [
    " \n",
    " "
   ]
  },
  {
   "cell_type": "markdown",
   "id": "0af166c5",
   "metadata": {},
   "source": [
    " \n",
    " "
   ]
  },
  {
   "cell_type": "markdown",
   "id": "01038e5c",
   "metadata": {},
   "source": [
    "## Numerical Differentiation"
   ]
  },
  {
   "cell_type": "code",
   "execution_count": null,
   "id": "afca5e74",
   "metadata": {},
   "outputs": [],
   "source": [
    "x_values, f_values = [0.4, 0.5, 0.6, 0.7, 0.8], [1.5836, 1.7974, 2.0442, 2.3275, 2.6511]\n",
    "DrawForwardDiffTable(x_values, f_values, rn=5)\n",
    "print()\n",
    "diff_eq, h, a, x, at_x = Numerical_Diff(x_values, f_values)\n",
    "\n",
    "n = len(\" + \".join(diff_eq))\n",
    "print('-'*(n-45))\n",
    "print(f\" ∴ f(a+xh) = {' + '.join(diff_eq)}\")\n",
    "print('-'*(n-45))\n",
    "\n",
    "cal_derivative(diff_eq, h, x, at_x,  1) # 1st order derivative\n",
    "cal_derivative(diff_eq, h, x, at_x, 2)  # 2nd order derivative"
   ]
  },
  {
   "cell_type": "markdown",
   "id": "2d530a07",
   "metadata": {},
   "source": [
    " "
   ]
  },
  {
   "cell_type": "markdown",
   "id": "29848ec5",
   "metadata": {},
   "source": [
    "## Piecewise Interpolation"
   ]
  },
  {
   "cell_type": "code",
   "execution_count": null,
   "id": "cb0d4b86",
   "metadata": {},
   "outputs": [],
   "source": [
    "x_list, f_values, gap = [2, 2.2, 2.6], [8, 9.24, 11.96], 2\n",
    "\n",
    "Draw_table(x_list, f_values)\n",
    "Piecewise_Interpolation(x_list,f_values, gap, True)"
   ]
  },
  {
   "cell_type": "markdown",
   "id": "b6c0eaaf",
   "metadata": {},
   "source": [
    "## Lagranges Bivariate Interpolation"
   ]
  },
  {
   "cell_type": "code",
   "execution_count": null,
   "id": "e3b961d2",
   "metadata": {},
   "outputs": [],
   "source": [
    "x_vals, y_vals = [0, 1, 2], [0, 1, 2]"
   ]
  },
  {
   "cell_type": "code",
   "execution_count": null,
   "id": "b26d3605",
   "metadata": {},
   "outputs": [],
   "source": [
    "arr = get_f_x_y(x_vals, y_vals)"
   ]
  },
  {
   "cell_type": "code",
   "execution_count": null,
   "id": "a282adfc",
   "metadata": {},
   "outputs": [],
   "source": [
    "create_xy_table(x_vals, y_vals, arr)"
   ]
  },
  {
   "cell_type": "code",
   "execution_count": null,
   "id": "eae51129",
   "metadata": {},
   "outputs": [],
   "source": [
    "t = Lagrange_Bivariate_IF(x_vals, y_vals, arr)\n",
    "exp = simplify(t)\n",
    "\n",
    "at_x, at_y = 1, 2\n",
    "\n",
    "ans = expand(t).subs({'x':at_x, 'y':at_y})\n",
    "print(f' ∴ P({at_x},{at_y}) = {exp} =  {ans}')"
   ]
  },
  {
   "cell_type": "markdown",
   "id": "71097136",
   "metadata": {},
   "source": [
    "  "
   ]
  },
  {
   "cell_type": "markdown",
   "id": "96a33c19",
   "metadata": {},
   "source": [
    "## Newtons Bivariate Interpolation"
   ]
  },
  {
   "cell_type": "code",
   "execution_count": null,
   "id": "8fc16cf8",
   "metadata": {},
   "outputs": [],
   "source": [
    "x_vals, y_vals =  [1, 2], [2, 3]\n",
    "arr = get_f_x_y(x_vals, y_vals)\n",
    "create_xy_table(x_vals, y_vals, arr)\n",
    "exp = Newton_Bivariate_interpolation(x_vals, y_vals, arr, show_working=True)\n",
    "at_x, at_y = 2, 3\n",
    "print(f\"\\n  ∴ P({at_x},{at_y}) = {exp} =  {exp.subs({'x':at_x, 'y':at_y})}\")"
   ]
  },
  {
   "cell_type": "markdown",
   "id": "843ae890",
   "metadata": {},
   "source": [
    " "
   ]
  },
  {
   "cell_type": "markdown",
   "id": "5c1b6149",
   "metadata": {},
   "source": [
    "## Interpolation for Numerical Partial Differentiation"
   ]
  },
  {
   "cell_type": "code",
   "execution_count": null,
   "id": "32e0c89f",
   "metadata": {},
   "outputs": [],
   "source": [
    "x_vals = [0.2, 0.3]\n",
    "y_vals = [0.1, 0.2]\n",
    "\n",
    "h, k = getHeight(x_vals), getHeight(y_vals)\n",
    "x_at, y_at = float(input(\"At x: \")), float(input(\"At y: \"))\n",
    "print()\n",
    "\n",
    "go = True\n",
    "if h is None or k is None:\n",
    "    print(\"[!] Check the intervals. !!!\")\n",
    "    go = False\n",
    "    \n",
    "if go:\n",
    "    arr = get_f_x_y(x_vals, y_vals)\n",
    "    f = get_x_y_at(x_vals, y_vals, arr)\n",
    "    print(f\"\\n  df/dx = {d_fx_f(x_vals, x_at, y_at, h, f)}, df/dy = {d_fy_f(y_vals, x_at, y_at, k, f)} \\\n",
    "    at ({x_at}, {y_at})\")"
   ]
  },
  {
   "cell_type": "code",
   "execution_count": null,
   "id": "7485f5e6",
   "metadata": {},
   "outputs": [],
   "source": []
  },
  {
   "cell_type": "code",
   "execution_count": null,
   "id": "a445625f",
   "metadata": {},
   "outputs": [],
   "source": []
  }
 ],
 "metadata": {
  "kernelspec": {
   "display_name": "Python 3 (ipykernel)",
   "language": "python",
   "name": "python3"
  },
  "language_info": {
   "codemirror_mode": {
    "name": "ipython",
    "version": 3
   },
   "file_extension": ".py",
   "mimetype": "text/x-python",
   "name": "python",
   "nbconvert_exporter": "python",
   "pygments_lexer": "ipython3",
   "version": "3.10.2"
  }
 },
 "nbformat": 4,
 "nbformat_minor": 5
}
