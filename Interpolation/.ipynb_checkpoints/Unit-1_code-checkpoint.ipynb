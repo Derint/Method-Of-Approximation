{
 "cells": [
  {
   "cell_type": "markdown",
   "id": "5b2f710e",
   "metadata": {},
   "source": [
    "## $$ Interpolation $$"
   ]
  },
  {
   "cell_type": "code",
   "execution_count": null,
   "id": "177fd68e",
   "metadata": {},
   "outputs": [],
   "source": [
    "import sympy\n",
    "import numpy as np\n",
    "from math import *\n",
    "from Helper_functions import *\n",
    "from Interpolation import *"
   ]
  },
  {
   "cell_type": "code",
   "execution_count": null,
   "id": "f9adec20",
   "metadata": {},
   "outputs": [],
   "source": [
    " def add_dash(Fwd_diff_table):\n",
    "        n = len(Fwd_diff_table[0])\n",
    "        for i in range(len(Fwd_diff_table)):\n",
    "            if i!=len(Fwd_diff_table):\n",
    "                Fwd_diff_table[i] += ['-']*(n - len(Fwd_diff_table[i]))\n",
    "        return Fwd_diff_table"
   ]
  },
  {
   "cell_type": "code",
   "execution_count": null,
   "id": "62420782",
   "metadata": {},
   "outputs": [],
   "source": [
    "def Difference(f_values, x_vals, c=0, n=10):\n",
    "    del_values = []\n",
    "    cal_x = True\n",
    "    if len(x_vals)==0: cal_x = False\n",
    "        \n",
    "    for i in range(len(f_values)-1):\n",
    "        nr = f_values[i+1] - f_values[i]\n",
    "        dr = 1\n",
    "        if cal_x:\n",
    "            dr = x_vals[i+1+c] - x_vals[i]\n",
    "        del_values.append(round(nr/dr, n))\n",
    "    return del_values\n",
    "\n",
    "def DifferenceArray(f_values, x_vals=[], rn=10):    \n",
    "    Fwd_diff_table = []\n",
    "    n = len(f_values)\n",
    "    c = 0\n",
    "    while len(f_values):      \n",
    "        Fwd_diff_table.append(f_values)\n",
    "        f_values = Difference(f_values, x_vals, c, rn)\n",
    "        c+=1\n",
    "    return add_dash(Fwd_diff_table)"
   ]
  },
  {
   "cell_type": "code",
   "execution_count": null,
   "id": "9522f67c",
   "metadata": {},
   "outputs": [],
   "source": [
    "def getLength(Fwd_diff_table):\n",
    "    c = 0\n",
    "    for i in Fwd_diff_table:\n",
    "        if (i.count('-')) != len(Fwd_diff_table[0]):\n",
    "            c+=1\n",
    "    if c == len(Fwd_diff_table):\n",
    "        return c\n",
    "    else: return c+1"
   ]
  },
  {
   "cell_type": "code",
   "execution_count": null,
   "id": "bf157b3f",
   "metadata": {},
   "outputs": [],
   "source": [
    "def getOperator(Fwd_diff_table, op):    \n",
    "    del_string = ''\n",
    "    for i in range(getLength(Fwd_diff_table)):\n",
    "        if i>1:\n",
    "            del_string += '|' + str(f'{op}^'+str(i)+' f(x)').center(19)\n",
    "        elif i==1: del_string += '|'+ f'{op} f(x)'.center(19)\n",
    "            \n",
    "    return del_string"
   ]
  },
  {
   "cell_type": "code",
   "execution_count": null,
   "id": "c0a4bcc0",
   "metadata": {},
   "outputs": [],
   "source": [
    "def drawOperator(op, num):\n",
    "    a = {}\n",
    "    for i in range(1, num+1):\n",
    "        if i==1:\n",
    "            a[i] = f'{op} '\n",
    "        else:\n",
    "            a[i] = f'{op}^{i} '\n",
    "    return a\n"
   ]
  },
  {
   "cell_type": "code",
   "execution_count": null,
   "id": "9f1d8ac6",
   "metadata": {},
   "outputs": [],
   "source": [
    "def fac(n):\n",
    "    if n==0 or n==1:\n",
    "        return 1\n",
    "    else: return n*fac(n-1)"
   ]
  },
  {
   "cell_type": "code",
   "execution_count": null,
   "id": "3be1892a",
   "metadata": {},
   "outputs": [],
   "source": [
    "def DrawForwardDiffTable(x, f_values, write=False, rn=20):\n",
    "    Fwd_diff_table = DifferenceArray(f_values)\n",
    "    del_string = getOperator(Fwd_diff_table, '∆')\n",
    "    del_op = drawOperator('∆', getLength(Fwd_diff_table))\n",
    "    \n",
    "    txt_file = ''\n",
    "    dashLen = len(f'| {\"x\".center(4)} |  {\"f(x)\".center(6)} {del_string}|')\n",
    "    \n",
    "    print('-'*dashLen)\n",
    "    print(f'| {\"x\".center(4)} |  {\"f(x)\".center(6)} {del_string}|')\n",
    "    print('-'*dashLen)\n",
    "    t = Fwd_diff_table\n",
    "    \n",
    "    txt_file += 'Forward Difference Table'.center(150) + '\\n\\n\\n'\n",
    "    txt_file += '-'*dashLen+'\\n'\n",
    "    txt_file += f'| {\"x\".center(4)} |  {\"f(x)\".center(6)} {del_string}|' + '\\n'\n",
    "    txt_file += '-'*dashLen+'\\n'\n",
    "\n",
    "    \n",
    "    tt = 0 if getLength(Fwd_diff_table)==len(Fwd_diff_table) else 1\n",
    "    for j in range(len(Fwd_diff_table)-1):\n",
    "        temp_string = f'| {str(x[j]).center(4)} |'\n",
    "        i=0\n",
    "        for k in range(len(Fwd_diff_table[j])):\n",
    "            if k==0:\n",
    "                temp_string += f'{t[i][j]}'.center(9) + '|'\n",
    "            else:\n",
    "                elt1, elt2 = t[i][j+1] , t[i][j]\n",
    "                if k==1:\n",
    "                    if elt1!='-' and elt2!='-':\n",
    "                        mod = ''\n",
    "                        if k+1 != len(Fwd_diff_table[j])-tt: mod = ' |'\n",
    "                        temp_string += f' {del_op[k]}f({x[j]}) = {round(elt1-elt2, rn)}'.ljust(18) + mod\n",
    "                    else:\n",
    "                        temp_string += f'\\t {str(t[i][j]).ljust(5)}\\t|'.center(18)\n",
    "                else:\n",
    "                    if elt1!='-' and elt2!='-':\n",
    "                        mod = ''\n",
    "                        if k+1 != len(Fwd_diff_table[j])-tt: mod = ' |'\n",
    "                        temp_string += f' {del_op[k]}f({x[j]}) = {round(elt1-elt2,rn)}'.ljust(18) + mod\n",
    "                            \n",
    "                i+=1\n",
    "\n",
    "        print(temp_string)\n",
    "        print('-'*dashLen)\n",
    "\n",
    "        txt_file += temp_string+'\\n'\n",
    "        txt_file += '-'*dashLen+'\\n'\n",
    "\n",
    "    temp_string = f'|{str(x[-1]).center(6)}|{str(t[0][-1]).center(9)}' + '|'\n",
    "\n",
    "    print(temp_string)\n",
    "    print('-'*dashLen)\n",
    "\n",
    "    txt_file += temp_string + ' |'.rjust(dashLen - 18) + '\\n'\n",
    "    txt_file += '-'*dashLen+'\\n'\n",
    "\n",
    "    if write or len(Fwd_diff_table)>5:\n",
    "        with open(\"Forward Difference Table.txt\", 'w', encoding=\"utf-8\") as f:\n",
    "            f.write(txt_file)"
   ]
  },
  {
   "cell_type": "code",
   "execution_count": null,
   "id": "76598380",
   "metadata": {},
   "outputs": [],
   "source": [
    "def DrawBackDiffTable(x, f_values, write=False, rn=10):\n",
    "    Fwd_diff_table = DifferenceArray(f_values)\n",
    "    del_string = getOperator(Fwd_diff_table, '∇')\n",
    "    del_op_inv = drawOperator('∇', getLength(Fwd_diff_table))\n",
    "    \n",
    "    txt_file = ''\n",
    "    dashLen = len(f'| {\"x\".center(4)} |{\"f(x)\".center(6)} {del_string}|') + 2\n",
    "    \n",
    "    print('-'*dashLen)\n",
    "    print(f'| {\"x\".center(4)} |  {\"f(x)\".center(6)} {del_string}|')\n",
    "    print('-'*dashLen)\n",
    "    t = Fwd_diff_table\n",
    "\n",
    "    txt_file += 'Backward Difference Table'.center(150) + '\\n\\n'\n",
    "    txt_file += '-'*dashLen +'\\n'\n",
    "    txt_file += f'| {\"x\".center(4)} |  {\"f(x)\".center(6)} {del_string}|' + '\\n'\n",
    "    txt_file += '-'*dashLen +'\\n'\n",
    "\n",
    "    c = 0\n",
    "\n",
    "    for j in range(len(Fwd_diff_table)):\n",
    "        temp_string = f'| {str(x[j]).center(4)} |'\n",
    "        i, l = 0, 0\n",
    "        tt = 0 if getLength(Fwd_diff_table)==len(Fwd_diff_table) else 1\n",
    "        try:\n",
    "            for k in range(len(Fwd_diff_table[j])):\n",
    "                if k==0:\n",
    "                    temp_string += f'{t[i][j]}'.center(9) + '|'\n",
    "                else:\n",
    "                    elt1, elt2 = t[i][j+1] , t[i][j]\n",
    "\n",
    "                    if elt1!='-' and elt2!='-':\n",
    "                        mod = ''\n",
    "                        if k+1 != len(Fwd_diff_table[j])-tt: mod = ' |'\n",
    "                        temp_string += f' {del_op_inv[k]}f({x[c:][l+1]}) = {round(elt1-elt2,rn)}'.ljust(18) + mod\n",
    "            \n",
    "                    i+=1\n",
    "                    l+=1\n",
    "\n",
    "            c+=1        \n",
    "            print(temp_string)\n",
    "            print('-'*dashLen)\n",
    "\n",
    "            txt_file += temp_string\n",
    "            txt_file += '-'*dashLen +'\\n'\n",
    "\n",
    "            x_temp = x_temp[c:]\n",
    "\n",
    "        except:pass\n",
    "    \n",
    "    temp_string = f'| {str(x[-1]).center(4)} |{str(t[0][-1]).center(9)}' + '|'\n",
    "\n",
    "    print(temp_string)\n",
    "    print('-'*dashLen)\n",
    "\n",
    "    txt_file += temp_string +  ' |'.rjust(dashLen - 18) +'\\n'\n",
    "    txt_file += '-'*dashLen+'\\n'\n",
    "\n",
    "    if write or len(Fwd_diff_table)>6:\n",
    "        with open(\"Backward Difference Table.txt\", 'w', encoding=\"utf-8\") as f:\n",
    "            f.write(txt_file)"
   ]
  },
  {
   "cell_type": "code",
   "execution_count": null,
   "id": "9afa2099",
   "metadata": {},
   "outputs": [],
   "source": [
    "def DrawDividedDiffTable(x, f_values, write=False):\n",
    "    t = DifferenceArray(f_values, x)\n",
    "\n",
    "    del_string = getOperator(t, 'φ')\n",
    "    del_op = drawOperator('φ', getLength(t))\n",
    "    \n",
    "    txt_file = ''\n",
    "    dashLen = len(f'| {\"x\".center(4)} |  {\"f(x)\".center(6)} {del_string}|')\n",
    "    \n",
    "    print('-'*dashLen)\n",
    "    print(f'| {\"x\".center(4)} |  {\"f(x)\".center(6)} {del_string}|')\n",
    "    print('-'*dashLen)\n",
    "    \n",
    "    txt_file += 'Divided Difference Table'.center(150) + '\\n\\n\\n'\n",
    "    txt_file += '-'*dashLen+'\\n'\n",
    "    txt_file += f'| {\"x\".center(4)} |  {\"f(x)\".center(6)} {del_string}|' + '\\n'\n",
    "    txt_file += '-'*dashLen+'\\n'\n",
    "\n",
    "    tt = 0 if getLength(t)==len(t) else 1\n",
    "    \n",
    "    for j in range(len(t)-1):\n",
    "        temp_string = f'| {str(x[j]).center(4)} |'\n",
    "        i=0\n",
    "        for k in range(len(t[j])):\n",
    "            if k==0:\n",
    "                temp_string += f'{t[i][j]}'.center(9) + '|'\n",
    "            else:\n",
    "                elt1 = t[k][j]\n",
    "                if elt1!='-':\n",
    "                    mod = ''\n",
    "                    if k+1 != len(t[j])-tt: mod = ' |'\n",
    "                    temp_string += f' {del_op[k]}y_{j} = {round(elt1,4)}'.ljust(18) + mod   \n",
    "                i+=1\n",
    "\n",
    "        print(temp_string)\n",
    "        print('-'*dashLen)\n",
    "\n",
    "        txt_file += temp_string+'\\n'\n",
    "        txt_file += '-'*dashLen+'\\n'\n",
    "\n",
    "    temp_string = f'|{str(x[-1]).center(6)}|{str(t[0][-1]).center(9)}' + '|'\n",
    "\n",
    "    print(temp_string)\n",
    "    print('-'*dashLen)\n",
    "\n",
    "    txt_file += temp_string + ' |'.rjust(dashLen - 18) + '\\n'\n",
    "    txt_file += '-'*dashLen+'\\n'\n",
    "\n",
    "    if write or len(t)>5:\n",
    "        print(\"Console size is small so the result is created in $'Divided Difference Table.txt'$ \")\n",
    "        with open(\"Divided Difference Table.txt\", 'w', encoding=\"utf-8\") as f:\n",
    "            f.write(txt_file)"
   ]
  },
  {
   "cell_type": "code",
   "execution_count": null,
   "id": "3aea0318",
   "metadata": {},
   "outputs": [],
   "source": [
    "def lgrange_fmlua_UI(x_list, f_values):\n",
    "    eqns = []\n",
    "    d = []\n",
    "    n = []\n",
    "\n",
    "    print(\"\\t Using Lagrange's Formula for Unequal Interval \\t\\n\\nf(x) = \")\n",
    "    for i in range(len(x_list)):\n",
    "        tempEq = []\n",
    "        denon = 1\n",
    "        denon_str = ''\n",
    "        num_str = ''\n",
    "\n",
    "        for j in range(len(x_list)):\n",
    "            if i!=j:\n",
    "                mul = ''\n",
    "                if j+1 != len(x_list):mul = ' * '\n",
    "                num_str += f'(x- {x_list[j]}){mul}'\n",
    "                denon *= (x_list[i] - x_list[j])\n",
    "                denon_str += f'({x_list[i]} - {x_list[j]})'\n",
    "                tempEq.append([1, -x_list[j]])\n",
    "        print(f'    {num_str}/({denon_str}) * {f_values[i]}') # f({x_list[i]}) = , denominator: ({denon_str}) \n",
    "        d.append(denon)\n",
    "        n.append(f_values[i])\n",
    "        eqns.append(tempEq)\n",
    "\n",
    "    eqns2 = []\n",
    "    for i in range(len(eqns)):\n",
    "        p = np.poly1d([1])\n",
    "        for j in range(len(eqns[i])):\n",
    "            p *= np.poly1d(eqns[i][j])\n",
    "        eqns2.append(p)\n",
    "\n",
    "    print('\\n=  ',end=' ')\n",
    "    p = np.poly1d([0])\n",
    "    for i in range(len(eqns2)):\n",
    "        meq = eqns2[i].coeffs\n",
    "        nr_eqn = \" \".join(coef_2_str(meq[::-1]))\n",
    "        if i:print('     ',end='')\n",
    "            \n",
    "        print(f'({str_to_expr(nr_eqn)}) / {d[i]} * {n[i]}')\n",
    "        p += meq * n[i]/d[i]\n",
    "\n",
    "    expr = \" \".join(coef_2_str(p.coef[::-1]))\n",
    "    print('\\n=   ' + str(str_to_expr(expr)))"
   ]
  },
  {
   "cell_type": "code",
   "execution_count": null,
   "id": "d0e3ffc4",
   "metadata": {},
   "outputs": [],
   "source": [
    "def Newton_Diff_Table(x_values, f_values, bkwd=False, rn=5):\n",
    "    Fwd_diff_table = DifferenceArray(f_values)\n",
    "    \n",
    "    exp = input('Which value you want to find: ')\n",
    "    h = round(x_values[1] - x_values[0], rn)\n",
    "    a = x_values[0]\n",
    "    \n",
    "    t = False\n",
    "    try:\n",
    "        value_to_find = float(exp)\n",
    "    except ValueError:\n",
    "        value_to_find = sympy.symbols(exp)\n",
    "        t = True\n",
    "\n",
    "    op = '-'\n",
    "    if bkwd:\n",
    "        a = x_values[-1]\n",
    "        op = '+'\n",
    "    \n",
    "    u = (value_to_find-a)/h\n",
    "    if not t: u = check_d_n_r((value_to_find-a)/h, rn)\n",
    "        \n",
    "    n = len(x_values)-1\n",
    "    j = 0\n",
    "    \n",
    "    title = \"Backward \" if bkwd else \"Forward \"\n",
    "    print(\"\\nUsing Newton's \" + title + \" Difference Formula.\")\n",
    "    print(f'\\n{\"b\" if bkwd else \"a\"}: {a}, h: {h}, u = ({value_to_find} - {a})/{h} : {u}\\n')\n",
    "\n",
    "    var = '-1-j' if bkwd else '0'\n",
    "    cal = 0\n",
    "    while n+1:\n",
    "        prod_cal = 1\n",
    "        c = 0\n",
    "\n",
    "        if j>0:\n",
    "            for i in range(j):\n",
    "#                 if t: u = f'({u})'\n",
    "                print(f'({u} {op} {c}) ', end=' ')\n",
    "                prod_cal *=  sympy.simplify(f'{u}{op}{c}')\n",
    "                c+=1\n",
    "        \n",
    "        if Fwd_diff_table[j][eval(var)] == '-':\n",
    "            break\n",
    "            \n",
    "        if not j: temp = ''\n",
    "        else: temp = f'/ {j}! * '\n",
    "        \n",
    "        cal += prod_cal/fac(j) * Fwd_diff_table[j][eval(var)]\n",
    "        if not t: calc = check_d_n_r(cal)\n",
    "            \n",
    "        print(f'{temp}{Fwd_diff_table[j][eval(var)]} = {cal}')\n",
    "\n",
    "        j+=1; n-=1\n",
    "\n",
    "    \n",
    "    if not t:\n",
    "        cal = check_d_n_r(cal, rn)\n",
    "\n",
    "    print(f\"\\n\\nThe Value of f({value_to_find}) =  {cal}\")\n",
    "    \n",
    "    return sympy.expand(cal)"
   ]
  },
  {
   "cell_type": "code",
   "execution_count": null,
   "id": "f8ff4578",
   "metadata": {},
   "outputs": [],
   "source": [
    "def DividedDifferenceEqn(x_values, f_values, show_working=False):\n",
    "        Divided_Difference = DifferenceArray(f_values, x_values)\n",
    "        f_x = f'{f_values[0]} + '\n",
    "        for i in range(len(Divided_Difference)-1):\n",
    "            add=''\n",
    "            if i!=len(Divided_Difference)-2:\n",
    "                add=' + '\n",
    "            f_x += getFactors(x_values[:i+1], i+1) + ' * '+ str(Divided_Difference[i+1][0]) + add\n",
    "        if show_working:\n",
    "            print(f'  f(x) = {f_x}')\n",
    "        exp = sympy.simplify(f_x)\n",
    "        return exp\n"
   ]
  },
  {
   "cell_type": "markdown",
   "id": "f3800503",
   "metadata": {},
   "source": [
    "    \n",
    "   "
   ]
  },
  {
   "cell_type": "markdown",
   "id": "07069bba",
   "metadata": {},
   "source": [
    "    \n",
    "   "
   ]
  },
  {
   "cell_type": "markdown",
   "id": "b03ba601",
   "metadata": {},
   "source": [
    "    \n",
    "   "
   ]
  },
  {
   "cell_type": "markdown",
   "id": "dfe28ef0",
   "metadata": {},
   "source": [
    "## Index "
   ]
  },
  {
   "cell_type": "markdown",
   "id": "4d8ef53a",
   "metadata": {},
   "source": [
    "### 1. [Forward Difference Table](#Forward-Difference-Table)\n",
    "### 2. [Backward Difference Table](#Backward-Difference-Table)\n",
    "### 3. [Newton Forward & Backward Difference Table](#Newton-Difference-Table)\n",
    "### 4. [Lagrange's Formula for Unequal Interval](#Lagrange's-Formula-for-Unequal-Interval)\n",
    "### 5. [Finding the Derivative at point](#Finding-the-Derivative-at-point)\n",
    "### 6. [Newton Divided Differences Table & eqn](#Newton-Divided-Differences-Table-&-eqn)"
   ]
  },
  {
   "cell_type": "markdown",
   "id": "7083642e",
   "metadata": {},
   "source": [
    " \n",
    " \n",
    " \n",
    " "
   ]
  },
  {
   "cell_type": "markdown",
   "id": "638e3c0a",
   "metadata": {},
   "source": [
    "  "
   ]
  },
  {
   "cell_type": "markdown",
   "id": "087507de",
   "metadata": {},
   "source": [
    "## Forward Difference Table         "
   ]
  },
  {
   "cell_type": "code",
   "execution_count": null,
   "id": "7d5004e6",
   "metadata": {},
   "outputs": [],
   "source": [
    "x = [3, 3.2, 3.4, 3.6, 3.8, 4]\n",
    "f_values = [-14, -10.032, -5.296, 0.256, 6.672, 14]\n",
    "\n",
    "DrawForwardDiffTable(x, f_values)"
   ]
  },
  {
   "cell_type": "markdown",
   "id": "842d5223",
   "metadata": {},
   "source": [
    "  "
   ]
  },
  {
   "cell_type": "markdown",
   "id": "dece9a07",
   "metadata": {},
   "source": [
    "## Backward Difference Table"
   ]
  },
  {
   "cell_type": "code",
   "execution_count": null,
   "id": "fd01d6c7",
   "metadata": {},
   "outputs": [],
   "source": [
    "x_values = [3, 3.2, 3.4, 3.6, 3.8, 4]\n",
    "f_values = [-14, -10.032, -5.296, 0.256, 6.672, 14]\n",
    "\n",
    "DrawBackDiffTable(x_values, f_values)"
   ]
  },
  {
   "cell_type": "markdown",
   "id": "33b5e12f",
   "metadata": {},
   "source": [
    " \n"
   ]
  },
  {
   "cell_type": "markdown",
   "id": "9883034b",
   "metadata": {},
   "source": [
    "## Newton Difference Table"
   ]
  },
  {
   "cell_type": "code",
   "execution_count": null,
   "id": "fdf5009f",
   "metadata": {},
   "outputs": [],
   "source": [
    "x_values, f_values = [0,1,2,3], [1, 3, 7, 13]\n",
    "Draw_table(x_values, f_values)\n",
    "print()\n",
    "bkwd = True\n",
    "if len(f_values)<7:\n",
    "    if bkwd: DrawBackDiffTable(x_values, f_values)\n",
    "    else: DrawForwardDiffTable(x_values, f_values)\n",
    "    print('\\n')\n",
    "\n",
    "exp = Newton_Diff_Table(x_values, f_values, bkwd)"
   ]
  },
  {
   "cell_type": "markdown",
   "id": "33b6878d",
   "metadata": {},
   "source": [
    " "
   ]
  },
  {
   "cell_type": "markdown",
   "id": "0ce04fe4",
   "metadata": {},
   "source": [
    "## Lagrange's Formula for Unequal Interval"
   ]
  },
  {
   "cell_type": "code",
   "execution_count": null,
   "id": "eee68420",
   "metadata": {},
   "outputs": [],
   "source": [
    "x_list, f_values = [-1, 1, 4, 7], [-2, 0, 63, 342]\n",
    "lgrange_fmlua_UI(x_list, f_values)"
   ]
  },
  {
   "cell_type": "markdown",
   "id": "c6d95668",
   "metadata": {},
   "source": [
    " "
   ]
  },
  {
   "cell_type": "markdown",
   "id": "a2dc8ffa",
   "metadata": {},
   "source": [
    "## Finding the Derivative at point"
   ]
  },
  {
   "cell_type": "code",
   "execution_count": null,
   "id": "a306f7c6",
   "metadata": {},
   "outputs": [],
   "source": [
    "Numerical_Diff(x_values, f_values) # out , h, a, x, value_to_find"
   ]
  },
  {
   "cell_type": "code",
   "execution_count": null,
   "id": "4a060633",
   "metadata": {},
   "outputs": [],
   "source": [
    "x_values = [1+i*0.2 for i in range(6)]\n",
    "f_values = [0, 0.128, 0.544, 1.296, 2.432, 4]\n",
    "\n",
    "x_values, f_values = [3, 3.2, 3.4, 3.6, 3.8, 4], [-14, -10.032, -5.296, 0.256, 6.672, 14]\n",
    "Draw_table(x_values, f_values)\n",
    "diff_eq, h, a, x, at_x = Numerical_Diff(x_values, f_values)\n",
    "n = len(\" + \".join(diff_eq))\n",
    "print('-'*(n))\n",
    "print(f\" ∴ f(a+xh) = {' + '.join(diff_eq)}\")\n",
    "print('-'*(n))\n",
    "\n",
    "cal_derivative(diff_eq, h, x, at_x,  1) # 1st order derivative\n",
    "cal_derivative(diff_eq, h, x, at_x, 2)  # 2nd order derivative\n"
   ]
  },
  {
   "cell_type": "markdown",
   "id": "1c9ea951",
   "metadata": {},
   "source": [
    " "
   ]
  },
  {
   "cell_type": "markdown",
   "id": "6b1a85a6",
   "metadata": {},
   "source": [
    " "
   ]
  },
  {
   "cell_type": "markdown",
   "id": "1e670b09",
   "metadata": {},
   "source": [
    "## Newton Divided Differences Table & eqn"
   ]
  },
  {
   "cell_type": "code",
   "execution_count": null,
   "id": "4080e825",
   "metadata": {},
   "outputs": [],
   "source": [
    "# x_vals = [0.2, 0.3]\n",
    "# f_vals = [cos(x*pi/180) for x in x_vals]\n",
    "\n",
    "\n",
    "x_vals, f_vals = [-4, -1, 0, 2, 5], [1245, 33, 5, 9, 1335]\n",
    "x_vals, f_vals = [0, 2, 3, 6], [648, 704, 729, 792]\n",
    "\n",
    "print(f\"\\n{'Divided Difference Table'.center(90)}\\n\")\n",
    "DrawDividedDiffTable(x_vals, f_vals)\n",
    "print()\n",
    "eqn = DividedDifferenceEqn(x_vals, f_vals, True)\n",
    "print('  f(x) =', eqn)"
   ]
  },
  {
   "cell_type": "markdown",
   "id": "d990d92f",
   "metadata": {},
   "source": [
    " "
   ]
  },
  {
   "cell_type": "markdown",
   "id": "eb88e083",
   "metadata": {},
   "source": [
    " "
   ]
  },
  {
   "cell_type": "markdown",
   "id": "75cab1d9",
   "metadata": {},
   "source": [
    "## Jacobian Matrix"
   ]
  },
  {
   "cell_type": "code",
   "execution_count": null,
   "id": "228a4898",
   "metadata": {},
   "outputs": [],
   "source": [
    "x_vals = [0, 1, 2]\n",
    "y_vals = [0, 1, 2]\n",
    "f1 = 'x**3 +x*y**2 - y**3'\n",
    "\n",
    "arr = make_table_xy(x_vals, y_vals, f1)\n",
    "print(f'f(x, y) = {f1}')\n",
    "create_xy_table(x_vals, y_vals, arr)\n"
   ]
  },
  {
   "cell_type": "code",
   "execution_count": null,
   "id": "b7da1f75",
   "metadata": {},
   "outputs": [],
   "source": [
    "x_vals = [0, 1, 2]\n",
    "y_vals = [0, 1, 2]\n",
    "f2 = input(\"Enter Expression: \")\n",
    "\n",
    "arr = make_table_xy(x_vals, y_vals, f2)\n",
    "print(f'\\nf(x, y) = {f2}')\n",
    "create_xy_table(x_vals, y_vals, arr)"
   ]
  },
  {
   "cell_type": "code",
   "execution_count": null,
   "id": "d4e81df6",
   "metadata": {},
   "outputs": [],
   "source": []
  }
 ],
 "metadata": {
  "kernelspec": {
   "display_name": "Python 3 (ipykernel)",
   "language": "python",
   "name": "python3"
  },
  "language_info": {
   "codemirror_mode": {
    "name": "ipython",
    "version": 3
   },
   "file_extension": ".py",
   "mimetype": "text/x-python",
   "name": "python",
   "nbconvert_exporter": "python",
   "pygments_lexer": "ipython3",
   "version": "3.10.2"
  }
 },
 "nbformat": 4,
 "nbformat_minor": 5
}
